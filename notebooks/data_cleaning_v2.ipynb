{
 "cells": [
  {
   "cell_type": "code",
   "execution_count": 1,
   "metadata": {},
   "outputs": [],
   "source": [
    "%load_ext autoreload  \n",
    "%autoreload 2"
   ]
  },
  {
   "cell_type": "code",
   "execution_count": 2,
   "metadata": {},
   "outputs": [],
   "source": [
    "import pandas as pd\n",
    "import geopandas as gpd\n",
    "import swifter\n",
    "\n",
    "pd.set_option(\"display.max_columns\", None)\n",
    "import numpy as np\n",
    "import matplotlib.pyplot as plt\n",
    "import stc_unicef_cpi.data.process_geotiff as pg\n",
    "import h3.api.numpy_int as h3\n",
    "\n",
    "from pathlib import Path\n"
   ]
  },
  {
   "cell_type": "code",
   "execution_count": 84,
   "metadata": {},
   "outputs": [],
   "source": [
    "base_dir = Path(\"/Users/johnf/Downloads/higher_res_dssg/\")\n",
    "tiff_dir = base_dir / \"500m_res\"\n",
    "econ_dir = base_dir / \"econ\"\n",
    "clean_base = base_dir / \"nga_clean_v2.csv\"\n",
    "rwi_path = base_dir / \"NGA_relative_wealth_index.csv\"\n",
    "comm_zns = base_dir / \"commuting-zones-bdrys.csv\"\n",
    "connectivity_dir = base_dir / \"connectivity\"\n",
    "fb_conn = connectivity_dir / \"fb_nigeria.csv\"\n",
    "\n",
    "int_dir = Path(\"../data/interim/\")\n",
    "\n"
   ]
  },
  {
   "cell_type": "markdown",
   "metadata": {},
   "source": [
    "# Gen rows for model training params"
   ]
  },
  {
   "cell_type": "code",
   "execution_count": null,
   "metadata": {},
   "outputs": [],
   "source": [
    "c1 = np.array([\"all\", \"nigeria\", \"senegal\"])\n",
    "c2 = np.array([\"normal\", \"stratified\", \"spatial\"])\n",
    "c3 = np.array([\"all\", \"health\", \"nutrition\",\"av-3-prevalence\",\n",
    "            \"av-4-prevalence\",])\n",
    "c4 = np.array([\"none\", \"mean\", \"median\", \"knn\", \"linear\", \"rf\"])\n",
    "c5 = np.array([\"none\", \"standard\", \"minmax\", \"robust\"])\n",
    "c6 = np.array([\"none\", \"log\", \"power\"])\n",
    "c7 = np.array([\"normal\", \"stratified\", \"spatial\"])\n",
    "c8 = np.array([\"true\", \"false\"])\n",
    "c9 = np.array([\"true\", \"false\"])\n",
    "c10 = np.array([\"true\", \"false\"])\n",
    "\n",
    "params = np.array(np.meshgrid(c1, c2, c3, c4, c5, c6, c7, c8, c9, c10)).T.reshape(-1, 10)\n",
    "np.savetxt('../src/stc_unicef_cpi/models/clean_params.txt',params,delimiter=' ',fmt='%s')"
   ]
  },
  {
   "cell_type": "markdown",
   "metadata": {},
   "source": [
    "# Spatial CV tests"
   ]
  },
  {
   "cell_type": "code",
   "execution_count": null,
   "metadata": {},
   "outputs": [],
   "source": [
    "from stc_unicef_cpi.data.cv_loaders import cv_split  \n",
    "\n",
    "world = gpd.read_file(gpd.datasets.get_path(\"naturalearth_lowres\"))\n",
    "nga = world[world.name == \"Nigeria\"].geometry.__geo_interface__['features'][0]['geometry']\n",
    "nga_hex = h3.polyfill(nga,res=7)"
   ]
  },
  {
   "cell_type": "code",
   "execution_count": null,
   "metadata": {},
   "outputs": [],
   "source": [
    "base_dir = Path(\"/Users/johnf/Downloads/higher_res_dssg/\")\n",
    "all_data = base_dir / \"clean_nga_w_autov1.csv\"\n",
    "thr_data = base_dir / \"nga_clean_v2_thr30.csv\"\n",
    "all_df = pd.read_csv(all_data)\n",
    "all_df[\"name_commuting_zone\"] = all_df[\"name_commuting_zone\"].astype(\"category\")\n",
    "thr_df = pd.read_csv(thr_data)\n",
    "thr_all = all_df.set_index(\"hex_code\").loc[thr_df.hex_code].reset_index()\n"
   ]
  },
  {
   "cell_type": "code",
   "execution_count": null,
   "metadata": {},
   "outputs": [],
   "source": [
    "import seaborn as sns\n",
    "\n",
    "k = 10\n",
    "N = 1000\n",
    "samp_hex = np.random.choice(thr_all[\"hex_code\"], size=N, replace=False)\n",
    "labels = np.random.rand(N)\n",
    "folds = cv_split(samp_hex, labels=labels, k=k, mode=\"spatial\")\n",
    "# sns.distplot(folds,kde=False, bins=k)\n",
    "fig, ax = plt.subplots(dpi=150)\n",
    "latlongs = np.array([h3.h3_to_geo(hex) for hex in samp_hex])\n",
    "for _, test_idxs in folds:\n",
    "    ax.scatter(latlongs[test_idxs, 1], latlongs[test_idxs, 0])\n",
    "plt.show()\n"
   ]
  },
  {
   "cell_type": "code",
   "execution_count": null,
   "metadata": {},
   "outputs": [],
   "source": [
    "from stc_unicef_cpi.data.cv_loaders import HexSpatialKFold\n",
    "\n",
    "latlongs = np.array([h3.h3_to_geo(hex) for hex in samp_hex])\n",
    "for train_idx, test_idx in HexSpatialKFold().split(samp_hex, labels):\n",
    "    fig, ax = plt.subplots(dpi=150)\n",
    "    ax.scatter(latlongs[train_idx, 1], latlongs[train_idx, 0], c=\"g\")\n",
    "    ax.scatter(latlongs[test_idx, 1], latlongs[test_idx, 0], c=\"r\")\n",
    "    plt.show()\n"
   ]
  },
  {
   "cell_type": "markdown",
   "metadata": {},
   "source": [
    "# Connectivity data"
   ]
  },
  {
   "cell_type": "code",
   "execution_count": null,
   "metadata": {},
   "outputs": [],
   "source": [
    "# import dask.dataframe as dd\n",
    "# from dask.delayed import delayed\n",
    "# parts = delayed(pd.read_excel)(connectivity_dir / 'cell_tower_nga.xlsx',\n",
    "#                                     sheet_name=0)\n",
    "# df = dd.from_delayed(parts)\n",
    "nga_cell_df = pd.read_excel(connectivity_dir / \"cell_tower_nga.xlsx\", sheet_name=0)\n"
   ]
  },
  {
   "cell_type": "code",
   "execution_count": null,
   "metadata": {},
   "outputs": [],
   "source": [
    "nga_cell_df.head()\n",
    "# will just want radio (generation category - want counts / cell if possible)\n",
    "# and possibly avg_signal, though generally 0\n",
    "# Most likely just overall count will be most useful\n"
   ]
  },
  {
   "cell_type": "code",
   "execution_count": null,
   "metadata": {},
   "outputs": [],
   "source": [
    "nga_cell_df[\"hex_code\"] = nga_cell_df[[\"lat\", \"long\"]].swifter.apply(\n",
    "    lambda x: h3.geo_to_h3(x[0], x[1], resolution=7), axis=1\n",
    ")\n"
   ]
  },
  {
   "cell_type": "code",
   "execution_count": null,
   "metadata": {},
   "outputs": [],
   "source": [
    "nga_cell_df = nga_cell_df[[\"hex_code\", \"radio\", \"avg_signal\"]]\n"
   ]
  },
  {
   "cell_type": "code",
   "execution_count": null,
   "metadata": {},
   "outputs": [],
   "source": [
    "nga_cell_df.groupby([\"hex_code\", \"radio\"]).size().unstack(level=1).fillna(0).join(\n",
    "    nga_cell_df.groupby(\"hex_code\").avg_signal.mean()\n",
    ").to_csv(connectivity_dir / \"nga_cell_clean.csv\")\n"
   ]
  },
  {
   "cell_type": "code",
   "execution_count": null,
   "metadata": {},
   "outputs": [],
   "source": [
    "import shapely.wkt\n",
    "\n",
    "# speed_df = dd.read_csv(connectivity_dir/\"speedtest_world.csv\",blocksize=25e6).set_index(\"Unnamed: 0\")  # 25MB chunks\n",
    "speed_df = pd.read_csv(Path('../data/external/connectivity') / \"2021-10-01_performance_mobile_tiles.csv\")\n",
    "# speed_df[\"geometry\"] = speed_df.geometry.swifter.apply(shapely.wkt.loads)\n",
    "ctry = \"Nigeria\" \n",
    "world = gpd.read_file(gpd.datasets.get_path(\"naturalearth_lowres\"))\n",
    "ctry = world[world.name == ctry]"
   ]
  },
  {
   "cell_type": "code",
   "execution_count": null,
   "metadata": {},
   "outputs": [],
   "source": [
    "speed_df.geometry.head()"
   ]
  },
  {
   "cell_type": "code",
   "execution_count": null,
   "metadata": {},
   "outputs": [],
   "source": [
    "# alt version\n",
    "bd_series = speed_df.geometry.str.replace(\"POLYGON\\s\\(+|\\)\",\"\").str.split(r\"\\s|,\\s\")\n",
    "speed_df['min_x'] = bd_series.str[1].astype('float')\n",
    "speed_df['max_y'] = bd_series.str[-1].astype('float')\n",
    "minx, miny, maxx, maxy = ctry.bounds.values.T.squeeze()\n",
    "res_df = speed_df[speed_df.min_x.between(minx-1e-2,maxx+1e-2)&speed_df.max_y.between(miny-1e-2,maxy+1e-2)].copy()\n",
    "res_df['geometry'] = res_df.geometry.swifter.apply(shapely.wkt.loads)\n",
    "res_df = gpd.GeoDataFrame(res_df, crs=\"epsg:4326\")\n",
    "\n",
    "nga_speed_df = gpd.sjoin(\n",
    "    res_df, ctry, how=\"inner\", op=\"intersects\"\n",
    ")\n"
   ]
  },
  {
   "cell_type": "code",
   "execution_count": null,
   "metadata": {},
   "outputs": [],
   "source": [
    "# original version \n",
    "speed_df[\"geometry\"] = speed_df.geometry.swifter.apply(shapely.wkt.loads)\n",
    "speed_df = gpd.GeoDataFrame(speed_df, crs=\"epsg:4326\")\n",
    "nga_speed_df = gpd.sjoin(\n",
    "    speed_df, ctry, how=\"inner\", op=\"intersects\"\n",
    ")\n"
   ]
  },
  {
   "cell_type": "code",
   "execution_count": null,
   "metadata": {},
   "outputs": [],
   "source": [
    "# def centroid_lat_from_shply(wkt_str):\n",
    "#     try:\n",
    "#         return shapely.wkt.loads(wkt_str).centroid.coords.xy[1]\n",
    "#     except:\n",
    "#         # assume wkt reading error\n",
    "#         return np.nan\n",
    "# def centroid_long_from_shply(wkt_str):\n",
    "#     try:\n",
    "#         return shapely.wkt.loads(wkt_str).centroid.coords.xy[0]\n",
    "#     except:\n",
    "#         # assume wkt reading error\n",
    "#         return np.nan\n",
    "\n",
    "# def centroid_latlong_from_shply(wkt_str):\n",
    "#     try:\n",
    "#         return np.array(shapely.wkt.loads(wkt_str).centroid.coords.xy).flatten()\n",
    "#     except:\n",
    "#         # assume wkt reading error\n",
    "#         return np.array([np.nan,np.nan])\n",
    "\n",
    "# # speed_df['lat'] = speed_df.geometry.apply(centroid_lat_from_shply, meta=('geometry', float))\n",
    "# # speed_df['long'] = speed_df.geometry.apply(centroid_long_from_shply, meta=('geometry', float))\n",
    "# # speed_df[['lat','long']] = speed_df.geometry.swifter.apply(centroid_latlong_from_shply)\n",
    "# speed_df['lat'] = speed_df.geometry.swifter.apply(centroid_lat_from_shply)\n"
   ]
  },
  {
   "cell_type": "code",
   "execution_count": null,
   "metadata": {},
   "outputs": [],
   "source": [
    "tmp = nga_speed_df.geometry.swifter.apply(\n",
    "    lambda x: pd.Series(np.array(x.centroid.coords.xy).flatten())\n",
    ")\n"
   ]
  },
  {
   "cell_type": "code",
   "execution_count": null,
   "metadata": {},
   "outputs": [],
   "source": [
    "nga_speed_df[[\"long\", \"lat\"]] = tmp\n"
   ]
  },
  {
   "cell_type": "code",
   "execution_count": null,
   "metadata": {},
   "outputs": [],
   "source": [
    "nga_speed_df[\"hex_code\"] = nga_speed_df[[\"lat\", \"long\"]].swifter.apply(\n",
    "    lambda row: h3.geo_to_h3(row[0], row[1], 7), axis=1\n",
    ")\n"
   ]
  },
  {
   "cell_type": "code",
   "execution_count": null,
   "metadata": {},
   "outputs": [],
   "source": [
    "nga_speed_df.to_csv(connectivity_dir / \"speedtest_nga.csv\", index=False)\n"
   ]
  },
  {
   "cell_type": "markdown",
   "metadata": {},
   "source": [
    "# Main data"
   ]
  },
  {
   "cell_type": "code",
   "execution_count": null,
   "metadata": {},
   "outputs": [],
   "source": [
    "nga_df = pd.read_csv(clean_base)\n"
   ]
  },
  {
   "cell_type": "code",
   "execution_count": null,
   "metadata": {},
   "outputs": [],
   "source": [
    "nga_cell_df = pd.read_csv(connectivity_dir / \"nga_cell_clean.csv\")\n",
    "nga_speed_df = pd.read_csv(connectivity_dir / \"speedtest_nga.csv\")\n"
   ]
  },
  {
   "cell_type": "code",
   "execution_count": null,
   "metadata": {},
   "outputs": [],
   "source": [
    "nga_speed_df.head()\n"
   ]
  },
  {
   "cell_type": "code",
   "execution_count": null,
   "metadata": {},
   "outputs": [],
   "source": [
    "plt.scatter(nga_speed_df.long, nga_speed_df.lat)\n",
    "plt.show()\n"
   ]
  },
  {
   "cell_type": "code",
   "execution_count": null,
   "metadata": {},
   "outputs": [],
   "source": [
    "nga_speed_df = (\n",
    "    nga_speed_df[\n",
    "        [\"hex_code\", \"avg_d_kbps\", \"avg_u_kbps\", \"avg_lat_ms\", \"tests\", \"devices\"]\n",
    "    ]\n",
    "    .groupby(\"hex_code\")\n",
    "    .agg(\n",
    "        {\n",
    "            \"avg_d_kbps\": \"mean\",\n",
    "            \"avg_u_kbps\": \"mean\",\n",
    "            \"avg_lat_ms\": \"mean\",\n",
    "            \"tests\": \"sum\",\n",
    "            \"devices\": \"sum\",\n",
    "        }\n",
    "    )\n",
    ")\n"
   ]
  },
  {
   "cell_type": "code",
   "execution_count": null,
   "metadata": {},
   "outputs": [],
   "source": [
    "new_nga_df = nga_df.join(\n",
    "    nga_cell_df.set_index(\"hex_code\"), on=[\"hex_code\"], how=\"left\"\n",
    ").join(nga_speed_df, on=\"hex_code\", how=\"left\")\n",
    "# new_nga_df.iloc[:, 92:].fillna(0, inplace=True)\n"
   ]
  },
  {
   "cell_type": "code",
   "execution_count": null,
   "metadata": {},
   "outputs": [],
   "source": [
    "new_nga_df.n_conflicts.fillna(0, inplace=True)\n"
   ]
  },
  {
   "cell_type": "code",
   "execution_count": null,
   "metadata": {},
   "outputs": [],
   "source": [
    "new_nga_df.head()\n"
   ]
  },
  {
   "cell_type": "markdown",
   "metadata": {},
   "source": [
    "# Reproject CISI data and add in again "
   ]
  },
  {
   "cell_type": "code",
   "execution_count": null,
   "metadata": {},
   "outputs": [],
   "source": [
    "from stc_unicef_cpi.data import process_geotiff as pg\n",
    "\n",
    "cisi_dir = Path(\"/Users/johnf/Downloads/higher_res_dssg/CISI/010_degree\")\n",
    "pg.clip_tif_to_ctry(\n",
    "    \"/Users/johnf/Downloads/higher_res_dssg/CISI/010_degree/global.tif\",\n",
    "    ctry_name=\"Senegal\",\n",
    "    save_dir=None,\n",
    ")\n"
   ]
  },
  {
   "cell_type": "code",
   "execution_count": null,
   "metadata": {},
   "outputs": [],
   "source": [
    "pg.rxr_reproject_tiff_to_target(\n",
    "    base_dir / \"Nigeria_africa_cisi.tif\",\n",
    "    tiff_dir / \"cpiPopData_500.tif\",\n",
    "    dest_path=base_dir / \"nga_cisi.tif\",\n",
    "    verbose=True,\n",
    ")\n"
   ]
  },
  {
   "cell_type": "code",
   "execution_count": null,
   "metadata": {},
   "outputs": [],
   "source": [
    "alt_nga_df = pg.agg_tif_to_df(\n",
    "    new_nga_df, base_dir / \"nga_cisi.tif\", rm_prefix=\"nga_\", verbose=True\n",
    ")\n"
   ]
  },
  {
   "cell_type": "code",
   "execution_count": null,
   "metadata": {},
   "outputs": [],
   "source": [
    "alt_nga_df.drop(columns=[\"cii\"], inplace=True)\n"
   ]
  },
  {
   "cell_type": "code",
   "execution_count": null,
   "metadata": {},
   "outputs": [],
   "source": [
    "zero_fill_cols = [\n",
    "    \"n_conflicts\",\n",
    "    \"GSM\",\n",
    "    \"LTE\",\n",
    "    \"NR\",\n",
    "    \"UMTS\",\n",
    "    \"tests\",\n",
    "    \"devices\",\n",
    "]\n",
    "alt_nga_df.fillna(value={col: 0 for col in zero_fill_cols}, inplace=True)\n",
    "alt_nga_df.head()\n"
   ]
  },
  {
   "cell_type": "code",
   "execution_count": null,
   "metadata": {},
   "outputs": [],
   "source": [
    "alt_nga_df = pg.agg_tif_to_df(\n",
    "    alt_nga_df, tiff_dir / \"cpiHealthAccData_500.tif\", verbose=True\n",
    ")\n"
   ]
  },
  {
   "cell_type": "code",
   "execution_count": null,
   "metadata": {},
   "outputs": [],
   "source": [
    "autoh7 = pd.read_csv(base_dir / \"autoencoder_highres7.csv\", index_col=0)\n",
    "autol7 = pd.read_csv(base_dir / \"autoencoder_lowres7.csv\", index_col=0)\n",
    "autoh7.columns = [f\"auto_h{i}\" for i in range(len(autoh7.columns))]\n",
    "autol7.columns = [f\"auto_l{i}\" for i in range(len(autol7.columns))]\n"
   ]
  },
  {
   "cell_type": "code",
   "execution_count": null,
   "metadata": {},
   "outputs": [],
   "source": [
    "alt_nga_df = alt_nga_df.join(autoh7, on=\"hex_code\", how=\"left\").join(\n",
    "    autol7, on=\"hex_code\", how=\"left\"\n",
    ")\n"
   ]
  },
  {
   "cell_type": "code",
   "execution_count": null,
   "metadata": {},
   "outputs": [],
   "source": [
    "alt_nga_df.head()\n"
   ]
  },
  {
   "cell_type": "code",
   "execution_count": null,
   "metadata": {},
   "outputs": [],
   "source": [
    "commute_df = pd.read_csv(base_dir / \"nga_clean_justnewcomm_zns.csv\")[\n",
    "    [\n",
    "        \"hex_code\",\n",
    "        \"name_commuting_zone\",\n",
    "        \"population_commuting\",\n",
    "        \"road_len_commuting\",\n",
    "        \"area_commuting\",\n",
    "    ]\n",
    "]\n",
    "if commute_df.columns[1] in alt_nga_df:\n",
    "    alt_nga_df.drop(columns=commute_df.columns.tolist()[1:], inplace=True)\n",
    "alt_nga_df = alt_nga_df.join(\n",
    "    commute_df.set_index(\"hex_code\"), on=\"hex_code\", how=\"left\"\n",
    ")\n"
   ]
  },
  {
   "cell_type": "code",
   "execution_count": null,
   "metadata": {},
   "outputs": [],
   "source": [
    "alt_nga_df.to_csv(base_dir / \"clean_nga_w_autov1.csv\", index=False)\n"
   ]
  },
  {
   "cell_type": "markdown",
   "metadata": {},
   "source": [
    "# Try mapping data to neighbours"
   ]
  },
  {
   "cell_type": "code",
   "execution_count": null,
   "metadata": {},
   "outputs": [],
   "source": [
    "full_nga_data = pd.read_csv(\n",
    "    \"/Users/johnf/Downloads/raw_low_res_dssg/dhs/clean_nga_dhs.csv\"\n",
    ")\n",
    "# Create variables for two or more deprivations\n",
    "for k in range(2, 5):\n",
    "    full_nga_data[f\"dep_{k}_or_more_sev\"] = full_nga_data[\"sumpoor_sev\"] >= k\n"
   ]
  },
  {
   "cell_type": "code",
   "execution_count": null,
   "metadata": {},
   "outputs": [],
   "source": [
    "plt.scatter(nga_df.LONGNUM, nga_df.LATNUM, c=nga_df.location)\n",
    "plt.colorbar()\n",
    "plt.show()\n"
   ]
  },
  {
   "cell_type": "code",
   "execution_count": null,
   "metadata": {},
   "outputs": [],
   "source": [
    "full_nga_data.location.astype(\"category\").describe()\n",
    "# 1 is urban, 2 is rural\n"
   ]
  },
  {
   "cell_type": "code",
   "execution_count": null,
   "metadata": {},
   "outputs": [],
   "source": [
    "full_nga_data[\"hex_incl_nbrs\"] = full_nga_data[[\"location\", \"hex_code\"]].apply(\n",
    "    lambda row: h3.k_ring(row[\"hex_code\"], 1)\n",
    "    if row[\"location\"] == 1\n",
    "    else h3.k_ring(row[\"hex_code\"], 2),\n",
    "    axis=1,\n",
    ")  # h3.hex_ring for hollow\n"
   ]
  },
  {
   "cell_type": "code",
   "execution_count": null,
   "metadata": {},
   "outputs": [],
   "source": [
    "sev_cols = [col for col in full_nga_data.columns if \"_sev\" in col]\n"
   ]
  },
  {
   "cell_type": "code",
   "execution_count": null,
   "metadata": {},
   "outputs": [],
   "source": [
    "other_cols = [\n",
    "    col\n",
    "    for col in full_nga_data.columns\n",
    "    if (\n",
    "        \"int\" in str(full_nga_data[col].dtype)\n",
    "        or \"float\" in str(full_nga_data[col].dtype)\n",
    "    )\n",
    "]\n",
    "agg_dict = {col: \"mean\" for col in other_cols}\n",
    "agg_dict.update({idx: [\"mean\", \"count\"] for idx in sev_cols})\n",
    "# agg_dict.update({\"hhid\": \"count\"})\n",
    "new_df = (\n",
    "    full_nga_data.explode(\"hex_incl_nbrs\").groupby(by=[\"hex_incl_nbrs\"]).agg(agg_dict)\n",
    ")\n",
    "new_df.columns = [\"_\".join(col) for col in new_df.columns.values]\n"
   ]
  },
  {
   "cell_type": "code",
   "execution_count": null,
   "metadata": {},
   "outputs": [],
   "source": [
    "new_df.rename(\n",
    "    columns={\n",
    "        f\"{sev}_mean\": f\"{sev.replace('dep_','').replace('_sev','')}_prev\"\n",
    "        for sev in sev_cols\n",
    "        if sev != \"deprived_sev\"\n",
    "    },\n",
    "    inplace=True,\n",
    ")\n",
    "new_df.rename(\n",
    "    columns={\n",
    "        f\"{sev}_count\": f\"{sev.replace('dep_','').replace('_sev','')}_count\"\n",
    "        for sev in sev_cols\n",
    "        if sev != \"deprived_sev\"\n",
    "    },\n",
    "    inplace=True,\n",
    ")\n"
   ]
  },
  {
   "cell_type": "code",
   "execution_count": null,
   "metadata": {},
   "outputs": [],
   "source": [
    "new_df = new_df[new_df.sumpoor_count >= 30].reset_index()"
   ]
  },
  {
   "cell_type": "code",
   "execution_count": null,
   "metadata": {},
   "outputs": [],
   "source": [
    "new_df.drop(columns=['hex_code_mean'],inplace=True) \n",
    "new_df.rename(columns={'hex_incl_nbrs':'hex_code'},inplace=True)"
   ]
  },
  {
   "cell_type": "code",
   "execution_count": null,
   "metadata": {},
   "outputs": [],
   "source": [
    "new_df.head()"
   ]
  },
  {
   "cell_type": "code",
   "execution_count": null,
   "metadata": {},
   "outputs": [],
   "source": [
    "new_df.to_csv('../data/processed/expanded_nigeria_res7_thres30.csv')"
   ]
  },
  {
   "cell_type": "code",
   "execution_count": null,
   "metadata": {},
   "outputs": [],
   "source": [
    "new_df.head()"
   ]
  },
  {
   "cell_type": "code",
   "execution_count": null,
   "metadata": {},
   "outputs": [],
   "source": [
    "new_df.to_csv(base_dir / \"nga_clean_expanded.csv\")\n"
   ]
  },
  {
   "cell_type": "code",
   "execution_count": null,
   "metadata": {},
   "outputs": [],
   "source": [
    "new_df = pd.read_csv(base_dir / \"nga_clean_expanded.csv\")\n",
    "new_df[new_df[\"nutrition_count\"] >= 10]\n"
   ]
  },
  {
   "cell_type": "code",
   "execution_count": null,
   "metadata": {},
   "outputs": [],
   "source": [
    "sev_cols = [col for col in full_nga_data.columns if \"sev\" in col]\n"
   ]
  },
  {
   "cell_type": "code",
   "execution_count": null,
   "metadata": {},
   "outputs": [],
   "source": [
    "full_nga_data[\"ndeps_missing\"] = full_nga_data[sev_cols].isna().sum(axis=1)\n"
   ]
  },
  {
   "cell_type": "code",
   "execution_count": null,
   "metadata": {},
   "outputs": [],
   "source": [
    "((6 - full_nga_data[\"ndeps_missing\"] - full_nga_data[\"sumpoor_sev\"]) < 0).sum()\n"
   ]
  },
  {
   "cell_type": "code",
   "execution_count": null,
   "metadata": {},
   "outputs": [],
   "source": [
    "full_nga_data.ndeps_missing.describe()\n"
   ]
  },
  {
   "cell_type": "code",
   "execution_count": null,
   "metadata": {},
   "outputs": [],
   "source": [
    "full_nga_data[sev_cols].info()\n"
   ]
  },
  {
   "cell_type": "code",
   "execution_count": null,
   "metadata": {},
   "outputs": [],
   "source": [
    "full_nga_data.age.describe()\n"
   ]
  },
  {
   "cell_type": "code",
   "execution_count": null,
   "metadata": {},
   "outputs": [],
   "source": [
    "# one vs all training\n"
   ]
  },
  {
   "cell_type": "code",
   "execution_count": null,
   "metadata": {},
   "outputs": [],
   "source": [
    "import h3.api.numpy_int as h3\n"
   ]
  },
  {
   "cell_type": "code",
   "execution_count": null,
   "metadata": {},
   "outputs": [],
   "source": [
    "res_level = 3\n",
    "for col in sev_cols:\n",
    "    full_nga_data[f\"hex_code{res_level}\"] = full_nga_data[[\"LATNUM\", \"LONGNUM\"]].apply(\n",
    "        lambda row: h3.geo_to_h3(*row.values, res_level), axis=1\n",
    "    )\n",
    "    count_df = full_nga_data.groupby(f\"hex_code{res_level}\")[col].count()\n",
    "    _, bins = pd.qcut(count_df, [0, 0.05, 1.0], retbins=True)\n",
    "    # print(f\"5% cutoff for {col} is at {bins[1]}\")\n",
    "    if bins[1] < 30:\n",
    "        quants = pd.cut(count_df, [0, 30, np.inf])\n",
    "        cut_prop = quants.value_counts().sort_index().values[0] / len(count_df)\n",
    "        print(f\"Warning: cutoff at 30 for {col} removes {cut_prop*100:.2f}% of data\")\n",
    "        print(f\"5% cutoff is at {bins[1]}\")\n",
    "        for thresh in [5, 10, 15, 20]:\n",
    "            quants = pd.cut(count_df, [0, thresh, np.inf])\n",
    "            cut_prop = quants.value_counts().sort_index().values[0] / len(count_df)\n",
    "            print(f\"Cutoff at {thresh} for {col} removes {cut_prop*100:.2f}% of data\")\n",
    "# count_df.hist(bins=100)\n",
    "# plt.show()\n"
   ]
  },
  {
   "cell_type": "code",
   "execution_count": null,
   "metadata": {},
   "outputs": [],
   "source": [
    "thr_df = nga_df.loc[count_df.values >= 30].copy()\n"
   ]
  },
  {
   "cell_type": "code",
   "execution_count": null,
   "metadata": {},
   "outputs": [],
   "source": [
    "thr_df.to_csv(clean_base.parent / \"nga_clean_v2_thr30.csv\", index=False)\n"
   ]
  },
  {
   "cell_type": "markdown",
   "metadata": {},
   "source": [
    "# First add higher res TIFF data"
   ]
  },
  {
   "cell_type": "code",
   "execution_count": null,
   "metadata": {},
   "outputs": [],
   "source": [
    "nga_df = pd.read_csv(clean_base)\n"
   ]
  },
  {
   "cell_type": "code",
   "execution_count": null,
   "metadata": {},
   "outputs": [],
   "source": [
    "nga_df = pg.agg_tif_to_df(\n",
    "    nga_df,\n",
    "    tiff_dir,\n",
    "    rm_prefix=\"cpi\",\n",
    "    agg_fn=np.mean,\n",
    "    max_records=int(1e5),\n",
    "    replace_old=True,\n",
    "    verbose=False,\n",
    ")\n"
   ]
  },
  {
   "cell_type": "code",
   "execution_count": null,
   "metadata": {},
   "outputs": [],
   "source": [
    "merge_cols = [col for col in nga_df.columns if \"Data_500\" in col]\n",
    "old_cols = [col for col in merge_cols if col.rstrip(\"Data_500\") in nga_df.columns]\n",
    "nga_df.drop(columns=old_cols, inplace=True)\n",
    "nga_df.rename(columns={col: col.rstrip(\"Data_500\") for col in merge_cols}, inplace=True)\n"
   ]
  },
  {
   "cell_type": "code",
   "execution_count": null,
   "metadata": {},
   "outputs": [],
   "source": [
    "nga_df.to_csv(clean_base, index=False)\n"
   ]
  },
  {
   "cell_type": "code",
   "execution_count": null,
   "metadata": {},
   "outputs": [],
   "source": [
    "pd.set_option(\"display.max_columns\", None)\n",
    "nga_df.head()\n"
   ]
  },
  {
   "cell_type": "markdown",
   "metadata": {},
   "source": [
    "# Now add econ TIFF data"
   ]
  },
  {
   "cell_type": "code",
   "execution_count": null,
   "metadata": {},
   "outputs": [],
   "source": [
    "nga_df = pd.read_csv(clean_base)\n"
   ]
  },
  {
   "cell_type": "code",
   "execution_count": null,
   "metadata": {},
   "outputs": [],
   "source": [
    "import glob\n",
    "\n",
    "econ_tiffs = glob.glob(str(econ_dir / \"*.tif\"))\n"
   ]
  },
  {
   "cell_type": "code",
   "execution_count": null,
   "metadata": {},
   "outputs": [],
   "source": [
    "econ_tiffs\n"
   ]
  },
  {
   "cell_type": "code",
   "execution_count": null,
   "metadata": {},
   "outputs": [],
   "source": [
    "import rioxarray as rxr\n",
    "\n",
    "# Convert econ tiffs to right resolution + CRS, rewrite to high_res dir\n",
    "for i, econ_tiff in enumerate(econ_tiffs):\n",
    "    with rxr.open_rasterio(econ_tiff) as data:\n",
    "        name = Path(econ_tiff).name\n",
    "        if \"GDP_PPP\" in name:\n",
    "            data.attrs[\"long_name\"] = [\"GDP_PPP_1990\", \"GDP_PPP_2000\", \"GDP_PPP_2015\"]\n",
    "        elif \"2019GDP\" in name:\n",
    "            data.attrs[\"long_name\"] = [\"GDP_2019\"]\n",
    "        elif \"EC\" in name:\n",
    "            data.attrs[\"long_name\"] = [\"EC_2019\"]\n",
    "        data.rio.to_raster(econ_tiff)\n",
    "    pg.rxr_reproject_tiff_to_target(\n",
    "        econ_tiff,\n",
    "        glob.glob(str(tiff_dir / \"*.tif\"))[0],\n",
    "        tiff_dir / Path(econ_tiff).name,\n",
    "        verbose=True,\n",
    "    )\n"
   ]
  },
  {
   "cell_type": "code",
   "execution_count": null,
   "metadata": {},
   "outputs": [],
   "source": [
    "high_res_econ_tifs = [\n",
    "    name\n",
    "    for name in glob.glob(str(tiff_dir / \"*.tif\"))\n",
    "    if \"GDP\" in Path(name).name or \"EC\" in Path(name).name\n",
    "]\n"
   ]
  },
  {
   "cell_type": "code",
   "execution_count": null,
   "metadata": {},
   "outputs": [],
   "source": [
    "high_res_econ_tifs\n"
   ]
  },
  {
   "cell_type": "code",
   "execution_count": null,
   "metadata": {},
   "outputs": [],
   "source": [
    "nga_df = pg.agg_tif_to_df(\n",
    "    nga_df,\n",
    "    high_res_econ_tifs,\n",
    "    rm_prefix=\"Nigeria_\",\n",
    "    agg_fn=np.mean,\n",
    "    max_records=int(1e5),\n",
    "    replace_old=True,\n",
    "    verbose=False,\n",
    ")\n"
   ]
  },
  {
   "cell_type": "code",
   "execution_count": null,
   "metadata": {},
   "outputs": [],
   "source": [
    "nga_df.head()\n"
   ]
  },
  {
   "cell_type": "code",
   "execution_count": null,
   "metadata": {},
   "outputs": [],
   "source": [
    "nga_df.to_csv(clean_base, index=False)\n"
   ]
  },
  {
   "cell_type": "markdown",
   "metadata": {},
   "source": [
    "# Now add commuter zone data"
   ]
  },
  {
   "cell_type": "code",
   "execution_count": null,
   "metadata": {},
   "outputs": [],
   "source": [
    "nga_df = pd.read_csv(clean_base)\n"
   ]
  },
  {
   "cell_type": "code",
   "execution_count": null,
   "metadata": {},
   "outputs": [],
   "source": [
    "import geopandas as gpd\n",
    "\n",
    "commzns_df = pd.read_csv(comm_zns)\n"
   ]
  },
  {
   "cell_type": "code",
   "execution_count": null,
   "metadata": {},
   "outputs": [],
   "source": [
    "from shapely import wkt\n",
    "\n",
    "commzns_df[\"geometry\"] = commzns_df[\"geometry\"].apply(wkt.loads)\n"
   ]
  },
  {
   "cell_type": "code",
   "execution_count": null,
   "metadata": {},
   "outputs": [],
   "source": [
    "commzns_df = gpd.GeoDataFrame(commzns_df, crs=\"epsg:4326\")\n"
   ]
  },
  {
   "cell_type": "code",
   "execution_count": null,
   "metadata": {},
   "outputs": [],
   "source": [
    "commzns_df[commzns_df[\"country\"] == \"Nigeria\"].head(2)\n"
   ]
  },
  {
   "cell_type": "code",
   "execution_count": null,
   "metadata": {},
   "outputs": [],
   "source": [
    "# TODO: decide if will add\n"
   ]
  },
  {
   "cell_type": "code",
   "execution_count": null,
   "metadata": {},
   "outputs": [],
   "source": [
    "nga_df.to_csv(clean_base, index=False)\n"
   ]
  },
  {
   "cell_type": "markdown",
   "metadata": {},
   "source": [
    "# Now add FB connectivity data"
   ]
  },
  {
   "cell_type": "code",
   "execution_count": null,
   "metadata": {},
   "outputs": [],
   "source": [
    "nga_df = pd.read_csv(base_dir / \"clean_nga_w_autov1.csv\")\n"
   ]
  },
  {
   "cell_type": "code",
   "execution_count": null,
   "metadata": {},
   "outputs": [],
   "source": [
    "nga_df.head()"
   ]
  },
  {
   "cell_type": "code",
   "execution_count": null,
   "metadata": {},
   "outputs": [],
   "source": [
    "conn_df = pd.read_csv(fb_conn)\n",
    "conn_gdf = gpd.GeoDataFrame(\n",
    "    conn_df, geometry=gpd.points_from_xy(conn_df.long, conn_df.lat)\n",
    ")\n"
   ]
  },
  {
   "cell_type": "code",
   "execution_count": null,
   "metadata": {},
   "outputs": [],
   "source": [
    "conn_df[\"hex_code\"] = conn_df[[\"lat\", \"long\"]].swifter.apply(\n",
    "    lambda row: h3.geo_to_h3(row[0], row[1], resolution=7), axis=1\n",
    ")\n"
   ]
  },
  {
   "cell_type": "code",
   "execution_count": null,
   "metadata": {},
   "outputs": [],
   "source": [
    "nga_df = nga_df.join(conn_df.set_index(\"hex_code\")[\"estimate_dau\"], on=\"hex_code\")\n"
   ]
  },
  {
   "cell_type": "code",
   "execution_count": null,
   "metadata": {},
   "outputs": [],
   "source": [
    "nga_df.to_csv(base_dir / \"clean_nga_w_autov1.csv\", index=False)\n"
   ]
  },
  {
   "cell_type": "code",
   "execution_count": null,
   "metadata": {},
   "outputs": [],
   "source": [
    "print(\n",
    "    *sorted(\n",
    "        [\n",
    "            (name, val)\n",
    "            for name, val in zip(\n",
    "                nga_df.isna().sum(axis=0).index, nga_df.isna().sum(axis=0).values\n",
    "            )\n",
    "        ],\n",
    "        key=lambda x: x[1],\n",
    "    ),\n",
    "    sep=\"\\n\"\n",
    ")\n"
   ]
  },
  {
   "cell_type": "code",
   "execution_count": null,
   "metadata": {},
   "outputs": [],
   "source": [
    "# only for inside train set - worth including or not extensible?\n",
    "conn_gdf.plot()\n"
   ]
  },
  {
   "cell_type": "markdown",
   "metadata": {},
   "source": [
    "# Finally add RWI data"
   ]
  },
  {
   "cell_type": "code",
   "execution_count": null,
   "metadata": {},
   "outputs": [],
   "source": [
    "nga_df = pd.read_csv(clean_base)\n"
   ]
  },
  {
   "cell_type": "code",
   "execution_count": null,
   "metadata": {},
   "outputs": [],
   "source": [
    "from pyquadkey2 import quadkey as qk\n",
    "from shapely.geometry import Polygon\n",
    "\n",
    "# qk.QuadKey()\n",
    "top_left = qk.TileAnchor.ANCHOR_NW\n",
    "top_right = qk.TileAnchor.ANCHOR_NE\n",
    "bottom_right = qk.TileAnchor.ANCHOR_SE\n",
    "bottom_left = qk.TileAnchor.ANCHOR_SW\n",
    "getattr(qk.TileAnchor, bottom_right)\n"
   ]
  },
  {
   "cell_type": "code",
   "execution_count": null,
   "metadata": {},
   "outputs": [],
   "source": [
    "test_idx = \"010302121\"\n",
    "square = [\n",
    "    qk.from_str(test_idx).to_geo(anchor=point)\n",
    "    for point in [top_left, top_right, bottom_right, bottom_left]\n",
    "]\n",
    "square = Polygon(square)\n"
   ]
  },
  {
   "cell_type": "code",
   "execution_count": null,
   "metadata": {},
   "outputs": [],
   "source": [
    "import h3.api.numpy_int as h3\n",
    "\n",
    "ex_idx = h3.geo_to_h3(*square.boundary.coords[0], resolution=6)\n",
    "hex = Polygon(h3.h3_to_geo_boundary(ex_idx))\n"
   ]
  },
  {
   "cell_type": "code",
   "execution_count": null,
   "metadata": {},
   "outputs": [],
   "source": [
    "# create intersection and calculate percentage intersection based on areas\n",
    "intersection = hex.intersection(square)\n",
    "percent_area = intersection.area / square.area * 100\n"
   ]
  },
  {
   "cell_type": "code",
   "execution_count": null,
   "metadata": {},
   "outputs": [],
   "source": [
    "percent_area\n"
   ]
  },
  {
   "cell_type": "code",
   "execution_count": null,
   "metadata": {},
   "outputs": [],
   "source": [
    "nga_df.to_csv(clean_base, index=False)\n"
   ]
  },
  {
   "cell_type": "markdown",
   "metadata": {},
   "source": [
    "# Add new target columns of proportion w > k deps"
   ]
  },
  {
   "cell_type": "code",
   "execution_count": null,
   "metadata": {},
   "outputs": [],
   "source": [
    "nga_df = pd.read_csv(base_dir / \"clean_nga_w_autov1.csv\")\n",
    "\n",
    "full_nga_data = pd.read_csv(\n",
    "    \"/Users/johnf/Downloads/raw_low_res_dssg/dhs/clean_nga_dhs.csv\"\n",
    ")\n"
   ]
  },
  {
   "cell_type": "code",
   "execution_count": null,
   "metadata": {},
   "outputs": [],
   "source": [
    "for k in range(2,5): \n",
    "    full_nga_data[f\"dep_{k}_or_more_sev\"] = full_nga_data['sumpoor_sev'] >= k "
   ]
  },
  {
   "cell_type": "code",
   "execution_count": null,
   "metadata": {},
   "outputs": [],
   "source": [
    "k_or_more_df = full_nga_data.groupby(by=[\"hex_code\"]).agg({col:np.mean for col in full_nga_data.columns if 'or_more' in col})"
   ]
  },
  {
   "cell_type": "code",
   "execution_count": null,
   "metadata": {},
   "outputs": [],
   "source": [
    "k_or_more_df.melt()"
   ]
  },
  {
   "cell_type": "code",
   "execution_count": null,
   "metadata": {},
   "outputs": [],
   "source": [
    "import seaborn as sns \n",
    "\n",
    "for k in range(2,5): \n",
    "    fig,ax = plt.subplots(dpi=200)\n",
    "    # sns.histplot(data=k_or_more_df.melt(),x=\"value\",hue=\"variable\",element=\"step\", fill=False, kde=True)\n",
    "    sns.histplot(data=k_or_more_df[f\"dep_{k}_or_more_sev\"],element=\"step\", fill=False, kde=True)\n",
    "    plt.show()"
   ]
  },
  {
   "cell_type": "code",
   "execution_count": null,
   "metadata": {},
   "outputs": [],
   "source": [
    "# add these columns\n",
    "nga_df = nga_df.join(k_or_more_df,on=\"hex_code\")"
   ]
  },
  {
   "cell_type": "code",
   "execution_count": null,
   "metadata": {},
   "outputs": [],
   "source": [
    "# reorder columns so targets in right place\n",
    "cols = nga_df.columns.tolist()\n",
    "cols = cols[:20] + cols[-3:] + cols[20:-3]\n",
    "nga_df = nga_df[cols]"
   ]
  },
  {
   "cell_type": "code",
   "execution_count": null,
   "metadata": {},
   "outputs": [],
   "source": [
    "nga_df.to_csv(base_dir / \"clean_nga_w_autov1.csv\")\n"
   ]
  },
  {
   "cell_type": "code",
   "execution_count": null,
   "metadata": {},
   "outputs": [],
   "source": [
    "# see proportion of these targets that are non-zero \n",
    "# can see that 2 or more deprivation prevalence is a reasonable target, but not 3 or more\n",
    "# as ~50% or more of the data is just zero \n",
    "(k_or_more_df!=0).mean(axis=0)"
   ]
  },
  {
   "cell_type": "markdown",
   "metadata": {},
   "source": [
    "# Check output of make_dataset"
   ]
  },
  {
   "cell_type": "code",
   "execution_count": null,
   "metadata": {},
   "outputs": [],
   "source": [
    "world = gpd.read_file(gpd.datasets.get_path(\"naturalearth_lowres\"))\n",
    "nga = world[world.name == \"Nigeria\"].geometry.__geo_interface__[\"features\"][0][\n",
    "    \"geometry\"\n",
    "]\n",
    "nga_hex = h3.polyfill(nga, res=7)"
   ]
  },
  {
   "cell_type": "code",
   "execution_count": null,
   "metadata": {},
   "outputs": [],
   "source": [
    "from itertools import chain\n",
    "\n",
    "def get_new_nbrs_at_k(hexes,k): \n",
    "    def hex_nbrs_at_k(hex,k): \n",
    "        return np.array(list(chain.from_iterable([h3.hex_ring(hex,dist) for dist in range(1,k+1)])))\n",
    "    nbrs_at_k = pd.DataFrame(hexes,columns=[\"hex_code\"]).hex_code.swifter.apply(lambda hex: hex_nbrs_at_k(hex,k)) \n",
    "    return np.setdiff1d(np.array(list(chain.from_iterable(nbrs_at_k))),hexes)\n",
    "    \n",
    "k = 2\n",
    "# ctry[f\"nbrs_at_{k}\"] = ctry.hex_code.swifter.apply(lambda hex: hex_nbrs_at_k(hex,k))\n",
    "len(get_new_nbrs_at_k(ctry.hex_code,2))\n"
   ]
  },
  {
   "cell_type": "code",
   "execution_count": null,
   "metadata": {},
   "outputs": [],
   "source": [
    "new_nbrs= np.setdiff1d(np.array(list(chain.from_iterable(ctry[f\"nbrs_at_{k}\"]))),ctry.hex_code.values)"
   ]
  },
  {
   "cell_type": "code",
   "execution_count": 4,
   "metadata": {},
   "outputs": [],
   "source": []
  },
  {
   "cell_type": "code",
   "execution_count": null,
   "metadata": {},
   "outputs": [],
   "source": [
    "df = pd.read_csv(int_dir / 'hexes_nigeria_res7_thres30.csv')"
   ]
  },
  {
   "cell_type": "code",
   "execution_count": null,
   "metadata": {},
   "outputs": [],
   "source": [
    "fig,ax = plt.subplots(dpi=150) \n",
    "N=1000\n",
    "na_sub = df[df.population.isna()]\n",
    "subset = np.random.choice(len(na_sub),size=N) \n",
    "sub = na_sub.iloc[subset,:] \n",
    "latlongs = [h3.h3_to_geo(hex_code) for hex_code in sub.hex_code]\n",
    "latlongs=np.array(latlongs)\n",
    "plt.scatter(*latlongs.T,c='k')\n",
    "plt.show()"
   ]
  },
  {
   "cell_type": "code",
   "execution_count": null,
   "metadata": {},
   "outputs": [],
   "source": [
    "zero_fill_cols = [\n",
    "    \"n_conflicts\",\n",
    "    \"GSM\",\n",
    "    \"LTE\",\n",
    "    \"NR\",\n",
    "    \"UMTS\",\n",
    "]\n",
    "df.fillna(value={col: 0 for col in zero_fill_cols}, inplace=True)\n",
    "df.head()\n",
    "\n",
    "df.head()"
   ]
  },
  {
   "cell_type": "code",
   "execution_count": null,
   "metadata": {},
   "outputs": [],
   "source": [
    "df.to_csv(int_dir / 'hexes_nigeria_res7_thres30.csv',index=False)"
   ]
  },
  {
   "cell_type": "code",
   "execution_count": null,
   "metadata": {},
   "outputs": [],
   "source": []
  },
  {
   "cell_type": "code",
   "execution_count": null,
   "metadata": {},
   "outputs": [],
   "source": [
    "cols = df.columns.tolist()\n",
    "survey_idx = cols.index(\"survey\")\n",
    "cols = cols[:survey_idx] + cols[-2:] + cols[survey_idx:-2] \n",
    "df[cols]"
   ]
  },
  {
   "cell_type": "code",
   "execution_count": null,
   "metadata": {},
   "outputs": [],
   "source": [
    "econ = int_dir / \"tmp_nigeria_econ.csv\" \n",
    "econ = pd.read_csv(econ,index_col=0)"
   ]
  },
  {
   "cell_type": "code",
   "execution_count": null,
   "metadata": {},
   "outputs": [],
   "source": [
    "gee = int_dir / \"tmp_nigeria_gee.csv\" \n",
    "gee = pd.read_csv(gee,index_col=0)"
   ]
  },
  {
   "cell_type": "code",
   "execution_count": null,
   "metadata": {},
   "outputs": [],
   "source": []
  },
  {
   "cell_type": "code",
   "execution_count": null,
   "metadata": {},
   "outputs": [],
   "source": [
    "output_dir = Path(\"../data/predictions\")\n",
    "preds = pd.read_csv(output_dir / \"preds_nigeria_res7.csv\") "
   ]
  },
  {
   "cell_type": "code",
   "execution_count": null,
   "metadata": {},
   "outputs": [],
   "source": [
    "latlongs = preds.hex_code.swifter.apply(lambda x: h3.h3_to_geo(x))\n",
    "preds[\"lat\"] = latlongs.str[0]\n",
    "preds[\"long\"] = latlongs.str[1]"
   ]
  },
  {
   "cell_type": "code",
   "execution_count": null,
   "metadata": {},
   "outputs": [],
   "source": [
    "preds.columns"
   ]
  },
  {
   "cell_type": "code",
   "execution_count": null,
   "metadata": {},
   "outputs": [],
   "source": [
    "import seaborn as sns\n",
    "N = 10000\n",
    "subset = preds.iloc[:N]\n",
    "fig,ax = plt.subplots(dpi=200)\n",
    "sns.scatterplot(data=subset,x=subset['long'],y=subset['lat'],hue=subset['sumpoor_sev']) \n",
    "plt.show()"
   ]
  },
  {
   "cell_type": "code",
   "execution_count": null,
   "metadata": {},
   "outputs": [],
   "source": [
    "pop_df = pg.rast_to_agg_df(int_dir.parent / \"external\" / \"gee\" / \"cpi_poptotal_nigeria_500.tif\",verbose=True)"
   ]
  },
  {
   "cell_type": "code",
   "execution_count": 127,
   "metadata": {},
   "outputs": [
    {
     "data": {
      "application/vnd.jupyter.widget-view+json": {
       "model_id": "1fa9a0bc9f4c467e83e6034c1d466368",
       "version_major": 2,
       "version_minor": 0
      },
      "text/plain": [
       "Dask Apply:   0%|          | 0/16 [00:00<?, ?it/s]"
      ]
     },
     "metadata": {},
     "output_type": "display_data"
    },
    {
     "name": "stdout",
     "output_type": "stream",
     "text": [
      "Working with africa: 1/4...\n",
      "The crs of nigeria_africa.tif is: EPSG:4326\n",
      "The nodatavalue of nigeria_africa.tif is: nan\n",
      "The shape of nigeria_africa.tif is: (1, 2145, 2675)\n",
      "The spatial resolution for nigeria_africa.tif is: (0.004491576420585397, -0.0044915764206098175)\n",
      "The metadata for nigeria_africa.tif is: {'scale_factor': 1.0, 'add_offset': 0.0}\n",
      "Single band found only\n",
      "1 bands found in africa\n",
      "Converted to dataframe!\n",
      "Dataframe info:\n",
      "<class 'pandas.core.frame.DataFrame'>\n",
      "RangeIndex: 3709916 entries, 0 to 3709915\n",
      "Data columns (total 3 columns):\n",
      " #   Column     Dtype  \n",
      "---  ------     -----  \n",
      " 0   latitude   float64\n",
      " 1   longitude  float64\n",
      " 2   africa     float64\n",
      "dtypes: float64(3)\n",
      "memory usage: 84.9 MB\n",
      "None\n",
      "Adding hex info...\n",
      "Large dataframe, using dask instead...\n",
      "Using 4 partitions\n",
      "Done!\n",
      "Aggregating within cells...\n",
      "Joining to already aggregated data...\n",
      "Done!\n",
      "Working with gdpppp30: 2/4...\n",
      "The crs of nigeria_gdp_ppp_30.tif is: EPSG:4326\n",
      "The nodatavalue of nigeria_gdp_ppp_30.tif is: nan\n",
      "The shape of nigeria_gdp_ppp_30.tif is: (3, 2145, 2675)\n",
      "The spatial resolution for nigeria_gdp_ppp_30.tif is: (0.004491576420585397, -0.0044915764206098175)\n",
      "The metadata for nigeria_gdp_ppp_30.tif is: {'scale_factor': 1.0, 'add_offset': 0.0, 'long_name': ('gdp_ppp_1990', 'gdp_ppp_2000', 'gdp_ppp_2015')}\n",
      "Converted to dataframe!\n",
      "Dataframe info:\n",
      "<class 'pandas.core.frame.DataFrame'>\n",
      "RangeIndex: 694169 entries, 0 to 694168\n",
      "Data columns (total 5 columns):\n",
      " #   Column        Non-Null Count   Dtype  \n",
      "---  ------        --------------   -----  \n",
      " 0   latitude      694169 non-null  float64\n",
      " 1   longitude     694169 non-null  float64\n",
      " 2   gdp_ppp_1990  314131 non-null  float32\n",
      " 3   gdp_ppp_2000  314131 non-null  float32\n",
      " 4   gdp_ppp_2015  681160 non-null  float32\n",
      "dtypes: float32(3), float64(2)\n",
      "memory usage: 18.5 MB\n",
      "None\n",
      "Adding hex info...\n",
      "Large dataframe, using dask instead...\n",
      "Using 4 partitions\n",
      "Done!\n",
      "Aggregating within cells...\n",
      "Joining to already aggregated data...\n",
      "Done!\n",
      "Working with ec2019: 3/4...\n",
      "The crs of nigeria_ec2019.tif is: EPSG:4326\n",
      "The nodatavalue of nigeria_ec2019.tif is: nan\n",
      "The shape of nigeria_ec2019.tif is: (1, 2145, 2675)\n",
      "The spatial resolution for nigeria_ec2019.tif is: (0.004491576420585397, -0.0044915764206098175)\n",
      "The metadata for nigeria_ec2019.tif is: {'scale_factor': 1.0, 'add_offset': 0.0, 'long_name': 'ec_2019'}\n",
      "1 bands found in ec2019\n",
      "Converted to dataframe!\n",
      "Dataframe info:\n",
      "<class 'pandas.core.frame.DataFrame'>\n",
      "RangeIndex: 0 entries\n",
      "Data columns (total 3 columns):\n",
      " #   Column     Non-Null Count  Dtype  \n",
      "---  ------     --------------  -----  \n",
      " 0   latitude   0 non-null      object \n",
      " 1   longitude  0 non-null      object \n",
      " 2   ec2019     0 non-null      float32\n",
      "dtypes: float32(1), object(2)\n",
      "memory usage: 124.0+ bytes\n",
      "None\n",
      "Adding hex info...\n"
     ]
    },
    {
     "ename": "ValueError",
     "evalue": "Expected a 1D array, got an array with shape (0, 2)",
     "output_type": "error",
     "traceback": [
      "\u001b[0;31m---------------------------------------------------------------------------\u001b[0m",
      "\u001b[0;31mKeyError\u001b[0m                                  Traceback (most recent call last)",
      "File \u001b[0;32m~/opt/miniconda3/envs/dssg/lib/python3.9/site-packages/pandas/core/indexes/base.py:3621\u001b[0m, in \u001b[0;36mIndex.get_loc\u001b[0;34m(self, key, method, tolerance)\u001b[0m\n\u001b[1;32m   3620\u001b[0m \u001b[39mtry\u001b[39;00m:\n\u001b[0;32m-> 3621\u001b[0m     \u001b[39mreturn\u001b[39;00m \u001b[39mself\u001b[39;49m\u001b[39m.\u001b[39;49m_engine\u001b[39m.\u001b[39;49mget_loc(casted_key)\n\u001b[1;32m   3622\u001b[0m \u001b[39mexcept\u001b[39;00m \u001b[39mKeyError\u001b[39;00m \u001b[39mas\u001b[39;00m err:\n",
      "File \u001b[0;32m~/opt/miniconda3/envs/dssg/lib/python3.9/site-packages/pandas/_libs/index.pyx:136\u001b[0m, in \u001b[0;36mpandas._libs.index.IndexEngine.get_loc\u001b[0;34m()\u001b[0m\n",
      "File \u001b[0;32m~/opt/miniconda3/envs/dssg/lib/python3.9/site-packages/pandas/_libs/index.pyx:163\u001b[0m, in \u001b[0;36mpandas._libs.index.IndexEngine.get_loc\u001b[0;34m()\u001b[0m\n",
      "File \u001b[0;32mpandas/_libs/hashtable_class_helper.pxi:5198\u001b[0m, in \u001b[0;36mpandas._libs.hashtable.PyObjectHashTable.get_item\u001b[0;34m()\u001b[0m\n",
      "File \u001b[0;32mpandas/_libs/hashtable_class_helper.pxi:5206\u001b[0m, in \u001b[0;36mpandas._libs.hashtable.PyObjectHashTable.get_item\u001b[0;34m()\u001b[0m\n",
      "\u001b[0;31mKeyError\u001b[0m: 'hex_code'",
      "\nThe above exception was the direct cause of the following exception:\n",
      "\u001b[0;31mKeyError\u001b[0m                                  Traceback (most recent call last)",
      "File \u001b[0;32m~/opt/miniconda3/envs/dssg/lib/python3.9/site-packages/pandas/core/frame.py:3799\u001b[0m, in \u001b[0;36mDataFrame._set_item_mgr\u001b[0;34m(self, key, value)\u001b[0m\n\u001b[1;32m   3798\u001b[0m \u001b[39mtry\u001b[39;00m:\n\u001b[0;32m-> 3799\u001b[0m     loc \u001b[39m=\u001b[39m \u001b[39mself\u001b[39;49m\u001b[39m.\u001b[39;49m_info_axis\u001b[39m.\u001b[39;49mget_loc(key)\n\u001b[1;32m   3800\u001b[0m \u001b[39mexcept\u001b[39;00m \u001b[39mKeyError\u001b[39;00m:\n\u001b[1;32m   3801\u001b[0m     \u001b[39m# This item wasn't present, just insert at end\u001b[39;00m\n",
      "File \u001b[0;32m~/opt/miniconda3/envs/dssg/lib/python3.9/site-packages/pandas/core/indexes/base.py:3623\u001b[0m, in \u001b[0;36mIndex.get_loc\u001b[0;34m(self, key, method, tolerance)\u001b[0m\n\u001b[1;32m   3622\u001b[0m \u001b[39mexcept\u001b[39;00m \u001b[39mKeyError\u001b[39;00m \u001b[39mas\u001b[39;00m err:\n\u001b[0;32m-> 3623\u001b[0m     \u001b[39mraise\u001b[39;00m \u001b[39mKeyError\u001b[39;00m(key) \u001b[39mfrom\u001b[39;00m \u001b[39merr\u001b[39;00m\n\u001b[1;32m   3624\u001b[0m \u001b[39mexcept\u001b[39;00m \u001b[39mTypeError\u001b[39;00m:\n\u001b[1;32m   3625\u001b[0m     \u001b[39m# If we have a listlike key, _check_indexing_error will raise\u001b[39;00m\n\u001b[1;32m   3626\u001b[0m     \u001b[39m#  InvalidIndexError. Otherwise we fall through and re-raise\u001b[39;00m\n\u001b[1;32m   3627\u001b[0m     \u001b[39m#  the TypeError.\u001b[39;00m\n",
      "\u001b[0;31mKeyError\u001b[0m: 'hex_code'",
      "\nDuring handling of the above exception, another exception occurred:\n",
      "\u001b[0;31mValueError\u001b[0m                                Traceback (most recent call last)",
      "\u001b[1;32m/Users/johnf/Desktop/Work/InFoMM/DSSG/STC-UNICEF-DSSG/stc_unicef_cpi/notebooks/data_cleaning_v2.ipynb Celda 143\u001b[0m in \u001b[0;36m<cell line: 14>\u001b[0;34m()\u001b[0m\n\u001b[1;32m     <a href='vscode-notebook-cell:/Users/johnf/Desktop/Work/InFoMM/DSSG/STC-UNICEF-DSSG/stc_unicef_cpi/notebooks/data_cleaning_v2.ipynb#ch0000224?line=10'>11</a>\u001b[0m hexes_ctry \u001b[39m=\u001b[39m np\u001b[39m.\u001b[39mconcatenate((hexes_ctry, outer_hexes))\n\u001b[1;32m     <a href='vscode-notebook-cell:/Users/johnf/Desktop/Work/InFoMM/DSSG/STC-UNICEF-DSSG/stc_unicef_cpi/notebooks/data_cleaning_v2.ipynb#ch0000224?line=11'>12</a>\u001b[0m ctry \u001b[39m=\u001b[39m pd\u001b[39m.\u001b[39mDataFrame(hexes_ctry, columns\u001b[39m=\u001b[39m[\u001b[39m\"\u001b[39m\u001b[39mhex_code\u001b[39m\u001b[39m\"\u001b[39m])\n\u001b[0;32m---> <a href='vscode-notebook-cell:/Users/johnf/Desktop/Work/InFoMM/DSSG/STC-UNICEF-DSSG/stc_unicef_cpi/notebooks/data_cleaning_v2.ipynb#ch0000224?line=13'>14</a>\u001b[0m econ \u001b[39m=\u001b[39m pg\u001b[39m.\u001b[39;49magg_tif_to_df(\n\u001b[1;32m     <a href='vscode-notebook-cell:/Users/johnf/Desktop/Work/InFoMM/DSSG/STC-UNICEF-DSSG/stc_unicef_cpi/notebooks/data_cleaning_v2.ipynb#ch0000224?line=14'>15</a>\u001b[0m     ctry,\n\u001b[1;32m     <a href='vscode-notebook-cell:/Users/johnf/Desktop/Work/InFoMM/DSSG/STC-UNICEF-DSSG/stc_unicef_cpi/notebooks/data_cleaning_v2.ipynb#ch0000224?line=15'>16</a>\u001b[0m     econ_files,\n\u001b[1;32m     <a href='vscode-notebook-cell:/Users/johnf/Desktop/Work/InFoMM/DSSG/STC-UNICEF-DSSG/stc_unicef_cpi/notebooks/data_cleaning_v2.ipynb#ch0000224?line=16'>17</a>\u001b[0m     resolution\u001b[39m=\u001b[39;49mres,\n\u001b[1;32m     <a href='vscode-notebook-cell:/Users/johnf/Desktop/Work/InFoMM/DSSG/STC-UNICEF-DSSG/stc_unicef_cpi/notebooks/data_cleaning_v2.ipynb#ch0000224?line=17'>18</a>\u001b[0m     rm_prefix\u001b[39m=\u001b[39;49m\u001b[39mrf\u001b[39;49m\u001b[39m\"\u001b[39;49m\u001b[39mcpi|_|\u001b[39;49m\u001b[39m{\u001b[39;49;00mcountry\u001b[39m.\u001b[39;49mlower()\u001b[39m}\u001b[39;49;00m\u001b[39m|500\u001b[39;49m\u001b[39m\"\u001b[39;49m,\n\u001b[1;32m     <a href='vscode-notebook-cell:/Users/johnf/Desktop/Work/InFoMM/DSSG/STC-UNICEF-DSSG/stc_unicef_cpi/notebooks/data_cleaning_v2.ipynb#ch0000224?line=18'>19</a>\u001b[0m     verbose\u001b[39m=\u001b[39;49m\u001b[39mTrue\u001b[39;49;00m,\n\u001b[1;32m     <a href='vscode-notebook-cell:/Users/johnf/Desktop/Work/InFoMM/DSSG/STC-UNICEF-DSSG/stc_unicef_cpi/notebooks/data_cleaning_v2.ipynb#ch0000224?line=19'>20</a>\u001b[0m )\n",
      "File \u001b[0;32m~/Desktop/Work/InFoMM/DSSG/STC-UNICEF-DSSG/stc_unicef_cpi/src/stc_unicef_cpi/data/process_geotiff.py:519\u001b[0m, in \u001b[0;36magg_tif_to_df\u001b[0;34m(df, tiff_dir, rm_prefix, agg_fn, max_records, replace_old, resolution, verbose)\u001b[0m\n\u001b[1;32m    517\u001b[0m             tmp \u001b[39m=\u001b[39m ddf\u001b[39m.\u001b[39mcompute()\n\u001b[1;32m    518\u001b[0m \u001b[39melse\u001b[39;00m:\n\u001b[0;32m--> 519\u001b[0m     tmp[\u001b[39m\"\u001b[39m\u001b[39mhex_code\u001b[39m\u001b[39m\"\u001b[39m] \u001b[39m=\u001b[39m tmp[[\u001b[39m\"\u001b[39m\u001b[39mlatitude\u001b[39m\u001b[39m\"\u001b[39m, \u001b[39m\"\u001b[39m\u001b[39mlongitude\u001b[39m\u001b[39m\"\u001b[39m]]\u001b[39m.\u001b[39mswifter\u001b[39m.\u001b[39mapply(\n\u001b[1;32m    520\u001b[0m         \u001b[39mlambda\u001b[39;00m row: h3\u001b[39m.\u001b[39mgeo_to_h3(row[\u001b[39m\"\u001b[39m\u001b[39mlatitude\u001b[39m\u001b[39m\"\u001b[39m], row[\u001b[39m\"\u001b[39m\u001b[39mlongitude\u001b[39m\u001b[39m\"\u001b[39m], resolution),\n\u001b[1;32m    521\u001b[0m         axis\u001b[39m=\u001b[39m\u001b[39m1\u001b[39m,\n\u001b[1;32m    522\u001b[0m     )\n\u001b[1;32m    523\u001b[0m     tmp\u001b[39m.\u001b[39mdrop(columns\u001b[39m=\u001b[39m[\u001b[39m\"\u001b[39m\u001b[39mlatitude\u001b[39m\u001b[39m\"\u001b[39m, \u001b[39m\"\u001b[39m\u001b[39mlongitude\u001b[39m\u001b[39m\"\u001b[39m], inplace\u001b[39m=\u001b[39m\u001b[39mTrue\u001b[39;00m)\n\u001b[1;32m    524\u001b[0m     \u001b[39mprint\u001b[39m(\u001b[39m\"\u001b[39m\u001b[39mDone!\u001b[39m\u001b[39m\"\u001b[39m)\n",
      "File \u001b[0;32m~/opt/miniconda3/envs/dssg/lib/python3.9/site-packages/pandas/core/frame.py:3645\u001b[0m, in \u001b[0;36mDataFrame.__setitem__\u001b[0;34m(self, key, value)\u001b[0m\n\u001b[1;32m   3643\u001b[0m     \u001b[39mself\u001b[39m\u001b[39m.\u001b[39m_setitem_array(key, value)\n\u001b[1;32m   3644\u001b[0m \u001b[39melif\u001b[39;00m \u001b[39misinstance\u001b[39m(value, DataFrame):\n\u001b[0;32m-> 3645\u001b[0m     \u001b[39mself\u001b[39;49m\u001b[39m.\u001b[39;49m_set_item_frame_value(key, value)\n\u001b[1;32m   3646\u001b[0m \u001b[39melif\u001b[39;00m (\n\u001b[1;32m   3647\u001b[0m     is_list_like(value)\n\u001b[1;32m   3648\u001b[0m     \u001b[39mand\u001b[39;00m \u001b[39mnot\u001b[39;00m \u001b[39mself\u001b[39m\u001b[39m.\u001b[39mcolumns\u001b[39m.\u001b[39mis_unique\n\u001b[1;32m   3649\u001b[0m     \u001b[39mand\u001b[39;00m \u001b[39m1\u001b[39m \u001b[39m<\u001b[39m \u001b[39mlen\u001b[39m(\u001b[39mself\u001b[39m\u001b[39m.\u001b[39mcolumns\u001b[39m.\u001b[39mget_indexer_for([key])) \u001b[39m==\u001b[39m \u001b[39mlen\u001b[39m(value)\n\u001b[1;32m   3650\u001b[0m ):\n\u001b[1;32m   3651\u001b[0m     \u001b[39m# Column to set is duplicated\u001b[39;00m\n\u001b[1;32m   3652\u001b[0m     \u001b[39mself\u001b[39m\u001b[39m.\u001b[39m_setitem_array([key], value)\n",
      "File \u001b[0;32m~/opt/miniconda3/envs/dssg/lib/python3.9/site-packages/pandas/core/frame.py:3788\u001b[0m, in \u001b[0;36mDataFrame._set_item_frame_value\u001b[0;34m(self, key, value)\u001b[0m\n\u001b[1;32m   3786\u001b[0m \u001b[39m# now align rows\u001b[39;00m\n\u001b[1;32m   3787\u001b[0m arraylike \u001b[39m=\u001b[39m _reindex_for_setitem(value, \u001b[39mself\u001b[39m\u001b[39m.\u001b[39mindex)\n\u001b[0;32m-> 3788\u001b[0m \u001b[39mself\u001b[39;49m\u001b[39m.\u001b[39;49m_set_item_mgr(key, arraylike)\n",
      "File \u001b[0;32m~/opt/miniconda3/envs/dssg/lib/python3.9/site-packages/pandas/core/frame.py:3802\u001b[0m, in \u001b[0;36mDataFrame._set_item_mgr\u001b[0;34m(self, key, value)\u001b[0m\n\u001b[1;32m   3799\u001b[0m     loc \u001b[39m=\u001b[39m \u001b[39mself\u001b[39m\u001b[39m.\u001b[39m_info_axis\u001b[39m.\u001b[39mget_loc(key)\n\u001b[1;32m   3800\u001b[0m \u001b[39mexcept\u001b[39;00m \u001b[39mKeyError\u001b[39;00m:\n\u001b[1;32m   3801\u001b[0m     \u001b[39m# This item wasn't present, just insert at end\u001b[39;00m\n\u001b[0;32m-> 3802\u001b[0m     \u001b[39mself\u001b[39;49m\u001b[39m.\u001b[39;49m_mgr\u001b[39m.\u001b[39;49minsert(\u001b[39mlen\u001b[39;49m(\u001b[39mself\u001b[39;49m\u001b[39m.\u001b[39;49m_info_axis), key, value)\n\u001b[1;32m   3803\u001b[0m \u001b[39melse\u001b[39;00m:\n\u001b[1;32m   3804\u001b[0m     \u001b[39mself\u001b[39m\u001b[39m.\u001b[39m_iset_item_mgr(loc, value)\n",
      "File \u001b[0;32m~/opt/miniconda3/envs/dssg/lib/python3.9/site-packages/pandas/core/internals/managers.py:1235\u001b[0m, in \u001b[0;36mBlockManager.insert\u001b[0;34m(self, loc, item, value)\u001b[0m\n\u001b[1;32m   1233\u001b[0m     value \u001b[39m=\u001b[39m value\u001b[39m.\u001b[39mT\n\u001b[1;32m   1234\u001b[0m     \u001b[39mif\u001b[39;00m \u001b[39mlen\u001b[39m(value) \u001b[39m>\u001b[39m \u001b[39m1\u001b[39m:\n\u001b[0;32m-> 1235\u001b[0m         \u001b[39mraise\u001b[39;00m \u001b[39mValueError\u001b[39;00m(\n\u001b[1;32m   1236\u001b[0m             \u001b[39mf\u001b[39m\u001b[39m\"\u001b[39m\u001b[39mExpected a 1D array, got an array with shape \u001b[39m\u001b[39m{\u001b[39;00mvalue\u001b[39m.\u001b[39mT\u001b[39m.\u001b[39mshape\u001b[39m}\u001b[39;00m\u001b[39m\"\u001b[39m\n\u001b[1;32m   1237\u001b[0m         )\n\u001b[1;32m   1238\u001b[0m \u001b[39melse\u001b[39;00m:\n\u001b[1;32m   1239\u001b[0m     value \u001b[39m=\u001b[39m ensure_block_shape(value, ndim\u001b[39m=\u001b[39m\u001b[39mself\u001b[39m\u001b[39m.\u001b[39mndim)\n",
      "\u001b[0;31mValueError\u001b[0m: Expected a 1D array, got an array with shape (0, 2)"
     ]
    }
   ],
   "source": [
    "import glob\n",
    "import stc_unicef_cpi.utils.geospatial as geo  \n",
    "save_dir = '../data/interim'\n",
    "country = 'Nigeria'\n",
    "econ_files = glob.glob(str(Path(save_dir) / f\"{country.lower()}*.tif\"))\n",
    "    # econ_files = [ele for ele in econ_files if \"ppp\" not in ele]\n",
    "res = 7\n",
    "hexes_ctry = geo.get_hexes_for_ctry(country, res)\n",
    "# expand by 2 hexes to ensure covers all data\n",
    "outer_hexes = geo.get_new_nbrs_at_k(hexes_ctry, 2)\n",
    "hexes_ctry = np.concatenate((hexes_ctry, outer_hexes))\n",
    "ctry = pd.DataFrame(hexes_ctry, columns=[\"hex_code\"])\n",
    "\n",
    "econ = pg.agg_tif_to_df(\n",
    "    ctry,\n",
    "    econ_files,\n",
    "    resolution=res,\n",
    "    rm_prefix=rf\"cpi|_|{country.lower()}|500\",\n",
    "    verbose=True,\n",
    ")"
   ]
  },
  {
   "cell_type": "code",
   "execution_count": 133,
   "metadata": {},
   "outputs": [
    {
     "data": {
      "text/plain": [
       "['../data/interim/nigeria_africa.tif',\n",
       " '../data/interim/nigeria_gdp_ppp_30.tif',\n",
       " '../data/interim/nigeria_ec2019.tif',\n",
       " '../data/interim/nigeria_2019gdp.tif']"
      ]
     },
     "execution_count": 133,
     "metadata": {},
     "output_type": "execute_result"
    }
   ],
   "source": [
    "econ_files"
   ]
  },
  {
   "cell_type": "code",
   "execution_count": null,
   "metadata": {},
   "outputs": [],
   "source": [
    "import rasterio\n",
    "# with rasterio.open('../data/interim/nigeria_ec2019.tif') as rast_file:\n",
    "# with rasterio.open('../data/interim/nigeria_2019gdp.tif') as rast_file:\n",
    "with rasterio.open('../data/interim/nigeria_gdp_ppp_30.tif') as rast_file:\n",
    "    tmp = rast_file.read(1)\n",
    "    plt.imshow(np.log(tmp - tmp.min() + 1)) \n",
    "    plt.show()"
   ]
  },
  {
   "cell_type": "code",
   "execution_count": 147,
   "metadata": {},
   "outputs": [],
   "source": [
    "read_dir = '../data/external' \n",
    "econ_tiffs = sorted(glob.glob(str(Path(read_dir) / f\"{country.lower()}_*.tif\")))\n",
    "econ_tiffs = [ele for ele in econ_tiffs if \"africa\" not in ele] \n"
   ]
  },
  {
   "cell_type": "code",
   "execution_count": 148,
   "metadata": {},
   "outputs": [
    {
     "data": {
      "text/plain": [
       "['../data/external/nigeria_2019gdp.tif',\n",
       " '../data/external/nigeria_ec2019.tif',\n",
       " '../data/external/nigeria_gdp_ppp_30.tif']"
      ]
     },
     "execution_count": 148,
     "metadata": {},
     "output_type": "execute_result"
    }
   ],
   "source": [
    "econ_tiffs"
   ]
  },
  {
   "cell_type": "code",
   "execution_count": 3,
   "metadata": {},
   "outputs": [
    {
     "ename": "NameError",
     "evalue": "name 'int_dir' is not defined",
     "output_type": "error",
     "traceback": [
      "\u001b[0;31m---------------------------------------------------------------------------\u001b[0m",
      "\u001b[0;31mNameError\u001b[0m                                 Traceback (most recent call last)",
      "\u001b[1;32m/Users/johnf/Desktop/Work/InFoMM/DSSG/STC-UNICEF-DSSG/stc_unicef_cpi/notebooks/data_cleaning_v2.ipynb Celda 150\u001b[0m in \u001b[0;36m<cell line: 5>\u001b[0;34m()\u001b[0m\n\u001b[1;32m      <a href='vscode-notebook-cell:/Users/johnf/Desktop/Work/InFoMM/DSSG/STC-UNICEF-DSSG/stc_unicef_cpi/notebooks/data_cleaning_v2.ipynb#ch0000212?line=2'>3</a>\u001b[0m \u001b[39mfrom\u001b[39;00m \u001b[39mpyproj\u001b[39;00m \u001b[39mimport\u001b[39;00m Transformer\n\u001b[1;32m      <a href='vscode-notebook-cell:/Users/johnf/Desktop/Work/InFoMM/DSSG/STC-UNICEF-DSSG/stc_unicef_cpi/notebooks/data_cleaning_v2.ipynb#ch0000212?line=3'>4</a>\u001b[0m resolution \u001b[39m=\u001b[39m \u001b[39m7\u001b[39m\n\u001b[0;32m----> <a href='vscode-notebook-cell:/Users/johnf/Desktop/Work/InFoMM/DSSG/STC-UNICEF-DSSG/stc_unicef_cpi/notebooks/data_cleaning_v2.ipynb#ch0000212?line=4'>5</a>\u001b[0m \u001b[39mwith\u001b[39;00m rasterio\u001b[39m.\u001b[39mopen(int_dir\u001b[39m.\u001b[39mparent \u001b[39m/\u001b[39m \u001b[39m\"\u001b[39m\u001b[39mexternal\u001b[39m\u001b[39m\"\u001b[39m \u001b[39m/\u001b[39m \u001b[39m\"\u001b[39m\u001b[39mgee\u001b[39m\u001b[39m\"\u001b[39m \u001b[39m/\u001b[39m \u001b[39m\"\u001b[39m\u001b[39mcpi_poptotal_nigeria_500.tif\u001b[39m\u001b[39m\"\u001b[39m) \u001b[39mas\u001b[39;00m raster:\n\u001b[1;32m      <a href='vscode-notebook-cell:/Users/johnf/Desktop/Work/InFoMM/DSSG/STC-UNICEF-DSSG/stc_unicef_cpi/notebooks/data_cleaning_v2.ipynb#ch0000212?line=5'>6</a>\u001b[0m     band_names \u001b[39m=\u001b[39m np\u001b[39m.\u001b[39marray(raster\u001b[39m.\u001b[39mdescriptions)\n\u001b[1;32m      <a href='vscode-notebook-cell:/Users/johnf/Desktop/Work/InFoMM/DSSG/STC-UNICEF-DSSG/stc_unicef_cpi/notebooks/data_cleaning_v2.ipynb#ch0000212?line=6'>7</a>\u001b[0m     nbands \u001b[39m=\u001b[39m \u001b[39mlen\u001b[39m(band_names)\n",
      "\u001b[0;31mNameError\u001b[0m: name 'int_dir' is not defined"
     ]
    }
   ],
   "source": [
    "import rasterio\n",
    "from affine import Affine\n",
    "from pyproj import Transformer\n",
    "resolution = 7\n",
    "with rasterio.open(int_dir.parent / \"external\" / \"gee\" / \"cpi_poptotal_nigeria_500.tif\") as raster:\n",
    "    band_names = np.array(raster.descriptions)\n",
    "    nbands = len(band_names)\n",
    "    ctr = 0\n",
    "    # get pixel coords\n",
    "    T0 = raster.transform  # upper-left pixel corner affine transform\n",
    "    # Get affine transform for pixel centres\n",
    "    T1 = T0 * Affine.translation(0.5, 0.5)\n",
    "    # Function to convert pixel row/column index (from 0) to easting/northing at centre\n",
    "    rc2en = lambda r, c: T1 * (c, r)\n",
    "    tmp = raster.read(1)\n",
    "    # # All rows and columns\n",
    "    cols, rows = np.meshgrid(np.arange(tmp.shape[1]), np.arange(tmp.shape[0]))\n",
    "    del tmp\n",
    "    # # All eastings and northings (there is probably a faster way to do this)\n",
    "    eastings, northings = np.vectorize(rc2en, otypes=[float, float])(rows, cols)\n",
    "    transformer = Transformer.from_crs(raster.crs, \"WGS84\")\n",
    "    longs, lats = transformer.transform(eastings, northings)\n",
    "    del eastings, northings\n",
    "    latlongs = np.dstack((lats, longs))\n",
    "    \n",
    "    hex_codes = np.apply_along_axis(\n",
    "        lambda x: h3.geo_to_h3(*x, resolution),\n",
    "        axis=-1,\n",
    "        arr=latlongs,\n",
    "    )\n",
    "    # plt.imshow(tmp) \n",
    "    # plt.show()"
   ]
  },
  {
   "cell_type": "code",
   "execution_count": 7,
   "metadata": {},
   "outputs": [
    {
     "data": {
      "text/plain": [
       "(2145, 2675, 2)"
      ]
     },
     "execution_count": 7,
     "metadata": {},
     "output_type": "execute_result"
    }
   ],
   "source": [
    "latlongs.shape"
   ]
  },
  {
   "cell_type": "code",
   "execution_count": 19,
   "metadata": {},
   "outputs": [
    {
     "data": {
      "image/png": "[encoded data removed]",
      "text/plain": [
       "<Figure size 900x600 with 1 Axes>"
      ]
     },
     "metadata": {
      "needs_background": "light"
     },
     "output_type": "display_data"
    }
   ],
   "source": [
    "N = 1000 \n",
    "subset_idx = np.random.choice(len(latlongs[...,0].flatten()),size=N) \n",
    "\n",
    "subset=latlongs.reshape(-1,2)[subset_idx,:]\n",
    "\n",
    "fig,ax = plt.subplots(dpi=150) \n",
    "plt.scatter(subset[:,1],subset[:,0],c=~np.isnan(tmp).flatten()[subset_idx]) \n",
    "plt.show()"
   ]
  },
  {
   "cell_type": "code",
   "execution_count": 153,
   "metadata": {},
   "outputs": [],
   "source": [
    "import cartopy.io.shapereader as shpreader\n",
    "\n",
    "shpfilename = shpreader.natural_earth(resolution='10m',\n",
    "                                      category='cultural',\n",
    "                                      name='admin_0_countries')\n",
    "reader = shpreader.Reader(shpfilename)\n",
    "countries = reader.records()\n",
    "\n",
    "ctry_name = \"Nigeria\" \n",
    "\n",
    "ctry_shp = next(filter(lambda x: x.attributes['NAME']==ctry_name,countries)) "
   ]
  },
  {
   "cell_type": "code",
   "execution_count": null,
   "metadata": {},
   "outputs": [],
   "source": []
  }
 ],
 "metadata": {
  "kernelspec": {
   "display_name": "Python 3.9.13 ('dssg')",
   "language": "python",
   "name": "python3"
  },
  "language_info": {
   "codemirror_mode": {
    "name": "ipython",
    "version": 3
   },
   "file_extension": ".py",
   "mimetype": "text/x-python",
   "name": "python",
   "nbconvert_exporter": "python",
   "pygments_lexer": "ipython3",
   "version": "3.9.13"
  },
  "orig_nbformat": 4,
  "vscode": {
   "interpreter": {
    "hash": "0f1782bcc73560fcc6b67876a5451350856d869ba7693416f130e3e93ce636f3"
   }
  }
 },
 "nbformat": 4,
 "nbformat_minor": 2
}
