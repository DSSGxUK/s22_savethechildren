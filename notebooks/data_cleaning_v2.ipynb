{
 "cells": [
  {
   "cell_type": "code",
   "execution_count": null,
   "metadata": {},
   "outputs": [],
   "source": [
    "%load_ext autoreload  \n",
    "%autoreload 2"
   ]
  },
  {
   "cell_type": "code",
   "execution_count": null,
   "metadata": {},
   "outputs": [],
   "source": [
    "import pandas as pd\n",
    "import geopandas as gpd\n",
    "import swifter\n",
    "\n",
    "pd.set_option(\"display.max_columns\", None)\n",
    "import numpy as np\n",
    "import matplotlib.pyplot as plt\n",
    "import stc_unicef_cpi.data.process_geotiff as pg\n",
    "import h3.api.numpy_int as h3\n",
    "\n",
    "from pathlib import Path\n"
   ]
  },
  {
   "cell_type": "code",
   "execution_count": null,
   "metadata": {},
   "outputs": [],
   "source": [
    "base_dir = Path(\"/Users/johnf/Downloads/higher_res_dssg/\")\n",
    "tiff_dir = base_dir / \"500m_res\"\n",
    "econ_dir = base_dir / \"econ\"\n",
    "clean_base = base_dir / \"nga_clean_v2.csv\"\n",
    "rwi_path = base_dir / \"NGA_relative_wealth_index.csv\"\n",
    "comm_zns = base_dir / \"commuting-zones-bdrys.csv\"\n",
    "connectivity_dir = base_dir / \"connectivity\"\n",
    "fb_conn = connectivity_dir / \"fb_nigeria.csv\"\n",
    "\n",
    "int_dir = Path(\"../data/interim/\")\n",
    "\n"
   ]
  },
  {
   "cell_type": "markdown",
   "metadata": {},
   "source": [
    "# Look at survey counts by country"
   ]
  },
  {
   "cell_type": "code",
   "execution_count": null,
   "metadata": {},
   "outputs": [],
   "source": [
    "all_data = pd.read_csv('../data/raw/childpoverty_microdata_gps_21jun22.csv') "
   ]
  },
  {
   "cell_type": "code",
   "execution_count": null,
   "metadata": {},
   "outputs": [],
   "source": [
    "import pycountry \n",
    "\n",
    "country = \"ghana\"\n",
    "country = pycountry.countries.search_fuzzy(country)[0]\n",
    "country_name = country.name \n",
    "country_code = country.alpha_3 "
   ]
  },
  {
   "cell_type": "code",
   "execution_count": null,
   "metadata": {},
   "outputs": [],
   "source": [
    "country_code"
   ]
  },
  {
   "cell_type": "code",
   "execution_count": null,
   "metadata": {},
   "outputs": [],
   "source": [
    "all_data.dropna(subset=['LATNUM','LONGNUM'],inplace=True)"
   ]
  },
  {
   "cell_type": "code",
   "execution_count": null,
   "metadata": {},
   "outputs": [],
   "source": [
    "import geopandas as gpd\n",
    "world = gpd.read_file(gpd.datasets.get_path(\"naturalearth_lowres\"))"
   ]
  },
  {
   "cell_type": "code",
   "execution_count": null,
   "metadata": {},
   "outputs": [],
   "source": [
    "world[world.name == country_name]"
   ]
  },
  {
   "cell_type": "code",
   "execution_count": null,
   "metadata": {},
   "outputs": [],
   "source": [
    "ctry_cnts = all_data.countrycode.value_counts()\n",
    "_idx = ctry_cnts.index.tolist() \n",
    "conts = [world[world.iso_a3==idx].continent.values[0] if len(world[world.iso_a3==idx].name)>0 else idx for idx in _idx] \n",
    "_idx = [world[world.iso_a3==idx].name.values[0] if len(world[world.iso_a3==idx].name)>0 else idx for idx in _idx] \n",
    "ctry_cnts = pd.DataFrame(ctry_cnts)\n",
    "ctry_cnts['continent'] = conts \n",
    "ctry_cnts.index = _idx\n",
    "ctry_cnts.head()"
   ]
  },
  {
   "cell_type": "code",
   "execution_count": null,
   "metadata": {},
   "outputs": [],
   "source": [
    "import seaborn as sns\n",
    "fig,ax = plt.subplots(dpi=200)\n",
    "sns.barplot(data=ctry_cnts[ctry_cnts.continent=='Africa'],x=ctry_cnts[ctry_cnts.continent=='Africa'].index,y='countrycode',ax=ax)\n",
    "ax.set_ylabel('No. surveys')\n",
    "ax.set_xlabel('Country')\n",
    "ax.set_xticklabels(ax.get_xticklabels(), rotation=40, ha='right')\n",
    "plt.show()"
   ]
  },
  {
   "cell_type": "code",
   "execution_count": null,
   "metadata": {},
   "outputs": [],
   "source": [
    "fig,ax = plt.subplots(dpi=200)\n",
    "ctry_cnts.plot.bar()\n",
    "plt.show()"
   ]
  },
  {
   "cell_type": "markdown",
   "metadata": {},
   "source": [
    "# Gen rows for model training params"
   ]
  },
  {
   "cell_type": "code",
   "execution_count": null,
   "metadata": {},
   "outputs": [],
   "source": [
    "c1 = np.array([\"all\", \"nigeria\", \"senegal\"])\n",
    "c2 = np.array([\"normal\", \"stratified\", \"spatial\"])\n",
    "c3 = np.array([\"all\", \"health\", \"nutrition\",\"av-3-prevalence\",\n",
    "            \"av-4-prevalence\",])\n",
    "c4 = np.array([\"none\", \"mean\", \"median\", \"knn\", \"linear\", \"rf\"])\n",
    "c5 = np.array([\"none\", \"standard\", \"minmax\", \"robust\"])\n",
    "c6 = np.array([\"none\", \"log\", \"power\"])\n",
    "c7 = np.array([\"normal\", \"stratified\", \"spatial\"])\n",
    "c8 = np.array([\"true\", \"false\"])\n",
    "c9 = np.array([\"true\", \"false\"])\n",
    "c10 = np.array([\"true\", \"false\"])\n",
    "\n",
    "# all, spatial, all, median, robust, none, normal, true, true, true (?)\n",
    "\n",
    "params = np.array(np.meshgrid(c1, c2, c3, c4, c5, c6, c7, c8, c9, c10)).T.reshape(-1, 10)\n",
    "# np.savetxt('../src/stc_unicef_cpi/models/clean_params.txt',params,delimiter=' ',fmt='%s')"
   ]
  },
  {
   "cell_type": "code",
   "execution_count": null,
   "metadata": {},
   "outputs": [],
   "source": [
    "params.shape"
   ]
  },
  {
   "cell_type": "markdown",
   "metadata": {},
   "source": [
    "# Spatial CV tests"
   ]
  },
  {
   "cell_type": "code",
   "execution_count": null,
   "metadata": {},
   "outputs": [],
   "source": [
    "from stc_unicef_cpi.data.cv_loaders import cv_split  \n",
    "\n",
    "world = gpd.read_file(gpd.datasets.get_path(\"naturalearth_lowres\"))\n",
    "nga = world[world.name == \"Nigeria\"].geometry.__geo_interface__['features'][0]['geometry']\n",
    "nga_hex = h3.polyfill(nga,res=7)"
   ]
  },
  {
   "cell_type": "code",
   "execution_count": null,
   "metadata": {},
   "outputs": [],
   "source": [
    "base_dir = Path(\"/Users/johnf/Downloads/higher_res_dssg/\")\n",
    "all_data = base_dir / \"clean_nga_w_autov1.csv\"\n",
    "thr_data = base_dir / \"nga_clean_v2_thr30.csv\"\n",
    "all_df = pd.read_csv(all_data)\n",
    "all_df[\"name_commuting_zone\"] = all_df[\"name_commuting_zone\"].astype(\"category\")\n",
    "thr_df = pd.read_csv(thr_data)\n",
    "thr_all = all_df.set_index(\"hex_code\").loc[thr_df.hex_code].reset_index()\n"
   ]
  },
  {
   "cell_type": "code",
   "execution_count": null,
   "metadata": {},
   "outputs": [],
   "source": [
    "import seaborn as sns\n",
    "\n",
    "k = 10\n",
    "N = 1000\n",
    "samp_hex = np.random.choice(thr_all[\"hex_code\"], size=N, replace=False)\n",
    "labels = np.random.rand(N)\n",
    "folds = cv_split(samp_hex, labels=labels, k=k, mode=\"spatial\")\n",
    "# sns.distplot(folds,kde=False, bins=k)\n",
    "fig, ax = plt.subplots(dpi=150)\n",
    "latlongs = np.array([h3.h3_to_geo(hex) for hex in samp_hex])\n",
    "for _, test_idxs in folds:\n",
    "    ax.scatter(latlongs[test_idxs, 1], latlongs[test_idxs, 0])\n",
    "plt.show()\n"
   ]
  },
  {
   "cell_type": "code",
   "execution_count": null,
   "metadata": {},
   "outputs": [],
   "source": [
    "from stc_unicef_cpi.data.cv_loaders import HexSpatialKFold\n",
    "\n",
    "latlongs = np.array([h3.h3_to_geo(hex) for hex in samp_hex])\n",
    "for train_idx, test_idx in HexSpatialKFold().split(samp_hex, labels):\n",
    "    fig, ax = plt.subplots(dpi=150)\n",
    "    ax.scatter(latlongs[train_idx, 1], latlongs[train_idx, 0], c=\"g\")\n",
    "    ax.scatter(latlongs[test_idx, 1], latlongs[test_idx, 0], c=\"r\")\n",
    "    plt.show()\n"
   ]
  },
  {
   "cell_type": "markdown",
   "metadata": {},
   "source": [
    "# Connectivity data"
   ]
  },
  {
   "cell_type": "code",
   "execution_count": null,
   "metadata": {},
   "outputs": [],
   "source": [
    "# import dask.dataframe as dd\n",
    "# from dask.delayed import delayed\n",
    "# parts = delayed(pd.read_excel)(connectivity_dir / 'cell_tower_nga.xlsx',\n",
    "#                                     sheet_name=0)\n",
    "# df = dd.from_delayed(parts)\n",
    "nga_cell_df = pd.read_excel(connectivity_dir / \"cell_tower_nga.xlsx\", sheet_name=0)\n"
   ]
  },
  {
   "cell_type": "code",
   "execution_count": null,
   "metadata": {},
   "outputs": [],
   "source": [
    "nga_cell_df.head()\n",
    "# will just want radio (generation category - want counts / cell if possible)\n",
    "# and possibly avg_signal, though generally 0\n",
    "# Most likely just overall count will be most useful\n"
   ]
  },
  {
   "cell_type": "code",
   "execution_count": null,
   "metadata": {},
   "outputs": [],
   "source": [
    "nga_cell_df[\"hex_code\"] = nga_cell_df[[\"lat\", \"long\"]].swifter.apply(\n",
    "    lambda x: h3.geo_to_h3(x[0], x[1], resolution=7), axis=1\n",
    ")\n"
   ]
  },
  {
   "cell_type": "code",
   "execution_count": null,
   "metadata": {},
   "outputs": [],
   "source": [
    "nga_cell_df = nga_cell_df[[\"hex_code\", \"radio\", \"avg_signal\"]]\n"
   ]
  },
  {
   "cell_type": "code",
   "execution_count": null,
   "metadata": {},
   "outputs": [],
   "source": [
    "nga_cell_df.groupby([\"hex_code\", \"radio\"]).size().unstack(level=1).fillna(0).join(\n",
    "    nga_cell_df.groupby(\"hex_code\").avg_signal.mean()\n",
    ").to_csv(connectivity_dir / \"nga_cell_clean.csv\")\n"
   ]
  },
  {
   "cell_type": "code",
   "execution_count": null,
   "metadata": {},
   "outputs": [],
   "source": [
    "import shapely.wkt\n",
    "\n",
    "# speed_df = dd.read_csv(connectivity_dir/\"speedtest_world.csv\",blocksize=25e6).set_index(\"Unnamed: 0\")  # 25MB chunks\n",
    "speed_df = pd.read_csv(Path('../data/external/connectivity') / \"2021-10-01_performance_mobile_tiles.csv\")\n",
    "# speed_df[\"geometry\"] = speed_df.geometry.swifter.apply(shapely.wkt.loads)\n",
    "ctry = \"Nigeria\" \n",
    "world = gpd.read_file(gpd.datasets.get_path(\"naturalearth_lowres\"))\n",
    "ctry = world[world.name == ctry]"
   ]
  },
  {
   "cell_type": "code",
   "execution_count": null,
   "metadata": {},
   "outputs": [],
   "source": [
    "speed_df.geometry.head()"
   ]
  },
  {
   "cell_type": "code",
   "execution_count": null,
   "metadata": {},
   "outputs": [],
   "source": [
    "# alt version\n",
    "bd_series = speed_df.geometry.str.replace(\"POLYGON\\s\\(+|\\)\",\"\").str.split(r\"\\s|,\\s\")\n",
    "speed_df['min_x'] = bd_series.str[1].astype('float')\n",
    "speed_df['max_y'] = bd_series.str[-1].astype('float')\n",
    "minx, miny, maxx, maxy = ctry.bounds.values.T.squeeze()\n",
    "res_df = speed_df[speed_df.min_x.between(minx-1e-2,maxx+1e-2)&speed_df.max_y.between(miny-1e-2,maxy+1e-2)].copy()\n",
    "res_df['geometry'] = res_df.geometry.swifter.apply(shapely.wkt.loads)\n",
    "res_df = gpd.GeoDataFrame(res_df, crs=\"epsg:4326\")\n",
    "\n",
    "nga_speed_df = gpd.sjoin(\n",
    "    res_df, ctry, how=\"inner\", op=\"intersects\"\n",
    ")\n"
   ]
  },
  {
   "cell_type": "code",
   "execution_count": null,
   "metadata": {},
   "outputs": [],
   "source": [
    "# original version \n",
    "speed_df[\"geometry\"] = speed_df.geometry.swifter.apply(shapely.wkt.loads)\n",
    "speed_df = gpd.GeoDataFrame(speed_df, crs=\"epsg:4326\")\n",
    "nga_speed_df = gpd.sjoin(\n",
    "    speed_df, ctry, how=\"inner\", op=\"intersects\"\n",
    ")\n"
   ]
  },
  {
   "cell_type": "code",
   "execution_count": null,
   "metadata": {},
   "outputs": [],
   "source": [
    "# def centroid_lat_from_shply(wkt_str):\n",
    "#     try:\n",
    "#         return shapely.wkt.loads(wkt_str).centroid.coords.xy[1]\n",
    "#     except:\n",
    "#         # assume wkt reading error\n",
    "#         return np.nan\n",
    "# def centroid_long_from_shply(wkt_str):\n",
    "#     try:\n",
    "#         return shapely.wkt.loads(wkt_str).centroid.coords.xy[0]\n",
    "#     except:\n",
    "#         # assume wkt reading error\n",
    "#         return np.nan\n",
    "\n",
    "# def centroid_latlong_from_shply(wkt_str):\n",
    "#     try:\n",
    "#         return np.array(shapely.wkt.loads(wkt_str).centroid.coords.xy).flatten()\n",
    "#     except:\n",
    "#         # assume wkt reading error\n",
    "#         return np.array([np.nan,np.nan])\n",
    "\n",
    "# # speed_df['lat'] = speed_df.geometry.apply(centroid_lat_from_shply, meta=('geometry', float))\n",
    "# # speed_df['long'] = speed_df.geometry.apply(centroid_long_from_shply, meta=('geometry', float))\n",
    "# # speed_df[['lat','long']] = speed_df.geometry.swifter.apply(centroid_latlong_from_shply)\n",
    "# speed_df['lat'] = speed_df.geometry.swifter.apply(centroid_lat_from_shply)\n"
   ]
  },
  {
   "cell_type": "code",
   "execution_count": null,
   "metadata": {},
   "outputs": [],
   "source": [
    "tmp = nga_speed_df.geometry.swifter.apply(\n",
    "    lambda x: pd.Series(np.array(x.centroid.coords.xy).flatten())\n",
    ")\n"
   ]
  },
  {
   "cell_type": "code",
   "execution_count": null,
   "metadata": {},
   "outputs": [],
   "source": [
    "nga_speed_df[[\"long\", \"lat\"]] = tmp\n"
   ]
  },
  {
   "cell_type": "code",
   "execution_count": null,
   "metadata": {},
   "outputs": [],
   "source": [
    "nga_speed_df[\"hex_code\"] = nga_speed_df[[\"lat\", \"long\"]].swifter.apply(\n",
    "    lambda row: h3.geo_to_h3(row[0], row[1], 7), axis=1\n",
    ")\n"
   ]
  },
  {
   "cell_type": "code",
   "execution_count": null,
   "metadata": {},
   "outputs": [],
   "source": [
    "nga_speed_df.to_csv(connectivity_dir / \"speedtest_nga.csv\", index=False)\n"
   ]
  },
  {
   "cell_type": "markdown",
   "metadata": {},
   "source": [
    "# Main data"
   ]
  },
  {
   "cell_type": "code",
   "execution_count": null,
   "metadata": {},
   "outputs": [],
   "source": [
    "nga_df = pd.read_csv(clean_base)\n"
   ]
  },
  {
   "cell_type": "code",
   "execution_count": null,
   "metadata": {},
   "outputs": [],
   "source": [
    "nga_cell_df = pd.read_csv(connectivity_dir / \"nga_cell_clean.csv\")\n",
    "nga_speed_df = pd.read_csv(connectivity_dir / \"speedtest_nga.csv\")\n"
   ]
  },
  {
   "cell_type": "code",
   "execution_count": null,
   "metadata": {},
   "outputs": [],
   "source": [
    "nga_speed_df.head()\n"
   ]
  },
  {
   "cell_type": "code",
   "execution_count": null,
   "metadata": {},
   "outputs": [],
   "source": [
    "plt.scatter(nga_speed_df.long, nga_speed_df.lat)\n",
    "plt.show()\n"
   ]
  },
  {
   "cell_type": "code",
   "execution_count": null,
   "metadata": {},
   "outputs": [],
   "source": [
    "nga_speed_df = (\n",
    "    nga_speed_df[\n",
    "        [\"hex_code\", \"avg_d_kbps\", \"avg_u_kbps\", \"avg_lat_ms\", \"tests\", \"devices\"]\n",
    "    ]\n",
    "    .groupby(\"hex_code\")\n",
    "    .agg(\n",
    "        {\n",
    "            \"avg_d_kbps\": \"mean\",\n",
    "            \"avg_u_kbps\": \"mean\",\n",
    "            \"avg_lat_ms\": \"mean\",\n",
    "            \"tests\": \"sum\",\n",
    "            \"devices\": \"sum\",\n",
    "        }\n",
    "    )\n",
    ")\n"
   ]
  },
  {
   "cell_type": "code",
   "execution_count": null,
   "metadata": {},
   "outputs": [],
   "source": [
    "new_nga_df = nga_df.join(\n",
    "    nga_cell_df.set_index(\"hex_code\"), on=[\"hex_code\"], how=\"left\"\n",
    ").join(nga_speed_df, on=\"hex_code\", how=\"left\")\n",
    "# new_nga_df.iloc[:, 92:].fillna(0, inplace=True)\n"
   ]
  },
  {
   "cell_type": "code",
   "execution_count": null,
   "metadata": {},
   "outputs": [],
   "source": [
    "new_nga_df.n_conflicts.fillna(0, inplace=True)\n"
   ]
  },
  {
   "cell_type": "code",
   "execution_count": null,
   "metadata": {},
   "outputs": [],
   "source": [
    "new_nga_df.head()\n"
   ]
  },
  {
   "cell_type": "markdown",
   "metadata": {},
   "source": [
    "# Reproject CISI data and add in again "
   ]
  },
  {
   "cell_type": "code",
   "execution_count": null,
   "metadata": {},
   "outputs": [],
   "source": [
    "from stc_unicef_cpi.data import process_geotiff as pg\n",
    "\n",
    "cisi_dir = Path(\"/Users/johnf/Downloads/higher_res_dssg/CISI/010_degree\")\n",
    "pg.clip_tif_to_ctry(\n",
    "    \"/Users/johnf/Downloads/higher_res_dssg/CISI/010_degree/global.tif\",\n",
    "    ctry_name=\"Senegal\",\n",
    "    save_dir=None,\n",
    ")\n"
   ]
  },
  {
   "cell_type": "code",
   "execution_count": null,
   "metadata": {},
   "outputs": [],
   "source": [
    "pg.rxr_reproject_tiff_to_target(\n",
    "    base_dir / \"Nigeria_africa_cisi.tif\",\n",
    "    tiff_dir / \"cpiPopData_500.tif\",\n",
    "    dest_path=base_dir / \"nga_cisi.tif\",\n",
    "    verbose=True,\n",
    ")\n"
   ]
  },
  {
   "cell_type": "code",
   "execution_count": null,
   "metadata": {},
   "outputs": [],
   "source": [
    "alt_nga_df = pg.agg_tif_to_df(\n",
    "    new_nga_df, base_dir / \"nga_cisi.tif\", rm_prefix=\"nga_\", verbose=True\n",
    ")\n"
   ]
  },
  {
   "cell_type": "code",
   "execution_count": null,
   "metadata": {},
   "outputs": [],
   "source": [
    "alt_nga_df.drop(columns=[\"cii\"], inplace=True)\n"
   ]
  },
  {
   "cell_type": "code",
   "execution_count": null,
   "metadata": {},
   "outputs": [],
   "source": [
    "zero_fill_cols = [\n",
    "    \"n_conflicts\",\n",
    "    \"GSM\",\n",
    "    \"LTE\",\n",
    "    \"NR\",\n",
    "    \"UMTS\",\n",
    "    \"tests\",\n",
    "    \"devices\",\n",
    "]\n",
    "alt_nga_df.fillna(value={col: 0 for col in zero_fill_cols}, inplace=True)\n",
    "alt_nga_df.head()\n"
   ]
  },
  {
   "cell_type": "code",
   "execution_count": null,
   "metadata": {},
   "outputs": [],
   "source": [
    "alt_nga_df = pg.agg_tif_to_df(\n",
    "    alt_nga_df, tiff_dir / \"cpiHealthAccData_500.tif\", verbose=True\n",
    ")\n"
   ]
  },
  {
   "cell_type": "code",
   "execution_count": null,
   "metadata": {},
   "outputs": [],
   "source": [
    "autoh7 = pd.read_csv(base_dir / \"autoencoder_highres7.csv\", index_col=0)\n",
    "autol7 = pd.read_csv(base_dir / \"autoencoder_lowres7.csv\", index_col=0)\n",
    "autoh7.columns = [f\"auto_h{i}\" for i in range(len(autoh7.columns))]\n",
    "autol7.columns = [f\"auto_l{i}\" for i in range(len(autol7.columns))]\n"
   ]
  },
  {
   "cell_type": "code",
   "execution_count": null,
   "metadata": {},
   "outputs": [],
   "source": [
    "alt_nga_df = alt_nga_df.join(autoh7, on=\"hex_code\", how=\"left\").join(\n",
    "    autol7, on=\"hex_code\", how=\"left\"\n",
    ")\n"
   ]
  },
  {
   "cell_type": "code",
   "execution_count": null,
   "metadata": {},
   "outputs": [],
   "source": [
    "alt_nga_df.head()\n"
   ]
  },
  {
   "cell_type": "code",
   "execution_count": null,
   "metadata": {},
   "outputs": [],
   "source": [
    "commute_df = pd.read_csv(base_dir / \"nga_clean_justnewcomm_zns.csv\")[\n",
    "    [\n",
    "        \"hex_code\",\n",
    "        \"name_commuting_zone\",\n",
    "        \"population_commuting\",\n",
    "        \"road_len_commuting\",\n",
    "        \"area_commuting\",\n",
    "    ]\n",
    "]\n",
    "if commute_df.columns[1] in alt_nga_df:\n",
    "    alt_nga_df.drop(columns=commute_df.columns.tolist()[1:], inplace=True)\n",
    "alt_nga_df = alt_nga_df.join(\n",
    "    commute_df.set_index(\"hex_code\"), on=\"hex_code\", how=\"left\"\n",
    ")\n"
   ]
  },
  {
   "cell_type": "code",
   "execution_count": null,
   "metadata": {},
   "outputs": [],
   "source": [
    "alt_nga_df.to_csv(base_dir / \"clean_nga_w_autov1.csv\", index=False)\n"
   ]
  },
  {
   "cell_type": "markdown",
   "metadata": {},
   "source": [
    "# Try mapping data to neighbours"
   ]
  },
  {
   "cell_type": "code",
   "execution_count": null,
   "metadata": {},
   "outputs": [],
   "source": [
    "full_nga_data = pd.read_csv(\n",
    "    \"/Users/johnf/Downloads/raw_low_res_dssg/dhs/clean_nga_dhs.csv\"\n",
    ")\n",
    "# Create variables for two or more deprivations\n",
    "for k in range(2, 5):\n",
    "    full_nga_data[f\"dep_{k}_or_more_sev\"] = full_nga_data[\"sumpoor_sev\"] >= k\n"
   ]
  },
  {
   "cell_type": "code",
   "execution_count": null,
   "metadata": {},
   "outputs": [],
   "source": [
    "plt.scatter(nga_df.LONGNUM, nga_df.LATNUM, c=nga_df.location)\n",
    "plt.colorbar()\n",
    "plt.show()\n"
   ]
  },
  {
   "cell_type": "code",
   "execution_count": null,
   "metadata": {},
   "outputs": [],
   "source": [
    "full_nga_data.location.astype(\"category\").describe()\n",
    "# 1 is urban, 2 is rural\n"
   ]
  },
  {
   "cell_type": "code",
   "execution_count": null,
   "metadata": {},
   "outputs": [],
   "source": [
    "full_nga_data[\"hex_incl_nbrs\"] = full_nga_data[[\"location\", \"hex_code\"]].apply(\n",
    "    lambda row: h3.k_ring(row[\"hex_code\"], 1)\n",
    "    if row[\"location\"] == 1\n",
    "    else h3.k_ring(row[\"hex_code\"], 2),\n",
    "    axis=1,\n",
    ")  # h3.hex_ring for hollow\n"
   ]
  },
  {
   "cell_type": "code",
   "execution_count": null,
   "metadata": {},
   "outputs": [],
   "source": [
    "sev_cols = [col for col in full_nga_data.columns if \"_sev\" in col]\n"
   ]
  },
  {
   "cell_type": "code",
   "execution_count": null,
   "metadata": {},
   "outputs": [],
   "source": [
    "other_cols = [\n",
    "    col\n",
    "    for col in full_nga_data.columns\n",
    "    if (\n",
    "        \"int\" in str(full_nga_data[col].dtype)\n",
    "        or \"float\" in str(full_nga_data[col].dtype)\n",
    "    )\n",
    "]\n",
    "agg_dict = {col: \"mean\" for col in other_cols}\n",
    "agg_dict.update({idx: [\"mean\", \"count\"] for idx in sev_cols})\n",
    "# agg_dict.update({\"hhid\": \"count\"})\n",
    "new_df = (\n",
    "    full_nga_data.explode(\"hex_incl_nbrs\").groupby(by=[\"hex_incl_nbrs\"]).agg(agg_dict)\n",
    ")\n",
    "new_df.columns = [\"_\".join(col) for col in new_df.columns.values]\n"
   ]
  },
  {
   "cell_type": "code",
   "execution_count": null,
   "metadata": {},
   "outputs": [],
   "source": [
    "new_df.rename(\n",
    "    columns={\n",
    "        f\"{sev}_mean\": f\"{sev.replace('dep_','').replace('_sev','')}_prev\"\n",
    "        for sev in sev_cols\n",
    "        if sev != \"deprived_sev\"\n",
    "    },\n",
    "    inplace=True,\n",
    ")\n",
    "new_df.rename(\n",
    "    columns={\n",
    "        f\"{sev}_count\": f\"{sev.replace('dep_','').replace('_sev','')}_count\"\n",
    "        for sev in sev_cols\n",
    "        if sev != \"deprived_sev\"\n",
    "    },\n",
    "    inplace=True,\n",
    ")\n"
   ]
  },
  {
   "cell_type": "code",
   "execution_count": null,
   "metadata": {},
   "outputs": [],
   "source": [
    "new_df = new_df[new_df.sumpoor_count >= 30].reset_index()"
   ]
  },
  {
   "cell_type": "code",
   "execution_count": null,
   "metadata": {},
   "outputs": [],
   "source": [
    "new_df.drop(columns=['hex_code_mean'],inplace=True) \n",
    "new_df.rename(columns={'hex_incl_nbrs':'hex_code'},inplace=True)"
   ]
  },
  {
   "cell_type": "code",
   "execution_count": null,
   "metadata": {},
   "outputs": [],
   "source": [
    "new_df.head()"
   ]
  },
  {
   "cell_type": "code",
   "execution_count": null,
   "metadata": {},
   "outputs": [],
   "source": [
    "new_df.to_csv('../data/processed/expanded_nigeria_res7_thres30.csv')"
   ]
  },
  {
   "cell_type": "code",
   "execution_count": null,
   "metadata": {},
   "outputs": [],
   "source": [
    "new_df.head()"
   ]
  },
  {
   "cell_type": "code",
   "execution_count": null,
   "metadata": {},
   "outputs": [],
   "source": [
    "new_df.to_csv(base_dir / \"nga_clean_expanded.csv\")\n"
   ]
  },
  {
   "cell_type": "code",
   "execution_count": null,
   "metadata": {},
   "outputs": [],
   "source": [
    "new_df = pd.read_csv(base_dir / \"nga_clean_expanded.csv\")\n",
    "new_df[new_df[\"nutrition_count\"] >= 10]\n"
   ]
  },
  {
   "cell_type": "code",
   "execution_count": null,
   "metadata": {},
   "outputs": [],
   "source": [
    "sev_cols = [col for col in full_nga_data.columns if \"sev\" in col]\n"
   ]
  },
  {
   "cell_type": "code",
   "execution_count": null,
   "metadata": {},
   "outputs": [],
   "source": [
    "full_nga_data[\"ndeps_missing\"] = full_nga_data[sev_cols].isna().sum(axis=1)\n"
   ]
  },
  {
   "cell_type": "code",
   "execution_count": null,
   "metadata": {},
   "outputs": [],
   "source": [
    "((6 - full_nga_data[\"ndeps_missing\"] - full_nga_data[\"sumpoor_sev\"]) < 0).sum()\n"
   ]
  },
  {
   "cell_type": "code",
   "execution_count": null,
   "metadata": {},
   "outputs": [],
   "source": [
    "full_nga_data.ndeps_missing.describe()\n"
   ]
  },
  {
   "cell_type": "code",
   "execution_count": null,
   "metadata": {},
   "outputs": [],
   "source": [
    "full_nga_data[sev_cols].info()\n"
   ]
  },
  {
   "cell_type": "code",
   "execution_count": null,
   "metadata": {},
   "outputs": [],
   "source": [
    "full_nga_data.age.describe()\n"
   ]
  },
  {
   "cell_type": "code",
   "execution_count": null,
   "metadata": {},
   "outputs": [],
   "source": [
    "# one vs all training\n"
   ]
  },
  {
   "cell_type": "code",
   "execution_count": null,
   "metadata": {},
   "outputs": [],
   "source": [
    "import h3.api.numpy_int as h3\n"
   ]
  },
  {
   "cell_type": "code",
   "execution_count": null,
   "metadata": {},
   "outputs": [],
   "source": [
    "res_level = 3\n",
    "for col in sev_cols:\n",
    "    full_nga_data[f\"hex_code{res_level}\"] = full_nga_data[[\"LATNUM\", \"LONGNUM\"]].apply(\n",
    "        lambda row: h3.geo_to_h3(*row.values, res_level), axis=1\n",
    "    )\n",
    "    count_df = full_nga_data.groupby(f\"hex_code{res_level}\")[col].count()\n",
    "    _, bins = pd.qcut(count_df, [0, 0.05, 1.0], retbins=True)\n",
    "    # print(f\"5% cutoff for {col} is at {bins[1]}\")\n",
    "    if bins[1] < 30:\n",
    "        quants = pd.cut(count_df, [0, 30, np.inf])\n",
    "        cut_prop = quants.value_counts().sort_index().values[0] / len(count_df)\n",
    "        print(f\"Warning: cutoff at 30 for {col} removes {cut_prop*100:.2f}% of data\")\n",
    "        print(f\"5% cutoff is at {bins[1]}\")\n",
    "        for thresh in [5, 10, 15, 20]:\n",
    "            quants = pd.cut(count_df, [0, thresh, np.inf])\n",
    "            cut_prop = quants.value_counts().sort_index().values[0] / len(count_df)\n",
    "            print(f\"Cutoff at {thresh} for {col} removes {cut_prop*100:.2f}% of data\")\n",
    "# count_df.hist(bins=100)\n",
    "# plt.show()\n"
   ]
  },
  {
   "cell_type": "code",
   "execution_count": null,
   "metadata": {},
   "outputs": [],
   "source": [
    "thr_df = nga_df.loc[count_df.values >= 30].copy()\n"
   ]
  },
  {
   "cell_type": "code",
   "execution_count": null,
   "metadata": {},
   "outputs": [],
   "source": [
    "thr_df.to_csv(clean_base.parent / \"nga_clean_v2_thr30.csv\", index=False)\n"
   ]
  },
  {
   "cell_type": "markdown",
   "metadata": {},
   "source": [
    "# First add higher res TIFF data"
   ]
  },
  {
   "cell_type": "code",
   "execution_count": null,
   "metadata": {},
   "outputs": [],
   "source": [
    "nga_df = pd.read_csv(clean_base)\n"
   ]
  },
  {
   "cell_type": "code",
   "execution_count": null,
   "metadata": {},
   "outputs": [],
   "source": [
    "nga_df = pg.agg_tif_to_df(\n",
    "    nga_df,\n",
    "    tiff_dir,\n",
    "    rm_prefix=\"cpi\",\n",
    "    agg_fn=np.mean,\n",
    "    max_records=int(1e5),\n",
    "    replace_old=True,\n",
    "    verbose=False,\n",
    ")\n"
   ]
  },
  {
   "cell_type": "code",
   "execution_count": null,
   "metadata": {},
   "outputs": [],
   "source": [
    "merge_cols = [col for col in nga_df.columns if \"Data_500\" in col]\n",
    "old_cols = [col for col in merge_cols if col.rstrip(\"Data_500\") in nga_df.columns]\n",
    "nga_df.drop(columns=old_cols, inplace=True)\n",
    "nga_df.rename(columns={col: col.rstrip(\"Data_500\") for col in merge_cols}, inplace=True)\n"
   ]
  },
  {
   "cell_type": "code",
   "execution_count": null,
   "metadata": {},
   "outputs": [],
   "source": [
    "nga_df.to_csv(clean_base, index=False)\n"
   ]
  },
  {
   "cell_type": "code",
   "execution_count": null,
   "metadata": {},
   "outputs": [],
   "source": [
    "pd.set_option(\"display.max_columns\", None)\n",
    "nga_df.head()\n"
   ]
  },
  {
   "cell_type": "markdown",
   "metadata": {},
   "source": [
    "# Now add econ TIFF data"
   ]
  },
  {
   "cell_type": "code",
   "execution_count": null,
   "metadata": {},
   "outputs": [],
   "source": [
    "nga_df = pd.read_csv(clean_base)\n"
   ]
  },
  {
   "cell_type": "code",
   "execution_count": null,
   "metadata": {},
   "outputs": [],
   "source": [
    "import glob\n",
    "\n",
    "econ_tiffs = glob.glob(str(econ_dir / \"*.tif\"))\n"
   ]
  },
  {
   "cell_type": "code",
   "execution_count": null,
   "metadata": {},
   "outputs": [],
   "source": [
    "econ_tiffs\n"
   ]
  },
  {
   "cell_type": "code",
   "execution_count": null,
   "metadata": {},
   "outputs": [],
   "source": [
    "import rioxarray as rxr\n",
    "\n",
    "# Convert econ tiffs to right resolution + CRS, rewrite to high_res dir\n",
    "for i, econ_tiff in enumerate(econ_tiffs):\n",
    "    with rxr.open_rasterio(econ_tiff) as data:\n",
    "        name = Path(econ_tiff).name\n",
    "        if \"GDP_PPP\" in name:\n",
    "            data.attrs[\"long_name\"] = [\"GDP_PPP_1990\", \"GDP_PPP_2000\", \"GDP_PPP_2015\"]\n",
    "        elif \"2019GDP\" in name:\n",
    "            data.attrs[\"long_name\"] = [\"GDP_2019\"]\n",
    "        elif \"EC\" in name:\n",
    "            data.attrs[\"long_name\"] = [\"EC_2019\"]\n",
    "        data.rio.to_raster(econ_tiff)\n",
    "    pg.rxr_reproject_tiff_to_target(\n",
    "        econ_tiff,\n",
    "        glob.glob(str(tiff_dir / \"*.tif\"))[0],\n",
    "        tiff_dir / Path(econ_tiff).name,\n",
    "        verbose=True,\n",
    "    )\n"
   ]
  },
  {
   "cell_type": "code",
   "execution_count": null,
   "metadata": {},
   "outputs": [],
   "source": [
    "high_res_econ_tifs = [\n",
    "    name\n",
    "    for name in glob.glob(str(tiff_dir / \"*.tif\"))\n",
    "    if \"GDP\" in Path(name).name or \"EC\" in Path(name).name\n",
    "]\n"
   ]
  },
  {
   "cell_type": "code",
   "execution_count": null,
   "metadata": {},
   "outputs": [],
   "source": [
    "high_res_econ_tifs\n"
   ]
  },
  {
   "cell_type": "code",
   "execution_count": null,
   "metadata": {},
   "outputs": [],
   "source": [
    "nga_df = pg.agg_tif_to_df(\n",
    "    nga_df,\n",
    "    high_res_econ_tifs,\n",
    "    rm_prefix=\"Nigeria_\",\n",
    "    agg_fn=np.mean,\n",
    "    max_records=int(1e5),\n",
    "    replace_old=True,\n",
    "    verbose=False,\n",
    ")\n"
   ]
  },
  {
   "cell_type": "code",
   "execution_count": null,
   "metadata": {},
   "outputs": [],
   "source": [
    "nga_df.head()\n"
   ]
  },
  {
   "cell_type": "code",
   "execution_count": null,
   "metadata": {},
   "outputs": [],
   "source": [
    "nga_df.to_csv(clean_base, index=False)\n"
   ]
  },
  {
   "cell_type": "markdown",
   "metadata": {},
   "source": [
    "# Now add commuter zone data"
   ]
  },
  {
   "cell_type": "code",
   "execution_count": null,
   "metadata": {},
   "outputs": [],
   "source": [
    "nga_df = pd.read_csv(clean_base)\n"
   ]
  },
  {
   "cell_type": "code",
   "execution_count": null,
   "metadata": {},
   "outputs": [],
   "source": [
    "import geopandas as gpd\n",
    "\n",
    "commzns_df = pd.read_csv(comm_zns)\n"
   ]
  },
  {
   "cell_type": "code",
   "execution_count": null,
   "metadata": {},
   "outputs": [],
   "source": [
    "from shapely import wkt\n",
    "\n",
    "commzns_df[\"geometry\"] = commzns_df[\"geometry\"].apply(wkt.loads)\n"
   ]
  },
  {
   "cell_type": "code",
   "execution_count": null,
   "metadata": {},
   "outputs": [],
   "source": [
    "commzns_df = gpd.GeoDataFrame(commzns_df, crs=\"epsg:4326\")\n"
   ]
  },
  {
   "cell_type": "code",
   "execution_count": null,
   "metadata": {},
   "outputs": [],
   "source": [
    "commzns_df[commzns_df[\"country\"] == \"Nigeria\"].head(2)\n"
   ]
  },
  {
   "cell_type": "code",
   "execution_count": null,
   "metadata": {},
   "outputs": [],
   "source": [
    "# TODO: decide if will add\n"
   ]
  },
  {
   "cell_type": "code",
   "execution_count": null,
   "metadata": {},
   "outputs": [],
   "source": [
    "nga_df.to_csv(clean_base, index=False)\n"
   ]
  },
  {
   "cell_type": "markdown",
   "metadata": {},
   "source": [
    "# Now add FB connectivity data"
   ]
  },
  {
   "cell_type": "code",
   "execution_count": null,
   "metadata": {},
   "outputs": [],
   "source": [
    "nga_df = pd.read_csv(base_dir / \"clean_nga_w_autov1.csv\")\n"
   ]
  },
  {
   "cell_type": "code",
   "execution_count": null,
   "metadata": {},
   "outputs": [],
   "source": [
    "nga_df.head()"
   ]
  },
  {
   "cell_type": "code",
   "execution_count": null,
   "metadata": {},
   "outputs": [],
   "source": [
    "conn_df = pd.read_csv(fb_conn)\n",
    "conn_gdf = gpd.GeoDataFrame(\n",
    "    conn_df, geometry=gpd.points_from_xy(conn_df.long, conn_df.lat)\n",
    ")\n"
   ]
  },
  {
   "cell_type": "code",
   "execution_count": null,
   "metadata": {},
   "outputs": [],
   "source": [
    "conn_df[\"hex_code\"] = conn_df[[\"lat\", \"long\"]].swifter.apply(\n",
    "    lambda row: h3.geo_to_h3(row[0], row[1], resolution=7), axis=1\n",
    ")\n"
   ]
  },
  {
   "cell_type": "code",
   "execution_count": null,
   "metadata": {},
   "outputs": [],
   "source": [
    "nga_df = nga_df.join(conn_df.set_index(\"hex_code\")[\"estimate_dau\"], on=\"hex_code\")\n"
   ]
  },
  {
   "cell_type": "code",
   "execution_count": null,
   "metadata": {},
   "outputs": [],
   "source": [
    "nga_df.to_csv(base_dir / \"clean_nga_w_autov1.csv\", index=False)\n"
   ]
  },
  {
   "cell_type": "code",
   "execution_count": null,
   "metadata": {},
   "outputs": [],
   "source": [
    "print(\n",
    "    *sorted(\n",
    "        [\n",
    "            (name, val)\n",
    "            for name, val in zip(\n",
    "                nga_df.isna().sum(axis=0).index, nga_df.isna().sum(axis=0).values\n",
    "            )\n",
    "        ],\n",
    "        key=lambda x: x[1],\n",
    "    ),\n",
    "    sep=\"\\n\"\n",
    ")\n"
   ]
  },
  {
   "cell_type": "code",
   "execution_count": null,
   "metadata": {},
   "outputs": [],
   "source": [
    "# only for inside train set - worth including or not extensible?\n",
    "conn_gdf.plot()\n"
   ]
  },
  {
   "cell_type": "markdown",
   "metadata": {},
   "source": [
    "# Finally add RWI data"
   ]
  },
  {
   "cell_type": "code",
   "execution_count": null,
   "metadata": {},
   "outputs": [],
   "source": [
    "from stc_unicef_cpi.data import process_geotiff as pg \n",
    "sen_pop_tif = '/Users/johnf/Desktop/Work/InFoMM/DSSG/STC-UNICEF-DSSG/stc_unicef_cpi/data/external/gee/cpi_poptotal_senegal_500.tif'\n",
    "sen_pop = pg.rast_to_agg_df(sen_pop_tif,verbose=True)"
   ]
  },
  {
   "cell_type": "code",
   "execution_count": null,
   "metadata": {},
   "outputs": [],
   "source": [
    "import rasterio  \n",
    "\n",
    "with rasterio.open('/Users/johnf/Desktop/Work/InFoMM/DSSG/STC-UNICEF-DSSG/stc_unicef_cpi/data/external/gee/cpi_poptotal_senegal_500.tif') as rast_file: \n",
    "    tmp = rast_file.read(2)\n",
    "    plt.imshow(tmp) \n",
    "    plt.show()"
   ]
  },
  {
   "cell_type": "markdown",
   "metadata": {},
   "source": [
    "## Calculate weighted RWI at hex level for NGA"
   ]
  },
  {
   "cell_type": "code",
   "execution_count": null,
   "metadata": {},
   "outputs": [],
   "source": [
    "from pathlib import Path\n",
    "from shapely.geometry import Polygon\n",
    "\n",
    "import pandas as pd \n",
    "import geopandas as gpd  \n",
    "import swifter\n",
    "import numpy as np \n",
    "import h3.api.numpy_int as h3\n",
    "from pyquadkey2 import quadkey as qk\n",
    "from stc_unicef_cpi.utils import geospatial as geo\n",
    "\n",
    "base_dir = Path(...)\n",
    "rwi_path = base_dir / \"NGA_relative_wealth_index.csv\"\n",
    "\n",
    "rwi_df = pd.read_csv(rwi_path)\n",
    "\n",
    "nga_hexes = geo.get_hexes_for_ctry('Nigeria',7)\n",
    "\n",
    "\n",
    "nga_hexes = pd.DataFrame(nga_hexes,columns=['hex_code']) \n",
    "nga_hexes['hex_poly'] = nga_hexes.hex_code.swifter.apply(lambda hhex: Polygon(h3.h3_to_geo_boundary(hhex)))\n",
    "\n",
    "# qk.to_geo() also returns in lat long order, so should be consistent\n",
    "top_left = qk.TileAnchor.ANCHOR_NW\n",
    "top_right = qk.TileAnchor.ANCHOR_NE\n",
    "bottom_right = qk.TileAnchor.ANCHOR_SE\n",
    "bottom_left = qk.TileAnchor.ANCHOR_SW\n",
    "def qk_to_poly(qkey): \n",
    "    square = [\n",
    "        qk.from_str(str(qkey)).to_geo(anchor=point)\n",
    "        for point in [top_left, top_right, bottom_right, bottom_left]\n",
    "    ]\n",
    "    return Polygon(square)\n",
    "\n",
    "rwi_df['qk_poly'] = rwi_df.quadkey.apply(qk_to_poly)\n",
    "\n",
    "rwi_gdf = gpd.GeoDataFrame(rwi_df,geometry='qk_poly')\n",
    "hex_gdf = gpd.GeoDataFrame(nga_hexes,geometry='hex_poly')\n",
    "\n",
    "joined = hex_gdf.sjoin(rwi_gdf)\n",
    "joined['qk_poly'] = joined.quadkey.apply(qk_to_poly)\n",
    "\n",
    "joined['pc_area'] = joined['hex_poly'].intersection(gpd.GeoSeries(joined['qk_poly'])).area / joined['hex_poly'].area\n",
    "joined['weighted_rwi'] = joined['pc_area'] * joined['rwi']\n",
    "\n",
    "new_rwi_df = joined.groupby('hex_code',as_index=False).agg({'rwi':'mean','error':'mean','weighted_rwi':'sum'})\n",
    "new_rwi_df.to_csv('../data/validation/nga_rwi_hex.csv',index=False)"
   ]
  },
  {
   "cell_type": "code",
   "execution_count": null,
   "metadata": {},
   "outputs": [],
   "source": []
  },
  {
   "cell_type": "code",
   "execution_count": null,
   "metadata": {},
   "outputs": [],
   "source": [
    "import cartopy.io.shapereader as shpreader \n",
    "import pycountry\n",
    "\n",
    "shpfilename = shpreader.natural_earth(resolution='50m',\n",
    "                                      category='cultural',\n",
    "                                      name='admin_1_states_provinces') \n",
    "reader = shpreader.Reader(shpfilename)\n",
    "states = reader.records()\n",
    "country_record = pycountry.countries.search_fuzzy('Nigeria')[0]\n",
    "alpha_3 = country_record.alpha_3\n",
    "# nga_states = list(filter(lambda x: x.attributes['adm0_a3']==alpha_3,states))\n",
    "\n"
   ]
  },
  {
   "cell_type": "code",
   "execution_count": null,
   "metadata": {},
   "outputs": [],
   "source": [
    "all_adm1s = [state.attributes['adm1_code'] for state in states]"
   ]
  },
  {
   "cell_type": "code",
   "execution_count": null,
   "metadata": {},
   "outputs": [],
   "source": [
    "[code for code in all_adm1s if code.startswith(\"N\")]"
   ]
  },
  {
   "cell_type": "code",
   "execution_count": null,
   "metadata": {},
   "outputs": [],
   "source": [
    "sorted(all_adm1s)[140:150]"
   ]
  },
  {
   "cell_type": "code",
   "execution_count": null,
   "metadata": {},
   "outputs": [],
   "source": [
    "state.attributes['adm1_code']"
   ]
  },
  {
   "cell_type": "code",
   "execution_count": null,
   "metadata": {},
   "outputs": [],
   "source": [
    "state.attributes.keys()"
   ]
  },
  {
   "cell_type": "code",
   "execution_count": null,
   "metadata": {},
   "outputs": [],
   "source": [
    "len(list(states))"
   ]
  },
  {
   "cell_type": "markdown",
   "metadata": {},
   "source": [
    "# Add new target columns of proportion w > k deps"
   ]
  },
  {
   "cell_type": "code",
   "execution_count": null,
   "metadata": {},
   "outputs": [],
   "source": [
    "nga_df = pd.read_csv(base_dir / \"clean_nga_w_autov1.csv\")\n",
    "\n",
    "full_nga_data = pd.read_csv(\n",
    "    \"/Users/johnf/Downloads/raw_low_res_dssg/dhs/clean_nga_dhs.csv\"\n",
    ")\n"
   ]
  },
  {
   "cell_type": "code",
   "execution_count": null,
   "metadata": {},
   "outputs": [],
   "source": [
    "for k in range(2,5): \n",
    "    full_nga_data[f\"dep_{k}_or_more_sev\"] = full_nga_data['sumpoor_sev'] >= k "
   ]
  },
  {
   "cell_type": "code",
   "execution_count": null,
   "metadata": {},
   "outputs": [],
   "source": [
    "k_or_more_df = full_nga_data.groupby(by=[\"hex_code\"]).agg({col:np.mean for col in full_nga_data.columns if 'or_more' in col})"
   ]
  },
  {
   "cell_type": "code",
   "execution_count": null,
   "metadata": {},
   "outputs": [],
   "source": [
    "k_or_more_df.melt()"
   ]
  },
  {
   "cell_type": "code",
   "execution_count": null,
   "metadata": {},
   "outputs": [],
   "source": [
    "import seaborn as sns \n",
    "\n",
    "for k in range(2,5): \n",
    "    fig,ax = plt.subplots(dpi=200)\n",
    "    # sns.histplot(data=k_or_more_df.melt(),x=\"value\",hue=\"variable\",element=\"step\", fill=False, kde=True)\n",
    "    sns.histplot(data=k_or_more_df[f\"dep_{k}_or_more_sev\"],element=\"step\", fill=False, kde=True)\n",
    "    plt.show()"
   ]
  },
  {
   "cell_type": "code",
   "execution_count": null,
   "metadata": {},
   "outputs": [],
   "source": [
    "# add these nga_hexe\n",
    "nga_df = nga_df.join(k_or_more_df,on=\"hex_code\")"
   ]
  },
  {
   "cell_type": "code",
   "execution_count": null,
   "metadata": {},
   "outputs": [],
   "source": [
    "# reorder columns so targets in right place\n",
    "cols = nga_df.columns.tolist()\n",
    "cols = cols[:20] + cols[-3:] + cols[20:-3]\n",
    "nga_df = nga_df[cols]"
   ]
  },
  {
   "cell_type": "code",
   "execution_count": null,
   "metadata": {},
   "outputs": [],
   "source": [
    "nga_df.to_csv(base_dir / \"clean_nga_w_autov1.csv\")\n"
   ]
  },
  {
   "cell_type": "code",
   "execution_count": null,
   "metadata": {},
   "outputs": [],
   "source": [
    "# see proportion of these targets that are non-zero \n",
    "# can see that 2 or more deprivation prevalence is a reasonable target, but not 3 or more\n",
    "# as ~50% or more of the data is just zero \n",
    "(k_or_more_df!=0).mean(axis=0)"
   ]
  },
  {
   "cell_type": "markdown",
   "metadata": {},
   "source": [
    "# Check output of make_dataset"
   ]
  },
  {
   "cell_type": "code",
   "execution_count": null,
   "metadata": {},
   "outputs": [],
   "source": [
    "world = gpd.read_file(gpd.datasets.get_path(\"naturalearth_lowres\"))\n",
    "nga = world[world.name == \"Nigeria\"].geometry.__geo_interface__[\"features\"][0][\n",
    "    \"geometry\"\n",
    "]\n",
    "# nga_hex = h3.polyfill(nga, res=7)"
   ]
  },
  {
   "cell_type": "code",
   "execution_count": null,
   "metadata": {},
   "outputs": [],
   "source": [
    "from itertools import chain\n",
    "\n",
    "def get_new_nbrs_at_k(hexes,k): \n",
    "    def hex_nbrs_at_k(hex,k): \n",
    "        return np.array(list(chain.from_iterable([h3.hex_ring(hex,dist) for dist in range(1,k+1)])))\n",
    "    nbrs_at_k = pd.DataFrame(hexes,columns=[\"hex_code\"]).hex_code.swifter.apply(lambda hex: hex_nbrs_at_k(hex,k)) \n",
    "    return np.setdiff1d(np.array(list(chain.from_iterable(nbrs_at_k))),hexes)\n",
    "    \n",
    "k = 2\n",
    "# ctry[f\"nbrs_at_{k}\"] = ctry.hex_code.swifter.apply(lambda hex: hex_nbrs_at_k(hex,k))\n",
    "len(get_new_nbrs_at_k(ctry.hex_code,2))\n"
   ]
  },
  {
   "cell_type": "code",
   "execution_count": null,
   "metadata": {},
   "outputs": [],
   "source": [
    "new_nbrs= np.setdiff1d(np.array(list(chain.from_iterable(ctry[f\"nbrs_at_{k}\"]))),ctry.hex_code.values)"
   ]
  },
  {
   "cell_type": "code",
   "execution_count": null,
   "metadata": {},
   "outputs": [],
   "source": []
  },
  {
   "cell_type": "code",
   "execution_count": null,
   "metadata": {},
   "outputs": [],
   "source": [
    "import cartopy.io.shapereader as shpreader\n",
    "import geopandas as gpd \n",
    "import pycountry\n",
    "import numpy as np   \n",
    "import swifter  \n",
    "\n",
    "country = 'Senegal'\n",
    "\n",
    "shpfilename = shpreader.natural_earth(\n",
    "        resolution=\"10m\", category=\"cultural\", name=\"admin_0_countries\"\n",
    "    )\n",
    "reader = shpreader.Reader(shpfilename)\n",
    "world = reader.records()\n",
    "country = pycountry.countries.search_fuzzy(country)[0]\n",
    "ctry_name = country.name\n",
    "ctry_geom = next(\n",
    "    filter(lambda x: x.attributes[\"NAME\"] == ctry_name, world)\n",
    ").geometry\n",
    "\n",
    "# only now look for intersection, as expensive\n",
    "try:\n",
    "    ctry_geom = gpd.GeoDataFrame(ctry_geom, columns=[\"geometry\"], crs=\"EPSG:4326\")\n",
    "except ValueError: \n",
    "    # problem for single geometry\n",
    "    ctry_geom = gpd.GeoDataFrame([ctry_geom], columns=[\"geometry\"], crs=\"EPSG:4326\")"
   ]
  },
  {
   "cell_type": "code",
   "execution_count": null,
   "metadata": {},
   "outputs": [],
   "source": [
    "ctry_geom"
   ]
  },
  {
   "cell_type": "code",
   "execution_count": null,
   "metadata": {},
   "outputs": [],
   "source": []
  },
  {
   "cell_type": "code",
   "execution_count": 129,
   "metadata": {},
   "outputs": [],
   "source": [
    "import pandas as pd\n",
    "from pathlib import Path\n",
    "proc_dir = Path('../data/processed')\n",
    "df = pd.read_csv(proc_dir / 'hexes_nigeria_res7_thres30.csv')"
   ]
  },
  {
   "cell_type": "code",
   "execution_count": 132,
   "metadata": {},
   "outputs": [
    {
     "name": "stderr",
     "output_type": "stream",
     "text": [
      "/var/folders/fc/4tmtzm3n327_sp7y205dwl4h0000gn/T/ipykernel_14387/1229050921.py:8: DtypeWarning: Columns (6) have mixed types. Specify dtype option on import or set low_memory=False.\n",
      "  [df, *list(map(pd.read_csv, all_data[1:]))], ignore_index=True, axis=0\n"
     ]
    }
   ],
   "source": [
    "all_data = list(Path('../data/processed').expanduser().glob('hexes_*_res7_thres30.csv'))\n",
    "try:\n",
    "    df = pd.read_csv(all_data[0])\n",
    "except Exception:\n",
    "    df = pd.read_csv(all_data)\n",
    "if len(all_data) > 1:\n",
    "    df = pd.concat(\n",
    "        [df, *list(map(pd.read_csv, all_data[1:]))], ignore_index=True, axis=0\n",
    "    )\n",
    "# arbitrarily remove duplicate hexes\n",
    "df.drop_duplicates(subset=[\"hex_code\"], inplace=True)\n"
   ]
  },
  {
   "cell_type": "code",
   "execution_count": 134,
   "metadata": {},
   "outputs": [],
   "source": [
    "df.dropna(subset='sumpoor_sev',inplace=True)"
   ]
  },
  {
   "cell_type": "code",
   "execution_count": 136,
   "metadata": {},
   "outputs": [
    {
     "data": {
      "text/plain": [
       "count    1808.000000\n",
       "mean        0.646921\n",
       "std         0.314506\n",
       "min         0.000000\n",
       "25%         0.365736\n",
       "50%         0.703704\n",
       "75%         0.967123\n",
       "max         1.000000\n",
       "Name: deprived_sev, dtype: float64"
      ]
     },
     "execution_count": 136,
     "metadata": {},
     "output_type": "execute_result"
    }
   ],
   "source": [
    "df.deprived_sev.describe()"
   ]
  },
  {
   "cell_type": "code",
   "execution_count": null,
   "metadata": {},
   "outputs": [],
   "source": [
    "pd.set_option('display.max_columns', None)\n",
    "df.info()"
   ]
  },
  {
   "cell_type": "code",
   "execution_count": null,
   "metadata": {},
   "outputs": [],
   "source": [
    "df.population.info()"
   ]
  },
  {
   "cell_type": "code",
   "execution_count": null,
   "metadata": {},
   "outputs": [],
   "source": [
    "print(*df.columns)\n",
    "print(*(~df.isna()).sum(axis=0))"
   ]
  },
  {
   "cell_type": "code",
   "execution_count": null,
   "metadata": {},
   "outputs": [],
   "source": []
  },
  {
   "cell_type": "code",
   "execution_count": null,
   "metadata": {},
   "outputs": [],
   "source": [
    "print(df[['population','ndwi','sumpoor_sev','built','area_commuting','n_conflicts']].info())"
   ]
  },
  {
   "cell_type": "code",
   "execution_count": null,
   "metadata": {},
   "outputs": [],
   "source": [
    "fig,ax = plt.subplots(dpi=150) \n",
    "N=1000\n",
    "na_sub = df[df.population.isna()]\n",
    "subset = np.random.choice(len(na_sub),size=N) \n",
    "sub = na_sub.iloc[subset,:] \n",
    "latlongs = [h3.h3_to_geo(hex_code) for hex_code in sub.hex_code]\n",
    "latlongs=np.array(latlongs)\n",
    "plt.scatter(*latlongs.T,c='k')\n",
    "plt.show()"
   ]
  },
  {
   "cell_type": "code",
   "execution_count": null,
   "metadata": {},
   "outputs": [],
   "source": [
    "zero_fill_cols = [\n",
    "    \"n_conflicts\",\n",
    "    \"GSM\",\n",
    "    \"LTE\",\n",
    "    \"NR\",\n",
    "    \"UMTS\",\n",
    "]\n",
    "df.fillna(value={col: 0 for col in zero_fill_cols}, inplace=True)\n",
    "df.head()\n",
    "\n",
    "df.head()"
   ]
  },
  {
   "cell_type": "code",
   "execution_count": null,
   "metadata": {},
   "outputs": [],
   "source": [
    "df.to_csv(int_dir / 'hexes_nigeria_res7_thres30.csv',index=False)"
   ]
  },
  {
   "cell_type": "code",
   "execution_count": null,
   "metadata": {},
   "outputs": [],
   "source": []
  },
  {
   "cell_type": "code",
   "execution_count": null,
   "metadata": {},
   "outputs": [],
   "source": [
    "cols = df.columns.tolist()\n",
    "survey_idx = cols.index(\"survey\")\n",
    "cols = cols[:survey_idx] + cols[-2:] + cols[survey_idx:-2] \n",
    "df[cols]"
   ]
  },
  {
   "cell_type": "code",
   "execution_count": null,
   "metadata": {},
   "outputs": [],
   "source": [
    "econ = int_dir / \"tmp_nigeria_econ.csv\" \n",
    "econ = pd.read_csv(econ,index_col=0)"
   ]
  },
  {
   "cell_type": "code",
   "execution_count": null,
   "metadata": {},
   "outputs": [],
   "source": [
    "gee = int_dir / \"tmp_nigeria_gee.csv\" \n",
    "gee = pd.read_csv(gee,index_col=0)"
   ]
  },
  {
   "cell_type": "code",
   "execution_count": null,
   "metadata": {},
   "outputs": [],
   "source": []
  },
  {
   "cell_type": "code",
   "execution_count": null,
   "metadata": {},
   "outputs": [],
   "source": [
    "output_dir = Path(\"../data/predictions\")\n",
    "preds = pd.read_csv(output_dir / \"preds_nigeria_res7.csv\") "
   ]
  },
  {
   "cell_type": "code",
   "execution_count": null,
   "metadata": {},
   "outputs": [],
   "source": [
    "latlongs = preds.hex_code.swifter.apply(lambda x: h3.h3_to_geo(x))\n",
    "preds[\"lat\"] = latlongs.str[0]\n",
    "preds[\"long\"] = latlongs.str[1]"
   ]
  },
  {
   "cell_type": "code",
   "execution_count": null,
   "metadata": {},
   "outputs": [],
   "source": [
    "preds.columns"
   ]
  },
  {
   "cell_type": "code",
   "execution_count": null,
   "metadata": {},
   "outputs": [],
   "source": [
    "import seaborn as sns\n",
    "N = 10000\n",
    "subset = preds.iloc[:N]\n",
    "fig,ax = plt.subplots(dpi=200)\n",
    "sns.scatterplot(data=subset,x=subset['long'],y=subset['lat'],hue=subset['sumpoor_sev']) \n",
    "plt.show()"
   ]
  },
  {
   "cell_type": "code",
   "execution_count": null,
   "metadata": {},
   "outputs": [],
   "source": [
    "from stc_unicef_cpi.data import process_geotiff as pg  \n",
    "from pathlib import Path\n",
    "int_dir = Path('../data/interim')\n",
    "pop_df = pg.rast_to_agg_df(int_dir.parent / \"external\" / \"gee\" / \"cpi_poptotal_nigeria_500.tif\",verbose=True)"
   ]
  },
  {
   "cell_type": "code",
   "execution_count": null,
   "metadata": {},
   "outputs": [],
   "source": [
    "# file_path = '../data/external/gee/cpi_elevation_nigeria_500.tif'\n",
    "file_path = '../data/external/gee/cpi_ghsl_nigeria_500.tif'\n",
    "tmp = pg.geotiff_to_df(file_path,rm_prefix=r\"cpi\")"
   ]
  },
  {
   "cell_type": "code",
   "execution_count": null,
   "metadata": {},
   "outputs": [],
   "source": [
    "real_hexes = tmp[[\"latitude\", \"longitude\"]].swifter.apply(\n",
    "                lambda row: h3.geo_to_h3(row[\"latitude\"], row[\"longitude\"], 7),\n",
    "                axis=1,\n",
    "            )"
   ]
  },
  {
   "cell_type": "code",
   "execution_count": null,
   "metadata": {},
   "outputs": [],
   "source": [
    "so_latlongs = np.array([h3.h3_to_geo(hex) for hex in real_hexes]) \n",
    "print(so_latlongs.min(axis=0))\n",
    "print(so_latlongs.max(axis=0))"
   ]
  },
  {
   "cell_type": "code",
   "execution_count": null,
   "metadata": {},
   "outputs": [],
   "source": [
    "tmp.describe()"
   ]
  },
  {
   "cell_type": "code",
   "execution_count": null,
   "metadata": {},
   "outputs": [],
   "source": [
    "np.setdiff1d(real_hexes.values,nga_hexes).shape"
   ]
  },
  {
   "cell_type": "code",
   "execution_count": null,
   "metadata": {},
   "outputs": [],
   "source": [
    "import stc_unicef_cpi.utils.geospatial as geo\n",
    "nga_hexes = geo.get_hexes_for_ctry('Nigeria', 7)\n",
    "# expand by 2 hexes to ensure covers all data\n",
    "outer_hexes = geo.get_new_nbrs_at_k(nga_hexes, 2)\n",
    "hexes_ctry = np.concatenate((nga_hexes, outer_hexes))\n",
    "ctry = pd.DataFrame(nga_hexes, columns=[\"hex_code\"])"
   ]
  },
  {
   "cell_type": "code",
   "execution_count": null,
   "metadata": {},
   "outputs": [],
   "source": [
    "import numpy as np \n",
    "import h3.api.numpy_int as h3\n",
    "nga_latlongs = [h3.h3_to_geo(hex) for hex in nga_hexes]\n",
    "nga_latlongs = np.array(nga_latlongs) \n",
    "print(nga_latlongs.min(axis=0))\n",
    "print(nga_latlongs.max(axis=0))"
   ]
  },
  {
   "cell_type": "code",
   "execution_count": null,
   "metadata": {},
   "outputs": [],
   "source": [
    "new_hexes = np.setdiff1d(pop_df.dropna(how='all').index.values,ctry['hex_code'])  "
   ]
  },
  {
   "cell_type": "code",
   "execution_count": null,
   "metadata": {},
   "outputs": [],
   "source": [
    "new_hexes_rev = np.setdiff1d(ctry['hex_code'],pop_df.dropna(how='all').index.values)  "
   ]
  },
  {
   "cell_type": "code",
   "execution_count": null,
   "metadata": {},
   "outputs": [],
   "source": [
    "new_hexes_rev.shape"
   ]
  },
  {
   "cell_type": "code",
   "execution_count": null,
   "metadata": {},
   "outputs": [],
   "source": [
    "new_hexes.shape"
   ]
  },
  {
   "cell_type": "code",
   "execution_count": null,
   "metadata": {},
   "outputs": [],
   "source": [
    "new_latlongs = [h3.h3_to_geo(hex) for hex in pop_df.dropna(how='all').index.values]"
   ]
  },
  {
   "cell_type": "code",
   "execution_count": null,
   "metadata": {},
   "outputs": [],
   "source": [
    "new_latlongs = np.array(new_latlongs)"
   ]
  },
  {
   "cell_type": "code",
   "execution_count": null,
   "metadata": {},
   "outputs": [],
   "source": [
    "print(new_latlongs.min(axis=0))\n",
    "print(new_latlongs.max(axis=0))"
   ]
  },
  {
   "cell_type": "code",
   "execution_count": null,
   "metadata": {},
   "outputs": [],
   "source": [
    "len(pop_df)"
   ]
  },
  {
   "cell_type": "code",
   "execution_count": null,
   "metadata": {},
   "outputs": [],
   "source": [
    "latlongs = [h3.h3_to_geo(hex) for hex in new_hexes] \n",
    "latlongs_rev = [h3.h3_to_geo(hex) for hex in new_hexes_rev] "
   ]
  },
  {
   "cell_type": "code",
   "execution_count": null,
   "metadata": {},
   "outputs": [],
   "source": [
    "file_path = '../data/external/gee/cpi_elevation_nigeria_500.tif'\n",
    "file_path2 = '../data/external/gee/cpi_ghsl_nigeria_500.tif'\n",
    "tmp = pg.geotiff_to_df(file_path,rm_prefix=r\"cpi\",verbose=True)\n",
    "# tmp2 = pg.geotiff_to_df(file_path2,rm_prefix=r\"cpi\",verbose=True)"
   ]
  },
  {
   "cell_type": "code",
   "execution_count": null,
   "metadata": {},
   "outputs": [],
   "source": [
    "np.apply_along_axis(lambda row: h3.geo_to_h3(*row, 7), arr=tmp[[\"latitude\", \"longitude\"]].values,\n",
    "                axis=1,\n",
    "            )"
   ]
  },
  {
   "cell_type": "code",
   "execution_count": null,
   "metadata": {},
   "outputs": [],
   "source": [
    "tmp[\"hex_code\"] = tmp[[\"latitude\", \"longitude\"]].apply(\n",
    "                lambda row: h3.geo_to_h3(row[\"latitude\"], row[\"longitude\"], 7),\n",
    "                axis=1,\n",
    "            )"
   ]
  },
  {
   "cell_type": "code",
   "execution_count": null,
   "metadata": {},
   "outputs": [],
   "source": [
    "agg_fn = np.mean\n",
    "tmp = tmp.drop(columns=[\"latitude\", \"longitude\"])\n",
    "tmp = tmp.groupby(by=[\"hex_code\"]).agg(\n",
    "            {col: agg_fn for col in tmp.columns if col != \"hex_code\"}\n",
    "        )\n"
   ]
  },
  {
   "cell_type": "code",
   "execution_count": null,
   "metadata": {},
   "outputs": [],
   "source": [
    "ctry.join(tmp,how='left',on='hex_code').dropna()"
   ]
  },
  {
   "cell_type": "code",
   "execution_count": null,
   "metadata": {},
   "outputs": [],
   "source": [
    "tmp2[\"hex_code\"] = tmp2[[\"latitude\", \"longitude\"]].swifter.apply(\n",
    "                lambda row: h3.geo_to_h3(row[\"latitude\"], row[\"longitude\"], 7),\n",
    "                axis=1,\n",
    "            )"
   ]
  },
  {
   "cell_type": "code",
   "execution_count": null,
   "metadata": {},
   "outputs": [],
   "source": [
    "print(tmp2.hex_code.nunique(),len(ctry))\n",
    "print(len(np.setdiff1d(tmp2.hex_code,ctry)))\n",
    "print(len(np.setdiff1d(ctry,tmp.hex_code)))"
   ]
  },
  {
   "cell_type": "code",
   "execution_count": null,
   "metadata": {},
   "outputs": [],
   "source": [
    "rev_tmp_hex = np.array([h3.h3_to_geo(hex) for hex in tmp.hex_code]) \n",
    "print(rev_tmp_hex.min(axis=0))\n",
    "print(rev_tmp_hex.max(axis=0))"
   ]
  },
  {
   "cell_type": "code",
   "execution_count": null,
   "metadata": {},
   "outputs": [],
   "source": [
    "import matplotlib.pyplot as plt\n",
    "from shapely.geometry import Point\n",
    "import geopandas as gpd\n",
    "fig,ax = plt.subplots(dpi=200) \n",
    "N = 1000\n",
    "sub_idx = np.random.choice(len(tmp),size=N) \n",
    "tmp_sub = tmp.iloc[sub_idx]\n",
    "latlongs = np.array(tmp_sub[['latitude','longitude']])  \n",
    "vals = tmp_sub._elevation_nigeria_500!=0\n",
    "points = gpd.points_from_xy(tmp_sub.longitude,tmp_sub.latitude) \n",
    "tmp_gdf = gpd.GeoDataFrame(tmp_sub,geometry=points) \n",
    "world = gpd.read_file(gpd.datasets.get_path('naturalearth_lowres'))\n",
    "nga = world[world.name==\"Nigeria\"]\n",
    "subset = tmp_gdf.clip(nga) \n",
    "\n",
    "\n",
    "ax.scatter(nga_latlongs[:,1],nga_latlongs[:,0])\n",
    "ax.scatter(latlongs[:,1],latlongs[:,0],c=vals) \n",
    "subset.plot(ax=ax)\n",
    "\n",
    "plt.show()"
   ]
  },
  {
   "cell_type": "code",
   "execution_count": null,
   "metadata": {},
   "outputs": [],
   "source": [
    "subset.plot()"
   ]
  },
  {
   "cell_type": "code",
   "execution_count": null,
   "metadata": {},
   "outputs": [],
   "source": [
    "fig,ax = plt.subplots(dpi=200) \n",
    "latlongs = np.array(latlongs)  \n",
    "ax.scatter(latlongs[:,1],latlongs[:,0]) \n",
    "plt.show()\n",
    "\n",
    "fig,ax = plt.subplots(dpi=200) \n",
    "latlongs_rev = np.array(latlongs_rev)  \n",
    "ax.scatter(latlongs_rev[:,1],latlongs_rev[:,0]) \n",
    "plt.show()"
   ]
  },
  {
   "cell_type": "code",
   "execution_count": null,
   "metadata": {},
   "outputs": [],
   "source": [
    "# Nigeria should have lats between ~4.2 and 13.8\n",
    "# longs between ~2.7 and 14.7\n",
    "# so does look right\n",
    "print(latlongs.min(axis=0))\n",
    "print(latlongs.max(axis=0))"
   ]
  },
  {
   "cell_type": "code",
   "execution_count": null,
   "metadata": {},
   "outputs": [],
   "source": [
    "import glob\n",
    "import stc_unicef_cpi.utils.geospatial as geo  \n",
    "save_dir = '../data/interim'\n",
    "country = 'Nigeria'\n",
    "econ_files = glob.glob(str(Path(save_dir) / f\"{country.lower()}*.tif\"))\n",
    "    # econ_files = [ele for ele in econ_files if \"ppp\" not in ele]\n",
    "res = 7\n",
    "hexes_ctry = geo.get_hexes_for_ctry(country, res)\n",
    "# expand by 2 hexes to ensure covers all data\n",
    "outer_hexes = geo.get_new_nbrs_at_k(hexes_ctry, 2)\n",
    "hexes_ctry = np.concatenate((hexes_ctry, outer_hexes))\n",
    "ctry = pd.DataFrame(hexes_ctry, columns=[\"hex_code\"])\n",
    "\n",
    "econ = pg.agg_tif_to_df(\n",
    "    ctry,\n",
    "    econ_files,\n",
    "    resolution=res,\n",
    "    rm_prefix=rf\"cpi|_|{country.lower()}|500\",\n",
    "    verbose=True,\n",
    ")"
   ]
  },
  {
   "cell_type": "code",
   "execution_count": null,
   "metadata": {},
   "outputs": [],
   "source": [
    "latlongs.shape"
   ]
  },
  {
   "cell_type": "code",
   "execution_count": null,
   "metadata": {},
   "outputs": [],
   "source": [
    "from stc_unicef_cpi.utils.geospatial import get_hexes_for_ctry\n",
    "nga_hexes = get_hexes_for_ctry('Nigeria', 7)"
   ]
  },
  {
   "cell_type": "code",
   "execution_count": null,
   "metadata": {},
   "outputs": [],
   "source": [
    "len(np.setdiff1d(hex_codes.flatten(),nga_hexes))"
   ]
  },
  {
   "cell_type": "code",
   "execution_count": null,
   "metadata": {},
   "outputs": [],
   "source": [
    "len(np.unique(hex_codes.flatten()))"
   ]
  },
  {
   "cell_type": "code",
   "execution_count": null,
   "metadata": {},
   "outputs": [],
   "source": [
    "econ_files"
   ]
  },
  {
   "cell_type": "code",
   "execution_count": null,
   "metadata": {},
   "outputs": [],
   "source": [
    "import rasterio\n",
    "# with rasterio.open('../data/interim/nigeria_ec2019.tif') as rast_file:\n",
    "# with rasterio.open('../data/interim/nigeria_2019gdp.tif') as rast_file:\n",
    "with rasterio.open('../data/interim/nigeria_gdp_ppp_30.tif') as rast_file:\n",
    "    tmp = rast_file.read(1)\n",
    "    plt.imshow(np.log(tmp - tmp.min() + 1)) \n",
    "    plt.show()"
   ]
  },
  {
   "cell_type": "code",
   "execution_count": null,
   "metadata": {},
   "outputs": [],
   "source": [
    "read_dir = '../data/external' \n",
    "econ_tiffs = sorted(glob.glob(str(Path(read_dir) / f\"{country.lower()}_*.tif\")))\n",
    "econ_tiffs = [ele for ele in econ_tiffs if \"africa\" not in ele] \n"
   ]
  },
  {
   "cell_type": "code",
   "execution_count": null,
   "metadata": {},
   "outputs": [],
   "source": [
    "econ_tiffs"
   ]
  },
  {
   "cell_type": "code",
   "execution_count": null,
   "metadata": {},
   "outputs": [],
   "source": [
    "import rasterio\n",
    "from affine import Affine\n",
    "from pyproj import Transformer\n",
    "resolution = 7\n",
    "with rasterio.open(int_dir.parent / \"external\" / \"gee\" / \"cpi_poptotal_nigeria_500.tif\") as raster:\n",
    "    band_names = np.array(raster.descriptions)\n",
    "    nbands = len(band_names)\n",
    "    ctr = 0\n",
    "    # get pixel coords\n",
    "    T0 = raster.transform  # upper-left pixel corner affine transform\n",
    "    # Get affine transform for pixel centres\n",
    "    T1 = T0 * Affine.translation(0.5, 0.5)\n",
    "    # Function to convert pixel row/column index (from 0) to easting/northing at centre\n",
    "    rc2en = lambda r, c: T1 * (c, r)\n",
    "    tmp = raster.read(1)\n",
    "    # # All rows and columns\n",
    "    cols, rows = np.meshgrid(np.arange(tmp.shape[1]), np.arange(tmp.shape[0]))\n",
    "    del tmp\n",
    "    # # All eastings and northings (there is probably a faster way to do this)\n",
    "    eastings, northings = np.vectorize(rc2en, otypes=[float, float])(rows, cols)\n",
    "    transformer = Transformer.from_crs(raster.crs, \"WGS84\")\n",
    "    longs, lats = transformer.transform(eastings, northings)\n",
    "    del eastings, northings\n",
    "    latlongs = np.dstack((lats, longs))\n",
    "    \n",
    "    hex_codes = np.apply_along_axis(\n",
    "        lambda x: h3.geo_to_h3(*x, resolution),\n",
    "        axis=-1,\n",
    "        arr=latlongs,\n",
    "    )\n",
    "    # plt.imshow(tmp) \n",
    "    # plt.show()"
   ]
  },
  {
   "cell_type": "code",
   "execution_count": null,
   "metadata": {},
   "outputs": [],
   "source": [
    "print(latlongs.reshape(-1,2).min(axis=0))\n",
    "print(latlongs.reshape(-1,2).max(axis=0))"
   ]
  },
  {
   "cell_type": "code",
   "execution_count": null,
   "metadata": {},
   "outputs": [],
   "source": [
    "N = 1000 \n",
    "subset_idx = np.random.choice(len(latlongs[...,0].flatten()),size=N) \n",
    "\n",
    "subset=latlongs.reshape(-1,2)[subset_idx,:]\n",
    "\n",
    "fig,ax = plt.subplots(dpi=150) \n",
    "plt.scatter(subset[:,1],subset[:,0],c=~np.isnan(tmp).flatten()[subset_idx]) \n",
    "plt.show()"
   ]
  },
  {
   "cell_type": "code",
   "execution_count": null,
   "metadata": {},
   "outputs": [],
   "source": [
    "import cartopy.io.shapereader as shpreader\n",
    "\n",
    "shpfilename = shpreader.natural_earth(resolution='10m',\n",
    "                                      category='cultural',\n",
    "                                      name='admin_0_countries')\n",
    "reader = shpreader.Reader(shpfilename)\n",
    "countries = reader.records()\n",
    "\n",
    "ctry_name = \"Nigeria\" \n",
    "\n",
    "ctry_shp = next(filter(lambda x: x.attributes['NAME']==ctry_name,countries)) "
   ]
  },
  {
   "cell_type": "code",
   "execution_count": null,
   "metadata": {},
   "outputs": [],
   "source": [
    "# Nigeria should have lats between ~4.2 and 13.8\n",
    "# longs between ~2.7 and 14.7\n",
    "# so does look right\n",
    "np.array(ctry_shp.geometry.__geo_interface__['coordinates'][0][0]).max(axis=0)"
   ]
  },
  {
   "cell_type": "code",
   "execution_count": null,
   "metadata": {},
   "outputs": [],
   "source": [
    "ctry_shp.bounds"
   ]
  },
  {
   "cell_type": "code",
   "execution_count": null,
   "metadata": {},
   "outputs": [],
   "source": [
    "\n",
    "ctry_name = 'Nigeria'\n",
    "shpfilename = shpreader.natural_earth(\n",
    "    resolution=\"10m\", category=\"cultural\", name=\"admin_0_countries\"\n",
    ")\n",
    "reader = shpreader.Reader(shpfilename)\n",
    "world = reader.records()\n",
    "with rasterio.open(file_path, \"r\", masked=True) as tif_file:\n",
    "    ctry_shp = next(\n",
    "        filter(lambda x: x.attributes[\"NAME\"] == ctry_name, world)\n",
    "    ).geometry\n",
    "    if tif_file.crs is not None and tif_file.crs != \"EPSG:4326\":\n",
    "        # NB assumes that no CRS corresponds to EPSG:4326 (as standard)\n",
    "        ctry_shp = gpd.GeoSeries(ctry_shp)\n",
    "        ctry_shp.crs = \"EPSG:4326\"\n",
    "        ctry_shp = ctry_shp.to_crs(tif_file.crs).geometry\n",
    "    # world = world.to_crs(tif_file.crs)\n",
    "    # ctry_shp = world[world.name == ctry_name].geometry\n",
    "    out_image, out_transform = rasterio.mask.mask(tif_file, ctry_shp, crop=True)\n",
    "    out_meta = tif_file.meta"
   ]
  },
  {
   "cell_type": "code",
   "execution_count": null,
   "metadata": {},
   "outputs": [],
   "source": [
    "plt.imshow(out_image[0])\n",
    "plt.show()"
   ]
  },
  {
   "cell_type": "code",
   "execution_count": null,
   "metadata": {},
   "outputs": [],
   "source": [
    "import rioxarray as rxr\n",
    "with rxr.open_rasterio(file_path,masked=True) as open_file: \n",
    "    open_file = open_file.squeeze()\n",
    "    og_proj = open_file.rio.crs\n",
    "    open_file.name = \"data\"\n",
    "    df = open_file.to_dataframe() "
   ]
  },
  {
   "cell_type": "code",
   "execution_count": null,
   "metadata": {},
   "outputs": [],
   "source": [
    "df.drop(columns=[\"spatial_ref\"], inplace=True)"
   ]
  },
  {
   "cell_type": "code",
   "execution_count": null,
   "metadata": {},
   "outputs": [],
   "source": [
    "df.index.names == ['band','y','x']"
   ]
  },
  {
   "cell_type": "code",
   "execution_count": null,
   "metadata": {},
   "outputs": [],
   "source": [
    "# df.index.set_names([\"latitude\",\"longitude\"],inplace=True)"
   ]
  },
  {
   "cell_type": "code",
   "execution_count": null,
   "metadata": {},
   "outputs": [],
   "source": [
    "df.index.set_names([\"band\",\"latitude\",\"longitude\"],inplace=True)\n",
    "df = df.unstack(level=0).droplevel(0,axis=1).reset_index()"
   ]
  },
  {
   "cell_type": "code",
   "execution_count": null,
   "metadata": {},
   "outputs": [],
   "source": [
    "from pyproj import Transformer\n"
   ]
  },
  {
   "cell_type": "code",
   "execution_count": null,
   "metadata": {},
   "outputs": [],
   "source": [
    "df[df==0] = np.nan \n",
    "df.dropna(subset=[1],inplace=True)"
   ]
  },
  {
   "cell_type": "code",
   "execution_count": null,
   "metadata": {},
   "outputs": [],
   "source": [
    "transformer = Transformer.from_crs(og_proj, \"EPSG:4326\")\n",
    "coords = [\n",
    "    transformer.transform(x, y) for x, y in df[[\"latitude\", \"longitude\"]].values\n",
    "]"
   ]
  },
  {
   "cell_type": "code",
   "execution_count": null,
   "metadata": {},
   "outputs": [],
   "source": [
    "coords = np.array(coords)"
   ]
  },
  {
   "cell_type": "code",
   "execution_count": null,
   "metadata": {},
   "outputs": [],
   "source": [
    "print(coords.min(axis=0))\n",
    "print(coords.max(axis=0))"
   ]
  },
  {
   "cell_type": "code",
   "execution_count": null,
   "metadata": {},
   "outputs": [],
   "source": [
    "len(np.setdiff1d(np.unique(real_hexes),nga_hexes))"
   ]
  },
  {
   "cell_type": "code",
   "execution_count": null,
   "metadata": {},
   "outputs": [],
   "source": [
    "len(np.unique(real_hexes))"
   ]
  },
  {
   "cell_type": "markdown",
   "metadata": {},
   "source": [
    "# Investigate predictions"
   ]
  },
  {
   "cell_type": "markdown",
   "metadata": {},
   "source": [
    "## Compare to RWI data"
   ]
  },
  {
   "cell_type": "code",
   "execution_count": null,
   "metadata": {},
   "outputs": [],
   "source": [
    "rwi_data = pd.read_csv('../data/validation/NGA_rwi_hex.csv') "
   ]
  },
  {
   "cell_type": "code",
   "execution_count": null,
   "metadata": {},
   "outputs": [],
   "source": [
    "rwi_data.dropna(inplace=True)"
   ]
  },
  {
   "cell_type": "code",
   "execution_count": null,
   "metadata": {},
   "outputs": [],
   "source": [
    "preds = pd.read_csv('../data/predictions/preds_nigeria_res7.csv')"
   ]
  },
  {
   "cell_type": "code",
   "execution_count": null,
   "metadata": {},
   "outputs": [],
   "source": [
    "preds.dropna(subset=['population'],inplace=True)"
   ]
  },
  {
   "cell_type": "code",
   "execution_count": null,
   "metadata": {},
   "outputs": [],
   "source": [
    "new_rwi_df.head()"
   ]
  },
  {
   "cell_type": "code",
   "execution_count": null,
   "metadata": {},
   "outputs": [],
   "source": [
    "preds = preds.join(new_rwi_df.set_index('hex_code'),on='hex_code',how='left')"
   ]
  },
  {
   "cell_type": "code",
   "execution_count": null,
   "metadata": {},
   "outputs": [],
   "source": [
    "preds.head()"
   ]
  },
  {
   "cell_type": "code",
   "execution_count": null,
   "metadata": {},
   "outputs": [],
   "source": [
    "import matplotlib.pyplot as plt\n",
    "import seaborn as sns\n",
    "# fig,ax = plt.subplots(dpi=200)\n",
    "cols = [col for col in preds if col not in ['population','hex_code','error']]\n",
    "sns.pairplot(preds[cols],x_vars=cols,y_vars=['rwi','weighted_rwi'])\n",
    "plt.show()"
   ]
  },
  {
   "cell_type": "code",
   "execution_count": null,
   "metadata": {},
   "outputs": [],
   "source": [
    "true_data = pd.read_csv('../data/processed/hexes_nigeria_res7_thres30.csv').dropna(subset=['survey']) # 'hexes/expanded_...'"
   ]
  },
  {
   "cell_type": "code",
   "execution_count": null,
   "metadata": {},
   "outputs": [],
   "source": [
    "true_cols = ['hex_code'] + [col for col in cols if 'rwi' not in col]\n",
    "true_data = true_data[true_cols].copy() "
   ]
  },
  {
   "cell_type": "code",
   "execution_count": null,
   "metadata": {},
   "outputs": [],
   "source": [
    "true_data = true_data.join(new_rwi_df.set_index('hex_code'),on='hex_code',how='left')"
   ]
  },
  {
   "cell_type": "code",
   "execution_count": null,
   "metadata": {},
   "outputs": [],
   "source": [
    "true_data.dropna(inplace=True)"
   ]
  },
  {
   "cell_type": "code",
   "execution_count": null,
   "metadata": {},
   "outputs": [],
   "source": [
    "plt.rcParams['figure.dpi'] = 200\n",
    "sns.pairplot(true_data[[col for col in true_data.columns if col not in ['hex_code','error']]],y_vars=['rwi','weighted_rwi']) \n",
    "plt.show()"
   ]
  },
  {
   "cell_type": "code",
   "execution_count": null,
   "metadata": {},
   "outputs": [],
   "source": [
    "true_data.corr()['rwi']"
   ]
  },
  {
   "cell_type": "markdown",
   "metadata": {},
   "source": [
    "# "
   ]
  },
  {
   "cell_type": "markdown",
   "metadata": {},
   "source": [
    "## Compare to state-level true data"
   ]
  },
  {
   "cell_type": "code",
   "execution_count": 179,
   "metadata": {},
   "outputs": [
    {
     "data": {
      "application/vnd.jupyter.widget-view+json": {
       "model_id": "14eb6b64f88741889265ac86ba2ded4b",
       "version_major": 2,
       "version_minor": 0
      },
      "text/plain": [
       "Pandas Apply:   0%|          | 0/37 [00:00<?, ?it/s]"
      ]
     },
     "metadata": {},
     "output_type": "display_data"
    },
    {
     "data": {
      "text/html": [
       "<div>\n",
       "<style scoped>\n",
       "    .dataframe tbody tr th:only-of-type {\n",
       "        vertical-align: middle;\n",
       "    }\n",
       "\n",
       "    .dataframe tbody tr th {\n",
       "        vertical-align: top;\n",
       "    }\n",
       "\n",
       "    .dataframe thead th {\n",
       "        text-align: right;\n",
       "    }\n",
       "</style>\n",
       "<table border=\"1\" class=\"dataframe\">\n",
       "  <thead>\n",
       "    <tr style=\"text-align: right;\">\n",
       "      <th></th>\n",
       "      <th>country</th>\n",
       "      <th>admin1</th>\n",
       "      <th>geometry</th>\n",
       "      <th>sumpoor_sev_weighted</th>\n",
       "      <th>dep_housing_sev_weighted</th>\n",
       "      <th>dep_water_sev_weighted</th>\n",
       "      <th>dep_nutrition_sev_weighted</th>\n",
       "      <th>dep_health_sev_weighted</th>\n",
       "      <th>dep_education_sev_weighted</th>\n",
       "      <th>dep_sanitation_sev_weighted</th>\n",
       "      <th>deprived_sev_weighted</th>\n",
       "    </tr>\n",
       "  </thead>\n",
       "  <tbody>\n",
       "    <tr>\n",
       "      <th>0</th>\n",
       "      <td>Nigeria</td>\n",
       "      <td>Kebbi</td>\n",
       "      <td>POLYGON ((3.69500 11.11912, 3.68673 11.12049, ...</td>\n",
       "      <td>1.86702</td>\n",
       "      <td>0.216119</td>\n",
       "      <td>0.475643</td>\n",
       "      <td>0.338074</td>\n",
       "      <td>0.222553</td>\n",
       "      <td>0.608288</td>\n",
       "      <td>0.688351</td>\n",
       "      <td>0.804048</td>\n",
       "    </tr>\n",
       "    <tr>\n",
       "      <th>1</th>\n",
       "      <td>Nigeria</td>\n",
       "      <td>Niger</td>\n",
       "      <td>POLYGON ((3.75691 10.40526, 3.77251 10.40763, ...</td>\n",
       "      <td>1.62966</td>\n",
       "      <td>0.067511</td>\n",
       "      <td>0.433767</td>\n",
       "      <td>0.123788</td>\n",
       "      <td>0.209758</td>\n",
       "      <td>0.566079</td>\n",
       "      <td>0.692561</td>\n",
       "      <td>0.817226</td>\n",
       "    </tr>\n",
       "  </tbody>\n",
       "</table>\n",
       "</div>"
      ],
      "text/plain": [
       "   country admin1                                           geometry  \\\n",
       "0  Nigeria  Kebbi  POLYGON ((3.69500 11.11912, 3.68673 11.12049, ...   \n",
       "1  Nigeria  Niger  POLYGON ((3.75691 10.40526, 3.77251 10.40763, ...   \n",
       "\n",
       "   sumpoor_sev_weighted  dep_housing_sev_weighted  dep_water_sev_weighted  \\\n",
       "0               1.86702                  0.216119                0.475643   \n",
       "1               1.62966                  0.067511                0.433767   \n",
       "\n",
       "   dep_nutrition_sev_weighted  dep_health_sev_weighted  \\\n",
       "0                    0.338074                 0.222553   \n",
       "1                    0.123788                 0.209758   \n",
       "\n",
       "   dep_education_sev_weighted  dep_sanitation_sev_weighted  \\\n",
       "0                    0.608288                     0.688351   \n",
       "1                    0.566079                     0.692561   \n",
       "\n",
       "   deprived_sev_weighted  \n",
       "0               0.804048  \n",
       "1               0.817226  "
      ]
     },
     "execution_count": 179,
     "metadata": {},
     "output_type": "execute_result"
    }
   ],
   "source": [
    "import shapely.wkt\n",
    "from shapely.geometry import Point\n",
    "import pandas as pd \n",
    "import swifter  \n",
    "import numpy as np  \n",
    "import geopandas as gpd\n",
    "\n",
    "import matplotlib.pyplot as plt\n",
    "import seaborn as sns\n",
    "\n",
    "from sklearn.metrics import r2_score\n",
    "from sklearn.metrics import mean_squared_error as mse\n",
    "from sklearn.metrics import mean_absolute_error as mae\n",
    "\n",
    "import h3.api.numpy_int as h3\n",
    "\n",
    "preds = pd.read_csv('../data/predictions/preds_nigeria_res7_expanded-true.csv')\n",
    "adm1 = pd.read_csv('../data/validation/NGA_admin1_agg.csv') \n",
    "adm1['geometry'] = adm1.geometry.swifter.apply(shapely.wkt.loads)\n",
    "adm1 = gpd.GeoDataFrame(adm1,geometry='geometry')\n",
    "adm1.head(2)"
   ]
  },
  {
   "cell_type": "code",
   "execution_count": 180,
   "metadata": {},
   "outputs": [
    {
     "data": {
      "text/html": [
       "<div>\n",
       "<style scoped>\n",
       "    .dataframe tbody tr th:only-of-type {\n",
       "        vertical-align: middle;\n",
       "    }\n",
       "\n",
       "    .dataframe tbody tr th {\n",
       "        vertical-align: top;\n",
       "    }\n",
       "\n",
       "    .dataframe thead th {\n",
       "        text-align: right;\n",
       "    }\n",
       "</style>\n",
       "<table border=\"1\" class=\"dataframe\">\n",
       "  <thead>\n",
       "    <tr style=\"text-align: right;\">\n",
       "      <th></th>\n",
       "      <th>hex_code</th>\n",
       "      <th>population</th>\n",
       "    </tr>\n",
       "  </thead>\n",
       "  <tbody>\n",
       "    <tr>\n",
       "      <th>0</th>\n",
       "      <td>609534767129427967</td>\n",
       "      <td>1.147566</td>\n",
       "    </tr>\n",
       "    <tr>\n",
       "      <th>1</th>\n",
       "      <td>609543688313372671</td>\n",
       "      <td>1.155933</td>\n",
       "    </tr>\n",
       "    <tr>\n",
       "      <th>2</th>\n",
       "      <td>609543096580964351</td>\n",
       "      <td>NaN</td>\n",
       "    </tr>\n",
       "    <tr>\n",
       "      <th>3</th>\n",
       "      <td>609535950594244607</td>\n",
       "      <td>0.284716</td>\n",
       "    </tr>\n",
       "    <tr>\n",
       "      <th>4</th>\n",
       "      <td>609550834300092415</td>\n",
       "      <td>1.118444</td>\n",
       "    </tr>\n",
       "  </tbody>\n",
       "</table>\n",
       "</div>"
      ],
      "text/plain": [
       "             hex_code  population\n",
       "0  609534767129427967    1.147566\n",
       "1  609543688313372671    1.155933\n",
       "2  609543096580964351         NaN\n",
       "3  609535950594244607    0.284716\n",
       "4  609550834300092415    1.118444"
      ]
     },
     "execution_count": 180,
     "metadata": {},
     "output_type": "execute_result"
    }
   ],
   "source": [
    "preds.head()"
   ]
  },
  {
   "cell_type": "code",
   "execution_count": 155,
   "metadata": {},
   "outputs": [
    {
     "data": {
      "application/vnd.jupyter.widget-view+json": {
       "model_id": "3621528f97664d8ab0a2da0da39559e6",
       "version_major": 2,
       "version_minor": 0
      },
      "text/plain": [
       "Pandas Apply:   0%|          | 0/37 [00:00<?, ?it/s]"
      ]
     },
     "metadata": {},
     "output_type": "display_data"
    },
    {
     "data": {
      "text/html": [
       "<div>\n",
       "<style scoped>\n",
       "    .dataframe tbody tr th:only-of-type {\n",
       "        vertical-align: middle;\n",
       "    }\n",
       "\n",
       "    .dataframe tbody tr th {\n",
       "        vertical-align: top;\n",
       "    }\n",
       "\n",
       "    .dataframe thead th {\n",
       "        text-align: right;\n",
       "    }\n",
       "</style>\n",
       "<table border=\"1\" class=\"dataframe\">\n",
       "  <thead>\n",
       "    <tr style=\"text-align: right;\">\n",
       "      <th></th>\n",
       "      <th>country</th>\n",
       "      <th>admin1</th>\n",
       "      <th>geometry</th>\n",
       "      <th>sumpoor_sev_weighted</th>\n",
       "      <th>dep_housing_sev_weighted</th>\n",
       "      <th>dep_water_sev_weighted</th>\n",
       "      <th>dep_nutrition_sev_weighted</th>\n",
       "      <th>dep_health_sev_weighted</th>\n",
       "      <th>dep_education_sev_weighted</th>\n",
       "      <th>dep_sanitation_sev_weighted</th>\n",
       "      <th>deprived_sev_weighted</th>\n",
       "    </tr>\n",
       "  </thead>\n",
       "  <tbody>\n",
       "    <tr>\n",
       "      <th>0</th>\n",
       "      <td>Nigeria</td>\n",
       "      <td>Kebbi</td>\n",
       "      <td>POLYGON ((3.69500 11.11912, 3.68673 11.12049, ...</td>\n",
       "      <td>0.978757</td>\n",
       "      <td>0.113297</td>\n",
       "      <td>0.249348</td>\n",
       "      <td>0.177230</td>\n",
       "      <td>0.116670</td>\n",
       "      <td>0.318886</td>\n",
       "      <td>0.360857</td>\n",
       "      <td>0.421510</td>\n",
       "    </tr>\n",
       "    <tr>\n",
       "      <th>1</th>\n",
       "      <td>Nigeria</td>\n",
       "      <td>Niger</td>\n",
       "      <td>POLYGON ((3.75691 10.40526, 3.77251 10.40763, ...</td>\n",
       "      <td>0.854325</td>\n",
       "      <td>0.035392</td>\n",
       "      <td>0.227396</td>\n",
       "      <td>0.064894</td>\n",
       "      <td>0.109963</td>\n",
       "      <td>0.296758</td>\n",
       "      <td>0.363065</td>\n",
       "      <td>0.428418</td>\n",
       "    </tr>\n",
       "  </tbody>\n",
       "</table>\n",
       "</div>"
      ],
      "text/plain": [
       "   country admin1                                           geometry  \\\n",
       "0  Nigeria  Kebbi  POLYGON ((3.69500 11.11912, 3.68673 11.12049, ...   \n",
       "1  Nigeria  Niger  POLYGON ((3.75691 10.40526, 3.77251 10.40763, ...   \n",
       "\n",
       "   sumpoor_sev_weighted  dep_housing_sev_weighted  dep_water_sev_weighted  \\\n",
       "0              0.978757                  0.113297                0.249348   \n",
       "1              0.854325                  0.035392                0.227396   \n",
       "\n",
       "   dep_nutrition_sev_weighted  dep_health_sev_weighted  \\\n",
       "0                    0.177230                 0.116670   \n",
       "1                    0.064894                 0.109963   \n",
       "\n",
       "   dep_education_sev_weighted  dep_sanitation_sev_weighted  \\\n",
       "0                    0.318886                     0.360857   \n",
       "1                    0.296758                     0.363065   \n",
       "\n",
       "   deprived_sev_weighted  \n",
       "0               0.421510  \n",
       "1               0.428418  "
      ]
     },
     "execution_count": 155,
     "metadata": {},
     "output_type": "execute_result"
    }
   ],
   "source": [
    "adm1_weighted = pd.read_csv('../data/validation/NGA_admin1_agg_prop_child.csv') \n",
    "adm1_weighted['geometry'] = adm1_weighted.geometry.swifter.apply(shapely.wkt.loads)\n",
    "adm1_weighted = gpd.GeoDataFrame(adm1_weighted,geometry='geometry')\n",
    "adm1_weighted.head(2)"
   ]
  },
  {
   "cell_type": "code",
   "execution_count": 164,
   "metadata": {},
   "outputs": [
    {
     "data": {
      "application/vnd.jupyter.widget-view+json": {
       "model_id": "4ad5fa033f1841d09ca3d4b22880baa9",
       "version_major": 2,
       "version_minor": 0
      },
      "text/plain": [
       "Dask Apply:   0%|          | 0/16 [00:00<?, ?it/s]"
      ]
     },
     "metadata": {},
     "output_type": "display_data"
    }
   ],
   "source": [
    "preds['geometry'] = preds.hex_code.swifter.apply(lambda x: Point(h3.h3_to_geo(x)))"
   ]
  },
  {
   "cell_type": "code",
   "execution_count": 165,
   "metadata": {},
   "outputs": [],
   "source": [
    "preds = gpd.GeoDataFrame(preds,geometry='geometry')"
   ]
  },
  {
   "cell_type": "code",
   "execution_count": 166,
   "metadata": {},
   "outputs": [],
   "source": [
    "preds['state_pop_prop'] = preds.sjoin(adm1).groupby('admin1').population.transform(lambda x: x/x.sum())"
   ]
  },
  {
   "cell_type": "code",
   "execution_count": 176,
   "metadata": {},
   "outputs": [],
   "source": [
    "cols = [col for col in preds.columns if '_sev' in col]\n",
    "for col in cols:\n",
    "    preds[f\"{col}_pop_adj\"] = preds[col] * preds['state_pop_prop']"
   ]
  },
  {
   "cell_type": "code",
   "execution_count": 178,
   "metadata": {},
   "outputs": [
    {
     "data": {
      "text/plain": [
       "Index(['hex_code', 'population', 'geometry', 'state_pop_prop'], dtype='object')"
      ]
     },
     "execution_count": 178,
     "metadata": {},
     "output_type": "execute_result"
    }
   ],
   "source": []
  },
  {
   "cell_type": "code",
   "execution_count": 168,
   "metadata": {},
   "outputs": [],
   "source": [
    "true_cols = [col+'_weighted' for col in cols]"
   ]
  },
  {
   "cell_type": "code",
   "execution_count": 175,
   "metadata": {},
   "outputs": [
    {
     "data": {
      "text/plain": [
       "[]"
      ]
     },
     "execution_count": 175,
     "metadata": {},
     "output_type": "execute_result"
    }
   ],
   "source": [
    "cols"
   ]
  },
  {
   "cell_type": "code",
   "execution_count": 169,
   "metadata": {},
   "outputs": [],
   "source": [
    "agg_dict = {col:'mean' for col in cols}\n",
    "agg_dict.update({col:'mean' for col in true_cols if col in adm1.columns})\n",
    "agg_dict.update({col:'sum' for col in preds.columns if '_pop_adj' in col})\n",
    "agg_dict.update({'population':'sum'})\n",
    "state_eval = adm1.sjoin(preds).groupby('admin1').agg(agg_dict)"
   ]
  },
  {
   "cell_type": "code",
   "execution_count": 170,
   "metadata": {},
   "outputs": [
    {
     "data": {
      "text/html": [
       "<div>\n",
       "<style scoped>\n",
       "    .dataframe tbody tr th:only-of-type {\n",
       "        vertical-align: middle;\n",
       "    }\n",
       "\n",
       "    .dataframe tbody tr th {\n",
       "        vertical-align: top;\n",
       "    }\n",
       "\n",
       "    .dataframe thead th {\n",
       "        text-align: right;\n",
       "    }\n",
       "</style>\n",
       "<table border=\"1\" class=\"dataframe\">\n",
       "  <thead>\n",
       "    <tr style=\"text-align: right;\">\n",
       "      <th></th>\n",
       "      <th>hex_code</th>\n",
       "      <th>population</th>\n",
       "      <th>geometry</th>\n",
       "      <th>state_pop_prop</th>\n",
       "    </tr>\n",
       "  </thead>\n",
       "  <tbody>\n",
       "    <tr>\n",
       "      <th>0</th>\n",
       "      <td>609534767129427967</td>\n",
       "      <td>1.147566</td>\n",
       "      <td>POINT (12.11257 8.48319)</td>\n",
       "      <td>0.000181</td>\n",
       "    </tr>\n",
       "    <tr>\n",
       "      <th>1</th>\n",
       "      <td>609543688313372671</td>\n",
       "      <td>1.155933</td>\n",
       "      <td>POINT (7.95302 5.57471)</td>\n",
       "      <td>0.000143</td>\n",
       "    </tr>\n",
       "    <tr>\n",
       "      <th>2</th>\n",
       "      <td>609543096580964351</td>\n",
       "      <td>NaN</td>\n",
       "      <td>POINT (6.60982 4.01175)</td>\n",
       "      <td>NaN</td>\n",
       "    </tr>\n",
       "    <tr>\n",
       "      <th>3</th>\n",
       "      <td>609535950594244607</td>\n",
       "      <td>0.284716</td>\n",
       "      <td>POINT (10.15947 7.69949)</td>\n",
       "      <td>0.000049</td>\n",
       "    </tr>\n",
       "    <tr>\n",
       "      <th>4</th>\n",
       "      <td>609550834300092415</td>\n",
       "      <td>1.118444</td>\n",
       "      <td>POINT (9.69926 7.21115)</td>\n",
       "      <td>0.000096</td>\n",
       "    </tr>\n",
       "  </tbody>\n",
       "</table>\n",
       "</div>"
      ],
      "text/plain": [
       "             hex_code  population                  geometry  state_pop_prop\n",
       "0  609534767129427967    1.147566  POINT (12.11257 8.48319)        0.000181\n",
       "1  609543688313372671    1.155933   POINT (7.95302 5.57471)        0.000143\n",
       "2  609543096580964351         NaN   POINT (6.60982 4.01175)             NaN\n",
       "3  609535950594244607    0.284716  POINT (10.15947 7.69949)        0.000049\n",
       "4  609550834300092415    1.118444   POINT (9.69926 7.21115)        0.000096"
      ]
     },
     "execution_count": 170,
     "metadata": {},
     "output_type": "execute_result"
    }
   ],
   "source": [
    "preds.head()"
   ]
  },
  {
   "cell_type": "code",
   "execution_count": 171,
   "metadata": {},
   "outputs": [
    {
     "data": {
      "text/html": [
       "<div>\n",
       "<style scoped>\n",
       "    .dataframe tbody tr th:only-of-type {\n",
       "        vertical-align: middle;\n",
       "    }\n",
       "\n",
       "    .dataframe tbody tr th {\n",
       "        vertical-align: top;\n",
       "    }\n",
       "\n",
       "    .dataframe thead th {\n",
       "        text-align: right;\n",
       "    }\n",
       "</style>\n",
       "<table border=\"1\" class=\"dataframe\">\n",
       "  <thead>\n",
       "    <tr style=\"text-align: right;\">\n",
       "      <th></th>\n",
       "      <th>population</th>\n",
       "    </tr>\n",
       "    <tr>\n",
       "      <th>admin1</th>\n",
       "      <th></th>\n",
       "    </tr>\n",
       "  </thead>\n",
       "  <tbody>\n",
       "    <tr>\n",
       "      <th>Abia</th>\n",
       "      <td>7980.182103</td>\n",
       "    </tr>\n",
       "    <tr>\n",
       "      <th>Adamawa</th>\n",
       "      <td>6342.591020</td>\n",
       "    </tr>\n",
       "    <tr>\n",
       "      <th>Akwa Ibom</th>\n",
       "      <td>11516.443716</td>\n",
       "    </tr>\n",
       "    <tr>\n",
       "      <th>Anambra</th>\n",
       "      <td>11891.014129</td>\n",
       "    </tr>\n",
       "    <tr>\n",
       "      <th>Bauchi</th>\n",
       "      <td>12241.628395</td>\n",
       "    </tr>\n",
       "  </tbody>\n",
       "</table>\n",
       "</div>"
      ],
      "text/plain": [
       "             population\n",
       "admin1                 \n",
       "Abia        7980.182103\n",
       "Adamawa     6342.591020\n",
       "Akwa Ibom  11516.443716\n",
       "Anambra    11891.014129\n",
       "Bauchi     12241.628395"
      ]
     },
     "execution_count": 171,
     "metadata": {},
     "output_type": "execute_result"
    }
   ],
   "source": [
    "state_eval.head()"
   ]
  },
  {
   "cell_type": "code",
   "execution_count": 153,
   "metadata": {},
   "outputs": [],
   "source": [
    "true_cols = [col for col in state_eval.columns if '_weighted' in col]\n",
    "\n",
    "for true_col in true_cols: \n",
    "    col = true_col.replace('_weighted','')\n",
    "    if col in state_eval.columns:\n",
    "        fig,ax=plt.subplots(dpi=200)\n",
    "        plt.scatter(state_eval[col],state_eval[true_col])\n",
    "        ax.set_xlabel('Predicted') \n",
    "        ax.set_ylabel('True') \n",
    "        ax.set_title(col)\n",
    "        plt.show() "
   ]
  },
  {
   "cell_type": "code",
   "execution_count": 154,
   "metadata": {},
   "outputs": [
    {
     "ename": "ValueError",
     "evalue": "'right_df' should be GeoDataFrame, got <class 'pandas.core.frame.DataFrame'>",
     "output_type": "error",
     "traceback": [
      "\u001b[0;31m---------------------------------------------------------------------------\u001b[0m",
      "\u001b[0;31mValueError\u001b[0m                                Traceback (most recent call last)",
      "\u001b[1;32m/Users/johnf/Desktop/Work/InFoMM/DSSG/STC-UNICEF-DSSG/stc_unicef_cpi/notebooks/data_cleaning_v2.ipynb Celda 255\u001b[0m in \u001b[0;36m<cell line: 1>\u001b[0;34m()\u001b[0m\n\u001b[0;32m----> <a href='vscode-notebook-cell:/Users/johnf/Desktop/Work/InFoMM/DSSG/STC-UNICEF-DSSG/stc_unicef_cpi/notebooks/data_cleaning_v2.ipynb#ch0000421?line=0'>1</a>\u001b[0m state_eval_weighted \u001b[39m=\u001b[39m adm1_weighted\u001b[39m.\u001b[39;49msjoin(preds)\u001b[39m.\u001b[39mgroupby(\u001b[39m'\u001b[39m\u001b[39madmin1\u001b[39m\u001b[39m'\u001b[39m)\u001b[39m.\u001b[39magg(agg_dict)\n\u001b[1;32m      <a href='vscode-notebook-cell:/Users/johnf/Desktop/Work/InFoMM/DSSG/STC-UNICEF-DSSG/stc_unicef_cpi/notebooks/data_cleaning_v2.ipynb#ch0000421?line=1'>2</a>\u001b[0m true_cols \u001b[39m=\u001b[39m [col \u001b[39mfor\u001b[39;00m col \u001b[39min\u001b[39;00m state_eval_weighted\u001b[39m.\u001b[39mcolumns \u001b[39mif\u001b[39;00m \u001b[39m'\u001b[39m\u001b[39m_weighted\u001b[39m\u001b[39m'\u001b[39m \u001b[39min\u001b[39;00m col]\n",
      "File \u001b[0;32m~/opt/miniconda3/envs/dssg/lib/python3.9/site-packages/geopandas/geodataframe.py:2072\u001b[0m, in \u001b[0;36mGeoDataFrame.sjoin\u001b[0;34m(self, df, *args, **kwargs)\u001b[0m\n\u001b[1;32m   1994\u001b[0m \u001b[39mdef\u001b[39;00m \u001b[39msjoin\u001b[39m(\u001b[39mself\u001b[39m, df, \u001b[39m*\u001b[39margs, \u001b[39m*\u001b[39m\u001b[39m*\u001b[39mkwargs):\n\u001b[1;32m   1995\u001b[0m     \u001b[39m\"\"\"Spatial join of two GeoDataFrames.\u001b[39;00m\n\u001b[1;32m   1996\u001b[0m \n\u001b[1;32m   1997\u001b[0m \u001b[39m    See the User Guide page :doc:`../../user_guide/mergingdata` for details.\u001b[39;00m\n\u001b[0;32m   (...)\u001b[0m\n\u001b[1;32m   2070\u001b[0m \u001b[39m    sjoin : equivalent top-level function\u001b[39;00m\n\u001b[1;32m   2071\u001b[0m \u001b[39m    \"\"\"\u001b[39;00m\n\u001b[0;32m-> 2072\u001b[0m     \u001b[39mreturn\u001b[39;00m geopandas\u001b[39m.\u001b[39;49msjoin(left_df\u001b[39m=\u001b[39;49m\u001b[39mself\u001b[39;49m, right_df\u001b[39m=\u001b[39;49mdf, \u001b[39m*\u001b[39;49margs, \u001b[39m*\u001b[39;49m\u001b[39m*\u001b[39;49mkwargs)\n",
      "File \u001b[0;32m~/opt/miniconda3/envs/dssg/lib/python3.9/site-packages/geopandas/tools/sjoin.py:122\u001b[0m, in \u001b[0;36msjoin\u001b[0;34m(left_df, right_df, how, predicate, lsuffix, rsuffix, **kwargs)\u001b[0m\n\u001b[1;32m    119\u001b[0m     first \u001b[39m=\u001b[39m \u001b[39mnext\u001b[39m(\u001b[39miter\u001b[39m(kwargs\u001b[39m.\u001b[39mkeys()))\n\u001b[1;32m    120\u001b[0m     \u001b[39mraise\u001b[39;00m \u001b[39mTypeError\u001b[39;00m(\u001b[39mf\u001b[39m\u001b[39m\"\u001b[39m\u001b[39msjoin() got an unexpected keyword argument \u001b[39m\u001b[39m'\u001b[39m\u001b[39m{\u001b[39;00mfirst\u001b[39m}\u001b[39;00m\u001b[39m'\u001b[39m\u001b[39m\"\u001b[39m)\n\u001b[0;32m--> 122\u001b[0m _basic_checks(left_df, right_df, how, lsuffix, rsuffix)\n\u001b[1;32m    124\u001b[0m indices \u001b[39m=\u001b[39m _geom_predicate_query(left_df, right_df, predicate)\n\u001b[1;32m    126\u001b[0m joined \u001b[39m=\u001b[39m _frame_join(indices, left_df, right_df, how, lsuffix, rsuffix)\n",
      "File \u001b[0;32m~/opt/miniconda3/envs/dssg/lib/python3.9/site-packages/geopandas/tools/sjoin.py:155\u001b[0m, in \u001b[0;36m_basic_checks\u001b[0;34m(left_df, right_df, how, lsuffix, rsuffix)\u001b[0m\n\u001b[1;32m    150\u001b[0m     \u001b[39mraise\u001b[39;00m \u001b[39mValueError\u001b[39;00m(\n\u001b[1;32m    151\u001b[0m         \u001b[39m\"\u001b[39m\u001b[39m'\u001b[39m\u001b[39mleft_df\u001b[39m\u001b[39m'\u001b[39m\u001b[39m should be GeoDataFrame, got \u001b[39m\u001b[39m{}\u001b[39;00m\u001b[39m\"\u001b[39m\u001b[39m.\u001b[39mformat(\u001b[39mtype\u001b[39m(left_df))\n\u001b[1;32m    152\u001b[0m     )\n\u001b[1;32m    154\u001b[0m \u001b[39mif\u001b[39;00m \u001b[39mnot\u001b[39;00m \u001b[39misinstance\u001b[39m(right_df, GeoDataFrame):\n\u001b[0;32m--> 155\u001b[0m     \u001b[39mraise\u001b[39;00m \u001b[39mValueError\u001b[39;00m(\n\u001b[1;32m    156\u001b[0m         \u001b[39m\"\u001b[39m\u001b[39m'\u001b[39m\u001b[39mright_df\u001b[39m\u001b[39m'\u001b[39m\u001b[39m should be GeoDataFrame, got \u001b[39m\u001b[39m{}\u001b[39;00m\u001b[39m\"\u001b[39m\u001b[39m.\u001b[39mformat(\u001b[39mtype\u001b[39m(right_df))\n\u001b[1;32m    157\u001b[0m     )\n\u001b[1;32m    159\u001b[0m allowed_hows \u001b[39m=\u001b[39m [\u001b[39m\"\u001b[39m\u001b[39mleft\u001b[39m\u001b[39m\"\u001b[39m, \u001b[39m\"\u001b[39m\u001b[39mright\u001b[39m\u001b[39m\"\u001b[39m, \u001b[39m\"\u001b[39m\u001b[39minner\u001b[39m\u001b[39m\"\u001b[39m]\n\u001b[1;32m    160\u001b[0m \u001b[39mif\u001b[39;00m how \u001b[39mnot\u001b[39;00m \u001b[39min\u001b[39;00m allowed_hows:\n",
      "\u001b[0;31mValueError\u001b[0m: 'right_df' should be GeoDataFrame, got <class 'pandas.core.frame.DataFrame'>"
     ]
    }
   ],
   "source": [
    "state_eval_weighted = adm1_weighted.sjoin(preds).groupby('admin1').agg(agg_dict)\n",
    "true_cols = [col for col in state_eval_weighted.columns if '_weighted' in col]"
   ]
  },
  {
   "cell_type": "code",
   "execution_count": 150,
   "metadata": {},
   "outputs": [],
   "source": [
    "for true_col in true_cols: \n",
    "    col = true_col.replace('_weighted','')\n",
    "    if col in state_eval_weighted.columns:\n",
    "        fig,ax=plt.subplots(dpi=200)\n",
    "        plt.scatter(state_eval_weighted[col],state_eval_weighted[true_col])\n",
    "        ax.set_xlabel('Predicted') \n",
    "        ax.set_ylabel('True') \n",
    "        ax.set_title(col)\n",
    "        plt.show() "
   ]
  },
  {
   "cell_type": "code",
   "execution_count": 151,
   "metadata": {},
   "outputs": [
    {
     "ename": "KeyError",
     "evalue": "'deprived_sev_pop_adj'",
     "output_type": "error",
     "traceback": [
      "\u001b[0;31m---------------------------------------------------------------------------\u001b[0m",
      "\u001b[0;31mKeyError\u001b[0m                                  Traceback (most recent call last)",
      "File \u001b[0;32m~/opt/miniconda3/envs/dssg/lib/python3.9/site-packages/pandas/core/indexes/base.py:3621\u001b[0m, in \u001b[0;36mIndex.get_loc\u001b[0;34m(self, key, method, tolerance)\u001b[0m\n\u001b[1;32m   3620\u001b[0m \u001b[39mtry\u001b[39;00m:\n\u001b[0;32m-> 3621\u001b[0m     \u001b[39mreturn\u001b[39;00m \u001b[39mself\u001b[39;49m\u001b[39m.\u001b[39;49m_engine\u001b[39m.\u001b[39;49mget_loc(casted_key)\n\u001b[1;32m   3622\u001b[0m \u001b[39mexcept\u001b[39;00m \u001b[39mKeyError\u001b[39;00m \u001b[39mas\u001b[39;00m err:\n",
      "File \u001b[0;32m~/opt/miniconda3/envs/dssg/lib/python3.9/site-packages/pandas/_libs/index.pyx:136\u001b[0m, in \u001b[0;36mpandas._libs.index.IndexEngine.get_loc\u001b[0;34m()\u001b[0m\n",
      "File \u001b[0;32m~/opt/miniconda3/envs/dssg/lib/python3.9/site-packages/pandas/_libs/index.pyx:163\u001b[0m, in \u001b[0;36mpandas._libs.index.IndexEngine.get_loc\u001b[0;34m()\u001b[0m\n",
      "File \u001b[0;32mpandas/_libs/hashtable_class_helper.pxi:5198\u001b[0m, in \u001b[0;36mpandas._libs.hashtable.PyObjectHashTable.get_item\u001b[0;34m()\u001b[0m\n",
      "File \u001b[0;32mpandas/_libs/hashtable_class_helper.pxi:5206\u001b[0m, in \u001b[0;36mpandas._libs.hashtable.PyObjectHashTable.get_item\u001b[0;34m()\u001b[0m\n",
      "\u001b[0;31mKeyError\u001b[0m: 'deprived_sev_pop_adj'",
      "\nThe above exception was the direct cause of the following exception:\n",
      "\u001b[0;31mKeyError\u001b[0m                                  Traceback (most recent call last)",
      "\u001b[1;32m/Users/johnf/Desktop/Work/InFoMM/DSSG/STC-UNICEF-DSSG/stc_unicef_cpi/notebooks/data_cleaning_v2.ipynb Celda 257\u001b[0m in \u001b[0;36m<cell line: 4>\u001b[0;34m()\u001b[0m\n\u001b[1;32m      <a href='vscode-notebook-cell:/Users/johnf/Desktop/Work/InFoMM/DSSG/STC-UNICEF-DSSG/stc_unicef_cpi/notebooks/data_cleaning_v2.ipynb#ch0000423?line=1'>2</a>\u001b[0m col \u001b[39m=\u001b[39m true_col\u001b[39m.\u001b[39mreplace(\u001b[39m'\u001b[39m\u001b[39m_weighted\u001b[39m\u001b[39m'\u001b[39m,\u001b[39m'\u001b[39m\u001b[39m_pop_adj\u001b[39m\u001b[39m'\u001b[39m)\n\u001b[1;32m      <a href='vscode-notebook-cell:/Users/johnf/Desktop/Work/InFoMM/DSSG/STC-UNICEF-DSSG/stc_unicef_cpi/notebooks/data_cleaning_v2.ipynb#ch0000423?line=2'>3</a>\u001b[0m eval_df \u001b[39m=\u001b[39m state_eval_weighted\u001b[39m.\u001b[39mdropna()\u001b[39m.\u001b[39mcopy()\n\u001b[0;32m----> <a href='vscode-notebook-cell:/Users/johnf/Desktop/Work/InFoMM/DSSG/STC-UNICEF-DSSG/stc_unicef_cpi/notebooks/data_cleaning_v2.ipynb#ch0000423?line=3'>4</a>\u001b[0m \u001b[39mprint\u001b[39m(eval_df[eval_df[col]\u001b[39m.\u001b[39mbetween(\u001b[39m0.2\u001b[39m,\u001b[39m0.25\u001b[39m)\u001b[39m&\u001b[39meval_df[true_col]\u001b[39m.\u001b[39mbetween(\u001b[39m0.4\u001b[39m,\u001b[39m0.5\u001b[39m)]\u001b[39m.\u001b[39mindex)\n\u001b[1;32m      <a href='vscode-notebook-cell:/Users/johnf/Desktop/Work/InFoMM/DSSG/STC-UNICEF-DSSG/stc_unicef_cpi/notebooks/data_cleaning_v2.ipynb#ch0000423?line=4'>5</a>\u001b[0m eval_df[eval_df[col]\u001b[39m.\u001b[39mbetween(\u001b[39m0.2\u001b[39m,\u001b[39m0.25\u001b[39m)\u001b[39m&\u001b[39meval_df[true_col]\u001b[39m.\u001b[39mbetween(\u001b[39m0.4\u001b[39m,\u001b[39m0.5\u001b[39m)] \u001b[39m=\u001b[39m np\u001b[39m.\u001b[39mnan \n\u001b[1;32m      <a href='vscode-notebook-cell:/Users/johnf/Desktop/Work/InFoMM/DSSG/STC-UNICEF-DSSG/stc_unicef_cpi/notebooks/data_cleaning_v2.ipynb#ch0000423?line=5'>6</a>\u001b[0m eval_df \u001b[39m=\u001b[39m eval_df\u001b[39m.\u001b[39mdropna() \n",
      "File \u001b[0;32m~/opt/miniconda3/envs/dssg/lib/python3.9/site-packages/pandas/core/frame.py:3505\u001b[0m, in \u001b[0;36mDataFrame.__getitem__\u001b[0;34m(self, key)\u001b[0m\n\u001b[1;32m   3503\u001b[0m \u001b[39mif\u001b[39;00m \u001b[39mself\u001b[39m\u001b[39m.\u001b[39mcolumns\u001b[39m.\u001b[39mnlevels \u001b[39m>\u001b[39m \u001b[39m1\u001b[39m:\n\u001b[1;32m   3504\u001b[0m     \u001b[39mreturn\u001b[39;00m \u001b[39mself\u001b[39m\u001b[39m.\u001b[39m_getitem_multilevel(key)\n\u001b[0;32m-> 3505\u001b[0m indexer \u001b[39m=\u001b[39m \u001b[39mself\u001b[39;49m\u001b[39m.\u001b[39;49mcolumns\u001b[39m.\u001b[39;49mget_loc(key)\n\u001b[1;32m   3506\u001b[0m \u001b[39mif\u001b[39;00m is_integer(indexer):\n\u001b[1;32m   3507\u001b[0m     indexer \u001b[39m=\u001b[39m [indexer]\n",
      "File \u001b[0;32m~/opt/miniconda3/envs/dssg/lib/python3.9/site-packages/pandas/core/indexes/base.py:3623\u001b[0m, in \u001b[0;36mIndex.get_loc\u001b[0;34m(self, key, method, tolerance)\u001b[0m\n\u001b[1;32m   3621\u001b[0m     \u001b[39mreturn\u001b[39;00m \u001b[39mself\u001b[39m\u001b[39m.\u001b[39m_engine\u001b[39m.\u001b[39mget_loc(casted_key)\n\u001b[1;32m   3622\u001b[0m \u001b[39mexcept\u001b[39;00m \u001b[39mKeyError\u001b[39;00m \u001b[39mas\u001b[39;00m err:\n\u001b[0;32m-> 3623\u001b[0m     \u001b[39mraise\u001b[39;00m \u001b[39mKeyError\u001b[39;00m(key) \u001b[39mfrom\u001b[39;00m \u001b[39merr\u001b[39;00m\n\u001b[1;32m   3624\u001b[0m \u001b[39mexcept\u001b[39;00m \u001b[39mTypeError\u001b[39;00m:\n\u001b[1;32m   3625\u001b[0m     \u001b[39m# If we have a listlike key, _check_indexing_error will raise\u001b[39;00m\n\u001b[1;32m   3626\u001b[0m     \u001b[39m#  InvalidIndexError. Otherwise we fall through and re-raise\u001b[39;00m\n\u001b[1;32m   3627\u001b[0m     \u001b[39m#  the TypeError.\u001b[39;00m\n\u001b[1;32m   3628\u001b[0m     \u001b[39mself\u001b[39m\u001b[39m.\u001b[39m_check_indexing_error(key)\n",
      "\u001b[0;31mKeyError\u001b[0m: 'deprived_sev_pop_adj'"
     ]
    }
   ],
   "source": [
    "true_col = 'deprived_sev_weighted'\n",
    "col = true_col.replace('_weighted','_pop_adj')\n",
    "eval_df = state_eval_weighted.dropna().copy()\n",
    "print(eval_df[eval_df[col].between(0.2,0.25)&eval_df[true_col].between(0.4,0.5)].index)\n",
    "eval_df[eval_df[col].between(0.2,0.25)&eval_df[true_col].between(0.4,0.5)] = np.nan \n",
    "eval_df = eval_df.dropna() \n",
    "true_vals = eval_df[true_col]\n",
    "pred_vals = eval_df[col] \n",
    "pop_vals = eval_df['population']*25*20.6\n",
    "r2 = r2_score(true_vals,pred_vals) \n",
    "rmse = np.sqrt(mse(true_vals,pred_vals)) \n",
    "mae_est = mae(true_vals,pred_vals)\n",
    "r2_pw = r2_score(true_vals,pred_vals,sample_weight=pop_vals) "
   ]
  },
  {
   "cell_type": "code",
   "execution_count": null,
   "metadata": {},
   "outputs": [],
   "source": [
    "r2_pw"
   ]
  },
  {
   "cell_type": "code",
   "execution_count": null,
   "metadata": {},
   "outputs": [],
   "source": [
    "\n",
    "\n",
    "do_log = False\n",
    "\n",
    "for true_col in true_cols:\n",
    "    col = true_col.replace(\"_weighted\", \"_pop_adj\")\n",
    "    if col in state_eval_weighted.columns:\n",
    "        fig, ax = plt.subplots(dpi=200)\n",
    "        eval_df = state_eval_weighted.dropna()\n",
    "        true_vals = eval_df[true_col]\n",
    "        pred_vals = eval_df[col]\n",
    "        pop_vals = eval_df[\"population\"] * 25 * 20.6\n",
    "        if do_log:\n",
    "            pop_vals = np.log(pop_vals)\n",
    "        sns.scatterplot(\n",
    "            x=pred_vals, y=true_vals, size=pop_vals, hue=pred_vals.index == \"Lagos\"\n",
    "        )\n",
    "        ax.set_xlabel(\"Predicted\")\n",
    "        ax.set_ylabel(\"True\")\n",
    "        handles, labels = ax.get_legend_handles_labels()\n",
    "        new_labels = [\"Others\", \"Lagos\"] + labels[2:]\n",
    "        ax.legend(handles, new_labels)\n",
    "        r2 = r2_score(true_vals, pred_vals)\n",
    "        rmse = np.sqrt(mse(true_vals, pred_vals))\n",
    "        mae_est = mae(true_vals, pred_vals)\n",
    "        r2_pw = r2_score(true_vals, pred_vals, sample_weight=pop_vals)\n",
    "        rmse_pw = np.sqrt(mse(true_vals, pred_vals, sample_weight=pop_vals))\n",
    "        mae_est_pw = mae(true_vals, pred_vals, sample_weight=pop_vals)\n",
    "        # print(f\"Scores w Lagos for {col}:\\nR2 = {r2:.3f}; RMSE = {rmse:.3f}; MAE = {mae_est:.3f} \\nPop-weighted scores:\\nR2 = {r2_pw:.3f}; RMSE = {rmse_pw:.3f}; MAE = {mae_est_pw:.3f}\")\n",
    "        true_vals = true_vals.loc[true_vals.index != \"Lagos\"]\n",
    "        pred_vals = pred_vals.loc[pred_vals.index != \"Lagos\"]\n",
    "        pop_vals = pop_vals.loc[pop_vals.index != \"Lagos\"]\n",
    "        r2_wol = r2_score(true_vals, pred_vals)\n",
    "        rmse_wol = np.sqrt(mse(true_vals, pred_vals))\n",
    "        mae_est_wol = mae(true_vals, pred_vals)\n",
    "        r2_pw_wol = r2_score(true_vals, pred_vals, sample_weight=pop_vals)\n",
    "        rmse_pw_wol = np.sqrt(mse(true_vals, pred_vals, sample_weight=pop_vals))\n",
    "        mae_est_pw_wol = mae(true_vals, pred_vals, sample_weight=pop_vals)\n",
    "        # print(f\"Scores wo Lagos:\\nR2 = {r2:.3f}; RMSE = {rmse:.3f}; MAE = {mae_est:.3f} \\nPop-weighted scores:\\nR2 = {r2_pw:.3f}; RMSE = {rmse_pw:.3f}; MAE = {mae_est_pw:.3f}\")\n",
    "        ax.set_title(\n",
    "            f\"{col}\\nScores:\\nR2 = {r2:.3f}; RMSE = {rmse:.3f}; MAE = {mae_est:.3f} \\nPop-weighted scores:\\nR2 = {r2_pw:.3f}; RMSE = {rmse_pw:.3f}; MAE = {mae_est_pw:.3f}\\nScores wo Lagos:\\nR2 = {r2_wol:.3f}; RMSE = {rmse_wol:.3f}; MAE = {mae_est_wol:.3f} \\nPop-weighted scores:\\nR2 = {r2_pw_wol:.3f}; RMSE = {rmse_pw_wol:.3f}; MAE = {mae_est_pw_wol:.3f}\"\n",
    "        )\n",
    "        plt.show()\n",
    "        fig.savefig(f'../data/figures/nga_state_{col}_lagos_hl.png',bbox_inches = \"tight\")\n"
   ]
  },
  {
   "cell_type": "code",
   "execution_count": 54,
   "metadata": {},
   "outputs": [],
   "source": [
    "tmp = pd.read_csv('../data/models/cluster_runs.csv')"
   ]
  },
  {
   "cell_type": "code",
   "execution_count": 58,
   "metadata": {},
   "outputs": [],
   "source": [
    "pd.set_option('display.max_columns', None)"
   ]
  },
  {
   "cell_type": "code",
   "execution_count": 59,
   "metadata": {},
   "outputs": [
    {
     "data": {
      "text/html": [
       "<div>\n",
       "<style scoped>\n",
       "    .dataframe tbody tr th:only-of-type {\n",
       "        vertical-align: middle;\n",
       "    }\n",
       "\n",
       "    .dataframe tbody tr th {\n",
       "        vertical-align: top;\n",
       "    }\n",
       "\n",
       "    .dataframe thead th {\n",
       "        text-align: right;\n",
       "    }\n",
       "</style>\n",
       "<table border=\"1\" class=\"dataframe\">\n",
       "  <thead>\n",
       "    <tr style=\"text-align: right;\">\n",
       "      <th></th>\n",
       "      <th>Start Time</th>\n",
       "      <th>Duration</th>\n",
       "      <th>Run ID</th>\n",
       "      <th>Name</th>\n",
       "      <th>Source Type</th>\n",
       "      <th>Source Name</th>\n",
       "      <th>User</th>\n",
       "      <th>Status</th>\n",
       "      <th>best_model</th>\n",
       "      <th>colsample_bylevel</th>\n",
       "      <th>colsample_bytree</th>\n",
       "      <th>learning_rate</th>\n",
       "      <th>log_max_bin</th>\n",
       "      <th>max_features</th>\n",
       "      <th>max_leaves</th>\n",
       "      <th>min_child_samples</th>\n",
       "      <th>min_child_weight</th>\n",
       "      <th>n_estimators</th>\n",
       "      <th>num_leaves</th>\n",
       "      <th>reg_alpha</th>\n",
       "      <th>reg_lambda</th>\n",
       "      <th>subsample</th>\n",
       "      <th>mae</th>\n",
       "      <th>r2_score</th>\n",
       "      <th>rmse</th>\n",
       "      <th>cv_type</th>\n",
       "      <th>copy_to_nbrs</th>\n",
       "      <th>universal</th>\n",
       "      <th>imputation</th>\n",
       "      <th>interpretable</th>\n",
       "      <th>standardisation</th>\n",
       "      <th>eval_split_type</th>\n",
       "      <th>target_transform</th>\n",
       "    </tr>\n",
       "  </thead>\n",
       "  <tbody>\n",
       "    <tr>\n",
       "      <th>0</th>\n",
       "      <td>2022-08-19 08:51:22</td>\n",
       "      <td>182ms</td>\n",
       "      <td>65888c3c337b4d0ca07f1edc2c47f27e</td>\n",
       "      <td>deprived_sev</td>\n",
       "      <td>LOCAL</td>\n",
       "      <td>train_model.py</td>\n",
       "      <td>fitzgeraldj</td>\n",
       "      <td>FINISHED</td>\n",
       "      <td>lgbm</td>\n",
       "      <td>NaN</td>\n",
       "      <td>0.957055</td>\n",
       "      <td>0.124334</td>\n",
       "      <td>6.0</td>\n",
       "      <td>NaN</td>\n",
       "      <td>NaN</td>\n",
       "      <td>25.0</td>\n",
       "      <td>NaN</td>\n",
       "      <td>101.0</td>\n",
       "      <td>9.0</td>\n",
       "      <td>0.014758</td>\n",
       "      <td>0.157017</td>\n",
       "      <td>NaN</td>\n",
       "      <td>0.146754</td>\n",
       "      <td>0.605543</td>\n",
       "      <td>0.187626</td>\n",
       "      <td>normal</td>\n",
       "      <td>True</td>\n",
       "      <td>False</td>\n",
       "      <td>median</td>\n",
       "      <td>True</td>\n",
       "      <td>robust</td>\n",
       "      <td>normal</td>\n",
       "      <td>none</td>\n",
       "    </tr>\n",
       "    <tr>\n",
       "      <th>1</th>\n",
       "      <td>2022-08-19 08:51:22</td>\n",
       "      <td>167ms</td>\n",
       "      <td>6d68170d7032474ea0723e556c72a058</td>\n",
       "      <td>sumpoor_sev</td>\n",
       "      <td>LOCAL</td>\n",
       "      <td>train_model.py</td>\n",
       "      <td>fitzgeraldj</td>\n",
       "      <td>FINISHED</td>\n",
       "      <td>lgbm</td>\n",
       "      <td>NaN</td>\n",
       "      <td>0.942199</td>\n",
       "      <td>0.027616</td>\n",
       "      <td>8.0</td>\n",
       "      <td>NaN</td>\n",
       "      <td>NaN</td>\n",
       "      <td>10.0</td>\n",
       "      <td>NaN</td>\n",
       "      <td>252.0</td>\n",
       "      <td>60.0</td>\n",
       "      <td>0.045846</td>\n",
       "      <td>0.005547</td>\n",
       "      <td>NaN</td>\n",
       "      <td>0.361578</td>\n",
       "      <td>0.564992</td>\n",
       "      <td>0.472193</td>\n",
       "      <td>normal</td>\n",
       "      <td>True</td>\n",
       "      <td>False</td>\n",
       "      <td>median</td>\n",
       "      <td>True</td>\n",
       "      <td>robust</td>\n",
       "      <td>normal</td>\n",
       "      <td>none</td>\n",
       "    </tr>\n",
       "    <tr>\n",
       "      <th>2</th>\n",
       "      <td>2022-08-19 08:51:21</td>\n",
       "      <td>166ms</td>\n",
       "      <td>1a680ceadde048adaa37973fcc30aaab</td>\n",
       "      <td>dep_2_or_more_sev</td>\n",
       "      <td>LOCAL</td>\n",
       "      <td>train_model.py</td>\n",
       "      <td>fitzgeraldj</td>\n",
       "      <td>FINISHED</td>\n",
       "      <td>lgbm</td>\n",
       "      <td>NaN</td>\n",
       "      <td>0.677234</td>\n",
       "      <td>0.012385</td>\n",
       "      <td>7.0</td>\n",
       "      <td>NaN</td>\n",
       "      <td>NaN</td>\n",
       "      <td>25.0</td>\n",
       "      <td>NaN</td>\n",
       "      <td>583.0</td>\n",
       "      <td>27.0</td>\n",
       "      <td>0.000977</td>\n",
       "      <td>3.974266</td>\n",
       "      <td>NaN</td>\n",
       "      <td>0.173693</td>\n",
       "      <td>0.449356</td>\n",
       "      <td>0.230828</td>\n",
       "      <td>normal</td>\n",
       "      <td>True</td>\n",
       "      <td>False</td>\n",
       "      <td>median</td>\n",
       "      <td>True</td>\n",
       "      <td>robust</td>\n",
       "      <td>normal</td>\n",
       "      <td>none</td>\n",
       "    </tr>\n",
       "    <tr>\n",
       "      <th>3</th>\n",
       "      <td>2022-08-19 08:51:21</td>\n",
       "      <td>164ms</td>\n",
       "      <td>1a9ecb0ad0e44369869e46d68a55dc0b</td>\n",
       "      <td>dep_education_sev</td>\n",
       "      <td>LOCAL</td>\n",
       "      <td>train_model.py</td>\n",
       "      <td>fitzgeraldj</td>\n",
       "      <td>FINISHED</td>\n",
       "      <td>lgbm</td>\n",
       "      <td>NaN</td>\n",
       "      <td>0.737764</td>\n",
       "      <td>0.048942</td>\n",
       "      <td>8.0</td>\n",
       "      <td>NaN</td>\n",
       "      <td>NaN</td>\n",
       "      <td>30.0</td>\n",
       "      <td>NaN</td>\n",
       "      <td>461.0</td>\n",
       "      <td>10.0</td>\n",
       "      <td>0.074434</td>\n",
       "      <td>0.118227</td>\n",
       "      <td>NaN</td>\n",
       "      <td>0.110360</td>\n",
       "      <td>0.670618</td>\n",
       "      <td>0.156673</td>\n",
       "      <td>normal</td>\n",
       "      <td>True</td>\n",
       "      <td>False</td>\n",
       "      <td>median</td>\n",
       "      <td>True</td>\n",
       "      <td>robust</td>\n",
       "      <td>normal</td>\n",
       "      <td>none</td>\n",
       "    </tr>\n",
       "    <tr>\n",
       "      <th>4</th>\n",
       "      <td>2022-08-19 08:51:21</td>\n",
       "      <td>175ms</td>\n",
       "      <td>ac48d49612334a54bcdf351d1089464c</td>\n",
       "      <td>dep_sanitation_sev</td>\n",
       "      <td>LOCAL</td>\n",
       "      <td>train_model.py</td>\n",
       "      <td>fitzgeraldj</td>\n",
       "      <td>FINISHED</td>\n",
       "      <td>lgbm</td>\n",
       "      <td>NaN</td>\n",
       "      <td>0.964360</td>\n",
       "      <td>0.149787</td>\n",
       "      <td>7.0</td>\n",
       "      <td>NaN</td>\n",
       "      <td>NaN</td>\n",
       "      <td>18.0</td>\n",
       "      <td>NaN</td>\n",
       "      <td>35.0</td>\n",
       "      <td>39.0</td>\n",
       "      <td>0.004467</td>\n",
       "      <td>0.026964</td>\n",
       "      <td>NaN</td>\n",
       "      <td>0.171074</td>\n",
       "      <td>0.621734</td>\n",
       "      <td>0.223167</td>\n",
       "      <td>normal</td>\n",
       "      <td>True</td>\n",
       "      <td>False</td>\n",
       "      <td>median</td>\n",
       "      <td>True</td>\n",
       "      <td>robust</td>\n",
       "      <td>normal</td>\n",
       "      <td>none</td>\n",
       "    </tr>\n",
       "  </tbody>\n",
       "</table>\n",
       "</div>"
      ],
      "text/plain": [
       "            Start Time Duration                            Run ID  \\\n",
       "0  2022-08-19 08:51:22    182ms  65888c3c337b4d0ca07f1edc2c47f27e   \n",
       "1  2022-08-19 08:51:22    167ms  6d68170d7032474ea0723e556c72a058   \n",
       "2  2022-08-19 08:51:21    166ms  1a680ceadde048adaa37973fcc30aaab   \n",
       "3  2022-08-19 08:51:21    164ms  1a9ecb0ad0e44369869e46d68a55dc0b   \n",
       "4  2022-08-19 08:51:21    175ms  ac48d49612334a54bcdf351d1089464c   \n",
       "\n",
       "                 Name Source Type     Source Name         User    Status  \\\n",
       "0        deprived_sev       LOCAL  train_model.py  fitzgeraldj  FINISHED   \n",
       "1         sumpoor_sev       LOCAL  train_model.py  fitzgeraldj  FINISHED   \n",
       "2   dep_2_or_more_sev       LOCAL  train_model.py  fitzgeraldj  FINISHED   \n",
       "3   dep_education_sev       LOCAL  train_model.py  fitzgeraldj  FINISHED   \n",
       "4  dep_sanitation_sev       LOCAL  train_model.py  fitzgeraldj  FINISHED   \n",
       "\n",
       "  best_model  colsample_bylevel  colsample_bytree  learning_rate  log_max_bin  \\\n",
       "0       lgbm                NaN          0.957055       0.124334          6.0   \n",
       "1       lgbm                NaN          0.942199       0.027616          8.0   \n",
       "2       lgbm                NaN          0.677234       0.012385          7.0   \n",
       "3       lgbm                NaN          0.737764       0.048942          8.0   \n",
       "4       lgbm                NaN          0.964360       0.149787          7.0   \n",
       "\n",
       "   max_features  max_leaves  min_child_samples  min_child_weight  \\\n",
       "0           NaN         NaN               25.0               NaN   \n",
       "1           NaN         NaN               10.0               NaN   \n",
       "2           NaN         NaN               25.0               NaN   \n",
       "3           NaN         NaN               30.0               NaN   \n",
       "4           NaN         NaN               18.0               NaN   \n",
       "\n",
       "   n_estimators  num_leaves  reg_alpha  reg_lambda  subsample       mae  \\\n",
       "0         101.0         9.0   0.014758    0.157017        NaN  0.146754   \n",
       "1         252.0        60.0   0.045846    0.005547        NaN  0.361578   \n",
       "2         583.0        27.0   0.000977    3.974266        NaN  0.173693   \n",
       "3         461.0        10.0   0.074434    0.118227        NaN  0.110360   \n",
       "4          35.0        39.0   0.004467    0.026964        NaN  0.171074   \n",
       "\n",
       "   r2_score      rmse cv_type copy_to_nbrs universal imputation interpretable  \\\n",
       "0  0.605543  0.187626  normal         True     False     median          True   \n",
       "1  0.564992  0.472193  normal         True     False     median          True   \n",
       "2  0.449356  0.230828  normal         True     False     median          True   \n",
       "3  0.670618  0.156673  normal         True     False     median          True   \n",
       "4  0.621734  0.223167  normal         True     False     median          True   \n",
       "\n",
       "  standardisation eval_split_type target_transform  \n",
       "0          robust          normal             none  \n",
       "1          robust          normal             none  \n",
       "2          robust          normal             none  \n",
       "3          robust          normal             none  \n",
       "4          robust          normal             none  "
      ]
     },
     "execution_count": 59,
     "metadata": {},
     "output_type": "execute_result"
    }
   ],
   "source": [
    "tmp.head()"
   ]
  },
  {
   "cell_type": "code",
   "execution_count": 80,
   "metadata": {},
   "outputs": [],
   "source": [
    "# 7 x all, senegal, guinea, benin, sierra leone, liberia, cameroon, burkina faso, togo\n",
    "tmp.dropna(subset='Name',inplace=True)\n",
    "tmp['country'] = np.repeat(['all', 'senegal', 'guinea', 'benin', 'sierra leone', 'liberia', 'cameroon', 'burkina faso', 'togo'], 7)"
   ]
  },
  {
   "cell_type": "code",
   "execution_count": 100,
   "metadata": {},
   "outputs": [],
   "source": [
    "scores = tmp.groupby(by=['Name'],as_index=False)[['country','Name','mae','r2_score','rmse']].transform(lambda x: x)"
   ]
  },
  {
   "cell_type": "code",
   "execution_count": 101,
   "metadata": {},
   "outputs": [
    {
     "data": {
      "text/html": [
       "<div>\n",
       "<style scoped>\n",
       "    .dataframe tbody tr th:only-of-type {\n",
       "        vertical-align: middle;\n",
       "    }\n",
       "\n",
       "    .dataframe tbody tr th {\n",
       "        vertical-align: top;\n",
       "    }\n",
       "\n",
       "    .dataframe thead th {\n",
       "        text-align: right;\n",
       "    }\n",
       "</style>\n",
       "<table border=\"1\" class=\"dataframe\">\n",
       "  <thead>\n",
       "    <tr style=\"text-align: right;\">\n",
       "      <th></th>\n",
       "      <th>country</th>\n",
       "      <th>Name</th>\n",
       "      <th>mae</th>\n",
       "      <th>r2_score</th>\n",
       "      <th>rmse</th>\n",
       "    </tr>\n",
       "  </thead>\n",
       "  <tbody>\n",
       "    <tr>\n",
       "      <th>0</th>\n",
       "      <td>all</td>\n",
       "      <td>deprived_sev</td>\n",
       "      <td>0.146754</td>\n",
       "      <td>0.605543</td>\n",
       "      <td>0.187626</td>\n",
       "    </tr>\n",
       "    <tr>\n",
       "      <th>1</th>\n",
       "      <td>all</td>\n",
       "      <td>sumpoor_sev</td>\n",
       "      <td>0.361578</td>\n",
       "      <td>0.564992</td>\n",
       "      <td>0.472193</td>\n",
       "    </tr>\n",
       "    <tr>\n",
       "      <th>2</th>\n",
       "      <td>all</td>\n",
       "      <td>dep_2_or_more_sev</td>\n",
       "      <td>0.173693</td>\n",
       "      <td>0.449356</td>\n",
       "      <td>0.230828</td>\n",
       "    </tr>\n",
       "    <tr>\n",
       "      <th>3</th>\n",
       "      <td>all</td>\n",
       "      <td>dep_education_sev</td>\n",
       "      <td>0.110360</td>\n",
       "      <td>0.670618</td>\n",
       "      <td>0.156673</td>\n",
       "    </tr>\n",
       "    <tr>\n",
       "      <th>4</th>\n",
       "      <td>all</td>\n",
       "      <td>dep_sanitation_sev</td>\n",
       "      <td>0.171074</td>\n",
       "      <td>0.621734</td>\n",
       "      <td>0.223167</td>\n",
       "    </tr>\n",
       "  </tbody>\n",
       "</table>\n",
       "</div>"
      ],
      "text/plain": [
       "  country                Name       mae  r2_score      rmse\n",
       "0     all        deprived_sev  0.146754  0.605543  0.187626\n",
       "1     all         sumpoor_sev  0.361578  0.564992  0.472193\n",
       "2     all   dep_2_or_more_sev  0.173693  0.449356  0.230828\n",
       "3     all   dep_education_sev  0.110360  0.670618  0.156673\n",
       "4     all  dep_sanitation_sev  0.171074  0.621734  0.223167"
      ]
     },
     "execution_count": 101,
     "metadata": {},
     "output_type": "execute_result"
    }
   ],
   "source": [
    "scores.head()"
   ]
  },
  {
   "cell_type": "code",
   "execution_count": 137,
   "metadata": {},
   "outputs": [
    {
     "data": {
      "image/png": "[encoded data removed]",
      "text/plain": [
       "<Figure size 900x600 with 1 Axes>"
      ]
     },
     "metadata": {
      "needs_background": "light"
     },
     "output_type": "display_data"
    },
    {
     "data": {
      "image/png": "[encoded data removed]",
      "text/plain": [
       "<Figure size 900x600 with 1 Axes>"
      ]
     },
     "metadata": {
      "needs_background": "light"
     },
     "output_type": "display_data"
    },
    {
     "data": {
      "image/png": "[encoded data removed]",
      "text/plain": [
       "<Figure size 900x600 with 1 Axes>"
      ]
     },
     "metadata": {
      "needs_background": "light"
     },
     "output_type": "display_data"
    }
   ],
   "source": [
    "# sns.scatterplot(data=scores,y='mae')\n",
    "# plt.show()\n",
    "countries = ['all', 'senegal', 'guinea', 'benin', 'sierra leone', 'liberia', 'cameroon', 'burkina faso', 'togo'] \n",
    "countries = [ctry.title() for ctry in countries]\n",
    "targets = tmp.Name.unique().tolist() \n",
    "\n",
    "fig,ax = plt.subplots(dpi=150)\n",
    "scores.loc[scores.r2_score<0,'r2_score'] = 0 # threshold to zero for vis\n",
    "sns.barplot(data=scores,x='country',y='mae',hue='Name',ax=ax) \n",
    "fig2,ax2 = plt.subplots(dpi=150)\n",
    "sns.barplot(data=scores,x='country',y='rmse',hue='Name',ax=ax2) \n",
    "fig3,ax3 = plt.subplots(dpi=150)\n",
    "sns.barplot(data=scores,x='country',y='r2_score',hue='Name',ax=ax3) \n",
    "ax.set_ylabel('MAE')\n",
    "ax.set_xlabel('Country')\n",
    "ax.set_xticklabels(countries, rotation=40, ha='right')\n",
    "handles, labels = ax.get_legend_handles_labels()\n",
    "new_labels = [\"Av. dep. prev.\", \"Av. dep. sev.\", \"Av. prop. 2+ deps.\", \"Edu. dep.\",\"San. dep.\",\"Water dep.\",\"Housing dep.\"]\n",
    "ax.legend(handles, new_labels)\n",
    "        \n",
    "ax2.set_ylabel('RMSE')\n",
    "ax2.set_xlabel('Country')\n",
    "ax2.set_xticklabels(countries, rotation=40, ha='right')\n",
    "leg = ax2.get_legend() \n",
    "leg.remove()\n",
    "# handles, labels = ax2.get_legend_handles_labels()\n",
    "# new_labels = [\"Av. dep. prev.\", \"Av. dep. sev.\", \"Av. prop. 2+ deps.\", \"Edu. dep.\",\"San. dep.\",\"Water dep.\",\"Housing dep.\"]\n",
    "# ax2.legend(handles, new_labels)\n",
    "\n",
    "ax3.set_ylabel('R2 score')\n",
    "ax3.set_xlabel('Country')\n",
    "ax3.set_xticklabels(countries, rotation=40, ha='right')\n",
    "leg = ax3.get_legend() \n",
    "leg.remove()\n",
    "# handles, labels = ax3.get_legend_handles_labels()\n",
    "# new_labels = [\"Av. dep. prev.\", \"Av. dep. sev.\", \"Av. prop. 2+ deps.\", \"Edu. dep.\",\"San. dep.\",\"Water dep.\",\"Housing dep.\"]\n",
    "\n",
    "\n",
    "plt.show() "
   ]
  },
  {
   "cell_type": "code",
   "execution_count": 138,
   "metadata": {},
   "outputs": [
    {
     "name": "stdout",
     "output_type": "stream",
     "text": [
      "All, Senegal, Guinea, Benin, Sierra Leone, Liberia, Cameroon, Burkina Faso, Togo\n"
     ]
    }
   ],
   "source": [
    "print(*countries,sep=', ')"
   ]
  },
  {
   "cell_type": "code",
   "execution_count": 217,
   "metadata": {},
   "outputs": [],
   "source": [
    "DATA_DIRECTORY = Path('../data/processed')\n",
    "clean_name = 'hexes_nigeria_res7_thres30.csv'\n",
    "XY = pd.read_csv(DATA_DIRECTORY / clean_name)\n",
    "expanded_gt = pd.read_csv(\n",
    "    DATA_DIRECTORY\n",
    "    / f\"expanded_nigeria_res7_thres30.csv\"\n",
    ")\n",
    "# arbitrarily remove duplicate hexes\n",
    "expanded_gt.drop_duplicates(subset=[\"hex_code\"], inplace=True)\n",
    "\n",
    "# contains both count and mean value for targets\n",
    "# so currently as not using count beyond\n",
    "# thresholding just clean and drop\n",
    "expanded_gt.drop(\n",
    "    columns=[col for col in expanded_gt.columns if \"_count\" in col],\n",
    "    inplace=True,\n",
    ")\n",
    "expanded_gt.rename(\n",
    "    columns={col: col.replace(\"_mean\", \"\") for col in expanded_gt.columns},inplace=True\n",
    ")\n",
    "expanded_gt.set_index(\"hex_code\", inplace=True)\n",
    "cols = expanded_gt.columns.tolist() \n",
    "cols = [col.replace('_prev','_sev') for col in cols]\n",
    "cols = ['dep_'+col if '_sev' in col and 'sumpoor' not in col and 'deprived' not in col else col for col in cols]\n",
    "expanded_gt.columns = cols\n",
    "expanded_gt.drop(columns=[col for col in expanded_gt.columns if '_sev' not in col],inplace=True)\n",
    "# replace original gt with expanded gt\n",
    "col_order = XY.columns.tolist()\n",
    "XY[expanded_gt.columns.tolist()] = np.nan\n",
    "XY = XY.set_index(\"hex_code\").combine_first(expanded_gt).reset_index()\n",
    "XY = XY[col_order] # ensure in correct original order"
   ]
  },
  {
   "cell_type": "code",
   "execution_count": 214,
   "metadata": {},
   "outputs": [
    {
     "name": "stdout",
     "output_type": "stream",
     "text": [
      "hex_code name_commuting win_population_commuting win_roads_km_commuting area_commuting n_conflicts geometry length_km area_km2 road_density avg_d_kbps avg_u_kbps GSM LTE NR UMTS avg_signal slope built cnfd accessibility accessibility_walking_only pdsi precistd avg_rad cf_cvg ndwi evapotrans precipiacc copland precimean elevation ndvi population M_0 M_1 M_5 M_10 M_15 M_30 M_20 M_25 M_35 M_40 M_45 M_50 M_55 M_60 M_70 M_75 M_65 M_80 F_0 F_1 F_5 F_10 F_15 F_20 F_25 F_30 F_35 F_40 F_45 F_60 F_50 F_55 F_65 F_70 F_75 F_80 africa gdp_ppp_1990 gdp_ppp_2000 gdp_ppp_2015 ec2019 2019gdp survey year round cluster hhid indid location sex wealth wealthscore age hhweight sumpoor_sev dep_housing_sev dep_water_sev dep_sanitation_sev dep_nutrition_sev dep_health_sev dep_education_sev deprived_sev region region2 latnum longnum dep_2_or_more_sev dep_3_or_more_sev dep_4_or_more_sev hex_centroid lat long\n"
     ]
    }
   ],
   "source": [
    "print(*XY.columns)"
   ]
  },
  {
   "cell_type": "code",
   "execution_count": 195,
   "metadata": {},
   "outputs": [
    {
     "name": "stdout",
     "output_type": "stream",
     "text": [
      "dep_2_or_more_sev dep_3_or_more_sev dep_4_or_more_sev dep_education_sev dep_health_sev dep_housing_sev dep_nutrition_sev dep_sanitation_sev dep_water_sev deprived_sev sumpoor_sev\n"
     ]
    }
   ],
   "source": [
    "print(*[col for col in XY_exp.columns if '_sev' in col])"
   ]
  },
  {
   "cell_type": "code",
   "execution_count": null,
   "metadata": {},
   "outputs": [],
   "source": []
  }
 ],
 "metadata": {
  "kernelspec": {
   "display_name": "Python 3.9.13 ('dssg')",
   "language": "python",
   "name": "python3"
  },
  "language_info": {
   "codemirror_mode": {
    "name": "ipython",
    "version": 3
   },
   "file_extension": ".py",
   "mimetype": "text/x-python",
   "name": "python",
   "nbconvert_exporter": "python",
   "pygments_lexer": "ipython3",
   "version": "3.9.13"
  },
  "orig_nbformat": 4,
  "vscode": {
   "interpreter": {
    "hash": "0f1782bcc73560fcc6b67876a5451350856d869ba7693416f130e3e93ce636f3"
   }
  }
 },
 "nbformat": 4,
 "nbformat_minor": 2
}
