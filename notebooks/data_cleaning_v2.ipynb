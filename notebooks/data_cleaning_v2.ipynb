{
 "cells": [
  {
   "cell_type": "code",
   "execution_count": null,
   "metadata": {},
   "outputs": [],
   "source": [
    "%load_ext autoreload  \n",
    "%autoreload 2"
   ]
  },
  {
   "cell_type": "code",
   "execution_count": null,
   "metadata": {},
   "outputs": [],
   "source": [
    "import pandas as pd\n",
    "import geopandas as gpd\n",
    "import swifter\n",
    "\n",
    "pd.set_option(\"display.max_columns\", None)\n",
    "import numpy as np\n",
    "import matplotlib.pyplot as plt\n",
    "import stc_unicef_cpi.data.process_geotiff as pg\n",
    "import h3.api.numpy_int as h3\n",
    "\n",
    "from pathlib import Path\n"
   ]
  },
  {
   "cell_type": "code",
   "execution_count": null,
   "metadata": {},
   "outputs": [],
   "source": [
    "base_dir = Path(\"/Users/johnf/Downloads/higher_res_dssg/\")\n",
    "tiff_dir = base_dir / \"500m_res\"\n",
    "econ_dir = base_dir / \"econ\"\n",
    "clean_base = base_dir / \"nga_clean_v2.csv\"\n",
    "rwi_path = base_dir / \"NGA_relative_wealth_index.csv\"\n",
    "comm_zns = base_dir / \"commuting-zones-bdrys.csv\"\n",
    "connectivity_dir = base_dir / \"connectivity\"\n",
    "fb_conn = connectivity_dir / \"fb_nigeria.csv\"\n",
    "\n",
    "int_dir = Path(\"../data/interim/\")\n",
    "\n"
   ]
  },
  {
   "cell_type": "markdown",
   "metadata": {},
   "source": [
    "# Look at survey counts by country"
   ]
  },
  {
   "cell_type": "code",
   "execution_count": null,
   "metadata": {},
   "outputs": [],
   "source": [
    "all_data = pd.read_csv('../data/raw/childpoverty_microdata_gps_21jun22.csv') "
   ]
  },
  {
   "cell_type": "code",
   "execution_count": null,
   "metadata": {},
   "outputs": [],
   "source": [
    "import pycountry \n",
    "\n",
    "country = \"ghana\"\n",
    "country = pycountry.countries.search_fuzzy(country)[0]\n",
    "country_name = country.name \n",
    "country_code = country.alpha_3 "
   ]
  },
  {
   "cell_type": "code",
   "execution_count": null,
   "metadata": {},
   "outputs": [],
   "source": [
    "country_code"
   ]
  },
  {
   "cell_type": "code",
   "execution_count": null,
   "metadata": {},
   "outputs": [],
   "source": [
    "all_data.dropna(subset=['LATNUM','LONGNUM'],inplace=True)"
   ]
  },
  {
   "cell_type": "code",
   "execution_count": null,
   "metadata": {},
   "outputs": [],
   "source": [
    "import geopandas as gpd\n",
    "world = gpd.read_file(gpd.datasets.get_path(\"naturalearth_lowres\"))"
   ]
  },
  {
   "cell_type": "code",
   "execution_count": null,
   "metadata": {},
   "outputs": [],
   "source": [
    "world[world.name == country_name]"
   ]
  },
  {
   "cell_type": "code",
   "execution_count": null,
   "metadata": {},
   "outputs": [],
   "source": [
    "ctry_cnts = all_data.countrycode.value_counts()\n",
    "_idx = ctry_cnts.index.tolist() \n",
    "conts = [world[world.iso_a3==idx].continent.values[0] if len(world[world.iso_a3==idx].name)>0 else idx for idx in _idx] \n",
    "_idx = [world[world.iso_a3==idx].name.values[0] if len(world[world.iso_a3==idx].name)>0 else idx for idx in _idx] \n",
    "ctry_cnts = pd.DataFrame(ctry_cnts)\n",
    "ctry_cnts['continent'] = conts \n",
    "ctry_cnts.index = _idx\n",
    "ctry_cnts.head()"
   ]
  },
  {
   "cell_type": "code",
   "execution_count": null,
   "metadata": {},
   "outputs": [],
   "source": [
    "import seaborn as sns\n",
    "fig,ax = plt.subplots(dpi=200)\n",
    "sns.barplot(data=ctry_cnts[ctry_cnts.continent=='Africa'],x=ctry_cnts[ctry_cnts.continent=='Africa'].index,y='countrycode',ax=ax)\n",
    "ax.set_ylabel('No. surveys')\n",
    "ax.set_xlabel('Country')\n",
    "ax.set_xticklabels(ax.get_xticklabels(), rotation=40, ha='right')\n",
    "plt.show()"
   ]
  },
  {
   "cell_type": "code",
   "execution_count": null,
   "metadata": {},
   "outputs": [],
   "source": [
    "fig,ax = plt.subplots(dpi=200)\n",
    "ctry_cnts.plot.bar()\n",
    "plt.show()"
   ]
  },
  {
   "cell_type": "markdown",
   "metadata": {},
   "source": [
    "# Gen rows for model training params"
   ]
  },
  {
   "cell_type": "code",
   "execution_count": null,
   "metadata": {},
   "outputs": [],
   "source": [
    "c1 = np.array([\"all\", \"nigeria\", \"senegal\"])\n",
    "c2 = np.array([\"normal\", \"stratified\", \"spatial\"])\n",
    "c3 = np.array([\"all\", \"health\", \"nutrition\",\"av-3-prevalence\",\n",
    "            \"av-4-prevalence\",])\n",
    "c4 = np.array([\"none\", \"mean\", \"median\", \"knn\", \"linear\", \"rf\"])\n",
    "c5 = np.array([\"none\", \"standard\", \"minmax\", \"robust\"])\n",
    "c6 = np.array([\"none\", \"log\", \"power\"])\n",
    "c7 = np.array([\"normal\", \"stratified\", \"spatial\"])\n",
    "c8 = np.array([\"true\", \"false\"])\n",
    "c9 = np.array([\"true\", \"false\"])\n",
    "c10 = np.array([\"true\", \"false\"])\n",
    "\n",
    "# all, spatial, all, median, robust, none, normal, true, true, true (?)\n",
    "\n",
    "params = np.array(np.meshgrid(c1, c2, c3, c4, c5, c6, c7, c8, c9, c10)).T.reshape(-1, 10)\n",
    "# np.savetxt('../src/stc_unicef_cpi/models/clean_params.txt',params,delimiter=' ',fmt='%s')"
   ]
  },
  {
   "cell_type": "code",
   "execution_count": null,
   "metadata": {},
   "outputs": [],
   "source": [
    "params.shape"
   ]
  },
  {
   "cell_type": "markdown",
   "metadata": {},
   "source": [
    "# Spatial CV tests"
   ]
  },
  {
   "cell_type": "code",
   "execution_count": null,
   "metadata": {},
   "outputs": [],
   "source": [
    "from stc_unicef_cpi.data.cv_loaders import cv_split  \n",
    "\n",
    "world = gpd.read_file(gpd.datasets.get_path(\"naturalearth_lowres\"))\n",
    "nga = world[world.name == \"Nigeria\"].geometry.__geo_interface__['features'][0]['geometry']\n",
    "nga_hex = h3.polyfill(nga,res=7)"
   ]
  },
  {
   "cell_type": "code",
   "execution_count": null,
   "metadata": {},
   "outputs": [],
   "source": [
    "base_dir = Path(\"/Users/johnf/Downloads/higher_res_dssg/\")\n",
    "all_data = base_dir / \"clean_nga_w_autov1.csv\"\n",
    "thr_data = base_dir / \"nga_clean_v2_thr30.csv\"\n",
    "all_df = pd.read_csv(all_data)\n",
    "all_df[\"name_commuting_zone\"] = all_df[\"name_commuting_zone\"].astype(\"category\")\n",
    "thr_df = pd.read_csv(thr_data)\n",
    "thr_all = all_df.set_index(\"hex_code\").loc[thr_df.hex_code].reset_index()\n"
   ]
  },
  {
   "cell_type": "code",
   "execution_count": null,
   "metadata": {},
   "outputs": [],
   "source": [
    "import seaborn as sns\n",
    "\n",
    "k = 10\n",
    "N = 1000\n",
    "samp_hex = np.random.choice(thr_all[\"hex_code\"], size=N, replace=False)\n",
    "labels = np.random.rand(N)\n",
    "folds = cv_split(samp_hex, labels=labels, k=k, mode=\"spatial\")\n",
    "# sns.distplot(folds,kde=False, bins=k)\n",
    "fig, ax = plt.subplots(dpi=150)\n",
    "latlongs = np.array([h3.h3_to_geo(hex) for hex in samp_hex])\n",
    "for _, test_idxs in folds:\n",
    "    ax.scatter(latlongs[test_idxs, 1], latlongs[test_idxs, 0])\n",
    "plt.show()\n"
   ]
  },
  {
   "cell_type": "code",
   "execution_count": null,
   "metadata": {},
   "outputs": [],
   "source": [
    "from stc_unicef_cpi.data.cv_loaders import HexSpatialKFold\n",
    "\n",
    "latlongs = np.array([h3.h3_to_geo(hex) for hex in samp_hex])\n",
    "for train_idx, test_idx in HexSpatialKFold().split(samp_hex, labels):\n",
    "    fig, ax = plt.subplots(dpi=150)\n",
    "    ax.scatter(latlongs[train_idx, 1], latlongs[train_idx, 0], c=\"g\")\n",
    "    ax.scatter(latlongs[test_idx, 1], latlongs[test_idx, 0], c=\"r\")\n",
    "    plt.show()\n"
   ]
  },
  {
   "cell_type": "markdown",
   "metadata": {},
   "source": [
    "# Connectivity data"
   ]
  },
  {
   "cell_type": "code",
   "execution_count": null,
   "metadata": {},
   "outputs": [],
   "source": [
    "# import dask.dataframe as dd\n",
    "# from dask.delayed import delayed\n",
    "# parts = delayed(pd.read_excel)(connectivity_dir / 'cell_tower_nga.xlsx',\n",
    "#                                     sheet_name=0)\n",
    "# df = dd.from_delayed(parts)\n",
    "nga_cell_df = pd.read_excel(connectivity_dir / \"cell_tower_nga.xlsx\", sheet_name=0)\n"
   ]
  },
  {
   "cell_type": "code",
   "execution_count": null,
   "metadata": {},
   "outputs": [],
   "source": [
    "nga_cell_df.head()\n",
    "# will just want radio (generation category - want counts / cell if possible)\n",
    "# and possibly avg_signal, though generally 0\n",
    "# Most likely just overall count will be most useful\n"
   ]
  },
  {
   "cell_type": "code",
   "execution_count": null,
   "metadata": {},
   "outputs": [],
   "source": [
    "nga_cell_df[\"hex_code\"] = nga_cell_df[[\"lat\", \"long\"]].swifter.apply(\n",
    "    lambda x: h3.geo_to_h3(x[0], x[1], resolution=7), axis=1\n",
    ")\n"
   ]
  },
  {
   "cell_type": "code",
   "execution_count": null,
   "metadata": {},
   "outputs": [],
   "source": [
    "nga_cell_df = nga_cell_df[[\"hex_code\", \"radio\", \"avg_signal\"]]\n"
   ]
  },
  {
   "cell_type": "code",
   "execution_count": null,
   "metadata": {},
   "outputs": [],
   "source": [
    "nga_cell_df.groupby([\"hex_code\", \"radio\"]).size().unstack(level=1).fillna(0).join(\n",
    "    nga_cell_df.groupby(\"hex_code\").avg_signal.mean()\n",
    ").to_csv(connectivity_dir / \"nga_cell_clean.csv\")\n"
   ]
  },
  {
   "cell_type": "code",
   "execution_count": null,
   "metadata": {},
   "outputs": [],
   "source": [
    "import shapely.wkt\n",
    "\n",
    "# speed_df = dd.read_csv(connectivity_dir/\"speedtest_world.csv\",blocksize=25e6).set_index(\"Unnamed: 0\")  # 25MB chunks\n",
    "speed_df = pd.read_csv(Path('../data/external/connectivity') / \"2021-10-01_performance_mobile_tiles.csv\")\n",
    "# speed_df[\"geometry\"] = speed_df.geometry.swifter.apply(shapely.wkt.loads)\n",
    "ctry = \"Nigeria\" \n",
    "world = gpd.read_file(gpd.datasets.get_path(\"naturalearth_lowres\"))\n",
    "ctry = world[world.name == ctry]"
   ]
  },
  {
   "cell_type": "code",
   "execution_count": null,
   "metadata": {},
   "outputs": [],
   "source": [
    "speed_df.geometry.head()"
   ]
  },
  {
   "cell_type": "code",
   "execution_count": null,
   "metadata": {},
   "outputs": [],
   "source": [
    "# alt version\n",
    "bd_series = speed_df.geometry.str.replace(\"POLYGON\\s\\(+|\\)\",\"\").str.split(r\"\\s|,\\s\")\n",
    "speed_df['min_x'] = bd_series.str[1].astype('float')\n",
    "speed_df['max_y'] = bd_series.str[-1].astype('float')\n",
    "minx, miny, maxx, maxy = ctry.bounds.values.T.squeeze()\n",
    "res_df = speed_df[speed_df.min_x.between(minx-1e-2,maxx+1e-2)&speed_df.max_y.between(miny-1e-2,maxy+1e-2)].copy()\n",
    "res_df['geometry'] = res_df.geometry.swifter.apply(shapely.wkt.loads)\n",
    "res_df = gpd.GeoDataFrame(res_df, crs=\"epsg:4326\")\n",
    "\n",
    "nga_speed_df = gpd.sjoin(\n",
    "    res_df, ctry, how=\"inner\", op=\"intersects\"\n",
    ")\n"
   ]
  },
  {
   "cell_type": "code",
   "execution_count": null,
   "metadata": {},
   "outputs": [],
   "source": [
    "# original version \n",
    "speed_df[\"geometry\"] = speed_df.geometry.swifter.apply(shapely.wkt.loads)\n",
    "speed_df = gpd.GeoDataFrame(speed_df, crs=\"epsg:4326\")\n",
    "nga_speed_df = gpd.sjoin(\n",
    "    speed_df, ctry, how=\"inner\", op=\"intersects\"\n",
    ")\n"
   ]
  },
  {
   "cell_type": "code",
   "execution_count": null,
   "metadata": {},
   "outputs": [],
   "source": [
    "# def centroid_lat_from_shply(wkt_str):\n",
    "#     try:\n",
    "#         return shapely.wkt.loads(wkt_str).centroid.coords.xy[1]\n",
    "#     except:\n",
    "#         # assume wkt reading error\n",
    "#         return np.nan\n",
    "# def centroid_long_from_shply(wkt_str):\n",
    "#     try:\n",
    "#         return shapely.wkt.loads(wkt_str).centroid.coords.xy[0]\n",
    "#     except:\n",
    "#         # assume wkt reading error\n",
    "#         return np.nan\n",
    "\n",
    "# def centroid_latlong_from_shply(wkt_str):\n",
    "#     try:\n",
    "#         return np.array(shapely.wkt.loads(wkt_str).centroid.coords.xy).flatten()\n",
    "#     except:\n",
    "#         # assume wkt reading error\n",
    "#         return np.array([np.nan,np.nan])\n",
    "\n",
    "# # speed_df['lat'] = speed_df.geometry.apply(centroid_lat_from_shply, meta=('geometry', float))\n",
    "# # speed_df['long'] = speed_df.geometry.apply(centroid_long_from_shply, meta=('geometry', float))\n",
    "# # speed_df[['lat','long']] = speed_df.geometry.swifter.apply(centroid_latlong_from_shply)\n",
    "# speed_df['lat'] = speed_df.geometry.swifter.apply(centroid_lat_from_shply)\n"
   ]
  },
  {
   "cell_type": "code",
   "execution_count": null,
   "metadata": {},
   "outputs": [],
   "source": [
    "tmp = nga_speed_df.geometry.swifter.apply(\n",
    "    lambda x: pd.Series(np.array(x.centroid.coords.xy).flatten())\n",
    ")\n"
   ]
  },
  {
   "cell_type": "code",
   "execution_count": null,
   "metadata": {},
   "outputs": [],
   "source": [
    "nga_speed_df[[\"long\", \"lat\"]] = tmp\n"
   ]
  },
  {
   "cell_type": "code",
   "execution_count": null,
   "metadata": {},
   "outputs": [],
   "source": [
    "nga_speed_df[\"hex_code\"] = nga_speed_df[[\"lat\", \"long\"]].swifter.apply(\n",
    "    lambda row: h3.geo_to_h3(row[0], row[1], 7), axis=1\n",
    ")\n"
   ]
  },
  {
   "cell_type": "code",
   "execution_count": null,
   "metadata": {},
   "outputs": [],
   "source": [
    "nga_speed_df.to_csv(connectivity_dir / \"speedtest_nga.csv\", index=False)\n"
   ]
  },
  {
   "cell_type": "markdown",
   "metadata": {},
   "source": [
    "# Main data"
   ]
  },
  {
   "cell_type": "code",
   "execution_count": null,
   "metadata": {},
   "outputs": [],
   "source": [
    "nga_df = pd.read_csv(clean_base)\n"
   ]
  },
  {
   "cell_type": "code",
   "execution_count": null,
   "metadata": {},
   "outputs": [],
   "source": [
    "nga_cell_df = pd.read_csv(connectivity_dir / \"nga_cell_clean.csv\")\n",
    "nga_speed_df = pd.read_csv(connectivity_dir / \"speedtest_nga.csv\")\n"
   ]
  },
  {
   "cell_type": "code",
   "execution_count": null,
   "metadata": {},
   "outputs": [],
   "source": [
    "nga_speed_df.head()\n"
   ]
  },
  {
   "cell_type": "code",
   "execution_count": null,
   "metadata": {},
   "outputs": [],
   "source": [
    "plt.scatter(nga_speed_df.long, nga_speed_df.lat)\n",
    "plt.show()\n"
   ]
  },
  {
   "cell_type": "code",
   "execution_count": null,
   "metadata": {},
   "outputs": [],
   "source": [
    "nga_speed_df = (\n",
    "    nga_speed_df[\n",
    "        [\"hex_code\", \"avg_d_kbps\", \"avg_u_kbps\", \"avg_lat_ms\", \"tests\", \"devices\"]\n",
    "    ]\n",
    "    .groupby(\"hex_code\")\n",
    "    .agg(\n",
    "        {\n",
    "            \"avg_d_kbps\": \"mean\",\n",
    "            \"avg_u_kbps\": \"mean\",\n",
    "            \"avg_lat_ms\": \"mean\",\n",
    "            \"tests\": \"sum\",\n",
    "            \"devices\": \"sum\",\n",
    "        }\n",
    "    )\n",
    ")\n"
   ]
  },
  {
   "cell_type": "code",
   "execution_count": null,
   "metadata": {},
   "outputs": [],
   "source": [
    "new_nga_df = nga_df.join(\n",
    "    nga_cell_df.set_index(\"hex_code\"), on=[\"hex_code\"], how=\"left\"\n",
    ").join(nga_speed_df, on=\"hex_code\", how=\"left\")\n",
    "# new_nga_df.iloc[:, 92:].fillna(0, inplace=True)\n"
   ]
  },
  {
   "cell_type": "code",
   "execution_count": null,
   "metadata": {},
   "outputs": [],
   "source": [
    "new_nga_df.n_conflicts.fillna(0, inplace=True)\n"
   ]
  },
  {
   "cell_type": "code",
   "execution_count": null,
   "metadata": {},
   "outputs": [],
   "source": [
    "new_nga_df.head()\n"
   ]
  },
  {
   "cell_type": "markdown",
   "metadata": {},
   "source": [
    "# Reproject CISI data and add in again "
   ]
  },
  {
   "cell_type": "code",
   "execution_count": null,
   "metadata": {},
   "outputs": [],
   "source": [
    "from stc_unicef_cpi.data import process_geotiff as pg\n",
    "\n",
    "cisi_dir = Path(\"/Users/johnf/Downloads/higher_res_dssg/CISI/010_degree\")\n",
    "pg.clip_tif_to_ctry(\n",
    "    \"/Users/johnf/Downloads/higher_res_dssg/CISI/010_degree/global.tif\",\n",
    "    ctry_name=\"Senegal\",\n",
    "    save_dir=None,\n",
    ")\n"
   ]
  },
  {
   "cell_type": "code",
   "execution_count": null,
   "metadata": {},
   "outputs": [],
   "source": [
    "pg.rxr_reproject_tiff_to_target(\n",
    "    base_dir / \"Nigeria_africa_cisi.tif\",\n",
    "    tiff_dir / \"cpiPopData_500.tif\",\n",
    "    dest_path=base_dir / \"nga_cisi.tif\",\n",
    "    verbose=True,\n",
    ")\n"
   ]
  },
  {
   "cell_type": "code",
   "execution_count": null,
   "metadata": {},
   "outputs": [],
   "source": [
    "alt_nga_df = pg.agg_tif_to_df(\n",
    "    new_nga_df, base_dir / \"nga_cisi.tif\", rm_prefix=\"nga_\", verbose=True\n",
    ")\n"
   ]
  },
  {
   "cell_type": "code",
   "execution_count": null,
   "metadata": {},
   "outputs": [],
   "source": [
    "alt_nga_df.drop(columns=[\"cii\"], inplace=True)\n"
   ]
  },
  {
   "cell_type": "code",
   "execution_count": null,
   "metadata": {},
   "outputs": [],
   "source": [
    "zero_fill_cols = [\n",
    "    \"n_conflicts\",\n",
    "    \"GSM\",\n",
    "    \"LTE\",\n",
    "    \"NR\",\n",
    "    \"UMTS\",\n",
    "    \"tests\",\n",
    "    \"devices\",\n",
    "]\n",
    "alt_nga_df.fillna(value={col: 0 for col in zero_fill_cols}, inplace=True)\n",
    "alt_nga_df.head()\n"
   ]
  },
  {
   "cell_type": "code",
   "execution_count": null,
   "metadata": {},
   "outputs": [],
   "source": [
    "alt_nga_df = pg.agg_tif_to_df(\n",
    "    alt_nga_df, tiff_dir / \"cpiHealthAccData_500.tif\", verbose=True\n",
    ")\n"
   ]
  },
  {
   "cell_type": "code",
   "execution_count": null,
   "metadata": {},
   "outputs": [],
   "source": [
    "autoh7 = pd.read_csv(base_dir / \"autoencoder_highres7.csv\", index_col=0)\n",
    "autol7 = pd.read_csv(base_dir / \"autoencoder_lowres7.csv\", index_col=0)\n",
    "autoh7.columns = [f\"auto_h{i}\" for i in range(len(autoh7.columns))]\n",
    "autol7.columns = [f\"auto_l{i}\" for i in range(len(autol7.columns))]\n"
   ]
  },
  {
   "cell_type": "code",
   "execution_count": null,
   "metadata": {},
   "outputs": [],
   "source": [
    "alt_nga_df = alt_nga_df.join(autoh7, on=\"hex_code\", how=\"left\").join(\n",
    "    autol7, on=\"hex_code\", how=\"left\"\n",
    ")\n"
   ]
  },
  {
   "cell_type": "code",
   "execution_count": null,
   "metadata": {},
   "outputs": [],
   "source": [
    "alt_nga_df.head()\n"
   ]
  },
  {
   "cell_type": "code",
   "execution_count": null,
   "metadata": {},
   "outputs": [],
   "source": [
    "commute_df = pd.read_csv(base_dir / \"nga_clean_justnewcomm_zns.csv\")[\n",
    "    [\n",
    "        \"hex_code\",\n",
    "        \"name_commuting_zone\",\n",
    "        \"population_commuting\",\n",
    "        \"road_len_commuting\",\n",
    "        \"area_commuting\",\n",
    "    ]\n",
    "]\n",
    "if commute_df.columns[1] in alt_nga_df:\n",
    "    alt_nga_df.drop(columns=commute_df.columns.tolist()[1:], inplace=True)\n",
    "alt_nga_df = alt_nga_df.join(\n",
    "    commute_df.set_index(\"hex_code\"), on=\"hex_code\", how=\"left\"\n",
    ")\n"
   ]
  },
  {
   "cell_type": "code",
   "execution_count": null,
   "metadata": {},
   "outputs": [],
   "source": [
    "alt_nga_df.to_csv(base_dir / \"clean_nga_w_autov1.csv\", index=False)\n"
   ]
  },
  {
   "cell_type": "markdown",
   "metadata": {},
   "source": [
    "# Try mapping data to neighbours"
   ]
  },
  {
   "cell_type": "code",
   "execution_count": null,
   "metadata": {},
   "outputs": [],
   "source": [
    "full_nga_data = pd.read_csv(\n",
    "    \"/Users/johnf/Downloads/raw_low_res_dssg/dhs/clean_nga_dhs.csv\"\n",
    ")\n",
    "# Create variables for two or more deprivations\n",
    "for k in range(2, 5):\n",
    "    full_nga_data[f\"dep_{k}_or_more_sev\"] = full_nga_data[\"sumpoor_sev\"] >= k\n"
   ]
  },
  {
   "cell_type": "code",
   "execution_count": null,
   "metadata": {},
   "outputs": [],
   "source": [
    "plt.scatter(nga_df.LONGNUM, nga_df.LATNUM, c=nga_df.location)\n",
    "plt.colorbar()\n",
    "plt.show()\n"
   ]
  },
  {
   "cell_type": "code",
   "execution_count": null,
   "metadata": {},
   "outputs": [],
   "source": [
    "full_nga_data.location.astype(\"category\").describe()\n",
    "# 1 is urban, 2 is rural\n"
   ]
  },
  {
   "cell_type": "code",
   "execution_count": null,
   "metadata": {},
   "outputs": [],
   "source": [
    "full_nga_data[\"hex_incl_nbrs\"] = full_nga_data[[\"location\", \"hex_code\"]].apply(\n",
    "    lambda row: h3.k_ring(row[\"hex_code\"], 1)\n",
    "    if row[\"location\"] == 1\n",
    "    else h3.k_ring(row[\"hex_code\"], 2),\n",
    "    axis=1,\n",
    ")  # h3.hex_ring for hollow\n"
   ]
  },
  {
   "cell_type": "code",
   "execution_count": null,
   "metadata": {},
   "outputs": [],
   "source": [
    "sev_cols = [col for col in full_nga_data.columns if \"_sev\" in col]\n"
   ]
  },
  {
   "cell_type": "code",
   "execution_count": null,
   "metadata": {},
   "outputs": [],
   "source": [
    "other_cols = [\n",
    "    col\n",
    "    for col in full_nga_data.columns\n",
    "    if (\n",
    "        \"int\" in str(full_nga_data[col].dtype)\n",
    "        or \"float\" in str(full_nga_data[col].dtype)\n",
    "    )\n",
    "]\n",
    "agg_dict = {col: \"mean\" for col in other_cols}\n",
    "agg_dict.update({idx: [\"mean\", \"count\"] for idx in sev_cols})\n",
    "# agg_dict.update({\"hhid\": \"count\"})\n",
    "new_df = (\n",
    "    full_nga_data.explode(\"hex_incl_nbrs\").groupby(by=[\"hex_incl_nbrs\"]).agg(agg_dict)\n",
    ")\n",
    "new_df.columns = [\"_\".join(col) for col in new_df.columns.values]\n"
   ]
  },
  {
   "cell_type": "code",
   "execution_count": null,
   "metadata": {},
   "outputs": [],
   "source": [
    "new_df.rename(\n",
    "    columns={\n",
    "        f\"{sev}_mean\": f\"{sev.replace('dep_','').replace('_sev','')}_prev\"\n",
    "        for sev in sev_cols\n",
    "        if sev != \"deprived_sev\"\n",
    "    },\n",
    "    inplace=True,\n",
    ")\n",
    "new_df.rename(\n",
    "    columns={\n",
    "        f\"{sev}_count\": f\"{sev.replace('dep_','').replace('_sev','')}_count\"\n",
    "        for sev in sev_cols\n",
    "        if sev != \"deprived_sev\"\n",
    "    },\n",
    "    inplace=True,\n",
    ")\n"
   ]
  },
  {
   "cell_type": "code",
   "execution_count": null,
   "metadata": {},
   "outputs": [],
   "source": [
    "new_df = new_df[new_df.sumpoor_count >= 30].reset_index()"
   ]
  },
  {
   "cell_type": "code",
   "execution_count": null,
   "metadata": {},
   "outputs": [],
   "source": [
    "new_df.drop(columns=['hex_code_mean'],inplace=True) \n",
    "new_df.rename(columns={'hex_incl_nbrs':'hex_code'},inplace=True)"
   ]
  },
  {
   "cell_type": "code",
   "execution_count": null,
   "metadata": {},
   "outputs": [],
   "source": [
    "new_df.head()"
   ]
  },
  {
   "cell_type": "code",
   "execution_count": null,
   "metadata": {},
   "outputs": [],
   "source": [
    "new_df.to_csv('../data/processed/expanded_nigeria_res7_thres30.csv')"
   ]
  },
  {
   "cell_type": "code",
   "execution_count": null,
   "metadata": {},
   "outputs": [],
   "source": [
    "new_df.head()"
   ]
  },
  {
   "cell_type": "code",
   "execution_count": null,
   "metadata": {},
   "outputs": [],
   "source": [
    "new_df.to_csv(base_dir / \"nga_clean_expanded.csv\")\n"
   ]
  },
  {
   "cell_type": "code",
   "execution_count": null,
   "metadata": {},
   "outputs": [],
   "source": [
    "new_df = pd.read_csv(base_dir / \"nga_clean_expanded.csv\")\n",
    "new_df[new_df[\"nutrition_count\"] >= 10]\n"
   ]
  },
  {
   "cell_type": "code",
   "execution_count": null,
   "metadata": {},
   "outputs": [],
   "source": [
    "sev_cols = [col for col in full_nga_data.columns if \"sev\" in col]\n"
   ]
  },
  {
   "cell_type": "code",
   "execution_count": null,
   "metadata": {},
   "outputs": [],
   "source": [
    "full_nga_data[\"ndeps_missing\"] = full_nga_data[sev_cols].isna().sum(axis=1)\n"
   ]
  },
  {
   "cell_type": "code",
   "execution_count": null,
   "metadata": {},
   "outputs": [],
   "source": [
    "((6 - full_nga_data[\"ndeps_missing\"] - full_nga_data[\"sumpoor_sev\"]) < 0).sum()\n"
   ]
  },
  {
   "cell_type": "code",
   "execution_count": null,
   "metadata": {},
   "outputs": [],
   "source": [
    "full_nga_data.ndeps_missing.describe()\n"
   ]
  },
  {
   "cell_type": "code",
   "execution_count": null,
   "metadata": {},
   "outputs": [],
   "source": [
    "full_nga_data[sev_cols].info()\n"
   ]
  },
  {
   "cell_type": "code",
   "execution_count": null,
   "metadata": {},
   "outputs": [],
   "source": [
    "full_nga_data.age.describe()\n"
   ]
  },
  {
   "cell_type": "code",
   "execution_count": null,
   "metadata": {},
   "outputs": [],
   "source": [
    "# one vs all training\n"
   ]
  },
  {
   "cell_type": "code",
   "execution_count": null,
   "metadata": {},
   "outputs": [],
   "source": [
    "import h3.api.numpy_int as h3\n"
   ]
  },
  {
   "cell_type": "code",
   "execution_count": null,
   "metadata": {},
   "outputs": [],
   "source": [
    "res_level = 3\n",
    "for col in sev_cols:\n",
    "    full_nga_data[f\"hex_code{res_level}\"] = full_nga_data[[\"LATNUM\", \"LONGNUM\"]].apply(\n",
    "        lambda row: h3.geo_to_h3(*row.values, res_level), axis=1\n",
    "    )\n",
    "    count_df = full_nga_data.groupby(f\"hex_code{res_level}\")[col].count()\n",
    "    _, bins = pd.qcut(count_df, [0, 0.05, 1.0], retbins=True)\n",
    "    # print(f\"5% cutoff for {col} is at {bins[1]}\")\n",
    "    if bins[1] < 30:\n",
    "        quants = pd.cut(count_df, [0, 30, np.inf])\n",
    "        cut_prop = quants.value_counts().sort_index().values[0] / len(count_df)\n",
    "        print(f\"Warning: cutoff at 30 for {col} removes {cut_prop*100:.2f}% of data\")\n",
    "        print(f\"5% cutoff is at {bins[1]}\")\n",
    "        for thresh in [5, 10, 15, 20]:\n",
    "            quants = pd.cut(count_df, [0, thresh, np.inf])\n",
    "            cut_prop = quants.value_counts().sort_index().values[0] / len(count_df)\n",
    "            print(f\"Cutoff at {thresh} for {col} removes {cut_prop*100:.2f}% of data\")\n",
    "# count_df.hist(bins=100)\n",
    "# plt.show()\n"
   ]
  },
  {
   "cell_type": "code",
   "execution_count": null,
   "metadata": {},
   "outputs": [],
   "source": [
    "thr_df = nga_df.loc[count_df.values >= 30].copy()\n"
   ]
  },
  {
   "cell_type": "code",
   "execution_count": null,
   "metadata": {},
   "outputs": [],
   "source": [
    "thr_df.to_csv(clean_base.parent / \"nga_clean_v2_thr30.csv\", index=False)\n"
   ]
  },
  {
   "cell_type": "markdown",
   "metadata": {},
   "source": [
    "# First add higher res TIFF data"
   ]
  },
  {
   "cell_type": "code",
   "execution_count": null,
   "metadata": {},
   "outputs": [],
   "source": [
    "nga_df = pd.read_csv(clean_base)\n"
   ]
  },
  {
   "cell_type": "code",
   "execution_count": null,
   "metadata": {},
   "outputs": [],
   "source": [
    "nga_df = pg.agg_tif_to_df(\n",
    "    nga_df,\n",
    "    tiff_dir,\n",
    "    rm_prefix=\"cpi\",\n",
    "    agg_fn=np.mean,\n",
    "    max_records=int(1e5),\n",
    "    replace_old=True,\n",
    "    verbose=False,\n",
    ")\n"
   ]
  },
  {
   "cell_type": "code",
   "execution_count": null,
   "metadata": {},
   "outputs": [],
   "source": [
    "merge_cols = [col for col in nga_df.columns if \"Data_500\" in col]\n",
    "old_cols = [col for col in merge_cols if col.rstrip(\"Data_500\") in nga_df.columns]\n",
    "nga_df.drop(columns=old_cols, inplace=True)\n",
    "nga_df.rename(columns={col: col.rstrip(\"Data_500\") for col in merge_cols}, inplace=True)\n"
   ]
  },
  {
   "cell_type": "code",
   "execution_count": null,
   "metadata": {},
   "outputs": [],
   "source": [
    "nga_df.to_csv(clean_base, index=False)\n"
   ]
  },
  {
   "cell_type": "code",
   "execution_count": null,
   "metadata": {},
   "outputs": [],
   "source": [
    "pd.set_option(\"display.max_columns\", None)\n",
    "nga_df.head()\n"
   ]
  },
  {
   "cell_type": "markdown",
   "metadata": {},
   "source": [
    "# Now add econ TIFF data"
   ]
  },
  {
   "cell_type": "code",
   "execution_count": null,
   "metadata": {},
   "outputs": [],
   "source": [
    "nga_df = pd.read_csv(clean_base)\n"
   ]
  },
  {
   "cell_type": "code",
   "execution_count": null,
   "metadata": {},
   "outputs": [],
   "source": [
    "import glob\n",
    "\n",
    "econ_tiffs = glob.glob(str(econ_dir / \"*.tif\"))\n"
   ]
  },
  {
   "cell_type": "code",
   "execution_count": null,
   "metadata": {},
   "outputs": [],
   "source": [
    "econ_tiffs\n"
   ]
  },
  {
   "cell_type": "code",
   "execution_count": null,
   "metadata": {},
   "outputs": [],
   "source": [
    "import rioxarray as rxr\n",
    "\n",
    "# Convert econ tiffs to right resolution + CRS, rewrite to high_res dir\n",
    "for i, econ_tiff in enumerate(econ_tiffs):\n",
    "    with rxr.open_rasterio(econ_tiff) as data:\n",
    "        name = Path(econ_tiff).name\n",
    "        if \"GDP_PPP\" in name:\n",
    "            data.attrs[\"long_name\"] = [\"GDP_PPP_1990\", \"GDP_PPP_2000\", \"GDP_PPP_2015\"]\n",
    "        elif \"2019GDP\" in name:\n",
    "            data.attrs[\"long_name\"] = [\"GDP_2019\"]\n",
    "        elif \"EC\" in name:\n",
    "            data.attrs[\"long_name\"] = [\"EC_2019\"]\n",
    "        data.rio.to_raster(econ_tiff)\n",
    "    pg.rxr_reproject_tiff_to_target(\n",
    "        econ_tiff,\n",
    "        glob.glob(str(tiff_dir / \"*.tif\"))[0],\n",
    "        tiff_dir / Path(econ_tiff).name,\n",
    "        verbose=True,\n",
    "    )\n"
   ]
  },
  {
   "cell_type": "code",
   "execution_count": null,
   "metadata": {},
   "outputs": [],
   "source": [
    "high_res_econ_tifs = [\n",
    "    name\n",
    "    for name in glob.glob(str(tiff_dir / \"*.tif\"))\n",
    "    if \"GDP\" in Path(name).name or \"EC\" in Path(name).name\n",
    "]\n"
   ]
  },
  {
   "cell_type": "code",
   "execution_count": null,
   "metadata": {},
   "outputs": [],
   "source": [
    "high_res_econ_tifs\n"
   ]
  },
  {
   "cell_type": "code",
   "execution_count": null,
   "metadata": {},
   "outputs": [],
   "source": [
    "nga_df = pg.agg_tif_to_df(\n",
    "    nga_df,\n",
    "    high_res_econ_tifs,\n",
    "    rm_prefix=\"Nigeria_\",\n",
    "    agg_fn=np.mean,\n",
    "    max_records=int(1e5),\n",
    "    replace_old=True,\n",
    "    verbose=False,\n",
    ")\n"
   ]
  },
  {
   "cell_type": "code",
   "execution_count": null,
   "metadata": {},
   "outputs": [],
   "source": [
    "nga_df.head()\n"
   ]
  },
  {
   "cell_type": "code",
   "execution_count": null,
   "metadata": {},
   "outputs": [],
   "source": [
    "nga_df.to_csv(clean_base, index=False)\n"
   ]
  },
  {
   "cell_type": "markdown",
   "metadata": {},
   "source": [
    "# Now add commuter zone data"
   ]
  },
  {
   "cell_type": "code",
   "execution_count": null,
   "metadata": {},
   "outputs": [],
   "source": [
    "nga_df = pd.read_csv(clean_base)\n"
   ]
  },
  {
   "cell_type": "code",
   "execution_count": null,
   "metadata": {},
   "outputs": [],
   "source": [
    "import geopandas as gpd\n",
    "\n",
    "commzns_df = pd.read_csv(comm_zns)\n"
   ]
  },
  {
   "cell_type": "code",
   "execution_count": null,
   "metadata": {},
   "outputs": [],
   "source": [
    "from shapely import wkt\n",
    "\n",
    "commzns_df[\"geometry\"] = commzns_df[\"geometry\"].apply(wkt.loads)\n"
   ]
  },
  {
   "cell_type": "code",
   "execution_count": null,
   "metadata": {},
   "outputs": [],
   "source": [
    "commzns_df = gpd.GeoDataFrame(commzns_df, crs=\"epsg:4326\")\n"
   ]
  },
  {
   "cell_type": "code",
   "execution_count": null,
   "metadata": {},
   "outputs": [],
   "source": [
    "commzns_df[commzns_df[\"country\"] == \"Nigeria\"].head(2)\n"
   ]
  },
  {
   "cell_type": "code",
   "execution_count": null,
   "metadata": {},
   "outputs": [],
   "source": [
    "# TODO: decide if will add\n"
   ]
  },
  {
   "cell_type": "code",
   "execution_count": null,
   "metadata": {},
   "outputs": [],
   "source": [
    "nga_df.to_csv(clean_base, index=False)\n"
   ]
  },
  {
   "cell_type": "markdown",
   "metadata": {},
   "source": [
    "# Now add FB connectivity data"
   ]
  },
  {
   "cell_type": "code",
   "execution_count": null,
   "metadata": {},
   "outputs": [],
   "source": [
    "nga_df = pd.read_csv(base_dir / \"clean_nga_w_autov1.csv\")\n"
   ]
  },
  {
   "cell_type": "code",
   "execution_count": null,
   "metadata": {},
   "outputs": [],
   "source": [
    "nga_df.head()"
   ]
  },
  {
   "cell_type": "code",
   "execution_count": null,
   "metadata": {},
   "outputs": [],
   "source": [
    "conn_df = pd.read_csv(fb_conn)\n",
    "conn_gdf = gpd.GeoDataFrame(\n",
    "    conn_df, geometry=gpd.points_from_xy(conn_df.long, conn_df.lat)\n",
    ")\n"
   ]
  },
  {
   "cell_type": "code",
   "execution_count": null,
   "metadata": {},
   "outputs": [],
   "source": [
    "conn_df[\"hex_code\"] = conn_df[[\"lat\", \"long\"]].swifter.apply(\n",
    "    lambda row: h3.geo_to_h3(row[0], row[1], resolution=7), axis=1\n",
    ")\n"
   ]
  },
  {
   "cell_type": "code",
   "execution_count": null,
   "metadata": {},
   "outputs": [],
   "source": [
    "nga_df = nga_df.join(conn_df.set_index(\"hex_code\")[\"estimate_dau\"], on=\"hex_code\")\n"
   ]
  },
  {
   "cell_type": "code",
   "execution_count": null,
   "metadata": {},
   "outputs": [],
   "source": [
    "nga_df.to_csv(base_dir / \"clean_nga_w_autov1.csv\", index=False)\n"
   ]
  },
  {
   "cell_type": "code",
   "execution_count": null,
   "metadata": {},
   "outputs": [],
   "source": [
    "print(\n",
    "    *sorted(\n",
    "        [\n",
    "            (name, val)\n",
    "            for name, val in zip(\n",
    "                nga_df.isna().sum(axis=0).index, nga_df.isna().sum(axis=0).values\n",
    "            )\n",
    "        ],\n",
    "        key=lambda x: x[1],\n",
    "    ),\n",
    "    sep=\"\\n\"\n",
    ")\n"
   ]
  },
  {
   "cell_type": "code",
   "execution_count": null,
   "metadata": {},
   "outputs": [],
   "source": [
    "# only for inside train set - worth including or not extensible?\n",
    "conn_gdf.plot()\n"
   ]
  },
  {
   "cell_type": "markdown",
   "metadata": {},
   "source": [
    "# Finally add RWI data"
   ]
  },
  {
   "cell_type": "code",
   "execution_count": null,
   "metadata": {},
   "outputs": [],
   "source": [
    "from stc_unicef_cpi.data import process_geotiff as pg \n",
    "sen_pop_tif = '/Users/johnf/Desktop/Work/InFoMM/DSSG/STC-UNICEF-DSSG/stc_unicef_cpi/data/external/gee/cpi_poptotal_senegal_500.tif'\n",
    "sen_pop = pg.rast_to_agg_df(sen_pop_tif,verbose=True)"
   ]
  },
  {
   "cell_type": "code",
   "execution_count": null,
   "metadata": {},
   "outputs": [],
   "source": [
    "import rasterio  \n",
    "\n",
    "with rasterio.open('/Users/johnf/Desktop/Work/InFoMM/DSSG/STC-UNICEF-DSSG/stc_unicef_cpi/data/external/gee/cpi_poptotal_senegal_500.tif') as rast_file: \n",
    "    tmp = rast_file.read(2)\n",
    "    plt.imshow(tmp) \n",
    "    plt.show()"
   ]
  },
  {
   "cell_type": "code",
   "execution_count": null,
   "metadata": {},
   "outputs": [],
   "source": [
    "rwi_df = pd.read_csv(rwi_path)"
   ]
  },
  {
   "cell_type": "code",
   "execution_count": null,
   "metadata": {},
   "outputs": [],
   "source": [
    "rwi_df.head()"
   ]
  },
  {
   "cell_type": "code",
   "execution_count": null,
   "metadata": {},
   "outputs": [],
   "source": [
    "from stc_unicef_cpi.utils import geospatial as geo\n",
    "nga_hexes = geo.get_hexes_for_ctry('Nigeria',7)"
   ]
  },
  {
   "cell_type": "code",
   "execution_count": null,
   "metadata": {},
   "outputs": [],
   "source": [
    "from shapely.geometry import Polygon\n",
    "nga_hexes = pd.DataFrame(nga_hexes,columns=['hex_code']) \n",
    "nga_hex_polys = nga_hexes.hex_code.swifter.apply(lambda hhex: Polygon(h3.h3_to_geo_boundary(hhex)))"
   ]
  },
  {
   "cell_type": "code",
   "execution_count": null,
   "metadata": {},
   "outputs": [],
   "source": [
    "# points in lat, long order\n",
    "nga_hex_polys"
   ]
  },
  {
   "cell_type": "code",
   "execution_count": null,
   "metadata": {},
   "outputs": [],
   "source": [
    "from pyquadkey2 import quadkey as qk\n",
    "from shapely.geometry import Polygon\n",
    "\n",
    "# qk.QuadKey()\n",
    "\n"
   ]
  },
  {
   "cell_type": "code",
   "execution_count": null,
   "metadata": {},
   "outputs": [],
   "source": [
    "# qk.to_geo() also returns in lat long order, so should be consistent\n",
    "top_left = qk.TileAnchor.ANCHOR_NW\n",
    "top_right = qk.TileAnchor.ANCHOR_NE\n",
    "bottom_right = qk.TileAnchor.ANCHOR_SE\n",
    "bottom_left = qk.TileAnchor.ANCHOR_SW\n",
    "def qk_to_poly(qkey): \n",
    "    square = [\n",
    "        qk.from_str(str(qkey)).to_geo(anchor=point)\n",
    "        for point in [top_left, top_right, bottom_right, bottom_left]\n",
    "    ]\n",
    "    return Polygon(square)\n"
   ]
  },
  {
   "cell_type": "code",
   "execution_count": null,
   "metadata": {},
   "outputs": [],
   "source": [
    "rwi_df['qk_poly'] = rwi_df.quadkey.apply(qk_to_poly)"
   ]
  },
  {
   "cell_type": "code",
   "execution_count": null,
   "metadata": {},
   "outputs": [],
   "source": [
    "rwi_df.head()"
   ]
  },
  {
   "cell_type": "code",
   "execution_count": null,
   "metadata": {},
   "outputs": [],
   "source": [
    "qk.from_str(\"12222122333002\").to_geo()"
   ]
  },
  {
   "cell_type": "code",
   "execution_count": null,
   "metadata": {},
   "outputs": [],
   "source": [
    "import h3.api.numpy_int as h3\n",
    "\n",
    "ex_idx = h3.geo_to_h3(*square.boundary.coords[0], resolution=6)\n",
    "hex = Polygon(h3.h3_to_geo_boundary(ex_idx))\n"
   ]
  },
  {
   "cell_type": "code",
   "execution_count": null,
   "metadata": {},
   "outputs": [],
   "source": [
    "# create intersection and calculate percentage intersection based on areas\n",
    "intersection = hex.intersection(square)\n",
    "percent_area = intersection.area / square.area * 100\n"
   ]
  },
  {
   "cell_type": "code",
   "execution_count": null,
   "metadata": {},
   "outputs": [],
   "source": [
    "percent_area\n"
   ]
  },
  {
   "cell_type": "code",
   "execution_count": null,
   "metadata": {},
   "outputs": [],
   "source": [
    "nga_df.to_csv(clean_base, index=False)\n"
   ]
  },
  {
   "cell_type": "markdown",
   "metadata": {},
   "source": [
    "# Add new target columns of proportion w > k deps"
   ]
  },
  {
   "cell_type": "code",
   "execution_count": null,
   "metadata": {},
   "outputs": [],
   "source": [
    "nga_df = pd.read_csv(base_dir / \"clean_nga_w_autov1.csv\")\n",
    "\n",
    "full_nga_data = pd.read_csv(\n",
    "    \"/Users/johnf/Downloads/raw_low_res_dssg/dhs/clean_nga_dhs.csv\"\n",
    ")\n"
   ]
  },
  {
   "cell_type": "code",
   "execution_count": null,
   "metadata": {},
   "outputs": [],
   "source": [
    "for k in range(2,5): \n",
    "    full_nga_data[f\"dep_{k}_or_more_sev\"] = full_nga_data['sumpoor_sev'] >= k "
   ]
  },
  {
   "cell_type": "code",
   "execution_count": null,
   "metadata": {},
   "outputs": [],
   "source": [
    "k_or_more_df = full_nga_data.groupby(by=[\"hex_code\"]).agg({col:np.mean for col in full_nga_data.columns if 'or_more' in col})"
   ]
  },
  {
   "cell_type": "code",
   "execution_count": null,
   "metadata": {},
   "outputs": [],
   "source": [
    "k_or_more_df.melt()"
   ]
  },
  {
   "cell_type": "code",
   "execution_count": null,
   "metadata": {},
   "outputs": [],
   "source": [
    "import seaborn as sns \n",
    "\n",
    "for k in range(2,5): \n",
    "    fig,ax = plt.subplots(dpi=200)\n",
    "    # sns.histplot(data=k_or_more_df.melt(),x=\"value\",hue=\"variable\",element=\"step\", fill=False, kde=True)\n",
    "    sns.histplot(data=k_or_more_df[f\"dep_{k}_or_more_sev\"],element=\"step\", fill=False, kde=True)\n",
    "    plt.show()"
   ]
  },
  {
   "cell_type": "code",
   "execution_count": null,
   "metadata": {},
   "outputs": [],
   "source": [
    "# add these nga_hexe\n",
    "nga_df = nga_df.join(k_or_more_df,on=\"hex_code\")"
   ]
  },
  {
   "cell_type": "code",
   "execution_count": null,
   "metadata": {},
   "outputs": [],
   "source": [
    "# reorder columns so targets in right place\n",
    "cols = nga_df.columns.tolist()\n",
    "cols = cols[:20] + cols[-3:] + cols[20:-3]\n",
    "nga_df = nga_df[cols]"
   ]
  },
  {
   "cell_type": "code",
   "execution_count": null,
   "metadata": {},
   "outputs": [],
   "source": [
    "nga_df.to_csv(base_dir / \"clean_nga_w_autov1.csv\")\n"
   ]
  },
  {
   "cell_type": "code",
   "execution_count": null,
   "metadata": {},
   "outputs": [],
   "source": [
    "# see proportion of these targets that are non-zero \n",
    "# can see that 2 or more deprivation prevalence is a reasonable target, but not 3 or more\n",
    "# as ~50% or more of the data is just zero \n",
    "(k_or_more_df!=0).mean(axis=0)"
   ]
  },
  {
   "cell_type": "markdown",
   "metadata": {},
   "source": [
    "# Check output of make_dataset"
   ]
  },
  {
   "cell_type": "code",
   "execution_count": null,
   "metadata": {},
   "outputs": [],
   "source": [
    "world = gpd.read_file(gpd.datasets.get_path(\"naturalearth_lowres\"))\n",
    "nga = world[world.name == \"Nigeria\"].geometry.__geo_interface__[\"features\"][0][\n",
    "    \"geometry\"\n",
    "]\n",
    "# nga_hex = h3.polyfill(nga, res=7)"
   ]
  },
  {
   "cell_type": "code",
   "execution_count": null,
   "metadata": {},
   "outputs": [],
   "source": [
    "from itertools import chain\n",
    "\n",
    "def get_new_nbrs_at_k(hexes,k): \n",
    "    def hex_nbrs_at_k(hex,k): \n",
    "        return np.array(list(chain.from_iterable([h3.hex_ring(hex,dist) for dist in range(1,k+1)])))\n",
    "    nbrs_at_k = pd.DataFrame(hexes,columns=[\"hex_code\"]).hex_code.swifter.apply(lambda hex: hex_nbrs_at_k(hex,k)) \n",
    "    return np.setdiff1d(np.array(list(chain.from_iterable(nbrs_at_k))),hexes)\n",
    "    \n",
    "k = 2\n",
    "# ctry[f\"nbrs_at_{k}\"] = ctry.hex_code.swifter.apply(lambda hex: hex_nbrs_at_k(hex,k))\n",
    "len(get_new_nbrs_at_k(ctry.hex_code,2))\n"
   ]
  },
  {
   "cell_type": "code",
   "execution_count": null,
   "metadata": {},
   "outputs": [],
   "source": [
    "new_nbrs= np.setdiff1d(np.array(list(chain.from_iterable(ctry[f\"nbrs_at_{k}\"]))),ctry.hex_code.values)"
   ]
  },
  {
   "cell_type": "code",
   "execution_count": null,
   "metadata": {},
   "outputs": [],
   "source": []
  },
  {
   "cell_type": "code",
   "execution_count": null,
   "metadata": {},
   "outputs": [],
   "source": [
    "import cartopy.io.shapereader as shpreader\n",
    "import geopandas as gpd \n",
    "import pycountry\n",
    "import numpy as np   \n",
    "import swifter  \n",
    "\n",
    "country = 'Senegal'\n",
    "\n",
    "shpfilename = shpreader.natural_earth(\n",
    "        resolution=\"10m\", category=\"cultural\", name=\"admin_0_countries\"\n",
    "    )\n",
    "reader = shpreader.Reader(shpfilename)\n",
    "world = reader.records()\n",
    "country = pycountry.countries.search_fuzzy(country)[0]\n",
    "ctry_name = country.name\n",
    "ctry_geom = next(\n",
    "    filter(lambda x: x.attributes[\"NAME\"] == ctry_name, world)\n",
    ").geometry\n",
    "\n",
    "# only now look for intersection, as expensive\n",
    "try:\n",
    "    ctry_geom = gpd.GeoDataFrame(ctry_geom, columns=[\"geometry\"], crs=\"EPSG:4326\")\n",
    "except ValueError: \n",
    "    # problem for single geometry\n",
    "    ctry_geom = gpd.GeoDataFrame([ctry_geom], columns=[\"geometry\"], crs=\"EPSG:4326\")"
   ]
  },
  {
   "cell_type": "code",
   "execution_count": null,
   "metadata": {},
   "outputs": [],
   "source": [
    "ctry_geom"
   ]
  },
  {
   "cell_type": "code",
   "execution_count": null,
   "metadata": {},
   "outputs": [],
   "source": []
  },
  {
   "cell_type": "code",
   "execution_count": null,
   "metadata": {},
   "outputs": [],
   "source": [
    "import pandas as pd\n",
    "from pathlib import Path\n",
    "proc_dir = Path('../data/processed')\n",
    "df = pd.read_csv(proc_dir / 'hexes_nigeria_res7_thres30.csv')"
   ]
  },
  {
   "cell_type": "code",
   "execution_count": null,
   "metadata": {},
   "outputs": [],
   "source": [
    "pd.set_option('display.max_columns', None)\n",
    "df.info()"
   ]
  },
  {
   "cell_type": "code",
   "execution_count": null,
   "metadata": {},
   "outputs": [],
   "source": [
    "df.population.info()"
   ]
  },
  {
   "cell_type": "code",
   "execution_count": null,
   "metadata": {},
   "outputs": [],
   "source": [
    "print(*df.columns)\n",
    "print(*(~df.isna()).sum(axis=0))"
   ]
  },
  {
   "cell_type": "code",
   "execution_count": null,
   "metadata": {},
   "outputs": [],
   "source": []
  },
  {
   "cell_type": "code",
   "execution_count": null,
   "metadata": {},
   "outputs": [],
   "source": [
    "print(df[['population','ndwi','sumpoor_sev','built','area_commuting','n_conflicts']].info())"
   ]
  },
  {
   "cell_type": "code",
   "execution_count": null,
   "metadata": {},
   "outputs": [],
   "source": [
    "fig,ax = plt.subplots(dpi=150) \n",
    "N=1000\n",
    "na_sub = df[df.population.isna()]\n",
    "subset = np.random.choice(len(na_sub),size=N) \n",
    "sub = na_sub.iloc[subset,:] \n",
    "latlongs = [h3.h3_to_geo(hex_code) for hex_code in sub.hex_code]\n",
    "latlongs=np.array(latlongs)\n",
    "plt.scatter(*latlongs.T,c='k')\n",
    "plt.show()"
   ]
  },
  {
   "cell_type": "code",
   "execution_count": null,
   "metadata": {},
   "outputs": [],
   "source": [
    "zero_fill_cols = [\n",
    "    \"n_conflicts\",\n",
    "    \"GSM\",\n",
    "    \"LTE\",\n",
    "    \"NR\",\n",
    "    \"UMTS\",\n",
    "]\n",
    "df.fillna(value={col: 0 for col in zero_fill_cols}, inplace=True)\n",
    "df.head()\n",
    "\n",
    "df.head()"
   ]
  },
  {
   "cell_type": "code",
   "execution_count": null,
   "metadata": {},
   "outputs": [],
   "source": [
    "df.to_csv(int_dir / 'hexes_nigeria_res7_thres30.csv',index=False)"
   ]
  },
  {
   "cell_type": "code",
   "execution_count": null,
   "metadata": {},
   "outputs": [],
   "source": []
  },
  {
   "cell_type": "code",
   "execution_count": null,
   "metadata": {},
   "outputs": [],
   "source": [
    "cols = df.columns.tolist()\n",
    "survey_idx = cols.index(\"survey\")\n",
    "cols = cols[:survey_idx] + cols[-2:] + cols[survey_idx:-2] \n",
    "df[cols]"
   ]
  },
  {
   "cell_type": "code",
   "execution_count": null,
   "metadata": {},
   "outputs": [],
   "source": [
    "econ = int_dir / \"tmp_nigeria_econ.csv\" \n",
    "econ = pd.read_csv(econ,index_col=0)"
   ]
  },
  {
   "cell_type": "code",
   "execution_count": null,
   "metadata": {},
   "outputs": [],
   "source": [
    "gee = int_dir / \"tmp_nigeria_gee.csv\" \n",
    "gee = pd.read_csv(gee,index_col=0)"
   ]
  },
  {
   "cell_type": "code",
   "execution_count": null,
   "metadata": {},
   "outputs": [],
   "source": []
  },
  {
   "cell_type": "code",
   "execution_count": null,
   "metadata": {},
   "outputs": [],
   "source": [
    "output_dir = Path(\"../data/predictions\")\n",
    "preds = pd.read_csv(output_dir / \"preds_nigeria_res7.csv\") "
   ]
  },
  {
   "cell_type": "code",
   "execution_count": null,
   "metadata": {},
   "outputs": [],
   "source": [
    "latlongs = preds.hex_code.swifter.apply(lambda x: h3.h3_to_geo(x))\n",
    "preds[\"lat\"] = latlongs.str[0]\n",
    "preds[\"long\"] = latlongs.str[1]"
   ]
  },
  {
   "cell_type": "code",
   "execution_count": null,
   "metadata": {},
   "outputs": [],
   "source": [
    "preds.columns"
   ]
  },
  {
   "cell_type": "code",
   "execution_count": null,
   "metadata": {},
   "outputs": [],
   "source": [
    "import seaborn as sns\n",
    "N = 10000\n",
    "subset = preds.iloc[:N]\n",
    "fig,ax = plt.subplots(dpi=200)\n",
    "sns.scatterplot(data=subset,x=subset['long'],y=subset['lat'],hue=subset['sumpoor_sev']) \n",
    "plt.show()"
   ]
  },
  {
   "cell_type": "code",
   "execution_count": null,
   "metadata": {},
   "outputs": [],
   "source": [
    "from stc_unicef_cpi.data import process_geotiff as pg  \n",
    "from pathlib import Path\n",
    "int_dir = Path('../data/interim')\n",
    "pop_df = pg.rast_to_agg_df(int_dir.parent / \"external\" / \"gee\" / \"cpi_poptotal_nigeria_500.tif\",verbose=True)"
   ]
  },
  {
   "cell_type": "code",
   "execution_count": null,
   "metadata": {},
   "outputs": [],
   "source": [
    "# file_path = '../data/external/gee/cpi_elevation_nigeria_500.tif'\n",
    "file_path = '../data/external/gee/cpi_ghsl_nigeria_500.tif'\n",
    "tmp = pg.geotiff_to_df(file_path,rm_prefix=r\"cpi\")"
   ]
  },
  {
   "cell_type": "code",
   "execution_count": null,
   "metadata": {},
   "outputs": [],
   "source": [
    "real_hexes = tmp[[\"latitude\", \"longitude\"]].swifter.apply(\n",
    "                lambda row: h3.geo_to_h3(row[\"latitude\"], row[\"longitude\"], 7),\n",
    "                axis=1,\n",
    "            )"
   ]
  },
  {
   "cell_type": "code",
   "execution_count": null,
   "metadata": {},
   "outputs": [],
   "source": [
    "so_latlongs = np.array([h3.h3_to_geo(hex) for hex in real_hexes]) \n",
    "print(so_latlongs.min(axis=0))\n",
    "print(so_latlongs.max(axis=0))"
   ]
  },
  {
   "cell_type": "code",
   "execution_count": null,
   "metadata": {},
   "outputs": [],
   "source": [
    "tmp.describe()"
   ]
  },
  {
   "cell_type": "code",
   "execution_count": null,
   "metadata": {},
   "outputs": [],
   "source": [
    "np.setdiff1d(real_hexes.values,nga_hexes).shape"
   ]
  },
  {
   "cell_type": "code",
   "execution_count": null,
   "metadata": {},
   "outputs": [],
   "source": [
    "import stc_unicef_cpi.utils.geospatial as geo\n",
    "nga_hexes = geo.get_hexes_for_ctry('Nigeria', 7)\n",
    "# expand by 2 hexes to ensure covers all data\n",
    "outer_hexes = geo.get_new_nbrs_at_k(nga_hexes, 2)\n",
    "hexes_ctry = np.concatenate((nga_hexes, outer_hexes))\n",
    "ctry = pd.DataFrame(nga_hexes, columns=[\"hex_code\"])"
   ]
  },
  {
   "cell_type": "code",
   "execution_count": null,
   "metadata": {},
   "outputs": [],
   "source": [
    "import numpy as np \n",
    "import h3.api.numpy_int as h3\n",
    "nga_latlongs = [h3.h3_to_geo(hex) for hex in nga_hexes]\n",
    "nga_latlongs = np.array(nga_latlongs) \n",
    "print(nga_latlongs.min(axis=0))\n",
    "print(nga_latlongs.max(axis=0))"
   ]
  },
  {
   "cell_type": "code",
   "execution_count": null,
   "metadata": {},
   "outputs": [],
   "source": [
    "new_hexes = np.setdiff1d(pop_df.dropna(how='all').index.values,ctry['hex_code'])  "
   ]
  },
  {
   "cell_type": "code",
   "execution_count": null,
   "metadata": {},
   "outputs": [],
   "source": [
    "new_hexes_rev = np.setdiff1d(ctry['hex_code'],pop_df.dropna(how='all').index.values)  "
   ]
  },
  {
   "cell_type": "code",
   "execution_count": null,
   "metadata": {},
   "outputs": [],
   "source": [
    "new_hexes_rev.shape"
   ]
  },
  {
   "cell_type": "code",
   "execution_count": null,
   "metadata": {},
   "outputs": [],
   "source": [
    "new_hexes.shape"
   ]
  },
  {
   "cell_type": "code",
   "execution_count": null,
   "metadata": {},
   "outputs": [],
   "source": [
    "new_latlongs = [h3.h3_to_geo(hex) for hex in pop_df.dropna(how='all').index.values]"
   ]
  },
  {
   "cell_type": "code",
   "execution_count": null,
   "metadata": {},
   "outputs": [],
   "source": [
    "new_latlongs = np.array(new_latlongs)"
   ]
  },
  {
   "cell_type": "code",
   "execution_count": null,
   "metadata": {},
   "outputs": [],
   "source": [
    "print(new_latlongs.min(axis=0))\n",
    "print(new_latlongs.max(axis=0))"
   ]
  },
  {
   "cell_type": "code",
   "execution_count": null,
   "metadata": {},
   "outputs": [],
   "source": [
    "len(pop_df)"
   ]
  },
  {
   "cell_type": "code",
   "execution_count": null,
   "metadata": {},
   "outputs": [],
   "source": [
    "latlongs = [h3.h3_to_geo(hex) for hex in new_hexes] \n",
    "latlongs_rev = [h3.h3_to_geo(hex) for hex in new_hexes_rev] "
   ]
  },
  {
   "cell_type": "code",
   "execution_count": null,
   "metadata": {},
   "outputs": [],
   "source": [
    "file_path = '../data/external/gee/cpi_elevation_nigeria_500.tif'\n",
    "file_path2 = '../data/external/gee/cpi_ghsl_nigeria_500.tif'\n",
    "tmp = pg.geotiff_to_df(file_path,rm_prefix=r\"cpi\",verbose=True)\n",
    "# tmp2 = pg.geotiff_to_df(file_path2,rm_prefix=r\"cpi\",verbose=True)"
   ]
  },
  {
   "cell_type": "code",
   "execution_count": null,
   "metadata": {},
   "outputs": [],
   "source": [
    "np.apply_along_axis(lambda row: h3.geo_to_h3(*row, 7), arr=tmp[[\"latitude\", \"longitude\"]].values,\n",
    "                axis=1,\n",
    "            )"
   ]
  },
  {
   "cell_type": "code",
   "execution_count": null,
   "metadata": {},
   "outputs": [],
   "source": [
    "tmp[\"hex_code\"] = tmp[[\"latitude\", \"longitude\"]].apply(\n",
    "                lambda row: h3.geo_to_h3(row[\"latitude\"], row[\"longitude\"], 7),\n",
    "                axis=1,\n",
    "            )"
   ]
  },
  {
   "cell_type": "code",
   "execution_count": null,
   "metadata": {},
   "outputs": [],
   "source": [
    "agg_fn = np.mean\n",
    "tmp = tmp.drop(columns=[\"latitude\", \"longitude\"])\n",
    "tmp = tmp.groupby(by=[\"hex_code\"]).agg(\n",
    "            {col: agg_fn for col in tmp.columns if col != \"hex_code\"}\n",
    "        )\n"
   ]
  },
  {
   "cell_type": "code",
   "execution_count": null,
   "metadata": {},
   "outputs": [],
   "source": [
    "ctry.join(tmp,how='left',on='hex_code').dropna()"
   ]
  },
  {
   "cell_type": "code",
   "execution_count": null,
   "metadata": {},
   "outputs": [],
   "source": [
    "tmp2[\"hex_code\"] = tmp2[[\"latitude\", \"longitude\"]].swifter.apply(\n",
    "                lambda row: h3.geo_to_h3(row[\"latitude\"], row[\"longitude\"], 7),\n",
    "                axis=1,\n",
    "            )"
   ]
  },
  {
   "cell_type": "code",
   "execution_count": null,
   "metadata": {},
   "outputs": [],
   "source": [
    "print(tmp2.hex_code.nunique(),len(ctry))\n",
    "print(len(np.setdiff1d(tmp2.hex_code,ctry)))\n",
    "print(len(np.setdiff1d(ctry,tmp.hex_code)))"
   ]
  },
  {
   "cell_type": "code",
   "execution_count": null,
   "metadata": {},
   "outputs": [],
   "source": [
    "rev_tmp_hex = np.array([h3.h3_to_geo(hex) for hex in tmp.hex_code]) \n",
    "print(rev_tmp_hex.min(axis=0))\n",
    "print(rev_tmp_hex.max(axis=0))"
   ]
  },
  {
   "cell_type": "code",
   "execution_count": null,
   "metadata": {},
   "outputs": [],
   "source": [
    "import matplotlib.pyplot as plt\n",
    "from shapely.geometry import Point\n",
    "import geopandas as gpd\n",
    "fig,ax = plt.subplots(dpi=200) \n",
    "N = 1000\n",
    "sub_idx = np.random.choice(len(tmp),size=N) \n",
    "tmp_sub = tmp.iloc[sub_idx]\n",
    "latlongs = np.array(tmp_sub[['latitude','longitude']])  \n",
    "vals = tmp_sub._elevation_nigeria_500!=0\n",
    "points = gpd.points_from_xy(tmp_sub.longitude,tmp_sub.latitude) \n",
    "tmp_gdf = gpd.GeoDataFrame(tmp_sub,geometry=points) \n",
    "world = gpd.read_file(gpd.datasets.get_path('naturalearth_lowres'))\n",
    "nga = world[world.name==\"Nigeria\"]\n",
    "subset = tmp_gdf.clip(nga) \n",
    "\n",
    "\n",
    "ax.scatter(nga_latlongs[:,1],nga_latlongs[:,0])\n",
    "ax.scatter(latlongs[:,1],latlongs[:,0],c=vals) \n",
    "subset.plot(ax=ax)\n",
    "\n",
    "plt.show()"
   ]
  },
  {
   "cell_type": "code",
   "execution_count": null,
   "metadata": {},
   "outputs": [],
   "source": [
    "subset.plot()"
   ]
  },
  {
   "cell_type": "code",
   "execution_count": null,
   "metadata": {},
   "outputs": [],
   "source": [
    "fig,ax = plt.subplots(dpi=200) \n",
    "latlongs = np.array(latlongs)  \n",
    "ax.scatter(latlongs[:,1],latlongs[:,0]) \n",
    "plt.show()\n",
    "\n",
    "fig,ax = plt.subplots(dpi=200) \n",
    "latlongs_rev = np.array(latlongs_rev)  \n",
    "ax.scatter(latlongs_rev[:,1],latlongs_rev[:,0]) \n",
    "plt.show()"
   ]
  },
  {
   "cell_type": "code",
   "execution_count": null,
   "metadata": {},
   "outputs": [],
   "source": [
    "# Nigeria should have lats between ~4.2 and 13.8\n",
    "# longs between ~2.7 and 14.7\n",
    "# so does look right\n",
    "print(latlongs.min(axis=0))\n",
    "print(latlongs.max(axis=0))"
   ]
  },
  {
   "cell_type": "code",
   "execution_count": null,
   "metadata": {},
   "outputs": [],
   "source": [
    "import glob\n",
    "import stc_unicef_cpi.utils.geospatial as geo  \n",
    "save_dir = '../data/interim'\n",
    "country = 'Nigeria'\n",
    "econ_files = glob.glob(str(Path(save_dir) / f\"{country.lower()}*.tif\"))\n",
    "    # econ_files = [ele for ele in econ_files if \"ppp\" not in ele]\n",
    "res = 7\n",
    "hexes_ctry = geo.get_hexes_for_ctry(country, res)\n",
    "# expand by 2 hexes to ensure covers all data\n",
    "outer_hexes = geo.get_new_nbrs_at_k(hexes_ctry, 2)\n",
    "hexes_ctry = np.concatenate((hexes_ctry, outer_hexes))\n",
    "ctry = pd.DataFrame(hexes_ctry, columns=[\"hex_code\"])\n",
    "\n",
    "econ = pg.agg_tif_to_df(\n",
    "    ctry,\n",
    "    econ_files,\n",
    "    resolution=res,\n",
    "    rm_prefix=rf\"cpi|_|{country.lower()}|500\",\n",
    "    verbose=True,\n",
    ")"
   ]
  },
  {
   "cell_type": "code",
   "execution_count": null,
   "metadata": {},
   "outputs": [],
   "source": [
    "latlongs.shape"
   ]
  },
  {
   "cell_type": "code",
   "execution_count": null,
   "metadata": {},
   "outputs": [],
   "source": [
    "from stc_unicef_cpi.utils.geospatial import get_hexes_for_ctry\n",
    "nga_hexes = get_hexes_for_ctry('Nigeria', 7)"
   ]
  },
  {
   "cell_type": "code",
   "execution_count": null,
   "metadata": {},
   "outputs": [],
   "source": [
    "len(np.setdiff1d(hex_codes.flatten(),nga_hexes))"
   ]
  },
  {
   "cell_type": "code",
   "execution_count": null,
   "metadata": {},
   "outputs": [],
   "source": [
    "len(np.unique(hex_codes.flatten()))"
   ]
  },
  {
   "cell_type": "code",
   "execution_count": null,
   "metadata": {},
   "outputs": [],
   "source": [
    "econ_files"
   ]
  },
  {
   "cell_type": "code",
   "execution_count": null,
   "metadata": {},
   "outputs": [],
   "source": [
    "import rasterio\n",
    "# with rasterio.open('../data/interim/nigeria_ec2019.tif') as rast_file:\n",
    "# with rasterio.open('../data/interim/nigeria_2019gdp.tif') as rast_file:\n",
    "with rasterio.open('../data/interim/nigeria_gdp_ppp_30.tif') as rast_file:\n",
    "    tmp = rast_file.read(1)\n",
    "    plt.imshow(np.log(tmp - tmp.min() + 1)) \n",
    "    plt.show()"
   ]
  },
  {
   "cell_type": "code",
   "execution_count": null,
   "metadata": {},
   "outputs": [],
   "source": [
    "read_dir = '../data/external' \n",
    "econ_tiffs = sorted(glob.glob(str(Path(read_dir) / f\"{country.lower()}_*.tif\")))\n",
    "econ_tiffs = [ele for ele in econ_tiffs if \"africa\" not in ele] \n"
   ]
  },
  {
   "cell_type": "code",
   "execution_count": null,
   "metadata": {},
   "outputs": [],
   "source": [
    "econ_tiffs"
   ]
  },
  {
   "cell_type": "code",
   "execution_count": null,
   "metadata": {},
   "outputs": [],
   "source": [
    "import rasterio\n",
    "from affine import Affine\n",
    "from pyproj import Transformer\n",
    "resolution = 7\n",
    "with rasterio.open(int_dir.parent / \"external\" / \"gee\" / \"cpi_poptotal_nigeria_500.tif\") as raster:\n",
    "    band_names = np.array(raster.descriptions)\n",
    "    nbands = len(band_names)\n",
    "    ctr = 0\n",
    "    # get pixel coords\n",
    "    T0 = raster.transform  # upper-left pixel corner affine transform\n",
    "    # Get affine transform for pixel centres\n",
    "    T1 = T0 * Affine.translation(0.5, 0.5)\n",
    "    # Function to convert pixel row/column index (from 0) to easting/northing at centre\n",
    "    rc2en = lambda r, c: T1 * (c, r)\n",
    "    tmp = raster.read(1)\n",
    "    # # All rows and columns\n",
    "    cols, rows = np.meshgrid(np.arange(tmp.shape[1]), np.arange(tmp.shape[0]))\n",
    "    del tmp\n",
    "    # # All eastings and northings (there is probably a faster way to do this)\n",
    "    eastings, northings = np.vectorize(rc2en, otypes=[float, float])(rows, cols)\n",
    "    transformer = Transformer.from_crs(raster.crs, \"WGS84\")\n",
    "    longs, lats = transformer.transform(eastings, northings)\n",
    "    del eastings, northings\n",
    "    latlongs = np.dstack((lats, longs))\n",
    "    \n",
    "    hex_codes = np.apply_along_axis(\n",
    "        lambda x: h3.geo_to_h3(*x, resolution),\n",
    "        axis=-1,\n",
    "        arr=latlongs,\n",
    "    )\n",
    "    # plt.imshow(tmp) \n",
    "    # plt.show()"
   ]
  },
  {
   "cell_type": "code",
   "execution_count": null,
   "metadata": {},
   "outputs": [],
   "source": [
    "print(latlongs.reshape(-1,2).min(axis=0))\n",
    "print(latlongs.reshape(-1,2).max(axis=0))"
   ]
  },
  {
   "cell_type": "code",
   "execution_count": null,
   "metadata": {},
   "outputs": [],
   "source": [
    "N = 1000 \n",
    "subset_idx = np.random.choice(len(latlongs[...,0].flatten()),size=N) \n",
    "\n",
    "subset=latlongs.reshape(-1,2)[subset_idx,:]\n",
    "\n",
    "fig,ax = plt.subplots(dpi=150) \n",
    "plt.scatter(subset[:,1],subset[:,0],c=~np.isnan(tmp).flatten()[subset_idx]) \n",
    "plt.show()"
   ]
  },
  {
   "cell_type": "code",
   "execution_count": null,
   "metadata": {},
   "outputs": [],
   "source": [
    "import cartopy.io.shapereader as shpreader\n",
    "\n",
    "shpfilename = shpreader.natural_earth(resolution='10m',\n",
    "                                      category='cultural',\n",
    "                                      name='admin_0_countries')\n",
    "reader = shpreader.Reader(shpfilename)\n",
    "countries = reader.records()\n",
    "\n",
    "ctry_name = \"Nigeria\" \n",
    "\n",
    "ctry_shp = next(filter(lambda x: x.attributes['NAME']==ctry_name,countries)) "
   ]
  },
  {
   "cell_type": "code",
   "execution_count": null,
   "metadata": {},
   "outputs": [],
   "source": [
    "# Nigeria should have lats between ~4.2 and 13.8\n",
    "# longs between ~2.7 and 14.7\n",
    "# so does look right\n",
    "np.array(ctry_shp.geometry.__geo_interface__['coordinates'][0][0]).max(axis=0)"
   ]
  },
  {
   "cell_type": "code",
   "execution_count": null,
   "metadata": {},
   "outputs": [],
   "source": [
    "ctry_shp.bounds"
   ]
  },
  {
   "cell_type": "code",
   "execution_count": null,
   "metadata": {},
   "outputs": [],
   "source": [
    "\n",
    "ctry_name = 'Nigeria'\n",
    "shpfilename = shpreader.natural_earth(\n",
    "    resolution=\"10m\", category=\"cultural\", name=\"admin_0_countries\"\n",
    ")\n",
    "reader = shpreader.Reader(shpfilename)\n",
    "world = reader.records()\n",
    "with rasterio.open(file_path, \"r\", masked=True) as tif_file:\n",
    "    ctry_shp = next(\n",
    "        filter(lambda x: x.attributes[\"NAME\"] == ctry_name, world)\n",
    "    ).geometry\n",
    "    if tif_file.crs is not None and tif_file.crs != \"EPSG:4326\":\n",
    "        # NB assumes that no CRS corresponds to EPSG:4326 (as standard)\n",
    "        ctry_shp = gpd.GeoSeries(ctry_shp)\n",
    "        ctry_shp.crs = \"EPSG:4326\"\n",
    "        ctry_shp = ctry_shp.to_crs(tif_file.crs).geometry\n",
    "    # world = world.to_crs(tif_file.crs)\n",
    "    # ctry_shp = world[world.name == ctry_name].geometry\n",
    "    out_image, out_transform = rasterio.mask.mask(tif_file, ctry_shp, crop=True)\n",
    "    out_meta = tif_file.meta"
   ]
  },
  {
   "cell_type": "code",
   "execution_count": null,
   "metadata": {},
   "outputs": [],
   "source": [
    "plt.imshow(out_image[0])\n",
    "plt.show()"
   ]
  },
  {
   "cell_type": "code",
   "execution_count": null,
   "metadata": {},
   "outputs": [],
   "source": [
    "import rioxarray as rxr\n",
    "with rxr.open_rasterio(file_path,masked=True) as open_file: \n",
    "    open_file = open_file.squeeze()\n",
    "    og_proj = open_file.rio.crs\n",
    "    open_file.name = \"data\"\n",
    "    df = open_file.to_dataframe() "
   ]
  },
  {
   "cell_type": "code",
   "execution_count": null,
   "metadata": {},
   "outputs": [],
   "source": [
    "df.drop(columns=[\"spatial_ref\"], inplace=True)"
   ]
  },
  {
   "cell_type": "code",
   "execution_count": null,
   "metadata": {},
   "outputs": [],
   "source": [
    "df.index.names == ['band','y','x']"
   ]
  },
  {
   "cell_type": "code",
   "execution_count": null,
   "metadata": {},
   "outputs": [],
   "source": [
    "# df.index.set_names([\"latitude\",\"longitude\"],inplace=True)"
   ]
  },
  {
   "cell_type": "code",
   "execution_count": null,
   "metadata": {},
   "outputs": [],
   "source": [
    "df.index.set_names([\"band\",\"latitude\",\"longitude\"],inplace=True)\n",
    "df = df.unstack(level=0).droplevel(0,axis=1).reset_index()"
   ]
  },
  {
   "cell_type": "code",
   "execution_count": null,
   "metadata": {},
   "outputs": [],
   "source": [
    "from pyproj import Transformer\n"
   ]
  },
  {
   "cell_type": "code",
   "execution_count": null,
   "metadata": {},
   "outputs": [],
   "source": [
    "df[df==0] = np.nan \n",
    "df.dropna(subset=[1],inplace=True)"
   ]
  },
  {
   "cell_type": "code",
   "execution_count": null,
   "metadata": {},
   "outputs": [],
   "source": [
    "transformer = Transformer.from_crs(og_proj, \"EPSG:4326\")\n",
    "coords = [\n",
    "    transformer.transform(x, y) for x, y in df[[\"latitude\", \"longitude\"]].values\n",
    "]"
   ]
  },
  {
   "cell_type": "code",
   "execution_count": null,
   "metadata": {},
   "outputs": [],
   "source": [
    "coords = np.array(coords)"
   ]
  },
  {
   "cell_type": "code",
   "execution_count": null,
   "metadata": {},
   "outputs": [],
   "source": [
    "print(coords.min(axis=0))\n",
    "print(coords.max(axis=0))"
   ]
  },
  {
   "cell_type": "code",
   "execution_count": null,
   "metadata": {},
   "outputs": [],
   "source": [
    "len(np.setdiff1d(np.unique(real_hexes),nga_hexes))"
   ]
  },
  {
   "cell_type": "code",
   "execution_count": null,
   "metadata": {},
   "outputs": [],
   "source": [
    "len(np.unique(real_hexes))"
   ]
  },
  {
   "cell_type": "markdown",
   "metadata": {},
   "source": [
    "# Investigate predictions"
   ]
  },
  {
   "cell_type": "code",
   "execution_count": null,
   "metadata": {},
   "outputs": [],
   "source": [
    "rwi_data = pd.read_csv('../data/validation/NGA_rwi_hex.csv') "
   ]
  },
  {
   "cell_type": "code",
   "execution_count": null,
   "metadata": {},
   "outputs": [],
   "source": [
    "rwi_data.dropna(inplace=True)"
   ]
  },
  {
   "cell_type": "code",
   "execution_count": null,
   "metadata": {},
   "outputs": [],
   "source": [
    "preds = pd.read_csv('../data/predictions/preds_nigeria_res7.csv')"
   ]
  },
  {
   "cell_type": "code",
   "execution_count": null,
   "metadata": {},
   "outputs": [],
   "source": [
    "preds.dropna(subset=['population'],inplace=True)"
   ]
  },
  {
   "cell_type": "code",
   "execution_count": null,
   "metadata": {},
   "outputs": [],
   "source": [
    "preds.population.isna().sum()"
   ]
  },
  {
   "cell_type": "code",
   "execution_count": null,
   "metadata": {},
   "outputs": [],
   "source": [
    "preds = preds.join(rwi_data.set_index('hex_code'),on='hex_code',how='left')"
   ]
  },
  {
   "cell_type": "code",
   "execution_count": null,
   "metadata": {},
   "outputs": [],
   "source": [
    "preds.head()"
   ]
  },
  {
   "cell_type": "code",
   "execution_count": null,
   "metadata": {},
   "outputs": [],
   "source": [
    "import seaborn as sns\n",
    "# fig,ax = plt.subplots(dpi=200)\n",
    "cols = [col for col in preds if col not in ['population','hex_code']]\n",
    "sns.pairplot(preds[cols],x_vars=cols,corner=True)\n",
    "plt.show()"
   ]
  },
  {
   "cell_type": "code",
   "execution_count": null,
   "metadata": {},
   "outputs": [],
   "source": [
    "true_data = pd.read_csv('../data/processed/hexes_nigeria_res7_thres30.csv').dropna(subset=['survey']) # 'hexes/expanded_...'"
   ]
  },
  {
   "cell_type": "code",
   "execution_count": null,
   "metadata": {},
   "outputs": [],
   "source": [
    "true_cols = ['hex_code'] + [col for col in cols if col!='rwi']\n",
    "true_data = true_data[true_cols].copy() "
   ]
  },
  {
   "cell_type": "code",
   "execution_count": null,
   "metadata": {},
   "outputs": [],
   "source": [
    "true_data = true_data.join(rwi_data.set_index('hex_code'),on='hex_code',how='left')"
   ]
  },
  {
   "cell_type": "code",
   "execution_count": null,
   "metadata": {},
   "outputs": [],
   "source": [
    "true_data.dropna(inplace=True)"
   ]
  },
  {
   "cell_type": "code",
   "execution_count": null,
   "metadata": {},
   "outputs": [],
   "source": [
    "plt.rcParams['figure.dpi'] = 200\n",
    "sns.pairplot(true_data[[col for col in true_data.columns if col!='hex_code']],y_vars=['rwi']) \n",
    "plt.show()"
   ]
  },
  {
   "cell_type": "code",
   "execution_count": null,
   "metadata": {},
   "outputs": [],
   "source": [
    "true_data.corr()['rwi']"
   ]
  },
  {
   "cell_type": "code",
   "execution_count": null,
   "metadata": {},
   "outputs": [],
   "source": []
  }
 ],
 "metadata": {
  "kernelspec": {
   "display_name": "Python 3.9.13 ('dssg')",
   "language": "python",
   "name": "python3"
  },
  "language_info": {
   "codemirror_mode": {
    "name": "ipython",
    "version": 3
   },
   "file_extension": ".py",
   "mimetype": "text/x-python",
   "name": "python",
   "nbconvert_exporter": "python",
   "pygments_lexer": "ipython3",
   "version": "3.9.13"
  },
  "orig_nbformat": 4,
  "vscode": {
   "interpreter": {
    "hash": "0f1782bcc73560fcc6b67876a5451350856d869ba7693416f130e3e93ce636f3"
   }
  }
 },
 "nbformat": 4,
 "nbformat_minor": 2
}
