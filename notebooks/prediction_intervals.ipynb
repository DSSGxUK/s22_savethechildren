{
 "cells": [
  {
   "cell_type": "code",
   "execution_count": 6,
   "metadata": {},
   "outputs": [
    {
     "name": "stdout",
     "output_type": "stream",
     "text": [
      "Collecting xgboost==1.4.2\n",
      "  Downloading xgboost-1.4.2-py3-none-win_amd64.whl (97.8 MB)\n",
      "     ---------------------------------------- 97.8/97.8 MB 9.2 MB/s eta 0:00:00\n",
      "Requirement already satisfied: scipy in c:\\users\\arpit\\appdata\\local\\programs\\python\\python39\\lib\\site-packages (from xgboost==1.4.2) (1.8.1)\n",
      "Requirement already satisfied: numpy in c:\\users\\arpit\\appdata\\local\\programs\\python\\python39\\lib\\site-packages (from xgboost==1.4.2) (1.22.4+vanilla)\n",
      "Installing collected packages: xgboost\n",
      "Successfully installed xgboost-1.4.2\n"
     ]
    }
   ],
   "source": [
    "# needed for xgb models since higher versions throw AttributeError\n",
    "\n",
    "!pip install xgboost==1.4.2 --user"
   ]
  },
  {
   "cell_type": "code",
   "execution_count": 1,
   "metadata": {},
   "outputs": [],
   "source": [
    "import numpy as np\n",
    "import pandas as pd\n",
    "from mapie.regression import MapieRegressor\n",
    "import joblib\n",
    "from pathlib import Path\n",
    "from stc_unicef_cpi.models import prediction_intervals as pi\n",
    "import matplotlib.pyplot as plt\n",
    "import gc\n",
    "\n",
    "random_state=0\n",
    "np.random.seed(random_state)"
   ]
  },
  {
   "cell_type": "code",
   "execution_count": 2,
   "metadata": {},
   "outputs": [],
   "source": [
    "import os\n",
    "os.chdir('c:/Users/arpit/Desktop/dssg data/')"
   ]
  },
  {
   "cell_type": "code",
   "execution_count": 3,
   "metadata": {},
   "outputs": [
    {
     "data": {
      "text/html": [
       "<div>\n",
       "<style scoped>\n",
       "    .dataframe tbody tr th:only-of-type {\n",
       "        vertical-align: middle;\n",
       "    }\n",
       "\n",
       "    .dataframe tbody tr th {\n",
       "        vertical-align: top;\n",
       "    }\n",
       "\n",
       "    .dataframe thead th {\n",
       "        text-align: right;\n",
       "    }\n",
       "</style>\n",
       "<table border=\"1\" class=\"dataframe\">\n",
       "  <thead>\n",
       "    <tr style=\"text-align: right;\">\n",
       "      <th></th>\n",
       "      <th>hex_code</th>\n",
       "      <th>name_commuting</th>\n",
       "      <th>win_population_commuting</th>\n",
       "      <th>win_roads_km_commuting</th>\n",
       "      <th>area_commuting</th>\n",
       "      <th>n_conflicts</th>\n",
       "      <th>geometry</th>\n",
       "      <th>length_km</th>\n",
       "      <th>area_km2</th>\n",
       "      <th>road_density</th>\n",
       "      <th>...</th>\n",
       "      <th>region</th>\n",
       "      <th>region2</th>\n",
       "      <th>latnum</th>\n",
       "      <th>longnum</th>\n",
       "      <th>dep_2_or_more_sev</th>\n",
       "      <th>dep_3_or_more_sev</th>\n",
       "      <th>dep_4_or_more_sev</th>\n",
       "      <th>hex_centroid</th>\n",
       "      <th>lat</th>\n",
       "      <th>long</th>\n",
       "    </tr>\n",
       "  </thead>\n",
       "  <tbody>\n",
       "    <tr>\n",
       "      <th>0</th>\n",
       "      <td>609539916946210815</td>\n",
       "      <td>gombe</td>\n",
       "      <td>4.358806e+06</td>\n",
       "      <td>526223.973911</td>\n",
       "      <td>473573.430515</td>\n",
       "      <td>NaN</td>\n",
       "      <td>POLYGON ((12.870353829758475 13.34518407405799...</td>\n",
       "      <td>9.520626</td>\n",
       "      <td>5.373896</td>\n",
       "      <td>1.771643</td>\n",
       "      <td>...</td>\n",
       "      <td>NaN</td>\n",
       "      <td>NaN</td>\n",
       "      <td>NaN</td>\n",
       "      <td>NaN</td>\n",
       "      <td>NaN</td>\n",
       "      <td>NaN</td>\n",
       "      <td>NaN</td>\n",
       "      <td>NaN</td>\n",
       "      <td>NaN</td>\n",
       "      <td>NaN</td>\n",
       "    </tr>\n",
       "    <tr>\n",
       "      <th>1</th>\n",
       "      <td>609550564925112319</td>\n",
       "      <td>lafia</td>\n",
       "      <td>4.358806e+06</td>\n",
       "      <td>76247.059487</td>\n",
       "      <td>39222.263991</td>\n",
       "      <td>NaN</td>\n",
       "      <td>POLYGON ((8.499281557054683 8.559242937105092,...</td>\n",
       "      <td>2.819396</td>\n",
       "      <td>4.736557</td>\n",
       "      <td>0.595242</td>\n",
       "      <td>...</td>\n",
       "      <td>NaN</td>\n",
       "      <td>NaN</td>\n",
       "      <td>NaN</td>\n",
       "      <td>NaN</td>\n",
       "      <td>NaN</td>\n",
       "      <td>NaN</td>\n",
       "      <td>NaN</td>\n",
       "      <td>NaN</td>\n",
       "      <td>NaN</td>\n",
       "      <td>NaN</td>\n",
       "    </tr>\n",
       "  </tbody>\n",
       "</table>\n",
       "<p>2 rows × 110 columns</p>\n",
       "</div>"
      ],
      "text/plain": [
       "             hex_code name_commuting  win_population_commuting  \\\n",
       "0  609539916946210815          gombe              4.358806e+06   \n",
       "1  609550564925112319          lafia              4.358806e+06   \n",
       "\n",
       "   win_roads_km_commuting  area_commuting  n_conflicts  \\\n",
       "0           526223.973911   473573.430515          NaN   \n",
       "1            76247.059487    39222.263991          NaN   \n",
       "\n",
       "                                            geometry  length_km  area_km2  \\\n",
       "0  POLYGON ((12.870353829758475 13.34518407405799...   9.520626  5.373896   \n",
       "1  POLYGON ((8.499281557054683 8.559242937105092,...   2.819396  4.736557   \n",
       "\n",
       "   road_density  ...  region  region2  latnum  longnum  dep_2_or_more_sev  \\\n",
       "0      1.771643  ...     NaN      NaN     NaN      NaN                NaN   \n",
       "1      0.595242  ...     NaN      NaN     NaN      NaN                NaN   \n",
       "\n",
       "   dep_3_or_more_sev  dep_4_or_more_sev  hex_centroid  lat  long  \n",
       "0                NaN                NaN           NaN  NaN   NaN  \n",
       "1                NaN                NaN           NaN  NaN   NaN  \n",
       "\n",
       "[2 rows x 110 columns]"
      ]
     },
     "execution_count": 3,
     "metadata": {},
     "output_type": "execute_result"
    }
   ],
   "source": [
    "df = pd.read_csv('data/hexes_nigeria_res7_thres30.csv')\n",
    "df.head(2)"
   ]
  },
  {
   "cell_type": "code",
   "execution_count": 14,
   "metadata": {},
   "outputs": [],
   "source": [
    "target_dim = \"dep_housing_sev\""
   ]
  },
  {
   "cell_type": "code",
   "execution_count": 15,
   "metadata": {},
   "outputs": [],
   "source": [
    "pi.calibrate_prediction_intervals(\n",
    "    pipeline_dir=\"pkl files\",\n",
    "    pipeline_name=\"nigeria-\" + target_dim + \"-normal-True-univ-nip-mean-standard-none\",\n",
    "    input_data=df, target_dim=target_dim,\n",
    "    mapie_dir=\"mapie\"\n",
    "    )"
   ]
  },
  {
   "cell_type": "code",
   "execution_count": 16,
   "metadata": {},
   "outputs": [],
   "source": [
    "# alpha=0.1 implies 10% out-of-interval predictions permissible\n",
    "# ideal alpha in [0.1, 0.05, 0.01]\n",
    "# should take ~ 30s to run for entire dataset\n",
    "\n",
    "res = pi.predict_intervals(\n",
    "    input_data=df,\n",
    "    target_dim=target_dim, \n",
    "    mapie_dir=\"mapie\", \n",
    "    alpha=0.1)#, save_dir=\"data\")"
   ]
  },
  {
   "cell_type": "code",
   "execution_count": 17,
   "metadata": {},
   "outputs": [
    {
     "data": {
      "text/html": [
       "<div>\n",
       "<style scoped>\n",
       "    .dataframe tbody tr th:only-of-type {\n",
       "        vertical-align: middle;\n",
       "    }\n",
       "\n",
       "    .dataframe tbody tr th {\n",
       "        vertical-align: top;\n",
       "    }\n",
       "\n",
       "    .dataframe thead th {\n",
       "        text-align: right;\n",
       "    }\n",
       "</style>\n",
       "<table border=\"1\" class=\"dataframe\">\n",
       "  <thead>\n",
       "    <tr style=\"text-align: right;\">\n",
       "      <th></th>\n",
       "      <th>lower_dep_housing_sev</th>\n",
       "      <th>prediction_dep_housing_sev</th>\n",
       "      <th>upper_dep_housing_sev</th>\n",
       "    </tr>\n",
       "  </thead>\n",
       "  <tbody>\n",
       "    <tr>\n",
       "      <th>0</th>\n",
       "      <td>0.0</td>\n",
       "      <td>0.128689</td>\n",
       "      <td>0.273130</td>\n",
       "    </tr>\n",
       "    <tr>\n",
       "      <th>1</th>\n",
       "      <td>0.0</td>\n",
       "      <td>0.106278</td>\n",
       "      <td>0.250719</td>\n",
       "    </tr>\n",
       "    <tr>\n",
       "      <th>2</th>\n",
       "      <td>0.0</td>\n",
       "      <td>0.106900</td>\n",
       "      <td>0.251340</td>\n",
       "    </tr>\n",
       "    <tr>\n",
       "      <th>3</th>\n",
       "      <td>0.0</td>\n",
       "      <td>0.127259</td>\n",
       "      <td>0.271700</td>\n",
       "    </tr>\n",
       "    <tr>\n",
       "      <th>4</th>\n",
       "      <td>0.0</td>\n",
       "      <td>0.073847</td>\n",
       "      <td>0.218287</td>\n",
       "    </tr>\n",
       "  </tbody>\n",
       "</table>\n",
       "</div>"
      ],
      "text/plain": [
       "   lower_dep_housing_sev  prediction_dep_housing_sev  upper_dep_housing_sev\n",
       "0                    0.0                    0.128689               0.273130\n",
       "1                    0.0                    0.106278               0.250719\n",
       "2                    0.0                    0.106900               0.251340\n",
       "3                    0.0                    0.127259               0.271700\n",
       "4                    0.0                    0.073847               0.218287"
      ]
     },
     "execution_count": 17,
     "metadata": {},
     "output_type": "execute_result"
    }
   ],
   "source": [
    "res.head()"
   ]
  },
  {
   "cell_type": "code",
   "execution_count": 18,
   "metadata": {},
   "outputs": [
    {
     "data": {
      "text/plain": [
       "36"
      ]
     },
     "execution_count": 18,
     "metadata": {},
     "output_type": "execute_result"
    }
   ],
   "source": [
    "gc.collect()"
   ]
  },
  {
   "cell_type": "code",
   "execution_count": 19,
   "metadata": {},
   "outputs": [
    {
     "data": {
      "text/plain": [
       "0.25911323408163583"
      ]
     },
     "execution_count": 19,
     "metadata": {},
     "output_type": "execute_result"
    }
   ],
   "source": [
    "# avg width\n",
    "\n",
    "(res[\"upper_\"+target_dim]-res[\"lower_\"+target_dim]).mean()"
   ]
  },
  {
   "cell_type": "code",
   "execution_count": 20,
   "metadata": {},
   "outputs": [
    {
     "data": {
      "text/plain": [
       "(0.15082036099499221, 0.2888812672812962)"
      ]
     },
     "execution_count": 20,
     "metadata": {},
     "output_type": "execute_result"
    }
   ],
   "source": [
    "# min & max widths\n",
    "\n",
    "(res[\"upper_\"+target_dim]-res[\"lower_\"+target_dim]).min(), (res[\"upper_\"+target_dim]-res[\"lower_\"+target_dim]).max()"
   ]
  },
  {
   "cell_type": "code",
   "execution_count": 21,
   "metadata": {},
   "outputs": [
    {
     "data": {
      "text/plain": [
       "(array([4.8000e+01, 3.6500e+02, 1.3030e+03, 3.2140e+03, 9.4060e+03,\n",
       "        1.8850e+04, 2.3591e+04, 3.5420e+04, 4.8379e+04, 5.5467e+04]),\n",
       " array([0.15082036, 0.16462645, 0.17843254, 0.19223863, 0.20604472,\n",
       "        0.21985081, 0.2336569 , 0.247463  , 0.26126909, 0.27507518,\n",
       "        0.28888127]),\n",
       " <BarContainer object of 10 artists>)"
      ]
     },
     "execution_count": 21,
     "metadata": {},
     "output_type": "execute_result"
    },
    {
     "data": {
      "image/png": "[encoded data removed]",
      "text/plain": [
       "<Figure size 432x288 with 1 Axes>"
      ]
     },
     "metadata": {
      "needs_background": "light"
     },
     "output_type": "display_data"
    }
   ],
   "source": [
    "# plot widths\n",
    "\n",
    "interval_widths = np.array(res[\"upper_\"+target_dim]-res[\"lower_\"+target_dim])\n",
    "plt.hist(interval_widths)"
   ]
  },
  {
   "cell_type": "code",
   "execution_count": 22,
   "metadata": {},
   "outputs": [
    {
     "data": {
      "text/plain": [
       "16"
      ]
     },
     "execution_count": 22,
     "metadata": {},
     "output_type": "execute_result"
    }
   ],
   "source": [
    "gc.collect()"
   ]
  }
 ],
 "metadata": {
  "kernelspec": {
   "display_name": "Python 3.9.0 64-bit",
   "language": "python",
   "name": "python3"
  },
  "language_info": {
   "codemirror_mode": {
    "name": "ipython",
    "version": 3
   },
   "file_extension": ".py",
   "mimetype": "text/x-python",
   "name": "python",
   "nbconvert_exporter": "python",
   "pygments_lexer": "ipython3",
   "version": "3.9.0"
  },
  "orig_nbformat": 4,
  "vscode": {
   "interpreter": {
    "hash": "804a9ce6ef0f78010008e954a95ca8699fde8a0a476aef19a08729209680b5a9"
   }
  }
 },
 "nbformat": 4,
 "nbformat_minor": 2
}
