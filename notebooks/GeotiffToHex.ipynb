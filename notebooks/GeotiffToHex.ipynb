{
 "cells": [
  {
   "cell_type": "code",
   "execution_count": null,
   "metadata": {
    "colab": {
     "base_uri": "https://localhost:8080/"
    },
    "id": "z3Kq_qug0MQQ",
    "outputId": "7a4b38a4-0d67-46d3-910a-40957ce03da0"
   },
   "outputs": [],
   "source": [
    "!pip install rasterio\n",
    "!pip install fiona"
   ]
  },
  {
   "cell_type": "code",
   "execution_count": null,
   "metadata": {
    "colab": {
     "base_uri": "https://localhost:8080/"
    },
    "id": "lJoI86_wz-7s",
    "outputId": "2321829d-06af-4c99-e5b3-dffc172a61b2"
   },
   "outputs": [],
   "source": [
    "from google.colab import drive\n",
    "\n",
    "drive.mount(\"/content/drive\")\n",
    "import os\n",
    "\n",
    "os.chdir(\"/content/drive/My Drive/DSSG (STC   UNICEF)/\")"
   ]
  },
  {
   "cell_type": "code",
   "execution_count": null,
   "metadata": {
    "id": "jh-pm7zjznLA"
   },
   "outputs": [],
   "source": [
    "import rasterio\n",
    "from rasterio.plot import show\n",
    "import matplotlib.pyplot as plt\n",
    "import numpy as np\n",
    "\n",
    "# load country geotiff\n",
    "img = rasterio.open(\"Data/cpiNDVIData.tif\")"
   ]
  },
  {
   "cell_type": "code",
   "execution_count": null,
   "metadata": {
    "colab": {
     "base_uri": "https://localhost:8080/",
     "height": 282
    },
    "id": "BT6vFgCfb1Ws",
    "outputId": "97ae3578-ce5d-40cd-94e1-8c7f46b36cff"
   },
   "outputs": [],
   "source": [
    "# plot\n",
    "show(img)"
   ]
  },
  {
   "cell_type": "code",
   "execution_count": null,
   "metadata": {
    "id": "FTvXMwOw3qjJ"
   },
   "outputs": [],
   "source": [
    "# get geometry for training data\n",
    "# file in shared drive -> NGA Hex folder\n",
    "\n",
    "import fiona\n",
    "\n",
    "with fiona.open(\"NGA Hex/nga_hex_training.shp\", \"r\") as shapefile:\n",
    "    shapes = [feature[\"geometry\"] for feature in shapefile]"
   ]
  },
  {
   "cell_type": "code",
   "execution_count": null,
   "metadata": {
    "colab": {
     "base_uri": "https://localhost:8080/"
    },
    "id": "puM76EK7Wpp7",
    "outputId": "2afd17f9-6744-40e8-b75e-f20d5ee89a2a"
   },
   "outputs": [],
   "source": [
    "len(shapes)"
   ]
  },
  {
   "cell_type": "code",
   "execution_count": null,
   "metadata": {
    "id": "OcSYjWDo1EVN"
   },
   "outputs": [],
   "source": [
    "import rasterio.mask\n",
    "import skimage.transform as st\n",
    "\n",
    "# saving hexagons into list for now\n",
    "images = []"
   ]
  },
  {
   "cell_type": "code",
   "execution_count": null,
   "metadata": {
    "colab": {
     "base_uri": "https://localhost:8080/"
    },
    "id": "enNLNW7C3uTY",
    "outputId": "e03f6e94-94df-4409-f590-a8376f07f46e"
   },
   "outputs": [],
   "source": [
    "%%time\n",
    "\n",
    "for shape in shapes:\n",
    "    with rasterio.open(\"Data/cpiNDVIData.tif\") as src:\n",
    "        out_image, out_transform = rasterio.mask.mask(src, [shape], crop=True)\n",
    "        # resizing will be needed for conversion to array later\n",
    "        # out_image = st.resize(out_image, (1, dim1, dim2))\n",
    "        images.append(out_image)"
   ]
  },
  {
   "cell_type": "code",
   "execution_count": null,
   "metadata": {
    "colab": {
     "base_uri": "https://localhost:8080/"
    },
    "id": "1Fxp6A5J7YNg",
    "outputId": "5ad8e06f-9dec-4078-d4fd-8129893aba00"
   },
   "outputs": [],
   "source": [
    "# will need to be resized into same dimensions\n",
    "\n",
    "images[0].shape, images[1].shape, images[4].shape"
   ]
  },
  {
   "cell_type": "code",
   "execution_count": null,
   "metadata": {
    "colab": {
     "base_uri": "https://localhost:8080/",
     "height": 286
    },
    "id": "qDCIIiZMfyLh",
    "outputId": "a866e47e-9daa-4bc8-94d0-5ebf7eaf6082"
   },
   "outputs": [],
   "source": [
    "show(images[0])"
   ]
  }
 ],
 "metadata": {
  "colab": {
   "collapsed_sections": [],
   "name": "GeotiffToHex.ipynb",
   "provenance": []
  },
  "kernelspec": {
   "display_name": "Python 3.9.13 ('dssg')",
   "language": "python",
   "name": "python3"
  },
  "language_info": {
   "name": "python",
   "version": "3.9.13"
  },
  "vscode": {
   "interpreter": {
    "hash": "0f1782bcc73560fcc6b67876a5451350856d869ba7693416f130e3e93ce636f3"
   }
  }
 },
 "nbformat": 4,
 "nbformat_minor": 0
}
