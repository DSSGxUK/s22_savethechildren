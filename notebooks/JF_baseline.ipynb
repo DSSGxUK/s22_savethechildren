{
 "cells": [
  {
   "cell_type": "code",
   "execution_count": 3,
   "metadata": {},
   "outputs": [
    {
     "name": "stdout",
     "output_type": "stream",
     "text": [
      "The autoreload extension is already loaded. To reload it, use:\n",
      "  %reload_ext autoreload\n"
     ]
    }
   ],
   "source": [
    "%load_ext autoreload \n",
    "%autoreload 2"
   ]
  },
  {
   "cell_type": "code",
   "execution_count": 4,
   "metadata": {},
   "outputs": [],
   "source": [
    "import numpy as np\n",
    "import pandas as pd\n",
    "import swifter\n",
    "\n",
    "pd.set_option(\"display.max_columns\", None)\n",
    "from sklearn.model_selection import train_test_split\n",
    "import matplotlib.pyplot as plt\n",
    "\n",
    "plt.rcParams[\"lines.linewidth\"] = 2\n",
    "plt.rcParams[\"font.family\"] = \"sans-serif\"\n",
    "plt.rcParams[\"font.sans-serif\"] = \"Helvetica\"\n",
    "plt.rcParams[\"text.usetex\"] = True\n",
    "plt.rcParams[\"font.size\"] = 16\n",
    "plt.rcParams[\"axes.spines.right\"] = False\n",
    "plt.rcParams[\"axes.spines.top\"] = False\n",
    "plt.rcParams[\"figure.dpi\"] = 150\n",
    "plt.rcParams[\"savefig.bbox\"] = \"tight\"\n",
    "from tqdm.auto import tqdm\n",
    "\n",
    "import glob\n",
    "from pathlib import Path\n",
    "\n",
    "import h3.api.numpy_int as h3\n",
    "from stc_unicef_cpi.data import process_geotiff as pg\n"
   ]
  },
  {
   "cell_type": "markdown",
   "metadata": {},
   "source": [
    "# Reduce full dataset to NGA"
   ]
  },
  {
   "cell_type": "code",
   "execution_count": 10,
   "metadata": {},
   "outputs": [
    {
     "name": "stderr",
     "output_type": "stream",
     "text": [
      "/var/folders/fc/4tmtzm3n327_sp7y205dwl4h0000gn/T/ipykernel_63577/263308421.py:1: DtypeWarning: Columns (23) have mixed types. Specify dtype option on import or set low_memory=False.\n",
      "  df = pd.read_csv('/Users/johnf/Downloads/raw_low_res_dssg/dhs/childpoverty_microdata_gps_21jun22.csv')\n"
     ]
    }
   ],
   "source": [
    "df = pd.read_csv(\n",
    "    \"/Users/johnf/Downloads/raw_low_res_dssg/dhs/childpoverty_microdata_gps_21jun22.csv\"\n",
    ")\n"
   ]
  },
  {
   "cell_type": "code",
   "execution_count": 11,
   "metadata": {},
   "outputs": [],
   "source": [
    "nga_df = df[df[\"countrycode\"].str.strip() == \"NGA\"]\n"
   ]
  },
  {
   "cell_type": "code",
   "execution_count": 14,
   "metadata": {},
   "outputs": [
    {
     "name": "stderr",
     "output_type": "stream",
     "text": [
      "/var/folders/fc/4tmtzm3n327_sp7y205dwl4h0000gn/T/ipykernel_63577/1755469988.py:1: SettingWithCopyWarning: \n",
      "A value is trying to be set on a copy of a slice from a DataFrame\n",
      "\n",
      "See the caveats in the documentation: https://pandas.pydata.org/pandas-docs/stable/user_guide/indexing.html#returning-a-view-versus-a-copy\n",
      "  nga_df.dropna(subset=['LATNUM','LONGNUM'], inplace=True)\n"
     ]
    }
   ],
   "source": [
    "nga_df.dropna(subset=[\"LATNUM\", \"LONGNUM\"], inplace=True)\n"
   ]
  },
  {
   "cell_type": "code",
   "execution_count": 39,
   "metadata": {},
   "outputs": [],
   "source": [
    "nga_df[\"hex_code\"] = nga_df[[\"LATNUM\", \"LONGNUM\"]].apply(\n",
    "    lambda row: h3.geo_to_h3(row[\"LATNUM\"], row[\"LONGNUM\"], 7), axis=1\n",
    ")\n"
   ]
  },
  {
   "cell_type": "code",
   "execution_count": 40,
   "metadata": {},
   "outputs": [],
   "source": [
    "nga_df = nga_df.reset_index().drop(columns=[\"index\"]).copy()\n"
   ]
  },
  {
   "cell_type": "code",
   "execution_count": 41,
   "metadata": {},
   "outputs": [],
   "source": [
    "nga_df.to_csv(\n",
    "    \"/Users/johnf/Downloads/raw_low_res_dssg/dhs/clean_nga_dhs.csv\", index=False\n",
    ")\n"
   ]
  },
  {
   "cell_type": "markdown",
   "metadata": {},
   "source": [
    "# Load preprocessed NGA data"
   ]
  },
  {
   "cell_type": "code",
   "execution_count": 24,
   "metadata": {},
   "outputs": [],
   "source": [
    "nga_df = pd.read_csv(\"/Users/johnf/Downloads/raw_low_res_dssg/dhs/clean_nga_dhs.csv\")\n"
   ]
  },
  {
   "cell_type": "code",
   "execution_count": 25,
   "metadata": {},
   "outputs": [
    {
     "data": {
      "text/plain": [
       "count    1358.000000\n",
       "mean       70.827688\n",
       "std        34.331554\n",
       "min         6.000000\n",
       "25%        45.000000\n",
       "50%        64.000000\n",
       "75%        92.000000\n",
       "max       472.000000\n",
       "Name: hex_code, dtype: float64"
      ]
     },
     "execution_count": 25,
     "metadata": {},
     "output_type": "execute_result"
    }
   ],
   "source": [
    "nga_df.hex_code.value_counts().describe()\n"
   ]
  },
  {
   "cell_type": "code",
   "execution_count": 26,
   "metadata": {},
   "outputs": [],
   "source": [
    "nga_df = nga_df.groupby(by=[\"hex_code\"], as_index=False).mean()\n"
   ]
  },
  {
   "cell_type": "code",
   "execution_count": 27,
   "metadata": {},
   "outputs": [
    {
     "name": "stdout",
     "output_type": "stream",
     "text": [
      "['/Users/johnf/Downloads/raw_low_res_dssg/cpiPopData.tif', '/Users/johnf/Downloads/raw_low_res_dssg/cpiElevationData.tif', '/Users/johnf/Downloads/raw_low_res_dssg/cpiSlopeData.tif', '/Users/johnf/Downloads/raw_low_res_dssg/cpiPollutionData.tif', '/Users/johnf/Downloads/raw_low_res_dssg/cpiNDWIData.tif', '/Users/johnf/Downloads/raw_low_res_dssg/cpiNDVIData.tif', '/Users/johnf/Downloads/raw_low_res_dssg/cpiCopLandData.tif', '/Users/johnf/Downloads/raw_low_res_dssg/cpiNighttimeData.tif', '/Users/johnf/Downloads/raw_low_res_dssg/cpiGHSLData.tif']\n"
     ]
    }
   ],
   "source": [
    "# absolute path to search for all tiff files inside a specified folder\n",
    "path = r\"/Users/johnf/Downloads/raw_low_res_dssg/*.tif\"\n",
    "tif_files = glob.glob(path)\n",
    "print(tif_files)\n"
   ]
  },
  {
   "cell_type": "code",
   "execution_count": 28,
   "metadata": {},
   "outputs": [
    {
     "name": "stdout",
     "output_type": "stream",
     "text": [
      "Working with PopData: 1/9...\n",
      "The crs of cpiPopData.tif is: EPSG:4326\n",
      "The nodatavalue of cpiPopData.tif is: None\n",
      "The shape of cpiPopData.tif is: (13, 1073, 1338)\n",
      "The spatial resolution for cpiPopData.tif is: (0.008983152841170794, -0.008983152841219635)\n",
      "The metadata for cpiPopData.tif is: {'scale_factor': 1.0, 'add_offset': 0.0, 'long_name': ('population', 'M_0', 'M_1', 'M_5', 'M_10', 'M_15', 'M_20', 'F_0', 'F_1', 'F_5', 'F_10', 'F_15', 'F_20')}\n",
      "Converted to dataframe!\n",
      "Dataframe info:\n",
      "<class 'pandas.core.frame.DataFrame'>\n",
      "RangeIndex: 927146 entries, 0 to 927145\n",
      "Data columns (total 15 columns):\n",
      " #   Column      Non-Null Count   Dtype  \n",
      "---  ------      --------------   -----  \n",
      " 0   latitude    927146 non-null  float64\n",
      " 1   longitude   927146 non-null  float64\n",
      " 2   F_0         927146 non-null  float32\n",
      " 3   F_1         927146 non-null  float32\n",
      " 4   F_10        927146 non-null  float32\n",
      " 5   F_15        927146 non-null  float32\n",
      " 6   F_20        927146 non-null  float32\n",
      " 7   F_5         927146 non-null  float32\n",
      " 8   M_0         927146 non-null  float32\n",
      " 9   M_1         927146 non-null  float32\n",
      " 10  M_10        927146 non-null  float32\n",
      " 11  M_15        927146 non-null  float32\n",
      " 12  M_20        927146 non-null  float32\n",
      " 13  M_5         927146 non-null  float32\n",
      " 14  population  927146 non-null  float32\n",
      "dtypes: float32(13), float64(2)\n",
      "memory usage: 60.1 MB\n",
      "None\n",
      "Adding hex info...\n"
     ]
    },
    {
     "data": {
      "application/vnd.jupyter.widget-view+json": {
       "model_id": "683b12fe754740638e71d775752ccc42",
       "version_major": 2,
       "version_minor": 0
      },
      "text/plain": [
       "Dask Apply:   0%|          | 0/16 [00:00<?, ?it/s]"
      ]
     },
     "metadata": {},
     "output_type": "display_data"
    },
    {
     "name": "stdout",
     "output_type": "stream",
     "text": [
      "Done!\n",
      "Summing within cells...\n",
      "Joining to survey data...\n",
      "Done!\n",
      "Working with ElevationData: 2/9...\n",
      "The crs of cpiElevationData.tif is: EPSG:4326\n",
      "The nodatavalue of cpiElevationData.tif is: None\n",
      "The shape of cpiElevationData.tif is: (1, 1073, 1338)\n",
      "The spatial resolution for cpiElevationData.tif is: (0.008983152841195215, -0.008983152841195215)\n",
      "The metadata for cpiElevationData.tif is: {'scale_factor': 1.0, 'add_offset': 0.0, 'long_name': 'elevation'}\n",
      "1 bands found in ElevationData\n",
      "Converted to dataframe!\n",
      "Dataframe info:\n",
      "<class 'pandas.core.frame.DataFrame'>\n",
      "RangeIndex: 1435674 entries, 0 to 1435673\n",
      "Data columns (total 3 columns):\n",
      " #   Column     Non-Null Count    Dtype  \n",
      "---  ------     --------------    -----  \n",
      " 0   latitude   1435674 non-null  float64\n",
      " 1   longitude  1435674 non-null  float64\n",
      " 2   Elevation  1435674 non-null  float32\n",
      "dtypes: float32(1), float64(2)\n",
      "memory usage: 27.4 MB\n",
      "None\n",
      "Adding hex info...\n"
     ]
    },
    {
     "data": {
      "application/vnd.jupyter.widget-view+json": {
       "model_id": "a3cad0feb9c24c86bf48180b1af1d9b5",
       "version_major": 2,
       "version_minor": 0
      },
      "text/plain": [
       "Dask Apply:   0%|          | 0/16 [00:00<?, ?it/s]"
      ]
     },
     "metadata": {},
     "output_type": "display_data"
    },
    {
     "name": "stdout",
     "output_type": "stream",
     "text": [
      "Done!\n",
      "Summing within cells...\n",
      "Joining to survey data...\n",
      "Done!\n",
      "Working with SlopeData: 3/9...\n",
      "The crs of cpiSlopeData.tif is: EPSG:4326\n",
      "The nodatavalue of cpiSlopeData.tif is: None\n",
      "The shape of cpiSlopeData.tif is: (1, 1073, 1338)\n",
      "The spatial resolution for cpiSlopeData.tif is: (0.008983152841195215, -0.008983152841195215)\n",
      "The metadata for cpiSlopeData.tif is: {'scale_factor': 1.0, 'add_offset': 0.0, 'long_name': 'slope'}\n",
      "1 bands found in SlopeData\n",
      "Converted to dataframe!\n",
      "Dataframe info:\n",
      "<class 'pandas.core.frame.DataFrame'>\n",
      "RangeIndex: 927217 entries, 0 to 927216\n",
      "Data columns (total 3 columns):\n",
      " #   Column     Non-Null Count   Dtype  \n",
      "---  ------     --------------   -----  \n",
      " 0   latitude   927217 non-null  float64\n",
      " 1   longitude  927217 non-null  float64\n",
      " 2   Slope      927217 non-null  float32\n",
      "dtypes: float32(1), float64(2)\n",
      "memory usage: 17.7 MB\n",
      "None\n",
      "Adding hex info...\n"
     ]
    },
    {
     "data": {
      "application/vnd.jupyter.widget-view+json": {
       "model_id": "5c1ea9d633af45a3bfdbe9f811f8d47d",
       "version_major": 2,
       "version_minor": 0
      },
      "text/plain": [
       "Dask Apply:   0%|          | 0/16 [00:00<?, ?it/s]"
      ]
     },
     "metadata": {},
     "output_type": "display_data"
    },
    {
     "name": "stdout",
     "output_type": "stream",
     "text": [
      "Done!\n",
      "Summing within cells...\n",
      "Joining to survey data...\n",
      "Done!\n",
      "Working with PollutionData: 4/9...\n",
      "The crs of cpiPollutionData.tif is: EPSG:4326\n",
      "The nodatavalue of cpiPollutionData.tif is: None\n",
      "The shape of cpiPollutionData.tif is: (2, 1073, 1337)\n",
      "The spatial resolution for cpiPollutionData.tif is: (0.008983152841195215, -0.008983152841195215)\n",
      "The metadata for cpiPollutionData.tif is: {'scale_factor': 1.0, 'add_offset': 0.0, 'long_name': ('Optical_Depth_047', 'Optical_Depth_055')}\n",
      "Converted to dataframe!\n",
      "Dataframe info:\n",
      "<class 'pandas.core.frame.DataFrame'>\n",
      "RangeIndex: 932187 entries, 0 to 932186\n",
      "Data columns (total 4 columns):\n",
      " #   Column             Non-Null Count   Dtype  \n",
      "---  ------             --------------   -----  \n",
      " 0   latitude           932187 non-null  float64\n",
      " 1   longitude          932187 non-null  float64\n",
      " 2   Optical_Depth_047  932187 non-null  float64\n",
      " 3   Optical_Depth_055  932164 non-null  float64\n",
      "dtypes: float64(4)\n",
      "memory usage: 28.4 MB\n",
      "None\n",
      "Adding hex info...\n"
     ]
    },
    {
     "data": {
      "application/vnd.jupyter.widget-view+json": {
       "model_id": "e599ff2c97c44be2984a93a92f89fcbb",
       "version_major": 2,
       "version_minor": 0
      },
      "text/plain": [
       "Dask Apply:   0%|          | 0/16 [00:00<?, ?it/s]"
      ]
     },
     "metadata": {},
     "output_type": "display_data"
    },
    {
     "name": "stdout",
     "output_type": "stream",
     "text": [
      "Done!\n",
      "Summing within cells...\n",
      "Joining to survey data...\n",
      "Done!\n",
      "Working with NDWIData: 5/9...\n",
      "The crs of cpiNDWIData.tif is: EPSG:4326\n",
      "The nodatavalue of cpiNDWIData.tif is: None\n",
      "The shape of cpiNDWIData.tif is: (1, 1073, 1337)\n",
      "The spatial resolution for cpiNDWIData.tif is: (0.008983152841195215, -0.008983152841195215)\n",
      "The metadata for cpiNDWIData.tif is: {'scale_factor': 1.0, 'add_offset': 0.0, 'long_name': 'NDWI_mean'}\n",
      "1 bands found in NDWIData\n",
      "Converted to dataframe!\n",
      "Dataframe info:\n",
      "<class 'pandas.core.frame.DataFrame'>\n",
      "RangeIndex: 932187 entries, 0 to 932186\n",
      "Data columns (total 3 columns):\n",
      " #   Column     Non-Null Count   Dtype  \n",
      "---  ------     --------------   -----  \n",
      " 0   latitude   932187 non-null  float64\n",
      " 1   longitude  932187 non-null  float64\n",
      " 2   NDWI       932187 non-null  float32\n",
      "dtypes: float32(1), float64(2)\n",
      "memory usage: 17.8 MB\n",
      "None\n",
      "Adding hex info...\n"
     ]
    },
    {
     "data": {
      "application/vnd.jupyter.widget-view+json": {
       "model_id": "4037830cd2884defa161ba792c6a739d",
       "version_major": 2,
       "version_minor": 0
      },
      "text/plain": [
       "Dask Apply:   0%|          | 0/16 [00:00<?, ?it/s]"
      ]
     },
     "metadata": {},
     "output_type": "display_data"
    },
    {
     "name": "stdout",
     "output_type": "stream",
     "text": [
      "Done!\n",
      "Summing within cells...\n",
      "Joining to survey data...\n",
      "Done!\n",
      "Working with NDVIData: 6/9...\n",
      "The crs of cpiNDVIData.tif is: EPSG:4326\n",
      "The nodatavalue of cpiNDVIData.tif is: None\n",
      "The shape of cpiNDVIData.tif is: (1, 1073, 1337)\n",
      "The spatial resolution for cpiNDVIData.tif is: (0.008983152841195215, -0.008983152841195215)\n",
      "The metadata for cpiNDVIData.tif is: {'scale_factor': 1.0, 'add_offset': 0.0, 'long_name': 'NDVI_mean'}\n",
      "1 bands found in NDVIData\n",
      "Converted to dataframe!\n",
      "Dataframe info:\n",
      "<class 'pandas.core.frame.DataFrame'>\n",
      "RangeIndex: 932187 entries, 0 to 932186\n",
      "Data columns (total 3 columns):\n",
      " #   Column     Non-Null Count   Dtype  \n",
      "---  ------     --------------   -----  \n",
      " 0   latitude   932187 non-null  float64\n",
      " 1   longitude  932187 non-null  float64\n",
      " 2   NDVI       932187 non-null  float32\n",
      "dtypes: float32(1), float64(2)\n",
      "memory usage: 17.8 MB\n",
      "None\n",
      "Adding hex info...\n"
     ]
    },
    {
     "data": {
      "application/vnd.jupyter.widget-view+json": {
       "model_id": "56a9f599ac924fe7a321f918e0cf3930",
       "version_major": 2,
       "version_minor": 0
      },
      "text/plain": [
       "Dask Apply:   0%|          | 0/16 [00:00<?, ?it/s]"
      ]
     },
     "metadata": {},
     "output_type": "display_data"
    },
    {
     "name": "stdout",
     "output_type": "stream",
     "text": [
      "Done!\n",
      "Summing within cells...\n",
      "Joining to survey data...\n",
      "Done!\n",
      "Working with CopLandData: 7/9...\n",
      "The crs of cpiCopLandData.tif is: EPSG:4326\n",
      "The nodatavalue of cpiCopLandData.tif is: None\n",
      "The shape of cpiCopLandData.tif is: (2, 1073, 1337)\n",
      "The spatial resolution for cpiCopLandData.tif is: (0.008983152841195215, -0.008983152841195215)\n",
      "The metadata for cpiCopLandData.tif is: {'scale_factor': 1.0, 'add_offset': 0.0, 'long_name': ('discrete_classification_mean', 'discrete_classification-proba_mean')}\n",
      "Converted to dataframe!\n",
      "Dataframe info:\n",
      "<class 'pandas.core.frame.DataFrame'>\n",
      "RangeIndex: 932187 entries, 0 to 932186\n",
      "Data columns (total 4 columns):\n",
      " #   Column                              Non-Null Count   Dtype  \n",
      "---  ------                              --------------   -----  \n",
      " 0   latitude                            932187 non-null  float64\n",
      " 1   longitude                           932187 non-null  float64\n",
      " 2   discrete_classification-proba_mean  926333 non-null  float64\n",
      " 3   discrete_classification_mean        932187 non-null  float64\n",
      "dtypes: float64(4)\n",
      "memory usage: 28.4 MB\n",
      "None\n",
      "Adding hex info...\n"
     ]
    },
    {
     "data": {
      "application/vnd.jupyter.widget-view+json": {
       "model_id": "ee70adbd960c4bd9811df38e1f03b028",
       "version_major": 2,
       "version_minor": 0
      },
      "text/plain": [
       "Dask Apply:   0%|          | 0/16 [00:00<?, ?it/s]"
      ]
     },
     "metadata": {},
     "output_type": "display_data"
    },
    {
     "name": "stdout",
     "output_type": "stream",
     "text": [
      "Done!\n",
      "Summing within cells...\n",
      "Joining to survey data...\n",
      "Done!\n",
      "Working with NighttimeData: 8/9...\n",
      "The crs of cpiNighttimeData.tif is: EPSG:4326\n",
      "The nodatavalue of cpiNighttimeData.tif is: None\n",
      "The shape of cpiNighttimeData.tif is: (2, 1073, 1337)\n",
      "The spatial resolution for cpiNighttimeData.tif is: (0.008983152841195215, -0.008983152841195215)\n",
      "The metadata for cpiNighttimeData.tif is: {'scale_factor': 1.0, 'add_offset': 0.0, 'long_name': ('avg_rad', 'cf_cvg')}\n",
      "Converted to dataframe!\n",
      "Dataframe info:\n",
      "<class 'pandas.core.frame.DataFrame'>\n",
      "RangeIndex: 932187 entries, 0 to 932186\n",
      "Data columns (total 4 columns):\n",
      " #   Column     Non-Null Count   Dtype  \n",
      "---  ------     --------------   -----  \n",
      " 0   latitude   932187 non-null  float64\n",
      " 1   longitude  932187 non-null  float64\n",
      " 2   avg_rad    932187 non-null  float32\n",
      " 3   cf_cvg     932187 non-null  float32\n",
      "dtypes: float32(2), float64(2)\n",
      "memory usage: 21.3 MB\n",
      "None\n",
      "Adding hex info...\n"
     ]
    },
    {
     "data": {
      "application/vnd.jupyter.widget-view+json": {
       "model_id": "7b4228362bc54eb080d973c4601e7b2d",
       "version_major": 2,
       "version_minor": 0
      },
      "text/plain": [
       "Dask Apply:   0%|          | 0/16 [00:00<?, ?it/s]"
      ]
     },
     "metadata": {},
     "output_type": "display_data"
    },
    {
     "name": "stdout",
     "output_type": "stream",
     "text": [
      "Done!\n",
      "Summing within cells...\n",
      "Joining to survey data...\n",
      "Done!\n",
      "Working with GHSLData: 9/9...\n",
      "The crs of cpiGHSLData.tif is: EPSG:3857\n",
      "The nodatavalue of cpiGHSLData.tif is: None\n",
      "The shape of cpiGHSLData.tif is: (2, 1089, 1338)\n",
      "The spatial resolution for cpiGHSLData.tif is: (1000.0000000000001, -999.9999999999998)\n",
      "The metadata for cpiGHSLData.tif is: {'scale_factor': 1.0, 'add_offset': 0.0, 'long_name': ('built', 'cnfd')}\n",
      "Reprojection to lat/lon required: completing...\n",
      "Converted to dataframe!\n",
      "Dataframe info:\n",
      "<class 'pandas.core.frame.DataFrame'>\n",
      "RangeIndex: 1457082 entries, 0 to 1457081\n",
      "Data columns (total 4 columns):\n",
      " #   Column     Non-Null Count    Dtype  \n",
      "---  ------     --------------    -----  \n",
      " 0   latitude   1457082 non-null  float64\n",
      " 1   longitude  1457082 non-null  float64\n",
      " 2   built      1457082 non-null  float32\n",
      " 3   cnfd       1457082 non-null  float32\n",
      "dtypes: float32(2), float64(2)\n",
      "memory usage: 33.4 MB\n",
      "None\n",
      "Adding hex info...\n"
     ]
    },
    {
     "data": {
      "application/vnd.jupyter.widget-view+json": {
       "model_id": "57dd57a176764ce7929dc8a23de638d2",
       "version_major": 2,
       "version_minor": 0
      },
      "text/plain": [
       "Dask Apply:   0%|          | 0/16 [00:00<?, ?it/s]"
      ]
     },
     "metadata": {},
     "output_type": "display_data"
    },
    {
     "name": "stdout",
     "output_type": "stream",
     "text": [
      "Done!\n",
      "Summing within cells...\n",
      "Joining to survey data...\n",
      "Done!\n"
     ]
    }
   ],
   "source": [
    "for i, fname in enumerate(tif_files):\n",
    "    title = Path(fname).name.lstrip(\"cpi\").rstrip(\".tif\")\n",
    "    print(f\"Working with {title}: {i+1}/{len(tif_files)}...\")\n",
    "    # Convert to dataframe\n",
    "    tmp = pg.geotiff_to_df(fname)\n",
    "    print(\"Converted to dataframe!\")\n",
    "    print(\"Dataframe info:\")\n",
    "    print(tmp.info())\n",
    "    print(\"Adding hex info...\")\n",
    "    tmp[\"hex_code\"] = tmp[[\"latitude\", \"longitude\"]].swifter.apply(\n",
    "        lambda row: h3.geo_to_h3(row[\"latitude\"], row[\"longitude\"], 7), axis=1\n",
    "    )\n",
    "    tmp.drop(columns=[\"latitude\",\"longitude\"],inplace=True)\n",
    "    print(\"Done!\")\n",
    "    print(\"Summing within cells...\")\n",
    "    tmp = tmp.groupby(by=[\"hex_code\"], as_index=False).sum()\n",
    "    print(\"Joining to survey data...\")\n",
    "    # Aggregate ground truth to hexagonal cells with mean\n",
    "    # NB automatically excludes missing data for households,\n",
    "    # so differing quantities of data for different values\n",
    "    nga_df = nga_df.merge(\n",
    "        tmp.groupby(by=[\"hex_code\"], as_index=False).sum(), how=\"left\", on=\"hex_code\"\n",
    "    )\n",
    "    print(\"Done!\")\n"
   ]
  },
  {
   "cell_type": "code",
   "execution_count": 29,
   "metadata": {},
   "outputs": [
    {
     "data": {
      "application/vnd.jupyter.widget-view+json": {
       "model_id": "6a1fd825888f4a3a9778d0553f2d1c2b",
       "version_major": 2,
       "version_minor": 0
      },
      "text/plain": [
       "Pandas Apply:   0%|          | 0/191094 [00:00<?, ?it/s]"
      ]
     },
     "metadata": {},
     "output_type": "display_data"
    }
   ],
   "source": [
    "osm_nga = pd.read_csv(\"/Users/johnf/Downloads/raw_low_res_dssg/clean/nga_hex_osm.csv\",sep=\"\\t\")\n",
    "osm_nga.hex_id = osm_nga.hex_id.swifter.apply(h3.string_to_h3)\n",
    "osm_nga.rename(columns={\"hex_id\":\"hex_code\"},inplace=True)\n",
    "osm_nga.drop(columns=['geometry'],inplace=True)"
   ]
  },
  {
   "cell_type": "code",
   "execution_count": 30,
   "metadata": {},
   "outputs": [],
   "source": [
    "nga_df = nga_df.merge(\n",
    "    osm_nga.groupby(by=[\"hex_code\"], as_index=False).mean(), how=\"left\", on=\"hex_code\"\n",
    ")"
   ]
  },
  {
   "cell_type": "code",
   "execution_count": 34,
   "metadata": {},
   "outputs": [],
   "source": [
    "nga_df.to_csv(\"/Users/johnf/Downloads/raw_low_res_dssg/clean/nga.csv\", index=False)\n"
   ]
  },
  {
   "cell_type": "markdown",
   "metadata": {},
   "source": [
    "### NOTE: used mean aggregation when lowering resolution, so for population data, the resulting estimates should be 100 times larger (100m -> 1km means 100x reduction)"
   ]
  },
  {
   "cell_type": "markdown",
   "metadata": {},
   "source": []
  }
 ],
 "metadata": {
  "kernelspec": {
   "display_name": "Python 3.9.12 ('dssg')",
   "language": "python",
   "name": "python3"
  },
  "language_info": {
   "codemirror_mode": {
    "name": "ipython",
    "version": 3
   },
   "file_extension": ".py",
   "mimetype": "text/x-python",
   "name": "python",
   "nbconvert_exporter": "python",
   "pygments_lexer": "ipython3",
   "version": "3.9.12"
  },
  "orig_nbformat": 4,
  "vscode": {
   "interpreter": {
    "hash": "e16c1b40fab6f146785db221f6a2de335e28974c61fd5c8f0deddae93db4900c"
   }
  }
 },
 "nbformat": 4,
 "nbformat_minor": 2
}
