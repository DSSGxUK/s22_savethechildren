{
 "cells": [
  {
   "cell_type": "code",
   "execution_count": null,
   "metadata": {},
   "outputs": [],
   "source": [
    "%load_ext autoreload\n",
    "%autoreload 2\n"
   ]
  },
  {
   "cell_type": "code",
   "execution_count": null,
   "metadata": {},
   "outputs": [],
   "source": [
    "import numpy as np\n",
    "import pandas as pd\n",
    "import swifter\n",
    "\n",
    "pd.set_option(\"display.max_columns\", None)\n",
    "# from sklearn.model_selection import train_test_split\n",
    "import matplotlib.pyplot as plt\n",
    "\n",
    "plt.rcParams[\"lines.linewidth\"] = 2\n",
    "plt.rcParams[\"font.family\"] = \"sans-serif\"\n",
    "plt.rcParams[\"font.sans-serif\"] = \"Helvetica\"\n",
    "plt.rcParams[\"text.usetex\"] = True\n",
    "plt.rcParams[\"font.size\"] = 16\n",
    "plt.rcParams[\"axes.spines.right\"] = False\n",
    "plt.rcParams[\"axes.spines.top\"] = False\n",
    "plt.rcParams[\"figure.dpi\"] = 150\n",
    "plt.rcParams[\"savefig.bbox\"] = \"tight\"\n",
    "from tqdm.auto import tqdm\n",
    "\n",
    "import glob\n",
    "from pathlib import Path\n",
    "\n",
    "import h3.api.numpy_int as h3\n",
    "from stc_unicef_cpi.data import process_geotiff as pg\n"
   ]
  },
  {
   "cell_type": "code",
   "execution_count": null,
   "metadata": {},
   "outputs": [],
   "source": [
    "nga_df = pd.read_csv(\"/Users/johnf/Downloads/raw_low_res_dssg/dhs/clean_nga_dhs.csv\")\n",
    "# nga_df = nga_df.groupby(by=[\"hex_code\"],as_index=False).mean()"
   ]
  },
  {
   "cell_type": "code",
   "execution_count": null,
   "metadata": {},
   "outputs": [],
   "source": [
    "nga_df[['LATNUM','LONGNUM']].nunique()\n",
    "# nga_df['cluster'].nunique()"
   ]
  },
  {
   "cell_type": "code",
   "execution_count": null,
   "metadata": {},
   "outputs": [],
   "source": [
    "nga_df['nbr_hex']=nga_df.hex_code.swifter.apply(lambda h: h3.hex_ring(h, 1))"
   ]
  },
  {
   "cell_type": "code",
   "execution_count": null,
   "metadata": {},
   "outputs": [],
   "source": [
    "# NB location is rural / urban\n",
    "nga_df.head()"
   ]
  },
  {
   "cell_type": "code",
   "execution_count": null,
   "metadata": {},
   "outputs": [],
   "source": [
    "(nga_df.join(nga_df\n",
    "            .explode(\"nbr_hex\")\n",
    "            .set_index(\"nbr_hex\")['hex_code'], \n",
    "            on=\"hex_code\", \n",
    "            how=\"left\",\n",
    "            rsuffix=\"_nbr\")\n",
    " .dropna(subset=['hex_code_nbr'])\n",
    " .groupby(by=['hex_code'])\n",
    " .hex_code_nbr.agg(lambda x: list(x))\n",
    " )\n"
   ]
  },
  {
   "cell_type": "code",
   "execution_count": null,
   "metadata": {},
   "outputs": [],
   "source": [
    "new_df = pg.agg_tif_to_df(nga_df,\"/Users/johnf/Downloads/raw_low_res_dssg\")"
   ]
  },
  {
   "cell_type": "code",
   "execution_count": null,
   "metadata": {},
   "outputs": [],
   "source": []
  },
  {
   "cell_type": "markdown",
   "metadata": {},
   "source": [
    "# Reduce full dataset to NGA"
   ]
  },
  {
   "cell_type": "code",
   "execution_count": null,
   "metadata": {},
   "outputs": [],
   "source": [
    "df = pd.read_csv(\n",
    "    \"/Users/johnf/Downloads/raw_low_res_dssg/dhs/childpoverty_microdata_gps_21jun22.csv\"\n",
    ")"
   ]
  },
  {
   "cell_type": "code",
   "execution_count": null,
   "metadata": {},
   "outputs": [],
   "source": [
    "nga_df = df[df[\"countrycode\"].str.strip() == \"NGA\"]\n"
   ]
  },
  {
   "cell_type": "code",
   "execution_count": null,
   "metadata": {},
   "outputs": [],
   "source": [
    "nga_df.dropna(subset=[\"LATNUM\", \"LONGNUM\"], inplace=True)\n"
   ]
  },
  {
   "cell_type": "code",
   "execution_count": null,
   "metadata": {},
   "outputs": [],
   "source": [
    "nga_df[\"hex_code\"] = nga_df[[\"LATNUM\", \"LONGNUM\"]].apply(\n",
    "    lambda row: h3.geo_to_h3(row[\"LATNUM\"], row[\"LONGNUM\"], 7), axis=1\n",
    ")\n"
   ]
  },
  {
   "cell_type": "code",
   "execution_count": null,
   "metadata": {},
   "outputs": [],
   "source": [
    "nga_df = nga_df.reset_index().drop(columns=[\"index\"]).copy()\n"
   ]
  },
  {
   "cell_type": "code",
   "execution_count": null,
   "metadata": {},
   "outputs": [],
   "source": [
    "nga_df.to_csv(\n",
    "    \"/Users/johnf/Downloads/raw_low_res_dssg/dhs/clean_nga_dhs.csv\", index=False\n",
    ")\n"
   ]
  },
  {
   "cell_type": "markdown",
   "metadata": {},
   "source": [
    "# Load preprocessed NGA data"
   ]
  },
  {
   "cell_type": "code",
   "execution_count": null,
   "metadata": {},
   "outputs": [],
   "source": [
    "nga_df = pd.read_csv(\"/Users/johnf/Downloads/raw_low_res_dssg/dhs/clean_nga_dhs.csv\")\n"
   ]
  },
  {
   "cell_type": "code",
   "execution_count": null,
   "metadata": {},
   "outputs": [],
   "source": [
    "nga_df.hex_code.value_counts().hist(\n",
    "    bins=50,\n",
    ")\n",
    "plt.show()\n"
   ]
  },
  {
   "cell_type": "code",
   "execution_count": null,
   "metadata": {},
   "outputs": [],
   "source": [
    "# show hists for each target value\n",
    "nga_df[[col for col in nga_df.columns if \"_sev\" in col]].hist()\n",
    "plt.show()\n"
   ]
  },
  {
   "cell_type": "code",
   "execution_count": null,
   "metadata": {},
   "outputs": [],
   "source": [
    "# Show hist of missing target values\n",
    "nga_df[[col for col in nga_df.columns if \"_sev\" in col]].isna().astype(int).hist()\n",
    "plt.show()\n"
   ]
  },
  {
   "cell_type": "code",
   "execution_count": null,
   "metadata": {},
   "outputs": [],
   "source": [
    "nga_df.dropna(subset=[\"dep_health_sev\"]).hex_code.nunique()\n"
   ]
  },
  {
   "cell_type": "code",
   "execution_count": null,
   "metadata": {},
   "outputs": [],
   "source": [
    "# NB this aggregates as mean for each hex code, though think \n",
    "# FB may have actually used initially mean of each cluster, \n",
    "# then mean of these clusters within each cell - may be \n",
    "# some differences\n",
    "nga_df = nga_df.groupby(by=[\"hex_code\"], as_index=False).mean()\n"
   ]
  },
  {
   "cell_type": "code",
   "execution_count": null,
   "metadata": {},
   "outputs": [],
   "source": [
    "new_df = pg.agg_tif_to_df(nga_df,'/Users/johnf/Downloads/raw_low_res_dssg')"
   ]
  },
  {
   "cell_type": "code",
   "execution_count": null,
   "metadata": {},
   "outputs": [],
   "source": [
    "out = pd.cut(nga_df.deprived_sev,5,duplicates='drop',labels=False)\n",
    "out.plot.hist()\n",
    "plt.show()"
   ]
  },
  {
   "cell_type": "code",
   "execution_count": null,
   "metadata": {},
   "outputs": [],
   "source": [
    "# absolute path to search for all tiff files inside a specified folder\n",
    "path = r\"/Users/johnf/Downloads/raw_low_res_dssg/*.tif\"\n",
    "tif_files = glob.glob(path)\n",
    "print(tif_files)\n"
   ]
  },
  {
   "cell_type": "markdown",
   "metadata": {},
   "source": [
    "## Add satellite info to df"
   ]
  },
  {
   "cell_type": "code",
   "execution_count": null,
   "metadata": {},
   "outputs": [],
   "source": [
    "for i, fname in enumerate(tif_files):\n",
    "    title = Path(fname).name.lstrip(\"cpi\").rstrip(\".tif\")\n",
    "    print(f\"Working with {title}: {i+1}/{len(tif_files)}...\")\n",
    "    # Convert to dataframe\n",
    "    tmp = pg.geotiff_to_df(fname)\n",
    "    print(\"Converted to dataframe!\")\n",
    "    print(\"Dataframe info:\")\n",
    "    print(tmp.info())\n",
    "    print(\"Adding hex info...\")\n",
    "    tmp[\"hex_code\"] = tmp[[\"latitude\", \"longitude\"]].swifter.apply(\n",
    "        lambda row: h3.geo_to_h3(row[\"latitude\"], row[\"longitude\"], 7), axis=1\n",
    "    )\n",
    "    tmp.drop(columns=[\"latitude\", \"longitude\"], inplace=True)\n",
    "    print(\"Done!\")\n",
    "    print(\"Summing within cells...\")\n",
    "    tmp = tmp.groupby(by=[\"hex_code\"], as_index=False).sum()\n",
    "    print(\"Joining to survey data...\")\n",
    "    # Aggregate ground truth to hexagonal cells with mean\n",
    "    # NB automatically excludes missing data for households,\n",
    "    # so differing quantities of data for different values\n",
    "    nga_df = nga_df.merge(\n",
    "        tmp.groupby(by=[\"hex_code\"], as_index=False).sum(), how=\"left\", on=\"hex_code\"\n",
    "    )\n",
    "    print(\"Done!\")\n"
   ]
  },
  {
   "cell_type": "markdown",
   "metadata": {},
   "source": [
    "## Add OSM data"
   ]
  },
  {
   "cell_type": "code",
   "execution_count": null,
   "metadata": {},
   "outputs": [],
   "source": [
    "osm_nga = pd.read_csv(\n",
    "    \"/Users/johnf/Downloads/raw_low_res_dssg/clean/nga_hex_osm.csv\", sep=\"\\t\"\n",
    ")\n",
    "osm_nga.hex_id = osm_nga.hex_id.swifter.apply(h3.string_to_h3)\n",
    "osm_nga.rename(columns={\"hex_id\": \"hex_code\"}, inplace=True)\n",
    "osm_nga.drop(columns=[\"geometry\"], inplace=True)\n"
   ]
  },
  {
   "cell_type": "code",
   "execution_count": null,
   "metadata": {},
   "outputs": [],
   "source": [
    "nga_df = nga_df.merge(\n",
    "    osm_nga.groupby(by=[\"hex_code\"], as_index=False).mean(), how=\"left\", on=\"hex_code\"\n",
    ")\n"
   ]
  },
  {
   "cell_type": "code",
   "execution_count": null,
   "metadata": {},
   "outputs": [],
   "source": [
    "nga_df.to_csv(\"/Users/johnf/Downloads/raw_low_res_dssg/clean/nga_v2.csv\", index=False)\n"
   ]
  },
  {
   "cell_type": "markdown",
   "metadata": {},
   "source": [
    "### NOTE: used mean aggregation when lowering resolution, so for population data, the resulting estimates should be 100 times larger (100m -> 1km means 100x reduction)"
   ]
  },
  {
   "cell_type": "markdown",
   "metadata": {},
   "source": [
    "# Extract centered images from tiffs at each point"
   ]
  },
  {
   "cell_type": "code",
   "execution_count": null,
   "metadata": {},
   "outputs": [],
   "source": [
    "from stc_unicef_cpi.data.process_geotiff import extract_image_at_coords as ex_im\n"
   ]
  },
  {
   "cell_type": "code",
   "execution_count": null,
   "metadata": {},
   "outputs": [],
   "source": [
    "nga_df.head()\n"
   ]
  },
  {
   "cell_type": "code",
   "execution_count": null,
   "metadata": {},
   "outputs": [],
   "source": [
    "import rasterio\n",
    "import matplotlib.pyplot as plt\n",
    "\n",
    "lat, long = h3.h3_to_geo(609534210041970687)\n",
    "all_ims = None\n",
    "with rasterio.open(\n",
    "    \"/Users/johnf/Downloads/raw_low_res_dssg/cpiSlopeData.tif\", masked=True\n",
    ") as open_file:\n",
    "    windowed_im = ex_im(open_file, lat, long, 256, 256)\n",
    "    print(np.isnan(windowed_im).sum() / np.prod(windowed_im.shape))\n",
    "    # plt.imshow(windowed_im[0,:,:])\n",
    "    # plt.show()\n",
    "    if all_ims is None:\n",
    "        all_ims = windowed_im\n",
    "    else:\n",
    "        all_ims = np.vstack((all_ims, windowed_im))\n"
   ]
  },
  {
   "cell_type": "code",
   "execution_count": null,
   "metadata": {},
   "outputs": [],
   "source": [
    "from stc_unicef_cpi.data.process_geotiff import extract_ims_from_hex_codes as get_ims\n"
   ]
  },
  {
   "cell_type": "code",
   "execution_count": null,
   "metadata": {},
   "outputs": [],
   "source": [
    "all_ims = get_ims(tif_files, nga_df.hex_code.values, 256, 256)\n"
   ]
  },
  {
   "cell_type": "markdown",
   "metadata": {},
   "source": [
    "## Run below to save to disk - warning ~12GB sparse / ~17GB dense"
   ]
  },
  {
   "cell_type": "code",
   "execution_count": null,
   "metadata": {},
   "outputs": [],
   "source": [
    "with open(\n",
    "    \"/Users/johnf/Downloads/raw_low_res_dssg/clean/all_bands_centered_v1.npy\", \"wb\"\n",
    ") as f:\n",
    "    np.save(f, all_ims)\n"
   ]
  },
  {
   "cell_type": "code",
   "execution_count": null,
   "metadata": {},
   "outputs": [],
   "source": [
    "from humanfriendly import format_size\n",
    "\n",
    "\n",
    "def get_memsize(x):\n",
    "    print(\"Memory size of array in bytes:\", format_size(x.size * x.itemsize))\n"
   ]
  },
  {
   "cell_type": "code",
   "execution_count": null,
   "metadata": {},
   "outputs": [],
   "source": [
    "from scipy.sparse import csr_matrix\n"
   ]
  },
  {
   "cell_type": "code",
   "execution_count": null,
   "metadata": {},
   "outputs": [],
   "source": [
    "all_ims.shape\n"
   ]
  },
  {
   "cell_type": "code",
   "execution_count": null,
   "metadata": {},
   "outputs": [],
   "source": [
    "sparse_ims = [[csr_matrix(band) for band in im] for im in all_ims]\n"
   ]
  },
  {
   "cell_type": "code",
   "execution_count": null,
   "metadata": {},
   "outputs": [],
   "source": [
    "print(\n",
    "    format_size(\n",
    "        np.sum(\n",
    "            [\n",
    "                [\n",
    "                    band.data.nbytes + band.indptr.nbytes + band.indices.nbytes\n",
    "                    for band in im\n",
    "                ]\n",
    "                for im in sparse_ims\n",
    "            ]\n",
    "        )\n",
    "    )\n",
    ")\n"
   ]
  },
  {
   "cell_type": "code",
   "execution_count": null,
   "metadata": {},
   "outputs": [],
   "source": [
    "import pickle\n",
    "with \"/Users/johnf/Downloads/raw_low_res_dssg/clean/sparse_all_bands_centered_v1.pkl\", 'wb') as f:\n",
    "    pickle.dump(sparse_ims,f)"
   ]
  },
  {
   "cell_type": "code",
   "execution_count": null,
   "metadata": {},
   "outputs": [],
   "source": [
    "from stc_unicef_cpi.data.process_geotiff import (\n",
    "    convert_tiffs_to_image_dataset as tiff_to_ims,\n",
    ")\n"
   ]
  },
  {
   "cell_type": "code",
   "execution_count": null,
   "metadata": {},
   "outputs": [],
   "source": [
    "nga_df = pd.read_csv(\"/Users/johnf/Downloads/raw_low_res_dssg/clean/nga.csv\")\n"
   ]
  },
  {
   "cell_type": "code",
   "execution_count": null,
   "metadata": {},
   "outputs": [],
   "source": [
    "all_ims = tiff_to_ims(\n",
    "    \"/Users/johnf/Downloads/raw_low_res_dssg/\", nga_df.hex_code.values\n",
    ")\n"
   ]
  },
  {
   "cell_type": "code",
   "execution_count": null,
   "metadata": {},
   "outputs": [],
   "source": [
    "import rioxarray as rxr\n",
    "\n",
    "\n",
    "def get_band_names(tiff_dir):\n",
    "    all_files = glob.glob(tiff_dir + \"/*.tif\")\n",
    "    band_names = []\n",
    "    for tif_file in all_files:\n",
    "        with rxr.open_rasterio(tif_file, masked=True) as open_file:\n",
    "            tif_bands = open_file.attrs[\"long_name\"]\n",
    "            if type(tif_bands) == tuple:\n",
    "                band_names.extend(tif_bands)\n",
    "            elif type(tif_bands) == str:\n",
    "                band_names.append(tif_bands)\n",
    "            else:\n",
    "                print(type(tif_bands))\n",
    "    return band_names\n",
    "\n",
    "\n",
    "all_bands = get_band_names(\"/Users/johnf/Downloads/raw_low_res_dssg\")\n"
   ]
  },
  {
   "cell_type": "code",
   "execution_count": null,
   "metadata": {},
   "outputs": [],
   "source": [
    "random_im = np.random.randint(0, len(all_ims))\n",
    "random_band = np.random.randint(0, 25)\n",
    "plt.imshow(all_ims[random_im, random_band])\n",
    "plt.show()\n"
   ]
  },
  {
   "cell_type": "code",
   "execution_count": null,
   "metadata": {},
   "outputs": [],
   "source": [
    "import rasterio\n"
   ]
  },
  {
   "cell_type": "code",
   "execution_count": null,
   "metadata": {},
   "outputs": [],
   "source": [
    "from stc_unicef_cpi.data.process_geotiff import extract_image_at_coords\n",
    "\n",
    "with rasterio.open(\n",
    "    \"/Users/johnf/Downloads/raw_low_res_dssg/cpiPopData.tif\", masked=True\n",
    ") as open_file:\n",
    "    test_im = extract_image_at_coords(\n",
    "        open_file, *nga_df.iloc[random_im][[\"LATNUM\", \"LONGNUM\"]].values\n",
    "    )\n",
    "    pop_bands = open_file.descriptions\n"
   ]
  },
  {
   "cell_type": "code",
   "execution_count": null,
   "metadata": {},
   "outputs": [],
   "source": [
    "# for name,band in zip(pop_bands,test_im):\n",
    "#     fig,ax=plt.subplots(dpi=150)\n",
    "#     ax.imshow(band)\n",
    "#     ax.set_title(name)\n",
    "# plt.show()\n"
   ]
  },
  {
   "cell_type": "code",
   "execution_count": null,
   "metadata": {},
   "outputs": [],
   "source": [
    "for name,band in zip(all_bands,all_ims[random_im]): \n",
    "    fig,ax=plt.subplots(dpi=150)\n",
    "    ax.imshow(band)\n",
    "    ax.set_title(name) \n",
    "    ax.set_axis_off()\n",
    "plt.show()\n",
    "    "
   ]
  },
  {
   "cell_type": "markdown",
   "metadata": {},
   "source": [
    "# HDX API testing"
   ]
  },
  {
   "cell_type": "code",
   "execution_count": null,
   "metadata": {},
   "outputs": [],
   "source": [
    "from hdx.utilities.easy_logging import setup_logging\n",
    "from hdx.api.configuration import Configuration\n",
    "from hdx.data.dataset import Dataset\n",
    "\n",
    "setup_logging()\n",
    "try:\n",
    "    Configuration.create(\n",
    "        hdx_site=\"prod\", user_agent=\"HighresChildPov\", hdx_read_only=True\n",
    "    )\n",
    "except Exception:\n",
    "    pass\n"
   ]
  },
  {
   "cell_type": "code",
   "execution_count": null,
   "metadata": {},
   "outputs": [],
   "source": [
    "datasets = Dataset.search_in_hdx(\"nigeria\", rows=10)\n",
    "datasets = list(\n",
    "    filter(\n",
    "        lambda x: x.is_subnational()\n",
    "        # x.is_requestable()\n",
    "        and \"nga\" in list(map(lambda y: y.lower(), x.get_location_iso3s())),\n",
    "        datasets,\n",
    "    )\n",
    ")\n",
    "print(len(datasets))\n",
    "# print([dataset.get_fieldnames() for dataset in datasets])\n",
    "resources = Dataset.get_all_resources(datasets)\n",
    "# print(resources)\n",
    "url, path = resources[0].download()\n",
    "print(\"Resource URL %s downloaded to %s\" % (url, path))\n"
   ]
  },
  {
   "cell_type": "code",
   "execution_count": null,
   "metadata": {},
   "outputs": [],
   "source": [
    "len([resource.get_file_type() for resource in resources])\n"
   ]
  },
  {
   "cell_type": "markdown",
   "metadata": {},
   "source": [
    "## GeoPandas quick work"
   ]
  },
  {
   "cell_type": "code",
   "execution_count": null,
   "metadata": {},
   "outputs": [],
   "source": [
    "import geopandas as gpd\n"
   ]
  },
  {
   "cell_type": "markdown",
   "metadata": {},
   "source": [
    "### Sound quality idea \n",
    "Data from [here](http://data.noise-planet.org/index.html)"
   ]
  },
  {
   "cell_type": "code",
   "execution_count": null,
   "metadata": {},
   "outputs": [],
   "source": [
    "sound_areas_dir = (\n",
    "    r\"/Users/johnf/Downloads/raw_low_res_dssg/extras/nga_sound/*.areas.geojson\"\n",
    ")\n",
    "sound_areas_files = glob.glob(sound_areas_dir)\n",
    "for i, sfile in enumerate(sound_areas_files):\n",
    "    if i == 0:\n",
    "        sounds_df = gpd.read_file(sfile, driver=\"GeoJSON\")\n",
    "    else:\n",
    "        sounds_df = sounds_df.append(gpd.read_file(sfile, driver=\"GeoJSON\"))\n"
   ]
  },
  {
   "cell_type": "code",
   "execution_count": null,
   "metadata": {},
   "outputs": [],
   "source": [
    "# only ~462 15m hex cells covered so not very useful\n",
    "print(len(sounds_df))\n"
   ]
  },
  {
   "cell_type": "markdown",
   "metadata": {},
   "source": [
    "# NetCDF files (GDP_PPP + HDI)"
   ]
  },
  {
   "cell_type": "code",
   "execution_count": null,
   "metadata": {},
   "outputs": [],
   "source": [
    "import rasterio\n",
    "import rasterio.mask\n",
    "import geopandas as gpd\n",
    "import matplotlib.pyplot as plt\n",
    "import numpy as np\n"
   ]
  },
  {
   "cell_type": "code",
   "execution_count": null,
   "metadata": {},
   "outputs": [],
   "source": [
    "world = gpd.read_file(gpd.datasets.get_path(\"naturalearth_lowres\"))\n"
   ]
  },
  {
   "cell_type": "code",
   "execution_count": null,
   "metadata": {},
   "outputs": [],
   "source": [
    "# NB looks like HDI only at v course level level\n",
    "# HDI_1990_2015_v2.nc\n",
    "# The dataset has a global extent at 5 arc-min resolution,\n",
    "# and the annual data is available for each year over 1990-2015\n",
    "# so 26 bands overall\n",
    "# GDP_PPP_30arcsec_v3.nc\n",
    "# GDP is given in 2011 international US dollars\n",
    "# The data is derived from GDP per capita (PPP),\n",
    "# which is multiplied by gridded population data from\n",
    "# Global Human Settlement (GHS)\n",
    "# Dataset has a global extent at 30 arc-second resolution\n",
    "# for three time steps: 1990, 2000, and 2015\n",
    "# bbox coords from https://www.alamy.com/area-of-nigeria-isolated-on-a-solid-background-in-a-georeferenced-bounding-box-main-regional-division-distance-scale-labels-colored-elevation-map-image368545266.html\n",
    "# NB 30 arc seconds is just under 1km\n",
    "nga_bbox = (\n",
    "    2 + 40 / 60 + 6 / 3600,  # left deg,min,sec\n",
    "    4 + 16 / 60 + 13 / 3600,  # bottom ...\n",
    "    14 + 40 / 60 + 35 / 3600,  # right ...\n",
    "    13 + 53 / 60 + 31 / 3600,  # top ...\n",
    ")\n",
    "nga_shp = world[world.name == \"Nigeria\"].geometry\n",
    "for ds in [\"HDI_1990_2015_v2.nc\", \"GDP_PPP_30arcsec_v3.nc\"]:\n",
    "    with rasterio.open(\n",
    "        f\"netcdf:/Users/johnf/Downloads/raw_low_res_dssg/extras/{ds}\", \"r\", masked=True\n",
    "    ) as netf:\n",
    "        # print(netf.read().shape)\n",
    "        # show((netf,1),cmap='viridis')\n",
    "        print(netf.res)  # shows pixel scale in crs units\n",
    "        print(netf.window(*nga_bbox))\n",
    "        nga_subset = netf.read(window=netf.window(*nga_bbox))\n",
    "        print(nga_subset[-1].min(), nga_subset[-1].max())\n",
    "        plt.imshow(np.log(nga_subset[-1, :, :] + 10), cmap=\"PiYG\")\n",
    "        plt.show()\n",
    "        out_image, out_transform = rasterio.mask.mask(netf, nga_shp, crop=True)\n",
    "        plt.imshow(np.log(out_image[-1, :, :] + 10), cmap=\"PiYG\")\n",
    "        plt.show()\n"
   ]
  },
  {
   "cell_type": "code",
   "execution_count": null,
   "metadata": {},
   "outputs": [],
   "source": [
    "from stc_unicef_cpi.data.process_netcdf import netcdf_to_clipped_array\n"
   ]
  },
  {
   "cell_type": "code",
   "execution_count": null,
   "metadata": {},
   "outputs": [],
   "source": [
    "import rasterio\n",
    "with rasterio.open(\"netcdf:/Users/johnf/Downloads/raw_low_res_dssg/extras/GDP_PPP_30arcsec_v3.nc\", \"r\", masked=True) as netf:\n",
    "    print(netf.crs)"
   ]
  },
  {
   "cell_type": "code",
   "execution_count": null,
   "metadata": {},
   "outputs": [],
   "source": [
    "for ds in [\"HDI_1990_2015_v2.nc\", \"GDP_PPP_30arcsec_v3.nc\"]:\n",
    "    netcdf_to_clipped_array(\n",
    "        f\"/Users/johnf/Downloads/raw_low_res_dssg/extras/{ds}\",\n",
    "        save_dir=\"/Users/johnf/Downloads/raw_low_res_dssg/extras/\",\n",
    "        ctry_name=\"Nigeria\",\n",
    "        plot=True,\n",
    "    )\n"
   ]
  },
  {
   "cell_type": "code",
   "execution_count": null,
   "metadata": {},
   "outputs": [],
   "source": [
    "from stc_unicef_cpi.data.process_geotiff import clip_tif_to_ctry"
   ]
  },
  {
   "cell_type": "code",
   "execution_count": null,
   "metadata": {},
   "outputs": [],
   "source": [
    "clip_tif_to_ctry(\n",
    "    \"/Users/johnf/Downloads/raw_low_res_dssg/extras/updated electricity consumption/2019/EC2019.tif\",\n",
    "    save_dir=\"/Users/johnf/Downloads/raw_low_res_dssg/extras\",\n",
    "    ctry_name=\"Nigeria\",\n",
    ")\n"
   ]
  },
  {
   "cell_type": "code",
   "execution_count": null,
   "metadata": {},
   "outputs": [],
   "source": [
    "clip_tif_to_ctry(\n",
    "    \"/Users/johnf/Downloads/raw_low_res_dssg/extras/updated real GDP/2019/2019GDP.tif\",\n",
    "    save_dir=\"/Users/johnf/Downloads/raw_low_res_dssg/extras\",\n",
    "    ctry_name=\"Nigeria\",\n",
    ")\n",
    "\n"
   ]
  },
  {
   "cell_type": "code",
   "execution_count": null,
   "metadata": {},
   "outputs": [],
   "source": [
    "import rasterio\n",
    "import matplotlib.pyplot as plt\n",
    "with rasterio.open(\"/Users/johnf/Downloads/raw_low_res_dssg/extras/Nigeria_EC2019.tif\",'r') as f: \n",
    "    array = f.read() \n",
    "    plt.imshow(array[-1]) \n",
    "    print(array.min(),array.max(),array.shape)\n",
    "    plt.show()"
   ]
  },
  {
   "cell_type": "code",
   "execution_count": null,
   "metadata": {},
   "outputs": [],
   "source": [
    "with rasterio.open(\"/Users/johnf/Downloads/raw_low_res_dssg/extras/updated electricity consumption/2019/EC2019.tif\",'r') as f: \n",
    "    print(f.meta)\n",
    "    print(f.res)\n",
    "    print(f.bounds)\n",
    "    print(f.width,f.height)\n"
   ]
  },
  {
   "cell_type": "code",
   "execution_count": null,
   "metadata": {},
   "outputs": [],
   "source": [
    "import geopandas as gpd \n",
    "world = gpd.read_file(gpd.datasets.get_path(\"naturalearth_lowres\"))\n"
   ]
  },
  {
   "cell_type": "code",
   "execution_count": null,
   "metadata": {},
   "outputs": [],
   "source": [
    "world[world.name == 'Nigeria'].geometry"
   ]
  },
  {
   "cell_type": "code",
   "execution_count": null,
   "metadata": {},
   "outputs": [],
   "source": []
  }
 ],
 "metadata": {
  "kernelspec": {
   "display_name": "Python 3.9.13 ('dssg')",
   "language": "python",
   "name": "python3"
  },
  "language_info": {
   "codemirror_mode": {
    "name": "ipython",
    "version": 3
   },
   "file_extension": ".py",
   "mimetype": "text/x-python",
   "name": "python",
   "nbconvert_exporter": "python",
   "pygments_lexer": "ipython3",
   "version": "3.9.13"
  },
  "orig_nbformat": 4,
  "vscode": {
   "interpreter": {
    "hash": "0f1782bcc73560fcc6b67876a5451350856d869ba7693416f130e3e93ce636f3"
   }
  }
 },
 "nbformat": 4,
 "nbformat_minor": 2
}
